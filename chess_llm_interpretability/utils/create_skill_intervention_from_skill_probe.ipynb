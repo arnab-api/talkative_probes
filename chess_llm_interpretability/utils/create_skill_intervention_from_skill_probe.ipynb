{
 "cells": [
  {
   "cell_type": "code",
   "execution_count": null,
   "metadata": {},
   "outputs": [],
   "source": [
    "import torch\n",
    "torch.set_grad_enabled(False)"
   ]
  },
  {
   "cell_type": "code",
   "execution_count": null,
   "metadata": {},
   "outputs": [],
   "source": [
    "for layer in range(8):\n",
    "    state_dict_name = f\"tf_lens_lichess_8layers_ckpt_no_optimizer_chess_piece_probe_layer_{layer}.pth\"\n",
    "    state_dict = torch.load(state_dict_name, map_location=torch.device('cpu'))\n",
    "    average_high_elo = state_dict[\"average_high_elo_activation\"]\n",
    "    average_low_elo = state_dict[\"average_low_elo_activation\"]\n",
    "    difference_vector = state_dict[\"difference_vector\"]\n",
    "    state_dict[\"difference_vector\"] = difference_vector\n",
    "\n",
    "    new_state_dict_name = f\"type=probe_model=8layers_layer={layer}.pt\"\n",
    "    torch.save(state_dict, new_state_dict_name)"
   ]
  }
 ],
 "metadata": {
  "kernelspec": {
   "display_name": "chess",
   "language": "python",
   "name": "python3"
  },
  "language_info": {
   "codemirror_mode": {
    "name": "ipython",
    "version": 3
   },
   "file_extension": ".py",
   "mimetype": "text/x-python",
   "name": "python",
   "nbconvert_exporter": "python",
   "pygments_lexer": "ipython3",
   "version": "3.11.7"
  }
 },
 "nbformat": 4,
 "nbformat_minor": 2
}
