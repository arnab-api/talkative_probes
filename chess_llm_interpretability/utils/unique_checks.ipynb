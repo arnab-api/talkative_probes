{
 "cells": [
  {
   "cell_type": "markdown",
   "metadata": {},
   "source": [
    "Place this in the data/ folder in chess_llm_interpretability to perform various uniqueness checks on datasets"
   ]
  },
  {
   "cell_type": "code",
   "execution_count": null,
   "metadata": {},
   "outputs": [],
   "source": [
    "import pandas as pd\n",
    "\n",
    "# Function to process chunks of the CSV file\n",
    "def process_chunks(chunk_iter):\n",
    "    transcripts = set()  # Initialize an empty set for transcripts\n",
    "    for chunk in chunk_iter:\n",
    "        # Update the set with transcripts from the current chunk\n",
    "        transcripts.update(chunk['transcript'])\n",
    "    return transcripts\n",
    "\n",
    "# Specify the path to your CSV file\n",
    "file_path = 'lichess_6gb.csv'\n",
    "\n",
    "# Create a chunk iterator with a reasonable chunk size\n",
    "chunk_size = 10**5  # Adjust this based on your system's performance and memory usage\n",
    "\n",
    "# Create an iterator object for chunks of the DataFrame\n",
    "chunk_iter = pd.read_csv(file_path, chunksize=chunk_size, usecols=['transcript'])\n",
    "\n",
    "# Process the chunks and get the set of transcripts\n",
    "transcripts_set = process_chunks(chunk_iter)\n",
    "\n",
    "print(f\"Total unique transcripts: {len(transcripts_set)}\")\n"
   ]
  },
  {
   "cell_type": "code",
   "execution_count": null,
   "metadata": {},
   "outputs": [],
   "source": [
    "testing_file_path = 'lichess_100mb.csv'\n",
    "df = pd.read_csv(testing_file_path, usecols=['transcript'])\n",
    "print(f\"Total rows in the DataFrame: {len(df)}\")\n",
    "\n",
    "# Initialize a counter for overlaps\n",
    "overlap_count = 0\n",
    "\n",
    "# Process each transcript in the DataFrame\n",
    "for transcript in df['transcript']:\n",
    "    # Check if the transcript is already in the set\n",
    "    if transcript in transcripts_set:\n",
    "        overlap_count += 1\n",
    "    else:\n",
    "        # Add the new transcript to the set\n",
    "        transcripts_set.add(transcript)\n",
    "\n",
    "print(f\"Total unique transcripts now: {len(transcripts_set)}\")\n",
    "print(f\"Number of overlaps found: {overlap_count}\")"
   ]
  },
  {
   "cell_type": "code",
   "execution_count": null,
   "metadata": {},
   "outputs": [],
   "source": [
    "import csv\n",
    "\n",
    "# Initialize counters\n",
    "total_rows = 0\n",
    "total_characters = 0\n",
    "\n",
    "# Specify the path to your CSV file\n",
    "file_path = 'lichess_6gb.csv'\n",
    "\n",
    "# Open the file and use csv.reader to handle potential complexities in the CSV format\n",
    "with open(file_path, 'r', encoding='utf-8') as csvfile:\n",
    "    reader = csv.reader(csvfile)\n",
    "    # Skip the header\n",
    "    next(reader)\n",
    "    for row in reader:\n",
    "        total_rows += 1\n",
    "        # Assuming transcript is the last column\n",
    "        transcript = row[-1]\n",
    "        total_characters += len(transcript)\n",
    "\n",
    "print(f\"Total number of rows: {total_rows}\")\n",
    "print(f\"Total number of characters in transcripts: {total_characters}\")\n"
   ]
  },
  {
   "cell_type": "code",
   "execution_count": null,
   "metadata": {},
   "outputs": [],
   "source": [
    "import pandas as pd\n",
    "\n",
    "file_path = 'lichess_6gb.csv'\n",
    "lichess_df = pd.read_csv(file_path)"
   ]
  },
  {
   "cell_type": "code",
   "execution_count": null,
   "metadata": {},
   "outputs": [],
   "source": [
    "llm_file_path = '8layer_llm_games.csv'\n",
    "llm_df = pd.read_csv(llm_file_path)\n",
    "llm_df = llm_df[:100]\n",
    "total_games = len(df)\n",
    "print(f\"Total number of games: {total_games}\")\n",
    "print(f\"Total rows in the LLM DataFrame: {len(llm_df)}\")"
   ]
  },
  {
   "cell_type": "code",
   "execution_count": null,
   "metadata": {},
   "outputs": [],
   "source": [
    "import re\n",
    "\n",
    "def unique_transcripts_by_move_df(move_number: int, lichess_df: pd.DataFrame, llm_df: pd.DataFrame) -> int:\n",
    "    \"\"\"\n",
    "    Find how many games in `llm_df` are unique by move number compared to games in `lichess_df`.\n",
    "    \n",
    "    Parameters:\n",
    "    - move_number: The move number to compare uniqueness by.\n",
    "    - lichess_df: DataFrame containing the Lichess game transcripts.\n",
    "    - llm_df: DataFrame containing the LLM game transcripts.\n",
    "    \n",
    "    Returns:\n",
    "    - The number of unique games in `llm_df` by move number.\n",
    "    \"\"\"\n",
    "    lichess_set = set()\n",
    "    \n",
    "    # Process lichess_df to extract unique transcripts by move number\n",
    "    for i, transcript in enumerate(lichess_df['transcript']):\n",
    "        shortened_transcript = \" \".join(transcript.split(' ', move_number)[:move_number])\n",
    "        lichess_set.add(shortened_transcript)\n",
    "    \n",
    "    unique_count = 0\n",
    "    \n",
    "    # Process llm_df to find unique transcripts by move number\n",
    "    for i, transcript in enumerate(llm_df['transcript']):\n",
    "        transcript = transcript.split(\"\\n\\n\")[1].strip()\n",
    "        transcript = re.sub(r\"(\\d+\\.) \", r\"\\1\", transcript)\n",
    "        shortened_transcript = \" \".join(transcript.split(' ', move_number)[:move_number])\n",
    "        if shortened_transcript not in lichess_set:\n",
    "            unique_count += 1\n",
    "    \n",
    "    return unique_count\n"
   ]
  },
  {
   "cell_type": "code",
   "execution_count": null,
   "metadata": {},
   "outputs": [],
   "source": [
    "move_number = 20\n",
    "unique_games_count = unique_transcripts_by_move_df(move_number, lichess_df, llm_df)\n",
    "print(f\"Unique games by move {move_number}: {unique_games_count}\")"
   ]
  }
 ],
 "metadata": {
  "kernelspec": {
   "display_name": "chess",
   "language": "python",
   "name": "python3"
  },
  "language_info": {
   "codemirror_mode": {
    "name": "ipython",
    "version": 3
   },
   "file_extension": ".py",
   "mimetype": "text/x-python",
   "name": "python",
   "nbconvert_exporter": "python",
   "pygments_lexer": "ipython3",
   "version": "3.11.7"
  }
 },
 "nbformat": 4,
 "nbformat_minor": 2
}
