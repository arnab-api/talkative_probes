{
 "cells": [
  {
   "cell_type": "code",
   "execution_count": null,
   "metadata": {},
   "outputs": [],
   "source": [
    "import transformer_lens.utils as utils\n",
    "from transformer_lens import HookedTransformer, HookedTransformerConfig\n",
    "import einops\n",
    "import torch\n",
    "from tqdm import tqdm\n",
    "import numpy as np\n",
    "from fancy_einsum import einsum\n",
    "import chess\n",
    "import numpy as np\n",
    "import csv\n",
    "from dataclasses import dataclass\n",
    "from torch.nn import MSELoss, L1Loss\n",
    "import pandas as pd\n",
    "import pickle\n",
    "import os\n",
    "import logging\n",
    "\n",
    "import chess_utils\n",
    "import train_test_chess\n",
    "from train_test_chess import Config, LinearProbeData"
   ]
  },
  {
   "cell_type": "code",
   "execution_count": null,
   "metadata": {},
   "outputs": [],
   "source": [
    "torch.set_grad_enabled(False)\n",
    "CAA_DIR = \"contrastive_activations/\""
   ]
  },
  {
   "cell_type": "code",
   "execution_count": null,
   "metadata": {},
   "outputs": [],
   "source": [
    "state_dict_name = f\"{CAA_DIR}lichess_train_layer_12_pos_start_25_activations.pt\"\n",
    "state_dict = torch.load(state_dict_name, map_location=torch.device('cpu'))\n",
    "print(state_dict.keys())\n",
    "average_high_elo = state_dict[\"average_high_elo_activation\"]\n",
    "average_low_elo = state_dict[\"average_low_elo_activation\"]\n",
    "difference_vector = average_high_elo - average_low_elo\n",
    "state_dict[\"difference_vector\"] = difference_vector\n",
    "torch.save(state_dict, state_dict_name)\n",
    "\n",
    "state_dict2_name = f\"{CAA_DIR}lichess_train_layer_12_pos_start_25_num_games_20000_activations.pt\"\n",
    "state_dict2 = torch.load(state_dict2_name, map_location=torch.device('cpu'))\n",
    "print(state_dict2.keys())\n",
    "average_high_elo2 = state_dict2[\"average_high_elo_activation\"]\n",
    "average_low_elo2 = state_dict2[\"average_low_elo_activation\"]\n",
    "difference_vector2 = average_high_elo2 - average_low_elo2\n",
    "state_dict2[\"difference_vector\"] = difference_vector2\n",
    "torch.save(state_dict2, state_dict2_name)"
   ]
  },
  {
   "cell_type": "code",
   "execution_count": null,
   "metadata": {},
   "outputs": [],
   "source": [
    "print(difference_vector.shape)\n",
    "print(state_dict[\"layer\"])\n",
    "print(state_dict[\"pos_start\"])\n",
    "print(state_dict2[\"layer\"])\n",
    "print(state_dict2[\"pos_start\"])"
   ]
  },
  {
   "cell_type": "code",
   "execution_count": null,
   "metadata": {},
   "outputs": [],
   "source": [
    "from torch.nn.functional import cosine_similarity\n",
    "# Calculating average values of each tensor\n",
    "avg_value_high_elo = torch.mean(average_high_elo)\n",
    "avg_value_low_elo = torch.mean(average_low_elo)\n",
    "avg_value_difference = torch.mean(difference_vector)\n",
    "\n",
    "avg_value_high_elo2 = torch.mean(average_high_elo2)\n",
    "avg_value_low_elo2 = torch.mean(average_low_elo2)\n",
    "avg_value_difference2 = torch.mean(difference_vector2)\n",
    "\n",
    "# Calculating cosine similarity between all pairs\n",
    "cos_sim_high_low = cosine_similarity(average_high_elo.unsqueeze(0), average_low_elo.unsqueeze(0)).item()\n",
    "cos_sim_high_diff = cosine_similarity(average_high_elo.unsqueeze(0), difference_vector.unsqueeze(0)).item()\n",
    "cos_sim_low_diff = cosine_similarity(average_low_elo.unsqueeze(0), difference_vector.unsqueeze(0)).item()\n",
    "\n",
    "cos_sim_high_low2 = cosine_similarity(average_high_elo2.unsqueeze(0), average_low_elo2.unsqueeze(0)).item()\n",
    "cos_sim_high_diff2 = cosine_similarity(average_high_elo2.unsqueeze(0), difference_vector2.unsqueeze(0)).item()\n",
    "cos_sim_low_diff2 = cosine_similarity(average_low_elo2.unsqueeze(0), difference_vector2.unsqueeze(0)).item()\n",
    "\n",
    "print(avg_value_high_elo, avg_value_low_elo, avg_value_difference, cos_sim_high_low, cos_sim_high_diff, cos_sim_low_diff)\n",
    "print(avg_value_high_elo2, avg_value_low_elo2, avg_value_difference2, cos_sim_high_low2, cos_sim_high_diff2, cos_sim_low_diff2)\n"
   ]
  },
  {
   "cell_type": "code",
   "execution_count": null,
   "metadata": {},
   "outputs": [],
   "source": [
    "cos_sim_high_high = cosine_similarity(average_high_elo.unsqueeze(0), average_high_elo2.unsqueeze(0)).item()\n",
    "cos_sim_low_low = cosine_similarity(average_low_elo.unsqueeze(0), average_low_elo2.unsqueeze(0)).item()\n",
    "cos_sim_diff_diff = cosine_similarity(difference_vector.unsqueeze(0), difference_vector2.unsqueeze(0)).item()\n",
    "\n",
    "print(cos_sim_high_high, cos_sim_low_low, cos_sim_diff_diff)\n",
    "\n",
    "cos_sim_high_low2 = cosine_similarity(average_high_elo.unsqueeze(0), average_low_elo2.unsqueeze(0)).item()\n",
    "cos_sim_high_diff2 = cosine_similarity(average_high_elo.unsqueeze(0), difference_vector2.unsqueeze(0)).item()\n",
    "cos_sim_low_diff2 = cosine_similarity(average_low_elo.unsqueeze(0), difference_vector2.unsqueeze(0)).item()\n",
    "cos_sim_low_high2 = cosine_similarity(average_low_elo.unsqueeze(0), average_high_elo2.unsqueeze(0)).item()\n",
    "\n",
    "print(cos_sim_high_low2, cos_sim_high_diff2, cos_sim_low_diff2, cos_sim_low_high2)"
   ]
  }
 ],
 "metadata": {
  "kernelspec": {
   "display_name": "othello",
   "language": "python",
   "name": "python3"
  },
  "language_info": {
   "codemirror_mode": {
    "name": "ipython",
    "version": 3
   },
   "file_extension": ".py",
   "mimetype": "text/x-python",
   "name": "python",
   "nbconvert_exporter": "python",
   "pygments_lexer": "ipython3",
   "version": "3.10.13"
  }
 },
 "nbformat": 4,
 "nbformat_minor": 2
}
