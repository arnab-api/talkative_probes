{
 "cells": [
  {
   "cell_type": "code",
   "execution_count": 1,
   "metadata": {},
   "outputs": [],
   "source": [
    "%load_ext autoreload\n",
    "%autoreload 2"
   ]
  },
  {
   "cell_type": "code",
   "execution_count": 2,
   "metadata": {},
   "outputs": [
    {
     "name": "stderr",
     "output_type": "stream",
     "text": [
      "/home/local_arnab/miniconda3/envs/retrieval/lib/python3.11/site-packages/tqdm/auto.py:21: TqdmWarning: IProgress not found. Please update jupyter and ipywidgets. See https://ipywidgets.readthedocs.io/en/stable/user_install.html\n",
      "  from .autonotebook import tqdm as notebook_tqdm\n"
     ]
    },
    {
     "name": "stdout",
     "output_type": "stream",
     "text": [
      "2024-10-22 12:00:07 __main__ INFO     torch.__version__='2.4.1+cu121', torch.version.cuda='12.1'\n"
     ]
    }
   ],
   "source": [
    "import time, json\n",
    "import sys\n",
    "sys.path.append(\"../\")\n",
    "sys.path.append(\"../chess_llm_interpretability\")\n",
    "import os\n",
    "import torch\n",
    "import numpy as np\n",
    "from tqdm import tqdm\n",
    "\n",
    "import logging\n",
    "from src.utils import logging_utils\n",
    "from src.utils import env_utils, experiment_utils\n",
    "from src import functional\n",
    "import wandb\n",
    "\n",
    "logger = logging.getLogger(__name__)\n",
    "\n",
    "logging.basicConfig(\n",
    "    level=logging.INFO,\n",
    "    format=logging_utils.DEFAULT_FORMAT,\n",
    "    datefmt=logging_utils.DEFAULT_DATEFMT,\n",
    "    stream=sys.stdout,\n",
    ")\n",
    "\n",
    "logger.info(f\"{torch.__version__=}, {torch.version.cuda=}\")"
   ]
  },
  {
   "cell_type": "code",
   "execution_count": 3,
   "metadata": {},
   "outputs": [
    {
     "name": "stdout",
     "output_type": "stream",
     "text": [
      "2024-10-22 12:00:08 accelerate.utils.modeling INFO     We will use 90% of the memory on device 0 for storing the model, and 10% for the buffer to avoid OOM. You can set `max_memory` in to a higher value to use more memory (at your own risk).\n",
      "2024-10-22 12:00:10 src.models INFO     loaded model </home/local_arnab/Codes/00_MODEL/meta-llama/Llama-3.2-1B> | size: 4714.260 MB | dtype: torch.float32 | device: cuda:0\n"
     ]
    }
   ],
   "source": [
    "from src.models import ModelandTokenizer\n",
    "\n",
    "# MODEL_KEY = \"meta-llama/Llama-3.2-3B-Instruct\"\n",
    "# MODEL_KEY = \"meta-llama/Llama-3.1-8B-Instruct\"\n",
    "\n",
    "MODEL_KEY = \"meta-llama/Llama-3.2-1B\"\n",
    "# MODEL_KEY = \"google/gemma-2-2b\"\n",
    "# MODEL_KEY = \"meta-llama/Llama-3.1-8B\"\n",
    "\n",
    "mt = ModelandTokenizer(\n",
    "    model_key=MODEL_KEY,\n",
    "    torch_dtype=torch.float32,\n",
    ")"
   ]
  },
  {
   "cell_type": "code",
   "execution_count": 4,
   "metadata": {},
   "outputs": [
    {
     "name": "stdout",
     "output_type": "stream",
     "text": [
      "2024-10-22 12:00:10 numexpr.utils INFO     Note: NumExpr detected 24 cores but \"NUMEXPR_MAX_THREADS\" not set, so enforcing safe limit of 8.\n",
      "2024-10-22 12:00:10 numexpr.utils INFO     NumExpr defaulting to 8 threads.\n",
      "2024-10-22 12:00:10 datasets INFO     PyTorch version 2.4.1 available.\n"
     ]
    },
    {
     "name": "stderr",
     "output_type": "stream",
     "text": [
      "Repo card metadata block was not found. Setting CardData to empty.\n"
     ]
    },
    {
     "name": "stdout",
     "output_type": "stream",
     "text": [
      "2024-10-22 12:00:10 huggingface_hub.repocard WARNING  Repo card metadata block was not found. Setting CardData to empty.\n"
     ]
    },
    {
     "data": {
      "text/plain": [
       "DatasetDict({\n",
       "    train: Dataset({\n",
       "        features: ['Unnamed: 0', 'WhiteElo', 'BlackElo', 'Result', 'transcript'],\n",
       "        num_rows: 14842935\n",
       "    })\n",
       "    test: Dataset({\n",
       "        features: ['Unnamed: 0', 'WhiteElo', 'BlackElo', 'Result', 'transcript'],\n",
       "        num_rows: 1649216\n",
       "    })\n",
       "})"
      ]
     },
     "execution_count": 4,
     "metadata": {},
     "output_type": "execute_result"
    }
   ],
   "source": [
    "from datasets import load_dataset\n",
    "\n",
    "pgn_ds = load_dataset(\"adamkarvonen/chess_games\", data_files=\"lichess_6gb.zip\", streaming=False)\n",
    "# pgn_ds = load_dataset(\"adamkarvonen/chess_games\", data_files=\"lichess_100mb.zip\")\n",
    "pgn_ds = pgn_ds[\"train\"].train_test_split(test_size=0.1)\n",
    "pgn_ds"
   ]
  },
  {
   "cell_type": "code",
   "execution_count": 5,
   "metadata": {},
   "outputs": [],
   "source": [
    "import random\n",
    "class PGNDataset(torch.utils.data.Dataset):\n",
    "    def __init__(self, pgn_ds, tokenizer):\n",
    "        self.pgn_ds = pgn_ds\n",
    "        self.tokenizer = tokenizer\n",
    "        with open(os.path.join(env_utils.DEFAULT_DATA_DIR, \"pgn_paraphrases.json\")) as f:\n",
    "            self.pgn_paraphrases = json.load(f)\n",
    "\n",
    "    def __len__(self):\n",
    "        return len(self.pgn_ds)\n",
    "\n",
    "    def __getitem__(self, idx):\n",
    "        item = self.pgn_ds[idx]\n",
    "        text = random.choice(self.pgn_paraphrases) + item[\"transcript\"]\n",
    "        # return text\n",
    "        inputs = self.tokenizer(text, return_tensors=\"pt\", padding=\"max_length\", truncation=True, max_length=512)\n",
    "        inputs = {k: v.squeeze(0) for k, v in inputs.items()}  # Remove batch dimension\n",
    "        inputs[\"labels\"] = inputs[\"input_ids\"].clone()\n",
    "        return inputs"
   ]
  },
  {
   "cell_type": "code",
   "execution_count": 6,
   "metadata": {},
   "outputs": [],
   "source": [
    "from torch.utils.data import DataLoader\n",
    "\n",
    "train_dataset = PGNDataset(pgn_ds[\"train\"], tokenizer=mt.tokenizer)\n",
    "test_dataset = PGNDataset(pgn_ds[\"test\"], tokenizer=mt.tokenizer)"
   ]
  },
  {
   "cell_type": "code",
   "execution_count": 7,
   "metadata": {},
   "outputs": [
    {
     "data": {
      "text/plain": [
       "DatasetDict({\n",
       "    train: Dataset({\n",
       "        features: ['text'],\n",
       "        num_rows: 1907747\n",
       "    })\n",
       "    test: Dataset({\n",
       "        features: ['text'],\n",
       "        num_rows: 211972\n",
       "    })\n",
       "})"
      ]
     },
     "execution_count": 7,
     "metadata": {},
     "output_type": "execute_result"
    }
   ],
   "source": [
    "# wiki_ds = load_dataset(\"wikimedia/wikipedia\", \"20231101.en\")\n",
    "wiki_ds = load_dataset(\"roneneldan/TinyStories\")\n",
    "wiki_ds = wiki_ds[\"train\"].train_test_split(test_size=0.1)\n",
    "wiki_ds"
   ]
  },
  {
   "cell_type": "code",
   "execution_count": 8,
   "metadata": {},
   "outputs": [],
   "source": [
    "class WikiDataset(torch.utils.data.Dataset):\n",
    "    def __init__(self, pgn_ds, tokenizer):\n",
    "        self.pgn_ds = pgn_ds\n",
    "        self.tokenizer = tokenizer\n",
    "\n",
    "    def __len__(self):\n",
    "        return len(self.pgn_ds)\n",
    "\n",
    "    def __getitem__(self, idx):\n",
    "        item = self.pgn_ds[idx]\n",
    "        text = item[\"text\"]\n",
    "        inputs = self.tokenizer(text, return_tensors=\"pt\", padding=\"max_length\", truncation=True, max_length=512)\n",
    "        inputs = {k: v.squeeze(0) for k, v in inputs.items()}  # Remove batch dimension\n",
    "        inputs[\"labels\"] = inputs[\"input_ids\"].clone()\n",
    "        return inputs\n",
    "    \n",
    "train_wiki = WikiDataset(wiki_ds[\"train\"], tokenizer=mt.tokenizer)\n",
    "test_wiki = WikiDataset(wiki_ds[\"test\"], tokenizer=mt.tokenizer)"
   ]
  },
  {
   "cell_type": "code",
   "execution_count": 9,
   "metadata": {},
   "outputs": [
    {
     "name": "stdout",
     "output_type": "stream",
     "text": [
      "2024-10-22 12:00:15 src.utils.experiment_utils INFO     setting all seeds to 42\n"
     ]
    }
   ],
   "source": [
    "experiment_utils.set_seed(42)\n",
    "model = mt._model\n",
    "model.train()\n",
    "device = mt.device\n",
    "\n",
    "# Training parameters\n",
    "learning_rate = 5e-5\n",
    "batch_size = 6\n",
    "\n",
    "model_save_dir = os.path.join(env_utils.DEFAULT_RESULTS_DIR, \"chess_model_finetuned\")\n",
    "os.makedirs(model_save_dir, exist_ok=True)\n",
    "wandb_log_interval = 10\n",
    "checkpoint_interval = 100\n",
    "num_warmup_steps = 30\n",
    "limit_training_steps = 1000\n",
    "##############################################################################"
   ]
  },
  {
   "cell_type": "code",
   "execution_count": 10,
   "metadata": {},
   "outputs": [],
   "source": [
    "import shutil\n",
    "def remove_dir(path):\n",
    "    if os.path.exists(path):\n",
    "        shutil.rmtree(path)\n",
    "\n",
    "# remove_dir(model_save_dir)\n",
    "remove_dir(\".wandb\")"
   ]
  },
  {
   "cell_type": "code",
   "execution_count": 11,
   "metadata": {},
   "outputs": [
    {
     "name": "stdout",
     "output_type": "stream",
     "text": [
      "len(train_loader)=2473823 | len(train_wiki_loader)=635916\n",
      "limit_training_steps=1000\n"
     ]
    }
   ],
   "source": [
    "from transformers import get_linear_schedule_with_warmup\n",
    "\n",
    "# dataloaders\n",
    "train_loader = DataLoader(train_dataset, batch_size=batch_size, shuffle=True)\n",
    "test_loader = DataLoader(test_dataset, batch_size=batch_size, shuffle=False)\n",
    "\n",
    "train_wiki_loader = DataLoader(train_wiki, batch_size=batch_size//2, shuffle=True)\n",
    "test_wiki_loader = DataLoader(test_wiki, batch_size=batch_size//2, shuffle=False)\n",
    "\n",
    "print(f\"{len(train_loader)=} | {len(train_wiki_loader)=}\")\n",
    "\n",
    "\n",
    "limit_training_steps = min(\n",
    "    limit_training_steps,\n",
    "    len(train_loader),\n",
    "    len(train_wiki_loader)\n",
    ")\n",
    "\n",
    "print(f\"{limit_training_steps=}\")\n",
    "\n",
    "# Optimizer\n",
    "optimizer = torch.optim.AdamW(model.parameters(), lr=learning_rate)\n",
    "\n",
    "scheduler = get_linear_schedule_with_warmup(\n",
    "    optimizer,\n",
    "    num_warmup_steps=num_warmup_steps,\n",
    "    num_training_steps=len(train_loader)\n",
    ")"
   ]
  },
  {
   "cell_type": "code",
   "execution_count": 12,
   "metadata": {},
   "outputs": [
    {
     "name": "stderr",
     "output_type": "stream",
     "text": [
      "\u001b[34m\u001b[1mwandb\u001b[0m: Using wandb-core as the SDK backend. Please refer to https://wandb.me/wandb-core for more information.\n"
     ]
    },
    {
     "name": "stderr",
     "output_type": "stream",
     "text": [
      "\u001b[34m\u001b[1mwandb\u001b[0m: Currently logged in as: \u001b[33marnab-api\u001b[0m (\u001b[33mdl-homeworks\u001b[0m). Use \u001b[1m`wandb login --relogin`\u001b[0m to force relogin\n"
     ]
    },
    {
     "data": {
      "text/html": [
       "Tracking run with wandb version 0.18.5"
      ],
      "text/plain": [
       "<IPython.core.display.HTML object>"
      ]
     },
     "metadata": {},
     "output_type": "display_data"
    },
    {
     "data": {
      "text/html": [
       "Run data is saved locally in <code>/home/local_arnab/Codes/Projects/talkative_probes/notebooks/wandb/run-20241022_120016-ore32feq</code>"
      ],
      "text/plain": [
       "<IPython.core.display.HTML object>"
      ]
     },
     "metadata": {},
     "output_type": "display_data"
    },
    {
     "data": {
      "text/html": [
       "Syncing run <strong><a href='https://wandb.ai/dl-homeworks/talkative_probes/runs/ore32feq' target=\"_blank\">meta-llama/Llama-3.2-1B_finetune</a></strong> to <a href='https://wandb.ai/dl-homeworks/talkative_probes' target=\"_blank\">Weights & Biases</a> (<a href='https://wandb.me/run' target=\"_blank\">docs</a>)<br/>"
      ],
      "text/plain": [
       "<IPython.core.display.HTML object>"
      ]
     },
     "metadata": {},
     "output_type": "display_data"
    },
    {
     "data": {
      "text/html": [
       " View project at <a href='https://wandb.ai/dl-homeworks/talkative_probes' target=\"_blank\">https://wandb.ai/dl-homeworks/talkative_probes</a>"
      ],
      "text/plain": [
       "<IPython.core.display.HTML object>"
      ]
     },
     "metadata": {},
     "output_type": "display_data"
    },
    {
     "data": {
      "text/html": [
       " View run at <a href='https://wandb.ai/dl-homeworks/talkative_probes/runs/ore32feq' target=\"_blank\">https://wandb.ai/dl-homeworks/talkative_probes/runs/ore32feq</a>"
      ],
      "text/plain": [
       "<IPython.core.display.HTML object>"
      ]
     },
     "metadata": {},
     "output_type": "display_data"
    },
    {
     "name": "stderr",
     "output_type": "stream",
     "text": [
      "Training: 100%|██████████| 1000/1000 [43:40<00:00,  2.62s/it] "
     ]
    },
    {
     "name": "stdout",
     "output_type": "stream",
     "text": [
      "Training completed!\n"
     ]
    },
    {
     "name": "stderr",
     "output_type": "stream",
     "text": [
      "\n"
     ]
    }
   ],
   "source": [
    "# wandb\n",
    "wandb.init(\n",
    "    entity=\"dl-homeworks\",\n",
    "    project=\"talkative_probes\",\n",
    "    name=f\"{MODEL_KEY}_finetune\",\n",
    "    config={\n",
    "        \"model_key\": MODEL_KEY,\n",
    "        \"learning_rate\": learning_rate,\n",
    "        \"wandb_log_interval\": wandb_log_interval,\n",
    "        \"checkpoint_interval\": checkpoint_interval,\n",
    "        \"num_warmup_steps\": num_warmup_steps,\n",
    "        \"batch_size\": batch_size,\n",
    "    }\n",
    ")\n",
    "\n",
    "\n",
    "for step in tqdm(range(limit_training_steps), desc=\"Training\"):\n",
    "    optimizer.zero_grad()\n",
    "    \n",
    "    chess_batch = next(iter(train_loader))\n",
    "    input_ids = chess_batch[\"input_ids\"].to(device)\n",
    "    attention_mask = chess_batch[\"attention_mask\"].to(device)\n",
    "    labels = chess_batch[\"labels\"].to(device)\n",
    "        \n",
    "    pgn_outputs = model(input_ids=input_ids, attention_mask=attention_mask, labels=labels)\n",
    "    chess_loss = pgn_outputs.loss\n",
    "\n",
    "    wiki_batch = next(iter(train_wiki_loader))\n",
    "    wiki_input_ids = wiki_batch[\"input_ids\"].to(device)\n",
    "    wiki_attention_mask = wiki_batch[\"attention_mask\"].to(device)\n",
    "    wiki_labels = wiki_batch[\"labels\"].to(device)\n",
    "\n",
    "    wiki_outputs = model(input_ids=wiki_input_ids, attention_mask=wiki_attention_mask, labels=wiki_labels)\n",
    "    wiki_loss = wiki_outputs.loss\n",
    "\n",
    "    loss = chess_loss + wiki_loss\n",
    "\n",
    "    loss.backward()\n",
    "    optimizer.step()\n",
    "    scheduler.step()\n",
    "\n",
    "    if (step + 1) % wandb_log_interval == 0:\n",
    "        wandb.log({\n",
    "            \"loss\": loss.item(),\n",
    "            \"chess_loss\": chess_loss.item(),\n",
    "            \"wiki_loss\": wiki_loss.item(),\n",
    "            \"learning_rate\": scheduler.get_last_lr()[0],\n",
    "        })\n",
    "\n",
    "    if ((step + 1) % checkpoint_interval == 0) or (step + 1) == limit_training_steps:\n",
    "        if len(os.listdir(model_save_dir)) > 0:\n",
    "            last_checkpoint_path = os.path.join(model_save_dir, os.listdir(model_save_dir)[-1])\n",
    "            remove_dir(last_checkpoint_path)\n",
    "        \n",
    "        new_checkpoint_path = os.path.join(model_save_dir, f\"checkpoint-{step + 1}\")\n",
    "        model.save_pretrained(new_checkpoint_path)\n",
    "\n",
    "print(\"Training completed!\")"
   ]
  },
  {
   "cell_type": "code",
   "execution_count": null,
   "metadata": {},
   "outputs": [],
   "source": []
  }
 ],
 "metadata": {
  "kernelspec": {
   "display_name": "retrieval",
   "language": "python",
   "name": "python3"
  },
  "language_info": {
   "codemirror_mode": {
    "name": "ipython",
    "version": 3
   },
   "file_extension": ".py",
   "mimetype": "text/x-python",
   "name": "python",
   "nbconvert_exporter": "python",
   "pygments_lexer": "ipython3",
   "version": "3.11.9"
  }
 },
 "nbformat": 4,
 "nbformat_minor": 2
}
