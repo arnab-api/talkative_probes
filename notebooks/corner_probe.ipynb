{
 "cells": [
  {
   "cell_type": "code",
   "execution_count": 1,
   "metadata": {},
   "outputs": [],
   "source": [
    "%load_ext autoreload\n",
    "%autoreload 2"
   ]
  },
  {
   "cell_type": "code",
   "execution_count": 2,
   "metadata": {},
   "outputs": [
    {
     "name": "stderr",
     "output_type": "stream",
     "text": [
      "/home/local_arnab/miniconda3/envs/retrieval/lib/python3.11/site-packages/tqdm/auto.py:21: TqdmWarning: IProgress not found. Please update jupyter and ipywidgets. See https://ipywidgets.readthedocs.io/en/stable/user_install.html\n",
      "  from .autonotebook import tqdm as notebook_tqdm\n"
     ]
    },
    {
     "name": "stdout",
     "output_type": "stream",
     "text": [
      "2024-11-04 16:59:38 __main__ INFO     torch.__version__='2.5.0+cu124', torch.version.cuda='12.4'\n"
     ]
    }
   ],
   "source": [
    "import time, json\n",
    "import sys\n",
    "sys.path.append(\"../\")\n",
    "import os\n",
    "import torch\n",
    "import numpy as np\n",
    "from tqdm import tqdm\n",
    "\n",
    "import logging\n",
    "from src.utils import logging_utils\n",
    "from src.utils import env_utils, experiment_utils\n",
    "from src import functional\n",
    "import wandb\n",
    "\n",
    "logger = logging.getLogger(__name__)\n",
    "\n",
    "logging.basicConfig(\n",
    "    level=logging.DEBUG,\n",
    "    format=logging_utils.DEFAULT_FORMAT,\n",
    "    datefmt=logging_utils.DEFAULT_DATEFMT,\n",
    "    stream=sys.stdout,\n",
    ")\n",
    "\n",
    "logger.info(f\"{torch.__version__=}, {torch.version.cuda=}\")"
   ]
  },
  {
   "cell_type": "code",
   "execution_count": 3,
   "metadata": {},
   "outputs": [
    {
     "name": "stdout",
     "output_type": "stream",
     "text": [
      "2024-11-04 16:59:39 accelerate.utils.modeling INFO     We will use 90% of the memory on device 0 for storing the model, and 10% for the buffer to avoid OOM. You can set `max_memory` in to a higher value to use more memory (at your own risk).\n"
     ]
    },
    {
     "name": "stderr",
     "output_type": "stream",
     "text": [
      "Loading checkpoint shards: 100%|██████████| 2/2 [00:03<00:00,  1.82s/it]"
     ]
    },
    {
     "name": "stdout",
     "output_type": "stream",
     "text": [
      "2024-11-04 16:59:43 src.models INFO     loaded model </home/local_arnab/Codes/00_MODEL/meta-llama/Llama-3.2-3B> | size: 12255.675 MB | dtype: torch.float32 | device: cuda:0\n"
     ]
    },
    {
     "name": "stderr",
     "output_type": "stream",
     "text": [
      "\n"
     ]
    }
   ],
   "source": [
    "from src.models import ModelandTokenizer\n",
    "\n",
    "# MODEL_KEY = \"meta-llama/Llama-3.2-3B-Instruct\"\n",
    "# MODEL_KEY = \"meta-llama/Llama-3.1-8B-Instruct\"\n",
    "\n",
    "MODEL_KEY = \"meta-llama/Llama-3.2-3B\"\n",
    "# MODEL_KEY = \"google/gemma-2-2b\"\n",
    "# MODEL_KEY = \"meta-llama/Llama-3.1-8B\"\n",
    "\n",
    "mt = ModelandTokenizer(\n",
    "    model_key=MODEL_KEY,\n",
    "    torch_dtype=torch.float32,\n",
    ")"
   ]
  },
  {
   "cell_type": "code",
   "execution_count": 105,
   "metadata": {},
   "outputs": [
    {
     "name": "stdout",
     "output_type": "stream",
     "text": [
      "2024-11-04 18:39:56 __main__ INFO     Initialized to [PredictedToken(token=' yellow', prob=0.7992479205131531, logit=68.48917388916016, token_id=14071), PredictedToken(token=' blue', prob=0.1817149966955185, logit=67.00794219970703, token_id=6437), PredictedToken(token=' purple', prob=0.015836581587791443, logit=64.56782531738281, token_id=25977), PredictedToken(token=' orange', prob=0.0027331539895385504, logit=62.81095886230469, token_id=19087), PredictedToken(token=' red', prob=0.00025385949993506074, logit=60.43452835083008, token_id=2579)]\n"
     ]
    },
    {
     "name": "stderr",
     "output_type": "stream",
     "text": [
      "100%|██████████| 100/100 [00:07<00:00, 12.86it/s]\n"
     ]
    },
    {
     "data": {
      "image/png": "[encoded data removed]",
      "text/plain": [
       "<Figure size 640x480 with 1 Axes>"
      ]
     },
     "metadata": {},
     "output_type": "display_data"
    },
    {
     "name": "stdout",
     "output_type": "stream",
     "text": [
      "2024-11-04 18:40:04 __main__ INFO     Tuned to: [PredictedToken(token=' black', prob=0.10922465473413467, logit=14.7959623336792, token_id=3776), PredictedToken(token=' green', prob=0.09716958552598953, logit=14.6790132522583, token_id=6307), PredictedToken(token=' white', prob=0.09699598699808121, logit=14.677225112915039, token_id=4251), PredictedToken(token=' red', prob=0.09572141617536545, logit=14.663997650146484, token_id=2579), PredictedToken(token=' purple', prob=0.087739959359169, logit=14.576932907104492, token_id=25977)]\n"
     ]
    }
   ],
   "source": [
    "from typing import Optional\n",
    "from tqdm import tqdm\n",
    "from src.functional import get_module_nnsight, logit_lens, get_dummy_input\n",
    "from matplotlib import pyplot as plt\n",
    "from src.functional import interpret_logits\n",
    "\n",
    "\n",
    "class CornerEstimator:\n",
    "    mt: ModelandTokenizer\n",
    "    layer_name: str\n",
    "    verbose: bool = False\n",
    "\n",
    "    def __init__(\n",
    "        self,\n",
    "        mt: ModelandTokenizer,\n",
    "        layer_name: str,\n",
    "        token_indices: Optional[list[int]] = None,\n",
    "        verbose: bool = False\n",
    "    ):\n",
    "        self.mt = mt\n",
    "        self.layer_name = layer_name\n",
    "        self.token_indices = (\n",
    "            list(range(mt.tokenizer.vocab_size))\n",
    "            if token_indices is None\n",
    "            else token_indices\n",
    "        )\n",
    "        self.verbose = verbose\n",
    "\n",
    "    def initialize_with_lm_head_rows(self, token_indices: list[int] | None = None):\n",
    "        token_indices = self.token_indices if token_indices is None else token_indices\n",
    "        lm_head_weights = get_module_nnsight(self.mt, mt.lm_head_name).weight\n",
    "        avg_embd = lm_head_weights[token_indices].detach().mean(dim=0).to(mt.device)\n",
    "\n",
    "        if self.verbose:\n",
    "            init_pred = self.evaluate(h=avg_embd, add_corner=False)\n",
    "            logger.info(f\"Initialized to {init_pred}\")\n",
    "        \n",
    "        avg_embd.requires_grad = True\n",
    "        return avg_embd\n",
    "\n",
    "    def estimate(\n",
    "        self, \n",
    "        token_indices: list[int] | None = None,\n",
    "        target_logit: float = 15.0,\n",
    "        n_steps: int = 100,\n",
    "        learning_rate: float = 5e-2,\n",
    "        weight_decay: float = 0,\n",
    "    ):\n",
    "        token_indices = self.token_indices if token_indices is None else token_indices\n",
    "        corner = self.initialize_with_lm_head_rows(token_indices)\n",
    "\n",
    "        optimizer = torch.optim.AdamW(\n",
    "            [corner],\n",
    "            lr=learning_rate,\n",
    "            weight_decay=weight_decay,\n",
    "        )\n",
    "\n",
    "        # print(target.shape)\n",
    "\n",
    "        inputs = mt.tokenizer(mt.tokenizer.bos_token, add_special_tokens=False, return_tensors=\"pt\")\n",
    "        mt._model.train()\n",
    "        loss_track = []\n",
    "        for iter in tqdm(range(n_steps)):\n",
    "            with mt.trace(inputs) as tr:\n",
    "                module = get_module_nnsight(mt, self.layer_name)\n",
    "                module.output[0][0, :] = corner\n",
    "                logits = mt.output.logits[0, -1].save()\n",
    "            \n",
    "            # print(f\"{logits.shape=}, {target.shape=}\")\n",
    "\n",
    "            loss = (logits[token_indices] - target_logit).norm()\n",
    "            loss_track.append(loss.item())\n",
    "\n",
    "            optimizer.zero_grad()\n",
    "            mt._model.zero_grad()\n",
    "            \n",
    "            loss.backward()\n",
    "            optimizer.step()\n",
    "        \n",
    "        if self.verbose:\n",
    "            plt.rcdefaults()\n",
    "            plt.plot(loss_track)\n",
    "            plt.xticks(range(0, len(loss_track), 10))\n",
    "            plt.xlabel(\"steps\")\n",
    "            plt.ylabel(\"loss\")\n",
    "            plt.show()\n",
    "\n",
    "            final_pred = self.evaluate(h=corner, add_corner=False)\n",
    "            logger.info(f\"Tuned to: {final_pred}\")\n",
    "\n",
    "        self.corner = corner.detach()\n",
    "        return self.corner\n",
    "\n",
    "    @torch.inference_mode()\n",
    "    def evaluate(self, h: torch.Tensor, add_corner: bool = True):\n",
    "        if add_corner:\n",
    "            corner = (self.corner/self.corner.norm())*h.norm()\n",
    "            logger.debug(f\"{h.norm().item()=} | {corner.norm().item()=}\")\n",
    "            h = h + corner\n",
    "\n",
    "        inputs = mt.tokenizer(mt.tokenizer.bos_token, add_special_tokens=False, return_tensors=\"pt\")\n",
    "        with mt.trace(inputs) as tr:\n",
    "            module = get_module_nnsight(mt, estimator.layer_name)\n",
    "            module.output[0][0, :] = h\n",
    "            logits = mt.output.logits[0, -1].save()\n",
    "\n",
    "        return interpret_logits(\n",
    "            tokenizer=mt,\n",
    "            logits=logits,\n",
    "        )\n",
    "\n",
    "\n",
    "\n",
    "estimator = CornerEstimator(\n",
    "    mt, \n",
    "    mt.layer_name_format.format(mt.n_layer - 1),\n",
    "    verbose=True\n",
    "\n",
    ")\n",
    "\n",
    "colors = [\n",
    "    \" red\", \n",
    "    \" green\",\n",
    "    \" blue\",\n",
    "    \" yellow\",\n",
    "    \" orange\",\n",
    "    \" purple\",\n",
    "    \" white\",\n",
    "    \" black\",\n",
    "]\n",
    "\n",
    "token_indices = mt.tokenizer(colors, add_special_tokens=False, return_tensors=\"pt\").input_ids.squeeze().tolist()\n",
    "corner = estimator.estimate(token_indices = token_indices)"
   ]
  },
  {
   "cell_type": "code",
   "execution_count": 106,
   "metadata": {},
   "outputs": [
    {
     "name": "stdout",
     "output_type": "stream",
     "text": [
      "2024-11-04 18:40:15 __main__ DEBUG    h.norm().item()=51.01571273803711 | corner.norm().item()=51.01571273803711\n"
     ]
    },
    {
     "data": {
      "text/plain": [
       "[PredictedToken(token=' blue', prob=0.1741441935300827, logit=14.425210952758789, token_id=6437),\n",
       " PredictedToken(token=' red', prob=0.1625315248966217, logit=14.356199264526367, token_id=2579),\n",
       " PredictedToken(token=' green', prob=0.14170628786087036, logit=14.219083786010742, token_id=6307),\n",
       " PredictedToken(token=' black', prob=0.10244597494602203, logit=13.894662857055664, token_id=3776),\n",
       " PredictedToken(token=' white', prob=0.04940338060259819, logit=13.165346145629883, token_id=4251)]"
      ]
     },
     "execution_count": 106,
     "metadata": {},
     "output_type": "execute_result"
    }
   ],
   "source": [
    "from src.tokens import prepare_input\n",
    "from src.functional import get_hs\n",
    "\n",
    "prompt = \"Banana\"\n",
    "inputs = prepare_input(\"prompt\", tokenizer=mt)\n",
    "\n",
    "h_subj = get_hs(\n",
    "    mt = mt,\n",
    "    input = inputs,\n",
    "    locations = (estimator.layer_name, -1),\n",
    ")\n",
    "\n",
    "\n",
    "estimator.evaluate(h_subj, add_corner=True)"
   ]
  },
  {
   "cell_type": "code",
   "execution_count": 107,
   "metadata": {},
   "outputs": [
    {
     "data": {
      "text/plain": [
       "{'input_ids': tensor([[128000,  41681]], device='cuda:0'), 'attention_mask': tensor([[1, 1]], device='cuda:0')}"
      ]
     },
     "execution_count": 107,
     "metadata": {},
     "output_type": "execute_result"
    }
   ],
   "source": [
    "inputs"
   ]
  },
  {
   "cell_type": "code",
   "execution_count": null,
   "metadata": {},
   "outputs": [],
   "source": []
  }
 ],
 "metadata": {
  "kernelspec": {
   "display_name": "retrieval",
   "language": "python",
   "name": "python3"
  },
  "language_info": {
   "codemirror_mode": {
    "name": "ipython",
    "version": 3
   },
   "file_extension": ".py",
   "mimetype": "text/x-python",
   "name": "python",
   "nbconvert_exporter": "python",
   "pygments_lexer": "ipython3",
   "version": "3.11.9"
  }
 },
 "nbformat": 4,
 "nbformat_minor": 2
}
