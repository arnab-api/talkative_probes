{
 "cells": [
  {
   "cell_type": "code",
   "execution_count": 1,
   "metadata": {},
   "outputs": [],
   "source": [
    "%load_ext autoreload\n",
    "%autoreload 2"
   ]
  },
  {
   "cell_type": "code",
   "execution_count": 2,
   "metadata": {},
   "outputs": [
    {
     "name": "stderr",
     "output_type": "stream",
     "text": [
      "/home/local_arnab/miniconda3/envs/retrieval/lib/python3.11/site-packages/tqdm/auto.py:21: TqdmWarning: IProgress not found. Please update jupyter and ipywidgets. See https://ipywidgets.readthedocs.io/en/stable/user_install.html\n",
      "  from .autonotebook import tqdm as notebook_tqdm\n"
     ]
    },
    {
     "name": "stdout",
     "output_type": "stream",
     "text": [
      "2024-10-29 20:14:35 __main__ INFO     torch.__version__='2.5.0+cu124', torch.version.cuda='12.4'\n"
     ]
    }
   ],
   "source": [
    "import time, json\n",
    "import sys\n",
    "sys.path.append(\"../../\")\n",
    "import os\n",
    "import torch\n",
    "import numpy as np\n",
    "from tqdm import tqdm\n",
    "\n",
    "import logging\n",
    "from src.utils import logging_utils\n",
    "from src.utils import env_utils, experiment_utils\n",
    "from src import functional\n",
    "import wandb\n",
    "\n",
    "logger = logging.getLogger(__name__)\n",
    "\n",
    "logging.basicConfig(\n",
    "    level=logging.DEBUG,\n",
    "    format=logging_utils.DEFAULT_FORMAT,\n",
    "    datefmt=logging_utils.DEFAULT_DATEFMT,\n",
    "    stream=sys.stdout,\n",
    ")\n",
    "\n",
    "logger.info(f\"{torch.__version__=}, {torch.version.cuda=}\")"
   ]
  },
  {
   "cell_type": "code",
   "execution_count": 3,
   "metadata": {},
   "outputs": [
    {
     "name": "stdout",
     "output_type": "stream",
     "text": [
      "2024-10-29 20:14:35 numexpr.utils INFO     Note: NumExpr detected 24 cores but \"NUMEXPR_MAX_THREADS\" not set, so enforcing safe limit of 8.\n",
      "2024-10-29 20:14:35 numexpr.utils INFO     NumExpr defaulting to 8 threads.\n",
      "2024-10-29 20:14:35 datasets INFO     PyTorch version 2.5.0 available.\n"
     ]
    },
    {
     "data": {
      "text/plain": [
       "{'geometry_of_truth': ['sp_en_trans',\n",
       "  'cities',\n",
       "  'neg_cities',\n",
       "  'smaller_than',\n",
       "  'larger_than',\n",
       "  'common_claim_true_false',\n",
       "  'companies_true_false'],\n",
       " 'relations': ['commonsense/word_sentiment',\n",
       "  'commonsense/fruit_outside_color',\n",
       "  'commonsense/task_done_by_person',\n",
       "  'commonsense/work_location',\n",
       "  'commonsense/task_done_by_tool',\n",
       "  'commonsense/substance_phase',\n",
       "  'commonsense/object_superclass',\n",
       "  'factual/country_capital_city',\n",
       "  'factual/person_plays_pro_sport',\n",
       "  'factual/country_language',\n",
       "  'factual/country_largest_city',\n",
       "  'factual/food_from_country',\n",
       "  'factual/landmark_in_country',\n",
       "  'factual/superhero_archnemesis',\n",
       "  'factual/city_in_country',\n",
       "  'factual/superhero_person',\n",
       "  'factual/person_plays_instrument',\n",
       "  'factual/country_currency',\n",
       "  'factual/person_plays_position_in_sport',\n",
       "  'linguistic/word_last_letter',\n",
       "  'linguistic/verb_past_tense',\n",
       "  'linguistic/word_first_letter',\n",
       "  'linguistic/adj_superlative',\n",
       "  'linguistic/adj_comparative',\n",
       "  'linguistic/adj_antonym'],\n",
       " 'sst2': ['sst2'],\n",
       " 'md_gender': ['md_gender'],\n",
       " 'ag_news': ['ag_news'],\n",
       " 'tense': ['tense']}"
      ]
     },
     "execution_count": 3,
     "metadata": {},
     "output_type": "execute_result"
    }
   ],
   "source": [
    "from src.dataset_manager import DatasetManager\n",
    "DatasetManager.list_datasets_by_group()"
   ]
  },
  {
   "cell_type": "code",
   "execution_count": 35,
   "metadata": {},
   "outputs": [
    {
     "name": "stdout",
     "output_type": "stream",
     "text": [
      "2024-10-29 20:34:42 urllib3.connectionpool DEBUG    https://huggingface.co:443 \"GET /api/datasets/FrancophonIA/WiLI-2018 HTTP/11\" 200 1480\n",
      "2024-10-29 20:34:42 urllib3.connectionpool DEBUG    Starting new HTTPS connection (1): s3.amazonaws.com:443\n",
      "2024-10-29 20:34:42 urllib3.connectionpool DEBUG    https://s3.amazonaws.com:443 \"HEAD /datasets.huggingface.co/datasets/datasets/FrancophonIA/WiLI-2018/FrancophonIA/WiLI-2018.py HTTP/11\" 404 0\n",
      "2024-10-29 20:34:42 urllib3.connectionpool DEBUG    https://huggingface.co:443 \"GET /api/datasets/FrancophonIA/WiLI-2018 HTTP/11\" 200 1480\n",
      "2024-10-29 20:34:42 urllib3.connectionpool DEBUG    Starting new HTTPS connection (1): huggingface.co:443\n",
      "2024-10-29 20:34:42 urllib3.connectionpool DEBUG    https://huggingface.co:443 \"HEAD /datasets/FrancophonIA/WiLI-2018/resolve/d505038b20006eb17994578c1e870d443f1cd5d2/README.md HTTP/11\" 200 0\n",
      "2024-10-29 20:34:42 urllib3.connectionpool DEBUG    Starting new HTTPS connection (1): huggingface.co:443\n",
      "2024-10-29 20:34:42 urllib3.connectionpool DEBUG    https://huggingface.co:443 \"HEAD /datasets/FrancophonIA/WiLI-2018/resolve/d505038b20006eb17994578c1e870d443f1cd5d2/.huggingface.yaml HTTP/11\" 404 0\n",
      "2024-10-29 20:34:42 urllib3.connectionpool DEBUG    Starting new HTTPS connection (1): datasets-server.huggingface.co:443\n",
      "2024-10-29 20:34:42 urllib3.connectionpool DEBUG    https://datasets-server.huggingface.co:443 \"GET /info?dataset=FrancophonIA/WiLI-2018 HTTP/11\" 200 None\n",
      "2024-10-29 20:34:42 urllib3.connectionpool DEBUG    https://huggingface.co:443 \"GET /api/datasets/FrancophonIA/WiLI-2018/tree/d505038b20006eb17994578c1e870d443f1cd5d2/data?recursive=False&expand=False HTTP/11\" 404 79\n",
      "2024-10-29 20:34:42 urllib3.connectionpool DEBUG    Starting new HTTPS connection (1): huggingface.co:443\n",
      "2024-10-29 20:34:42 urllib3.connectionpool DEBUG    https://huggingface.co:443 \"HEAD /datasets/FrancophonIA/WiLI-2018/resolve/d505038b20006eb17994578c1e870d443f1cd5d2/dataset_infos.json HTTP/11\" 404 0\n",
      "2024-10-29 20:34:42 filelock DEBUG    Attempting to acquire lock 139967877637328 on /home/local_arnab/.cache/huggingface/datasets/_home_local_arnab_.cache_huggingface_datasets_FrancophonIA___wi_li-2018_default_0.0.0_d505038b20006eb17994578c1e870d443f1cd5d2.lock\n",
      "2024-10-29 20:34:42 filelock DEBUG    Lock 139967877637328 acquired on /home/local_arnab/.cache/huggingface/datasets/_home_local_arnab_.cache_huggingface_datasets_FrancophonIA___wi_li-2018_default_0.0.0_d505038b20006eb17994578c1e870d443f1cd5d2.lock\n",
      "2024-10-29 20:34:42 fsspec.local DEBUG    open file: /home/local_arnab/.cache/huggingface/datasets/FrancophonIA___wi_li-2018/default/0.0.0/d505038b20006eb17994578c1e870d443f1cd5d2/dataset_info.json\n",
      "2024-10-29 20:34:42 filelock DEBUG    Attempting to release lock 139967877637328 on /home/local_arnab/.cache/huggingface/datasets/_home_local_arnab_.cache_huggingface_datasets_FrancophonIA___wi_li-2018_default_0.0.0_d505038b20006eb17994578c1e870d443f1cd5d2.lock\n",
      "2024-10-29 20:34:42 filelock DEBUG    Lock 139967877637328 released on /home/local_arnab/.cache/huggingface/datasets/_home_local_arnab_.cache_huggingface_datasets_FrancophonIA___wi_li-2018_default_0.0.0_d505038b20006eb17994578c1e870d443f1cd5d2.lock\n",
      "2024-10-29 20:34:42 filelock DEBUG    Attempting to acquire lock 139968356544592 on /home/local_arnab/.cache/huggingface/datasets/FrancophonIA___wi_li-2018/default/0.0.0/d505038b20006eb17994578c1e870d443f1cd5d2_builder.lock\n",
      "2024-10-29 20:34:42 filelock DEBUG    Lock 139968356544592 acquired on /home/local_arnab/.cache/huggingface/datasets/FrancophonIA___wi_li-2018/default/0.0.0/d505038b20006eb17994578c1e870d443f1cd5d2_builder.lock\n",
      "2024-10-29 20:34:42 fsspec.local DEBUG    open file: /home/local_arnab/.cache/huggingface/datasets/FrancophonIA___wi_li-2018/default/0.0.0/d505038b20006eb17994578c1e870d443f1cd5d2/dataset_info.json\n",
      "2024-10-29 20:34:42 filelock DEBUG    Attempting to release lock 139968356544592 on /home/local_arnab/.cache/huggingface/datasets/FrancophonIA___wi_li-2018/default/0.0.0/d505038b20006eb17994578c1e870d443f1cd5d2_builder.lock\n",
      "2024-10-29 20:34:42 filelock DEBUG    Lock 139968356544592 released on /home/local_arnab/.cache/huggingface/datasets/FrancophonIA___wi_li-2018/default/0.0.0/d505038b20006eb17994578c1e870d443f1cd5d2_builder.lock\n"
     ]
    },
    {
     "data": {
      "text/plain": [
       "[ContextQASample(context='o hospital de caridade hc cujo nome oficial é imperial hospital de caridade ihc é um hospital filantrópico de florianópolis localizado no centro é o hospital mais antigo da cidade e do estado de santa catarina além de ficar numa localização simbólica e ser parte de tradições religiosas da cidade', questions=['# Is the text presented in Portugese?', '# Would you identify this text as being in Portugese?', '# Is the language of this text Portugese?', '# Can we determine that this is in Dutch?', '# Am I correct in saying this is in Portugese?', '# Can we say this is in Persian?', '# Does this passage use Urdu?', '# Is the language of this text Estonian?', '# Does this passage use Portugese?', '# Is the content of this text in Latin?'], answers=['Yes', 'Yes', 'Yes', 'No', 'Yes', 'No', 'No', 'No', 'Yes', 'No']),\n",
       " ContextQASample(context='la terminarea celuli de-al doilea război mondial a existat o înțelegere între aliați cu privire la ocuparea temporară a teritoriilor pe care le cuceriseră în timpul războiului teritoriile ocupate de statele unite regatul unit și franța au devenit democrații cu economii de piață aliate cu sua în vreme ce teritoriile ocupate de uniunea sovietică au devenit state comuniste cu economii centralizate de stat aliate cu urss această împărțire a dus la împărțirea germaniei – uniunea sovietică a ocupat germania răsăriteană care a devenit republica democrată germană iar sua și celelalte puteri occidentale învingătoare au ocupat germania apuseană care avea să devină republica federală germania', questions=['# Would you agree that this is in Romanian?', '# Is this passage composed in Persian?', '# Is the language of this text Pushto?', '# Would you identify this text as being in Romanian?', '# Does this writing reflect the language Romanian?', '# Is the language of this text Indonesian?', '# Can we confirm this is in Romanian?', '# Is this written in the language English?', '# Is the primary language of this text Romanian?', '# Is the language of this text Romanian?'], answers=['Yes', 'No', 'No', 'Yes', 'Yes', 'No', 'Yes', 'No', 'Yes', 'Yes']),\n",
       " ContextQASample(context='in  columbia high school made national headlines when the administration amended a policy regarding religiously themed holiday songs putting more strict guidelines in place many people believed the new rules to be too strict radio personality don imus produced a song on his radio program entitled \"oh little town of maplewood\" mocking the new rules of columbia high school the new guidelines were also mentioned on the oreilly factor', questions=['# Would you classify this as written in Arabic?', '# Can we confirm this is in Tamil?', '# Is this passage composed in Portugese?', '# Is this written in the language Thai?', '# Is the text presented in English?', '# Is this text predominantly in English?', '# Does this writing reflect the language Japanese?', '# Is this written in the language English?', '# Does this passage use Pushto?', '# Is this text written in Arabic?'], answers=['No', 'No', 'No', 'No', 'Yes', 'Yes', 'No', 'Yes', 'No', 'No']),\n",
       " ContextQASample(context='أعلنت اليمن قبولها لتدخل أطراف ثالثة لحل المشكلة في حين فضلت السعودية حل المشكلة في الإطار الثنائي وقد اقترحت اليمن تشكيل لجنة عسكرية يمنية ـ سعودية برئاسة عيسى رئيس هيئة الأركان وبإشراف ممثلين من كل من مصر وسوريا للاطلاع ميدانيا على حقيقة الأوضاع والتأكد من عدم وجود الحشود العسكرية السعودية على حدود الأراضي اليمنية لكن الأمير سلطان بن عبد العزيز النائب الثاني لرئيس مجلس الوزراء وزير الدفاع والطيران السعودي صرح بقوله ـ نحن نرحب بكل لقاء أخوى وكل تأييد أخوى لمبادئ السلام والمحبة سواء من إخواننا في سورية أو في مصر لكن العلاقات السعودية ـ اليمنية لا تستوجب الآن دخول أي أخ عربى ', questions=['# Is the text presented in Pushto?', '# Is the primary language of this text Persian?', '# Is the content of this text in Tamil?', '# Is the text presented in Russian?', '# Can we say this is in Dutch?', '# Is the primary language of this text Arabic?', '# Can we confirm this is in Arabic?', '# Is this written in the language Spanish?', '# Does this writing reflect the language Arabic?', '# Is the text presented in Arabic?'], answers=['No', 'No', 'No', 'No', 'No', 'Yes', 'Yes', 'No', 'Yes', 'Yes']),\n",
       " ContextQASample(context='seperti asteroid secara keseluruhan asteroid ini terbentuk dari nebula matahari primordial sebagai pecahan planetisimal sesuatu di nebula matahari muda yang tidak cukup besar untuk berubah menjadi planet', questions=['# Is the text presented in Indonesian?', '# Can we confirm this is in Indonesian?', '# Would you identify this text as being in Indonesian?', '# Is this written in the language English?', '# Can we determine that this is in Indonesian?', '# Is this written in the language Indonesian?', '# Would you identify this text as being in Estonian?', '# Is this text predominantly in Indonesian?', '# Is this text written in Indonesian?', '# Does this passage use Thai?'], answers=['Yes', 'Yes', 'Yes', 'No', 'Yes', 'Yes', 'No', 'Yes', 'Yes', 'No'])]"
      ]
     },
     "execution_count": 35,
     "metadata": {},
     "output_type": "execute_result"
    }
   ],
   "source": [
    "dataloader = DatasetManager.from_named_datasets(\n",
    "    # [(\"geometry_of_truth\", \"cities\")],\n",
    "    # [(\"sst2\", \"sst2\")],\n",
    "    # [(\"relations\", 'factual/country_capital_city')],\n",
    "    # [(\"tense\", \"tense\")],\n",
    "    [(\"language_identification\", \"language_identification\")],\n",
    "    batch_size=5\n",
    ")\n",
    "batch = next(iter(dataloader))\n",
    "batch"
   ]
  },
  {
   "cell_type": "code",
   "execution_count": 33,
   "metadata": {},
   "outputs": [
    {
     "name": "stdout",
     "output_type": "stream",
     "text": [
      "2024-10-29 20:34:09 urllib3.connectionpool DEBUG    https://huggingface.co:443 \"GET /api/datasets/FrancophonIA/WiLI-2018 HTTP/11\" 200 1480\n",
      "2024-10-29 20:34:09 urllib3.connectionpool DEBUG    Starting new HTTPS connection (1): s3.amazonaws.com:443\n"
     ]
    },
    {
     "name": "stdout",
     "output_type": "stream",
     "text": [
      "2024-10-29 20:34:09 urllib3.connectionpool DEBUG    https://s3.amazonaws.com:443 \"HEAD /datasets.huggingface.co/datasets/datasets/FrancophonIA/WiLI-2018/FrancophonIA/WiLI-2018.py HTTP/11\" 404 0\n",
      "2024-10-29 20:34:09 urllib3.connectionpool DEBUG    https://huggingface.co:443 \"GET /api/datasets/FrancophonIA/WiLI-2018 HTTP/11\" 200 1480\n",
      "2024-10-29 20:34:09 urllib3.connectionpool DEBUG    Starting new HTTPS connection (1): huggingface.co:443\n",
      "2024-10-29 20:34:09 urllib3.connectionpool DEBUG    https://huggingface.co:443 \"HEAD /datasets/FrancophonIA/WiLI-2018/resolve/d505038b20006eb17994578c1e870d443f1cd5d2/README.md HTTP/11\" 200 0\n",
      "2024-10-29 20:34:09 urllib3.connectionpool DEBUG    Starting new HTTPS connection (1): huggingface.co:443\n",
      "2024-10-29 20:34:09 urllib3.connectionpool DEBUG    https://huggingface.co:443 \"HEAD /datasets/FrancophonIA/WiLI-2018/resolve/d505038b20006eb17994578c1e870d443f1cd5d2/.huggingface.yaml HTTP/11\" 404 0\n",
      "2024-10-29 20:34:09 urllib3.connectionpool DEBUG    Starting new HTTPS connection (1): datasets-server.huggingface.co:443\n",
      "2024-10-29 20:34:09 urllib3.connectionpool DEBUG    https://datasets-server.huggingface.co:443 \"GET /info?dataset=FrancophonIA/WiLI-2018 HTTP/11\" 200 None\n",
      "2024-10-29 20:34:09 urllib3.connectionpool DEBUG    https://huggingface.co:443 \"GET /api/datasets/FrancophonIA/WiLI-2018/tree/d505038b20006eb17994578c1e870d443f1cd5d2/data?recursive=False&expand=False HTTP/11\" 404 79\n",
      "2024-10-29 20:34:09 urllib3.connectionpool DEBUG    Starting new HTTPS connection (1): huggingface.co:443\n",
      "2024-10-29 20:34:09 urllib3.connectionpool DEBUG    https://huggingface.co:443 \"HEAD /datasets/FrancophonIA/WiLI-2018/resolve/d505038b20006eb17994578c1e870d443f1cd5d2/dataset_infos.json HTTP/11\" 404 0\n",
      "2024-10-29 20:34:09 filelock DEBUG    Attempting to acquire lock 139968042750288 on /home/local_arnab/.cache/huggingface/datasets/_home_local_arnab_.cache_huggingface_datasets_FrancophonIA___wi_li-2018_default_0.0.0_d505038b20006eb17994578c1e870d443f1cd5d2.lock\n",
      "2024-10-29 20:34:09 filelock DEBUG    Lock 139968042750288 acquired on /home/local_arnab/.cache/huggingface/datasets/_home_local_arnab_.cache_huggingface_datasets_FrancophonIA___wi_li-2018_default_0.0.0_d505038b20006eb17994578c1e870d443f1cd5d2.lock\n",
      "2024-10-29 20:34:09 fsspec.local DEBUG    open file: /home/local_arnab/.cache/huggingface/datasets/FrancophonIA___wi_li-2018/default/0.0.0/d505038b20006eb17994578c1e870d443f1cd5d2/dataset_info.json\n",
      "2024-10-29 20:34:09 filelock DEBUG    Attempting to release lock 139968042750288 on /home/local_arnab/.cache/huggingface/datasets/_home_local_arnab_.cache_huggingface_datasets_FrancophonIA___wi_li-2018_default_0.0.0_d505038b20006eb17994578c1e870d443f1cd5d2.lock\n",
      "2024-10-29 20:34:09 filelock DEBUG    Lock 139968042750288 released on /home/local_arnab/.cache/huggingface/datasets/_home_local_arnab_.cache_huggingface_datasets_FrancophonIA___wi_li-2018_default_0.0.0_d505038b20006eb17994578c1e870d443f1cd5d2.lock\n",
      "2024-10-29 20:34:09 filelock DEBUG    Attempting to acquire lock 139967882447632 on /home/local_arnab/.cache/huggingface/datasets/FrancophonIA___wi_li-2018/default/0.0.0/d505038b20006eb17994578c1e870d443f1cd5d2_builder.lock\n",
      "2024-10-29 20:34:09 filelock DEBUG    Lock 139967882447632 acquired on /home/local_arnab/.cache/huggingface/datasets/FrancophonIA___wi_li-2018/default/0.0.0/d505038b20006eb17994578c1e870d443f1cd5d2_builder.lock\n",
      "2024-10-29 20:34:09 fsspec.local DEBUG    open file: /home/local_arnab/.cache/huggingface/datasets/FrancophonIA___wi_li-2018/default/0.0.0/d505038b20006eb17994578c1e870d443f1cd5d2/dataset_info.json\n",
      "2024-10-29 20:34:09 filelock DEBUG    Attempting to release lock 139967882447632 on /home/local_arnab/.cache/huggingface/datasets/FrancophonIA___wi_li-2018/default/0.0.0/d505038b20006eb17994578c1e870d443f1cd5d2_builder.lock\n",
      "2024-10-29 20:34:09 filelock DEBUG    Lock 139967882447632 released on /home/local_arnab/.cache/huggingface/datasets/FrancophonIA___wi_li-2018/default/0.0.0/d505038b20006eb17994578c1e870d443f1cd5d2_builder.lock\n"
     ]
    }
   ],
   "source": [
    "from src.dataset_manager import DatasetLoader, ContextQASample, NUM_QA_PER_SAMPLE, YES_TOKEN, NO_TOKEN\n",
    "import os\n",
    "from src.utils import env_utils\n",
    "import json\n",
    "import random\n",
    "from datasets import load_dataset\n",
    "\n",
    "# from src.dataset_manager import TenseDatasetLoader\n",
    "from src.dataset_manager import LanguageIDDatasetLoader\n",
    "\n",
    "loader = LanguageIDDatasetLoader()\n",
    "ds = loader.load()"
   ]
  },
  {
   "cell_type": "code",
   "execution_count": 38,
   "metadata": {},
   "outputs": [
    {
     "data": {
      "text/plain": [
       "{'context': 'أعلنت اليمن قبولها لتدخل أطراف ثالثة لحل المشكلة في حين فضلت السعودية حل المشكلة في الإطار الثنائي وقد اقترحت اليمن تشكيل لجنة عسكرية يمنية ـ سعودية برئاسة عيسى رئيس هيئة الأركان وبإشراف ممثلين من كل من مصر وسوريا للاطلاع ميدانيا على حقيقة الأوضاع والتأكد من عدم وجود الحشود العسكرية السعودية على حدود الأراضي اليمنية لكن الأمير سلطان بن عبد العزيز النائب الثاني لرئيس مجلس الوزراء وزير الدفاع والطيران السعودي صرح بقوله ـ نحن نرحب بكل لقاء أخوى وكل تأييد أخوى لمبادئ السلام والمحبة سواء من إخواننا في سورية أو في مصر لكن العلاقات السعودية ـ اليمنية لا تستوجب الآن دخول أي أخ عربى ',\n",
       " 'questions': ['# Is the text presented in Pushto?',\n",
       "  '# Is the primary language of this text Persian?',\n",
       "  '# Is the content of this text in Tamil?',\n",
       "  '# Is the text presented in Russian?',\n",
       "  '# Can we say this is in Dutch?',\n",
       "  '# Is the primary language of this text Arabic?',\n",
       "  '# Can we confirm this is in Arabic?',\n",
       "  '# Is this written in the language Spanish?',\n",
       "  '# Does this writing reflect the language Arabic?',\n",
       "  '# Is the text presented in Arabic?'],\n",
       " 'answers': ['No', 'No', 'No', 'No', 'No', 'Yes', 'Yes', 'No', 'Yes', 'Yes']}"
      ]
     },
     "execution_count": 38,
     "metadata": {},
     "output_type": "execute_result"
    }
   ],
   "source": [
    "batch[3].__dict__"
   ]
  },
  {
   "cell_type": "code",
   "execution_count": null,
   "metadata": {},
   "outputs": [],
   "source": []
  }
 ],
 "metadata": {
  "kernelspec": {
   "display_name": "retrieval",
   "language": "python",
   "name": "python3"
  },
  "language_info": {
   "codemirror_mode": {
    "name": "ipython",
    "version": 3
   },
   "file_extension": ".py",
   "mimetype": "text/x-python",
   "name": "python",
   "nbconvert_exporter": "python",
   "pygments_lexer": "ipython3",
   "version": "3.11.9"
  }
 },
 "nbformat": 4,
 "nbformat_minor": 2
}
