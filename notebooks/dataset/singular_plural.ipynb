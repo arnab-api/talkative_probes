{
 "cells": [
  {
   "cell_type": "code",
   "execution_count": 1,
   "metadata": {},
   "outputs": [],
   "source": [
    "%load_ext autoreload\n",
    "%autoreload 2"
   ]
  },
  {
   "cell_type": "code",
   "execution_count": 2,
   "metadata": {},
   "outputs": [
    {
     "name": "stderr",
     "output_type": "stream",
     "text": [
      "/home/local_arnab/miniconda3/envs/retrieval/lib/python3.11/site-packages/tqdm/auto.py:21: TqdmWarning: IProgress not found. Please update jupyter and ipywidgets. See https://ipywidgets.readthedocs.io/en/stable/user_install.html\n",
      "  from .autonotebook import tqdm as notebook_tqdm\n"
     ]
    },
    {
     "name": "stdout",
     "output_type": "stream",
     "text": [
      "2024-10-30 11:14:30 __main__ INFO     torch.__version__='2.5.0+cu124', torch.version.cuda='12.4'\n"
     ]
    }
   ],
   "source": [
    "import time, json\n",
    "import sys\n",
    "sys.path.append(\"../../\")\n",
    "import os\n",
    "import torch\n",
    "import numpy as np\n",
    "from tqdm import tqdm\n",
    "\n",
    "import logging\n",
    "from src.utils import logging_utils\n",
    "from src.utils import env_utils, experiment_utils\n",
    "from src import functional\n",
    "import wandb\n",
    "\n",
    "logger = logging.getLogger(__name__)\n",
    "\n",
    "logging.basicConfig(\n",
    "    level=logging.INFO,\n",
    "    format=logging_utils.DEFAULT_FORMAT,\n",
    "    datefmt=logging_utils.DEFAULT_DATEFMT,\n",
    "    stream=sys.stdout,\n",
    ")\n",
    "\n",
    "logger.info(f\"{torch.__version__=}, {torch.version.cuda=}\")"
   ]
  },
  {
   "cell_type": "code",
   "execution_count": 4,
   "metadata": {},
   "outputs": [
    {
     "name": "stdout",
     "output_type": "stream",
     "text": [
      "2024-10-30 11:15:32 accelerate.utils.modeling INFO     We will use 90% of the memory on device 0 for storing the model, and 10% for the buffer to avoid OOM. You can set `max_memory` in to a higher value to use more memory (at your own risk).\n"
     ]
    },
    {
     "name": "stderr",
     "output_type": "stream",
     "text": [
      "Loading checkpoint shards: 100%|██████████| 2/2 [00:02<00:00,  1.19s/it]"
     ]
    },
    {
     "name": "stdout",
     "output_type": "stream",
     "text": [
      "2024-10-30 11:15:35 src.models INFO     loaded model </home/local_arnab/Codes/00_MODEL/meta-llama/Llama-3.2-3B> | size: 6127.841 MB | dtype: torch.float16 | device: cuda:0\n"
     ]
    },
    {
     "name": "stderr",
     "output_type": "stream",
     "text": [
      "\n"
     ]
    }
   ],
   "source": [
    "from src.models import ModelandTokenizer\n",
    "mt = ModelandTokenizer(model_key=\"meta-llama/Llama-3.2-3B\")"
   ]
  },
  {
   "cell_type": "code",
   "execution_count": 7,
   "metadata": {},
   "outputs": [
    {
     "data": {
      "text/plain": [
       "tensor([[1, 1, 1, 1, 1],\n",
       "        [0, 1, 1, 1, 1],\n",
       "        [1, 1, 1, 1, 1]])"
      ]
     },
     "execution_count": 7,
     "metadata": {},
     "output_type": "execute_result"
    }
   ],
   "source": [
    "prompts = [\n",
    "    \"What is the capital of France?\",\n",
    "    \"This is a\",\n",
    "    \"Once upon a time\",\n",
    "]\n",
    "\n",
    "inputs = mt.tokenizer(\n",
    "            prompts,\n",
    "            return_tensors=\"pt\",\n",
    "            padding=\"max_length\",\n",
    "            max_length=5,\n",
    "            truncation=True\n",
    "        )\n",
    "\n",
    "inputs.attention_mask"
   ]
  },
  {
   "cell_type": "code",
   "execution_count": 9,
   "metadata": {},
   "outputs": [
    {
     "data": {
      "text/plain": [
       "'<|begin_of_text|>What is the capital'"
      ]
     },
     "execution_count": 9,
     "metadata": {},
     "output_type": "execute_result"
    }
   ],
   "source": [
    "mt.tokenizer.decode(inputs.input_ids[0])  # Decode the first input id"
   ]
  },
  {
   "cell_type": "code",
   "execution_count": null,
   "metadata": {},
   "outputs": [],
   "source": []
  },
  {
   "cell_type": "code",
   "execution_count": null,
   "metadata": {},
   "outputs": [],
   "source": []
  },
  {
   "cell_type": "code",
   "execution_count": 3,
   "metadata": {},
   "outputs": [
    {
     "name": "stdout",
     "output_type": "stream",
     "text": [
      "2024-10-29 23:10:26 numexpr.utils INFO     Note: NumExpr detected 24 cores but \"NUMEXPR_MAX_THREADS\" not set, so enforcing safe limit of 8.\n",
      "2024-10-29 23:10:26 numexpr.utils INFO     NumExpr defaulting to 8 threads.\n"
     ]
    },
    {
     "name": "stdout",
     "output_type": "stream",
     "text": [
      "2024-10-29 23:10:26 datasets INFO     PyTorch version 2.5.0 available.\n"
     ]
    },
    {
     "data": {
      "text/plain": [
       "{'geometry_of_truth': ['sp_en_trans',\n",
       "  'cities',\n",
       "  'neg_cities',\n",
       "  'smaller_than',\n",
       "  'larger_than',\n",
       "  'common_claim_true_false',\n",
       "  'companies_true_false'],\n",
       " 'relations': ['commonsense/word_sentiment',\n",
       "  'commonsense/fruit_outside_color',\n",
       "  'commonsense/task_done_by_person',\n",
       "  'commonsense/work_location',\n",
       "  'commonsense/task_done_by_tool',\n",
       "  'commonsense/substance_phase',\n",
       "  'commonsense/object_superclass',\n",
       "  'factual/country_capital_city',\n",
       "  'factual/person_plays_pro_sport',\n",
       "  'factual/country_language',\n",
       "  'factual/country_largest_city',\n",
       "  'factual/food_from_country',\n",
       "  'factual/landmark_in_country',\n",
       "  'factual/superhero_archnemesis',\n",
       "  'factual/city_in_country',\n",
       "  'factual/superhero_person',\n",
       "  'factual/person_plays_instrument',\n",
       "  'factual/country_currency',\n",
       "  'factual/person_plays_position_in_sport',\n",
       "  'linguistic/word_last_letter',\n",
       "  'linguistic/verb_past_tense',\n",
       "  'linguistic/word_first_letter',\n",
       "  'linguistic/adj_superlative',\n",
       "  'linguistic/adj_comparative',\n",
       "  'linguistic/adj_antonym'],\n",
       " 'sst2': ['sst2'],\n",
       " 'md_gender': ['md_gender'],\n",
       " 'ag_news': ['ag_news'],\n",
       " 'ner': ['ner'],\n",
       " 'tense': ['tense'],\n",
       " 'language_identification': ['language_identification'],\n",
       " 'singular_plural': ['singular_plural']}"
      ]
     },
     "execution_count": 3,
     "metadata": {},
     "output_type": "execute_result"
    }
   ],
   "source": [
    "from src.dataset_manager import DatasetManager\n",
    "DatasetManager.list_datasets_by_group()"
   ]
  },
  {
   "cell_type": "code",
   "execution_count": 4,
   "metadata": {},
   "outputs": [
    {
     "data": {
      "text/plain": [
       "[ContextQASample(context=\"Spain, Lithuania Go 5-0 in Men's Hoops (AP)\\n\\nAP - Spain could have tanked its game against New Zealand, thereby eliminating European rival Serbia-Montenegro from medal contention. Instead, the Spaniards came to play Monday and won 88-84, knocking New Zealand out and keeping the defending world champions in medal contention.\", questions=['# How relevant is this article to World News?', '# Would you classify this as an article about Business?', '# Does the content of this article pertain to Sports?', '# Does this writing concentrate on aspects of Business?', '# Would you say this piece focuses on Sports?', '# Does this text explore Science/Technology?', '# Is there a substantial focus on Sports in this article?', '# Can this be considered a Sports-related article?', '# Can this article be categorized under Sports?', '# Could this be summarized as an article about Sports?'], answers=['No', 'No', 'Yes', 'No', 'Yes', 'No', 'Yes', 'Yes', 'Yes', 'Yes']),\n",
       " ContextQASample(context='Industrial Production Nearly Stalls\\n\\n WASHINGTON (Reuters) - U.S. industrial output growth nearly  stalled last month as production cuts at mines and utilities  nearly swamped a solid performance in factories, a report from  the Federal Reserve showed on Wednesday.', questions=['# Is there a substantial focus on Business in this article?', '# Does this text explore Business?', '# In terms of content, does this piece deal with Business?', '# How relevant is this article to Business?', '# Does this article primarily address Sports?', '# Does this article delve into matters concerning Science/Technology?', '# Does the scope of this article encompass Science/Technology?', '# Would you describe this as a discussion of Science/Technology?', '# Could this be summarized as an article about Business?', '# Does the content of this article pertain to Business?'], answers=['Yes', 'Yes', 'Yes', 'Yes', 'No', 'No', 'No', 'No', 'Yes', 'Yes']),\n",
       " ContextQASample(context='Broadcom #39;s 54g Chipsets Boost Wi-Fi Coverage\\n\\nWi-Fi users can now enjoy high-speed wireless connections at distances up to 50 greater than existing solutions, thanks to two new 54g wireless LAN chipsets, introduced by Broadcom Corporation.', questions=['# Is Science/Technology the main subject matter of this article?', '# To what degree does this article cover Business?', '# How relevant is this article to World News?', '# Is there a substantial focus on Science/Technology in this article?', '# Does this article primarily address Business?', '# Would you say this piece focuses on World News?', '# Is Science/Technology a key subject in this piece?', '# Can this article be categorized under Sports?', '# Can this be considered a Science/Technology-related article?', '# In terms of content, does this piece deal with Science/Technology?'], answers=['Yes', 'No', 'No', 'Yes', 'No', 'No', 'Yes', 'No', 'Yes', 'Yes']),\n",
       " ContextQASample(context='Retailers Are Cool To Linux (TechWeb)\\n\\nTechWeb - Market-research firm Venture Development Corp. says a survey of retail IT execs shows that just 2 of point-of-sale systems use Linux, far less than expected.', questions=['# Could this be summarized as an article about World News?', '# Does the scope of this article encompass Science/Technology?', '# Can this article be categorized under Science/Technology?', '# Does this text explore Science/Technology?', '# In essence, is this a piece about Business?', '# Is Science/Technology the central theme of this piece?', '# Does the content of this article pertain to Business?', '# Is Sports the main subject matter of this article?', '# How relevant is this article to Science/Technology?', '# Would you describe this as a discussion of Science/Technology?'], answers=['No', 'Yes', 'Yes', 'Yes', 'No', 'Yes', 'No', 'No', 'Yes', 'Yes']),\n",
       " ContextQASample(context='Golf roundup: Barnes takes Aussie lead\\n\\nKurt Barnes held a two-stroke lead Thursday after shooting a 6-under-par 65 in the first round of the Australian Open, which is celebrating its 100th anniversary.', questions=['# Does this text explore Sports?', '# Is World News a key subject in this piece?', '# Would you say this piece focuses on Sports?', '# In essence, is this a piece about World News?', '# Would you describe this as a discussion of Sports?', '# Does this writing concentrate on aspects of World News?', '# To what degree does this article cover World News?', '# Does this article primarily address Science/Technology?', '# Can this article be categorized under Sports?', '# Could this be summarized as an article about Sports?'], answers=['Yes', 'No', 'Yes', 'No', 'Yes', 'No', 'No', 'No', 'Yes', 'Yes'])]"
      ]
     },
     "execution_count": 4,
     "metadata": {},
     "output_type": "execute_result"
    }
   ],
   "source": [
    "dataloader = DatasetManager.from_named_datasets(\n",
    "    # [(\"geometry_of_truth\", \"cities\")],\n",
    "    # [(\"sst2\", \"sst2\")],\n",
    "    # [(\"relations\", 'factual/country_capital_city')],\n",
    "    # [(\"tense\", \"tense\")],\n",
    "    # [(\"language_identification\", \"language_identification\")],\n",
    "    # [(\"singular_plural\", \"singular_plural\")],\n",
    "    [(\"ag_news\", \"ag_news\")],\n",
    "    batch_size=5\n",
    ")\n",
    "batch = next(iter(dataloader))\n",
    "batch"
   ]
  },
  {
   "cell_type": "code",
   "execution_count": 40,
   "metadata": {},
   "outputs": [
    {
     "name": "stdout",
     "output_type": "stream",
     "text": [
      "2024-10-29 21:31:48 httpx INFO     HTTP Request: POST https://api.anthropic.com/v1/messages \"HTTP/1.1 200 OK\"\n"
     ]
    },
    {
     "data": {
      "text/plain": [
       "'The capital of France is Paris. It is also the largest city in France and one of the most populous cities in Europe. Paris is known for its iconic landmarks such as the Eiffel Tower, the Louvre Museum, Notre-Dame Cathedral, and the Arc de Triomphe.'"
      ]
     },
     "execution_count": 40,
     "metadata": {},
     "output_type": "execute_result"
    }
   ],
   "source": [
    "from anthropic import Anthropic\n",
    "\n",
    "def ask_claude(\n",
    "    prompt: str,\n",
    ") -> str:\n",
    "    ##################################################\n",
    "    client = Anthropic(\n",
    "        api_key=os.getenv(\"CLAUDE_KEY\"),\n",
    "    )\n",
    "    claude_model = \"claude-3-5-sonnet-20241022\"\n",
    "    ##################################################\n",
    "\n",
    "    response = client.messages.create(\n",
    "        model=claude_model,\n",
    "        max_tokens=7000,\n",
    "        temperature=0,\n",
    "        system=\"You are a helpful assistant.\",\n",
    "        messages=[\n",
    "            {\n",
    "                \"role\": \"user\",\n",
    "                \"content\": [\n",
    "                    {\n",
    "                        \"type\": \"text\",\n",
    "                        \"text\": prompt,\n",
    "                    }\n",
    "                ],\n",
    "            }\n",
    "        ],\n",
    "    )\n",
    "    response = response.content[0].text\n",
    "    return response\n",
    "\n",
    "ask_claude(\"What is the capital of France?\")"
   ]
  },
  {
   "cell_type": "code",
   "execution_count": 41,
   "metadata": {},
   "outputs": [
    {
     "name": "stdout",
     "output_type": "stream",
     "text": [
      "2024-10-29 21:32:34 httpx INFO     HTTP Request: POST https://api.anthropic.com/v1/messages \"HTTP/1.1 200 OK\"\n"
     ]
    }
   ],
   "source": [
    "prompt = \"\"\"Give me a list of simple sentences in English that mentions either a single person or multiple people.\n",
    "It should be in CSV format. Give me 300 examples.\n",
    "\n",
    "sentece,n_subjects\n",
    "Andy Garcia is an actor.,single\n",
    "Andy and Gabrielle went to a party.,multiple\n",
    "The children are playing in the park.,multiple\n",
    "My grandparents are in town.,multiple\n",
    "The pen name of Samuel Clemens is Mark Twain.,single\n",
    "Mary's husband is a doctor.,single\n",
    "\"\"\"\n",
    "response = ask_claude(prompt)"
   ]
  },
  {
   "cell_type": "code",
   "execution_count": 42,
   "metadata": {},
   "outputs": [
    {
     "name": "stdout",
     "output_type": "stream",
     "text": [
      "Here's a CSV list of 300 sentences with single or multiple subjects:\n",
      "\n",
      "sentence,n_subjects\n",
      "Andy Garcia is an actor.,single\n",
      "Andy and Gabrielle went to a party.,multiple\n",
      "The children are playing in the park.,multiple\n",
      "My grandparents are in town.,multiple\n",
      "The pen name of Samuel Clemens is Mark Twain.,single\n",
      "Mary's husband is a doctor.,single\n",
      "John is reading a book.,single\n",
      "Sarah and Mike are dancing.,multiple\n",
      "The teacher is writing on the board.,single\n",
      "Students are taking their exam.,multiple\n",
      "My sister lives in Paris.,single\n",
      "Tom and Jerry are cartoon characters.,multiple\n",
      "The baby is sleeping.,single\n",
      "The twins are identical.,multiple\n",
      "David plays the guitar.,single\n",
      "Emma and Olivia are best friends.,multiple\n",
      "The president gave a speech.,single\n",
      "The team won the championship.,multiple\n",
      "My brother works at the bank.,single\n",
      "The couple is getting married.,multiple\n",
      "Peter is tall.,single\n",
      "Jack and Jill went up the hill.,multiple\n",
      "The musician performed brilliantly.,single\n",
      "The choir sang beautifully.,multiple\n",
      "Lisa bakes cookies.,single\n",
      "Bob and Alice are programmers.,multiple\n",
      "The doctor examined the patient.,single\n",
      "The nurses work night shifts.,multiple\n",
      "Michael drives a red car.,single\n",
      "The boys are playing football.,multiple\n",
      "Susan writes poetry.,single\n",
      "Mark and Jane are teachers.,multiple\n",
      "The pilot landed safely.,single\n",
      "The passengers boarded the plane.,multiple\n",
      "Helen paints landscapes.,single\n",
      "The artists exhibited their work.,multiple\n",
      "George is sleeping.,single\n",
      "The brothers started a business.,multiple\n",
      "The chef prepared dinner.,single\n",
      "The cooks are very busy.,multiple\n",
      "Amanda speaks French.,single\n",
      "Paul and Mary study together.,multiple\n",
      "The driver stopped suddenly.,single\n",
      "The riders fell off their bikes.,multiple\n",
      "Kevin won the race.,single\n",
      "The runners finished the marathon.,multiple\n",
      "Emily likes chocolate.,single\n",
      "The girls went shopping.,multiple\n",
      "The professor teaches mathematics.,single\n",
      "The students take notes.,multiple\n",
      "William wrote a novel.,single\n",
      "The authors published their books.,multiple\n",
      "Rachel sings beautifully.,single\n",
      "The band members practice daily.,multiple\n",
      "Daniel plays basketball.,single\n",
      "The players scored points.,multiple\n",
      "Laura works from home.,single\n",
      "The employees had a meeting.,multiple\n",
      "The dentist cleaned my teeth.,single\n",
      "The doctors discussed the case.,multiple\n",
      "Robert drives carefully.,single\n",
      "The drivers stopped at the light.,multiple\n",
      "Anna dances gracefully.,single\n",
      "The dancers performed on stage.,multiple\n",
      "The policeman directed traffic.,single\n",
      "The officers patrol the streets.,multiple\n",
      "Christopher is tall.,single\n",
      "The neighbors are friendly.,multiple\n",
      "Patricia bakes bread.,single\n",
      "The bakers prepared pastries.,multiple\n",
      "Timothy walks to school.,single\n",
      "The children rode their bikes.,multiple\n",
      "Elizabeth reads magazines.,single\n",
      "The readers joined the club.,multiple\n",
      "Andrew plays tennis.,single\n",
      "The athletes trained hard.,multiple\n",
      "Margaret gardens regularly.,single\n",
      "The gardeners planted trees.,multiple\n",
      "Thomas fixes cars.,single\n",
      "The mechanics work late.,multiple\n",
      "Jennifer teaches yoga.,single\n",
      "The instructors planned classes.,multiple\n",
      "Charles paints houses.,single\n",
      "The painters finished early.,multiple\n",
      "Dorothy writes stories.,single\n",
      "The writers met for coffee.,multiple\n",
      "Joseph sells insurance.,single\n",
      "The salespeople reached targets.,multiple\n",
      "Catherine studies medicine.,single\n",
      "The students passed exams.,multiple\n",
      "Steven delivers mail.,single\n",
      "The workers took breaks.,multiple\n",
      "Rebecca speaks Spanish.,single\n",
      "The speakers gave presentations.,multiple\n",
      "Edward builds furniture.,single\n",
      "The carpenters used tools.,multiple\n",
      "Sharon cooks dinner.,single\n",
      "The chefs created menus.,multiple\n",
      "Donald watches movies.,single\n",
      "The viewers enjoyed the film.,multiple\n",
      "Michelle reads news.,single\n",
      "The reporters wrote stories.,multiple\n",
      "Kenneth drives trucks.,single\n",
      "The truckers delivered goods.,multiple\n",
      "Lisa teaches math.,single\n",
      "The teachers graded papers.,multiple\n",
      "Gregory plays drums.,single\n",
      "The musicians performed live.,multiple\n",
      "Sandra walks dogs.,single\n",
      "The walkers exercised daily.,multiple\n",
      "Ronald fixes computers.,single\n",
      "The technicians solved problems.,multiple\n",
      "Carol designs websites.,single\n",
      "The designers created logos.,multiple\n",
      "Larry coaches football.,single\n",
      "The coaches planned strategy.,multiple\n",
      "Betty serves food.,single\n",
      "The servers took orders.,multiple\n",
      "Stephen writes code.,single\n",
      "The programmers debugged software.,multiple\n",
      "Nancy sells houses.,single\n",
      "The agents showed properties.,multiple\n",
      "Gary teaches history.,single\n",
      "The professors published papers.,multiple\n",
      "Maria cleans houses.,single\n",
      "The cleaners finished work.,multiple\n",
      "Eric repairs phones.,single\n",
      "The repairmen fixed devices.,multiple\n",
      "Ruth bakes cakes.,single\n",
      "The bakers decorated pastries.,multiple\n",
      "Bruce drives buses.,single\n",
      "The drivers followed routes.,multiple\n",
      "Deborah teaches dance.,single\n",
      "The dancers practiced routines.,multiple\n",
      "Wayne plays guitar.,single\n",
      "The musicians tuned instruments.,multiple\n",
      "Diane writes blogs.,single\n",
      "The bloggers posted content.,multiple\n",
      "Roger delivers packages.,single\n",
      "The couriers made deliveries.,multiple\n",
      "Joyce paints portraits.,single\n",
      "The artists displayed work.,multiple\n",
      "Carl fixes appliances.,single\n",
      "The technicians repaired machines.,multiple\n",
      "Martha designs clothes.,single\n",
      "The designers showed collections.,multiple\n",
      "Gerald coaches baseball.,single\n",
      "The coaches trained teams.,multiple\n",
      "Christine serves drinks.,single\n",
      "The bartenders mixed cocktails.,multiple\n",
      "Keith writes songs.,single\n",
      "The composers created music.,multiple\n",
      "Ann sells flowers.,single\n",
      "The florists arranged bouquets.,multiple\n",
      "Harold teaches science.,single\n",
      "The scientists conducted research.,multiple\n",
      "Catherine cleans offices.,single\n",
      "The janitors maintained buildings.,multiple\n",
      "Jeremy repairs bikes.,single\n",
      "The mechanics fixed vehicles.,multiple\n",
      "Virginia bakes pies.,single\n",
      "The chefs prepared desserts.,multiple\n",
      "Terry drives taxis.,single\n",
      "The drivers picked passengers.,multiple\n",
      "Evelyn teaches piano.,single\n",
      "The musicians performed concerts.,multiple\n",
      "Arthur plays chess.,single\n",
      "The players competed today.,multiple\n",
      "Joan writes reports.,single\n",
      "The reporters covered stories.,multiple\n",
      "Henry delivers newspapers.,single\n",
      "The carriers completed routes.,multiple\n",
      "Gloria paints murals.,single\n",
      "The artists created artwork.,multiple\n",
      "Douglas fixes roofs.,single\n",
      "The roofers completed repairs.,multiple\n",
      "Cheryl designs gardens.,single\n",
      "The landscapers planted flowers.,multiple\n",
      "Philip coaches soccer.,single\n",
      "The trainers instructed teams.,multiple\n",
      "Teresa serves coffee.,single\n",
      "The baristas made drinks.,multiple\n",
      "Stanley writes reviews.,single\n",
      "The critics evaluated shows.,multiple\n",
      "Rose sells tickets.,single\n",
      "The vendors processed sales.,multiple\n",
      "Leonard teaches English.,single\n",
      "The tutors helped students.,multiple\n",
      "Julia cleans pools.,single\n",
      "The workers maintained facilities.,multiple\n",
      "Nathan repairs watches.,single\n",
      "The watchmakers fixed timepieces.,multiple\n",
      "Phyllis bakes muffins.,single\n",
      "The bakers supplied stores.,multiple\n",
      "Roy drives trucks.,single\n",
      "The truckers transported goods.,multiple\n",
      "Louise teaches art.,single\n",
      "The instructors demonstrated techniques.,multiple\n",
      "Billy plays violin.,single\n",
      "The musicians rehearsed pieces.,multiple\n",
      "Judith writes novels.,single\n",
      "The authors signed books.,multiple\n",
      "Howard delivers mail.,single\n",
      "The postal workers sorted letters.,multiple\n",
      "Marilyn paints landscapes.,single\n",
      "The painters exhibited works.,multiple\n",
      "Ralph fixes computers.,single\n",
      "The technicians upgraded systems.,multiple\n",
      "Jean designs websites.,single\n",
      "The developers coded programs.,multiple\n",
      "Johnny coaches basketball.,single\n",
      "The coaches motivated players.,multiple\n",
      "Beverly serves lunch.,single\n",
      "The cafeteria workers prepared meals.,multiple\n",
      "Justin writes articles.,single\n",
      "The journalists published stories.,multiple\n",
      "Denise sells cars.,single\n",
      "The dealers closed deals.,multiple\n",
      "Randy teaches music.,single\n",
      "The educators planned lessons.,multiple\n",
      "Pamela cleans carpets.,single\n",
      "The cleaners sanitized floors.,multiple\n",
      "Victor repairs phones.,single\n",
      "The technicians solved issues.,multiple\n",
      "Rita bakes bread.,single\n",
      "The bakers supplied restaurants.,multiple\n",
      "Craig drives buses.,single\n",
      "The drivers transported passengers.,multiple\n",
      "Monica teaches yoga.,single\n",
      "The instructors led classes.,multiple\n",
      "Jesse plays drums.,single\n",
      "The drummers practiced rhythms.,multiple\n",
      "Esther writes poetry.,single\n",
      "The poets recited verses.,multiple\n",
      "Don delivers packages.,single\n",
      "The delivery workers sorted items.,multiple\n",
      "Agnes paints ceramics.,single\n",
      "The artists glazed pottery.,multiple\n",
      "Bill fixes engines.,single\n",
      "The mechanics repaired motors.,multiple\n",
      "Clara designs jewelry.,single\n",
      "The jewelers created pieces.,multiple\n",
      "Glen coaches tennis.,single\n",
      "The coaches trained athletes.,multiple\n",
      "Gladys serves breakfast.,single\n",
      "The servers took orders.,multiple\n",
      "Calvin writes software.,single\n",
      "The developers coded applications.,multiple\n",
      "Ethel sells produce.,single\n",
      "The vendors displayed goods.,multiple\n",
      "Harvey teaches dance.,single\n",
      "The instructors choreographed routines.,multiple\n",
      "Marjorie cleans windows.,single\n",
      "The cleaners washed glass.,multiple\n",
      "Cecil repairs bicycles.,single\n",
      "The mechanics fixed bikes.,multiple\n",
      "Pauline bakes cookies.,single\n",
      "The bakers packaged treats.,multiple\n",
      "Alex drives taxis.,single\n",
      "The drivers transported clients.,multiple\n",
      "Juanita teaches Spanish.,single\n",
      "The teachers prepared lessons.,multiple\n",
      "Franklin plays piano.,single\n",
      "The pianists performed songs.,multiple\n",
      "Anita writes scripts.,single\n",
      "The writers drafted screenplays.,multiple\n",
      "Gordon delivers pizzas.,single\n",
      "The drivers made deliveries.,multiple\n",
      "Joanne paints signs.,single\n",
      "The painters completed projects.,multiple\n",
      "Isaac fixes appliances.,single\n",
      "The repairmen serviced machines.,multiple\n",
      "Lorraine designs costumes.,single\n",
      "The designers created outfits.,multiple\n",
      "Angelo coaches swimming.,single\n",
      "The coaches trained swimmers.,multiple\n",
      "Madeline serves wine.,single\n",
      "The sommeliers poured drinks.,multiple\n",
      "Gilbert writes manuals.,single\n",
      "The writers documented procedures.,multiple\n",
      "Eleanor sells insurance.,single\n",
      "The agents processed claims.,multiple\n",
      "Max teaches physics.,single\n",
      "The professors conducted experiments.,multiple\n",
      "Bernice cleans hotels.,single\n",
      "The housekeepers maintained rooms.,multiple\n",
      "Eugene repairs furniture.,single\n",
      "The craftsmen restored pieces.,multiple\n",
      "Verna bakes pastries.,single\n",
      "The pastry chefs created desserts.,multiple\n",
      "Marvin drives trucks.,single\n",
      "The truckers hauled freight.,multiple\n",
      "Charlotte teaches ballet.,single\n",
      "The dancers practiced positions.,multiple\n",
      "Warren plays saxophone.,single\n",
      "The musicians performed solos.,multiple\n",
      "Pearl writes columns.,single\n",
      "The columnists submitted articles.,multiple\n",
      "Bernard delivers flowers.,single\n",
      "The florists arranged deliveries.,multiple\n",
      "Lucille paints portraits.,single\n",
      "The artists sketched models.,multiple\n",
      "Herman fixes computers.,single\n",
      "The technicians installed updates.,multiple\n",
      "Mae designs gardens.,single\n",
      "The landscapers planted trees.,multiple\n",
      "Claude coaches hockey.,single\n",
      "The coaches planned strategies.,multiple\n",
      "Genevieve serves tea.,single\n",
      "The servers brought refreshments.,multiple\n",
      "Willard writes speeches.,single\n",
      "The speechwriters drafted remarks.,multiple\n",
      "Hazel sells antiques.,single\n",
      "The dealers appraised items.,multiple\n",
      "Vernon teaches chemistry.,single\n",
      "The chemists conducted research.,multiple\n",
      "Beulah cleans churches.,single\n",
      "The cleaners maintained buildings.,multiple\n",
      "Oscar repairs watches.,single\n",
      "The watchmakers fixed timepieces.,multiple\n",
      "Myrtle bakes rolls.,single\n",
      "The bakers prepared bread.,multiple\n",
      "Lester drives buses.,single\n",
      "The drivers followed schedules.,multiple\n",
      "Caroline teaches music.,single\n",
      "The musicians instructed students.,multiple\n",
      "Guy plays trumpet.,single\n",
      "The trumpeters performed pieces.,multiple\n",
      "Stella writes letters.,single\n",
      "The writers mailed correspondence.,multiple\n",
      "Wilbur delivers packages.,single\n",
      "The couriers made deliveries.,multiple\n",
      "Kathryn paints houses.,single\n",
      "The painters applied coatings.,multiple\n",
      "Arnold fixes cars.,single\n",
      "The mechanics repaired vehicles.,multiple\n",
      "Viola designs dresses.,single\n",
      "The designers created fashions.,multiple\n",
      "Morris coaches football.,single\n",
      "The coaches trained players.,multiple\n",
      "Mabel serves food.,single\n",
      "The servers attended tables.,multiple\n",
      "Norman writes code.,single\n",
      "The coders developed programs.,multiple\n",
      "Margie sells shoes.,single\n",
      "The salespeople assisted customers.,multiple\n",
      "Victor teaches history.,single\n",
      "The teachers planned lessons.,multiple\n",
      "Lucy cleans offices.,single\n",
      "The cleaners maintained spaces.,multiple\n",
      "Floyd repairs electronics.,single\n",
      "The technicians fixed devices.,multiple\n",
      "Minnie bakes cakes.,single\n",
      "The bakers decorated desserts.,multiple\n",
      "Leo drives taxis.,single\n",
      "The drivers transported passengers.,multiple\n",
      "Bessie teaches art.,single\n",
      "The artists instructed students.,multiple\n",
      "Willis plays guitar.,single\n",
      "The guitarists performed songs.,multiple\n",
      "Nellie writes stories.,single\n",
      "The writers published books.,multiple\n",
      "Archie delivers mail.,single\n",
      "The carriers sorted letters.,multiple\n",
      "Sylvia paints murals.,single\n",
      "The painters created artwork.,multiple\n",
      "Melvin fixes roofs.,single\n",
      "The roofers completed repairs.,multiple\n"
     ]
    }
   ],
   "source": [
    "print(response)"
   ]
  },
  {
   "cell_type": "code",
   "execution_count": 43,
   "metadata": {},
   "outputs": [],
   "source": [
    "from src.dataset_manager import DatasetLoader, ContextQASample, NUM_QA_PER_SAMPLE, YES_TOKEN, NO_TOKEN\n",
    "import os\n",
    "from src.utils import env_utils\n",
    "import json\n",
    "import random\n",
    "from datasets import load_dataset\n",
    "import pandas as pd\n",
    "\n",
    "# from src.dataset_manager import TenseDatasetLoader\n",
    "# from src.dataset_manager import LanguageIDDatasetLoader\n",
    "from src.dataset_manager import SingularPluralDatasetLoader\n",
    "\n",
    "loader = SingularPluralDatasetLoader()\n",
    "ds = loader.load()"
   ]
  },
  {
   "cell_type": "code",
   "execution_count": 44,
   "metadata": {},
   "outputs": [
    {
     "data": {
      "text/plain": [
       "[ContextQASample(context='Andy Garcia is an actor.', questions=['# Is this text discussing more than one individual?', '# Does this statement indicate a plural subject?', '# Is this about more than one person?', '# Is this sentence referring to one individual?', '# Would you say this sentence mentions multiple people?', '# Is the reference here to one individual?', '# Can we interpret this as referring to a single entity?', '# Does this passage concern a single individual?', '# Does this passage concern a single individual?', '# Is the reference here to more than one individual?'], answers=['No', 'No', 'No', 'Yes', 'No', 'Yes', 'Yes', 'Yes', 'Yes', 'No']),\n",
       " ContextQASample(context='Andy and Gabrielle went to a party.', questions=['# Is this about one person?', '# Can we interpret this as referring to a single entity?', '# Is this about one person?', '# Am I correct in saying this is about multiple people?', '# Is this sentence referring to more than one individual?', '# Is the reference here to more than one individual?', '# Is the character described here one person?', '# Am I correct in saying this is about a single person?', '# Is this narrative about multiple subjects?', '# Does this text feature multiple individuals?'], answers=['No', 'No', 'No', 'Yes', 'Yes', 'Yes', 'No', 'No', 'Yes', 'Yes']),\n",
       " ContextQASample(context='The children are playing in the park.', questions=['# Am I correct in saying this is about multiple people?', '# Is this sentence referring to more than one individual?', '# Am I correct in saying this is about multiple people?', '# Does this sentence focus on multiple people?', '# Is this sentence referring to more than one individual?', '# Is this about more than one person?', '# Does this passage concern a single individual?', '# Is this about one person?', '# Is the subject of this sentence more than one person?', '# Is this sentence referring to one individual?'], answers=['Yes', 'Yes', 'Yes', 'Yes', 'Yes', 'Yes', 'No', 'No', 'Yes', 'No']),\n",
       " ContextQASample(context='My grandparents are in town.', questions=['# Can we interpret this as referring to multiple entities?', '# Can we interpret this as referring to multiple entities?', '# Does this sentence focus on multiple people?', '# Is this about more than one person?', '# Is this sentence referring to more than one individual?', '# Is the character described here one person?', '# Is this sentence referring to one individual?', '# Is this statement about one entity?', '# Is the reference here to one individual?', '# Is the character described here more than one person?'], answers=['Yes', 'Yes', 'Yes', 'Yes', 'Yes', 'No', 'No', 'No', 'No', 'Yes']),\n",
       " ContextQASample(context='The pen name of Samuel Clemens is Mark Twain.', questions=['# Is this about one person?', '# Is this statement about one entity?', '# Would you say this sentence mentions multiple people?', '# Is the character described here one person?', '# Does this statement indicate a plural subject?', '# Would you say this sentence mentions multiple people?', '# Is the reference here to one individual?', '# Is the character described here one person?', '# Am I correct in saying this is about a single person?', '# Is the character described here one person?'], answers=['Yes', 'Yes', 'No', 'Yes', 'No', 'No', 'Yes', 'Yes', 'Yes', 'Yes'])]"
      ]
     },
     "execution_count": 44,
     "metadata": {},
     "output_type": "execute_result"
    }
   ],
   "source": [
    "ds[:5]"
   ]
  },
  {
   "cell_type": "code",
   "execution_count": 51,
   "metadata": {},
   "outputs": [
    {
     "data": {
      "text/plain": [
       "{'context': 'The carriers completed routes.',\n",
       " 'questions': ['# Does this passage concern a single individual?',\n",
       "  '# Is this statement about one entity?',\n",
       "  '# Does this sentence focus on a single person?',\n",
       "  '# Would you say this sentence mentions multiple people?',\n",
       "  '# Is this narrative about a single subject?',\n",
       "  '# Does this statement indicate a plural subject?',\n",
       "  '# Is this text discussing more than one individual?',\n",
       "  '# Does this text feature multiple individuals?',\n",
       "  '# Does this statement indicate a singular subject?',\n",
       "  '# Is the reference here to one individual?'],\n",
       " 'answers': ['No', 'No', 'No', 'Yes', 'No', 'Yes', 'Yes', 'Yes', 'No', 'No']}"
      ]
     },
     "execution_count": 51,
     "metadata": {},
     "output_type": "execute_result"
    }
   ],
   "source": [
    "batch[2].__dict__"
   ]
  },
  {
   "cell_type": "code",
   "execution_count": 55,
   "metadata": {},
   "outputs": [
    {
     "data": {
      "text/plain": [
       "['geometry_of_truth',\n",
       " 'relations',\n",
       " 'sst2',\n",
       " 'md_gender',\n",
       " 'ag_news',\n",
       " 'ner',\n",
       " 'tense',\n",
       " 'language_identification',\n",
       " 'singular_plural']"
      ]
     },
     "execution_count": 55,
     "metadata": {},
     "output_type": "execute_result"
    }
   ],
   "source": [
    "list(DatasetManager.list_datasets_by_group().keys())"
   ]
  },
  {
   "cell_type": "code",
   "execution_count": null,
   "metadata": {},
   "outputs": [],
   "source": []
  }
 ],
 "metadata": {
  "kernelspec": {
   "display_name": "retrieval",
   "language": "python",
   "name": "python3"
  },
  "language_info": {
   "codemirror_mode": {
    "name": "ipython",
    "version": 3
   },
   "file_extension": ".py",
   "mimetype": "text/x-python",
   "name": "python",
   "nbconvert_exporter": "python",
   "pygments_lexer": "ipython3",
   "version": "3.11.9"
  }
 },
 "nbformat": 4,
 "nbformat_minor": 2
}
