{
 "cells": [
  {
   "cell_type": "code",
   "execution_count": 5,
   "metadata": {},
   "outputs": [
    {
     "name": "stdout",
     "output_type": "stream",
     "text": [
      "The autoreload extension is already loaded. To reload it, use:\n",
      "  %reload_ext autoreload\n"
     ]
    }
   ],
   "source": [
    "%load_ext autoreload\n",
    "%autoreload 2"
   ]
  },
  {
   "cell_type": "code",
   "execution_count": 6,
   "metadata": {},
   "outputs": [
    {
     "name": "stdout",
     "output_type": "stream",
     "text": [
      "2024-10-29 19:38:25 __main__ INFO     torch.__version__='2.5.0+cu124', torch.version.cuda='12.4'\n"
     ]
    }
   ],
   "source": [
    "import time, json\n",
    "import sys\n",
    "sys.path.append(\"../../\")\n",
    "import os\n",
    "import torch\n",
    "import numpy as np\n",
    "from tqdm import tqdm\n",
    "\n",
    "import logging\n",
    "from src.utils import logging_utils\n",
    "from src.utils import env_utils, experiment_utils\n",
    "from src import functional\n",
    "import wandb\n",
    "\n",
    "logger = logging.getLogger(__name__)\n",
    "\n",
    "logging.basicConfig(\n",
    "    level=logging.DEBUG,\n",
    "    format=logging_utils.DEFAULT_FORMAT,\n",
    "    datefmt=logging_utils.DEFAULT_DATEFMT,\n",
    "    stream=sys.stdout,\n",
    ")\n",
    "\n",
    "logger.info(f\"{torch.__version__=}, {torch.version.cuda=}\")"
   ]
  },
  {
   "cell_type": "code",
   "execution_count": 32,
   "metadata": {},
   "outputs": [
    {
     "data": {
      "text/plain": [
       "{'geometry_of_truth': ['sp_en_trans',\n",
       "  'cities',\n",
       "  'neg_cities',\n",
       "  'smaller_than',\n",
       "  'larger_than',\n",
       "  'common_claim_true_false',\n",
       "  'companies_true_false'],\n",
       " 'relations': ['commonsense/word_sentiment',\n",
       "  'commonsense/fruit_outside_color',\n",
       "  'commonsense/task_done_by_person',\n",
       "  'commonsense/work_location',\n",
       "  'commonsense/task_done_by_tool',\n",
       "  'commonsense/substance_phase',\n",
       "  'commonsense/object_superclass',\n",
       "  'factual/country_capital_city',\n",
       "  'factual/person_plays_pro_sport',\n",
       "  'factual/country_language',\n",
       "  'factual/country_largest_city',\n",
       "  'factual/food_from_country',\n",
       "  'factual/landmark_in_country',\n",
       "  'factual/superhero_archnemesis',\n",
       "  'factual/city_in_country',\n",
       "  'factual/superhero_person',\n",
       "  'factual/person_plays_instrument',\n",
       "  'factual/country_currency',\n",
       "  'factual/person_plays_position_in_sport',\n",
       "  'linguistic/word_last_letter',\n",
       "  'linguistic/verb_past_tense',\n",
       "  'linguistic/word_first_letter',\n",
       "  'linguistic/adj_superlative',\n",
       "  'linguistic/adj_comparative',\n",
       "  'linguistic/adj_antonym'],\n",
       " 'sst2': ['sst2'],\n",
       " 'md_gender': ['md_gender'],\n",
       " 'ag_news': ['ag_news'],\n",
       " 'tense': ['tense']}"
      ]
     },
     "execution_count": 32,
     "metadata": {},
     "output_type": "execute_result"
    }
   ],
   "source": [
    "from src.dataset_manager import DatasetManager\n",
    "DatasetManager.list_datasets_by_group()"
   ]
  },
  {
   "cell_type": "code",
   "execution_count": 34,
   "metadata": {},
   "outputs": [
    {
     "data": {
      "text/plain": [
       "[ContextQASample(context='We have completed the marathon race.', questions=['# Can we classify this sentence as being in the future tense?', '# Is this statement in the future tense?', '# Would you say this is written in the past tense?', '# Does this text reflect the future tense?', '# Would you say this is written in the past tense?', '# Does this sentence convey the present tense?', '# Would you say this is written in the present tense?', '# Is the narrative presented in the future tense?', '# Does this sentence use the future tense?', '# Is the verb form in this sentence present?'], answers=['No', 'No', 'No', 'No', 'No', 'Yes', 'Yes', 'No', 'No', 'Yes']),\n",
       " ContextQASample(context='The researchers have been conducting experiments to test their hypothesis.', questions=['# Is this statement in the future tense?', '# Would you say this is written in the past tense?', '# Would you say this is written in the future tense?', '# Would you say this is written in the present tense?', '# Am I correct in saying this is in the future tense?', '# Can we classify this sentence as being in the present tense?', '# Is the action described here in the present tense?', '# Is this statement in the future tense?', '# Can we classify this sentence as being in the present tense?', '# Am I correct in saying this is in the future tense?'], answers=['No', 'No', 'No', 'Yes', 'No', 'Yes', 'Yes', 'No', 'Yes', 'No']),\n",
       " ContextQASample(context='We were watching the sunset at the beach.', questions=['# Does this text reflect the present tense?', '# Is the action described here in the future tense?', '# Can we classify this sentence as being in the present tense?', '# Am I correct in saying this is in the past tense?', '# Would you identify this as an example of the past tense?', '# Is the narrative presented in the past tense?', '# Can we classify this sentence as being in the present tense?', '# Is the action described here in the future tense?', '# Does this sentence convey the past tense?', '# Is the narrative presented in the past tense?'], answers=['No', 'No', 'No', 'Yes', 'Yes', 'Yes', 'No', 'No', 'Yes', 'Yes']),\n",
       " ContextQASample(context='We have explored the deep sea with a submarine.', questions=['# Is the verb form in this sentence present?', '# Would you identify this as an example of the past tense?', '# Does this sentence convey the past tense?', '# Does this sentence convey the present tense?', '# Would you identify this as an example of the present tense?', '# Does this text reflect the past tense?', '# Is this statement in the present tense?', '# Am I correct in saying this is in the present tense?', '# Can we classify this sentence as being in the future tense?', '# Am I correct in saying this is in the present tense?'], answers=['Yes', 'No', 'No', 'Yes', 'Yes', 'No', 'Yes', 'Yes', 'No', 'Yes']),\n",
       " ContextQASample(context='The horse galloped freely in the meadow.', questions=['# Does this text reflect the past tense?', '# Would you say this is written in the future tense?', '# Is the action described here in the present tense?', '# Would you say this is written in the past tense?', '# Does this sentence use the past tense?', '# Is the narrative presented in the future tense?', '# Is this statement in the present tense?', '# Does this sentence convey the past tense?', '# Does this sentence use the past tense?', '# Does this sentence convey the past tense?'], answers=['Yes', 'No', 'No', 'Yes', 'Yes', 'No', 'No', 'Yes', 'Yes', 'Yes'])]"
      ]
     },
     "execution_count": 34,
     "metadata": {},
     "output_type": "execute_result"
    }
   ],
   "source": [
    "dataloader = DatasetManager.from_named_datasets(\n",
    "    # [(\"geometry_of_truth\", \"cities\")],\n",
    "    # [(\"sst2\", \"sst2\")],\n",
    "    # [(\"relations\", 'factual/country_capital_city')],\n",
    "    [(\"tense\", \"tense\")],\n",
    "    batch_size=5\n",
    ")\n",
    "batch = next(iter(dataloader))\n",
    "batch"
   ]
  },
  {
   "cell_type": "code",
   "execution_count": 9,
   "metadata": {},
   "outputs": [
    {
     "data": {
      "text/html": [
       "<div>\n",
       "<style scoped>\n",
       "    .dataframe tbody tr th:only-of-type {\n",
       "        vertical-align: middle;\n",
       "    }\n",
       "\n",
       "    .dataframe tbody tr th {\n",
       "        vertical-align: top;\n",
       "    }\n",
       "\n",
       "    .dataframe thead th {\n",
       "        text-align: right;\n",
       "    }\n",
       "</style>\n",
       "<table border=\"1\" class=\"dataframe\">\n",
       "  <thead>\n",
       "    <tr style=\"text-align: right;\">\n",
       "      <th></th>\n",
       "      <th>sentence</th>\n",
       "      <th>tense</th>\n",
       "    </tr>\n",
       "  </thead>\n",
       "  <tbody>\n",
       "    <tr>\n",
       "      <th>0</th>\n",
       "      <td>I am eating breakfast</td>\n",
       "      <td>present</td>\n",
       "    </tr>\n",
       "    <tr>\n",
       "      <th>1</th>\n",
       "      <td>She will go to the park</td>\n",
       "      <td>future</td>\n",
       "    </tr>\n",
       "    <tr>\n",
       "      <th>2</th>\n",
       "      <td>They played soccer yesterday</td>\n",
       "      <td>past</td>\n",
       "    </tr>\n",
       "    <tr>\n",
       "      <th>3</th>\n",
       "      <td>I will be going to the concert</td>\n",
       "      <td>future</td>\n",
       "    </tr>\n",
       "    <tr>\n",
       "      <th>4</th>\n",
       "      <td>She is eating lunch now</td>\n",
       "      <td>present</td>\n",
       "    </tr>\n",
       "  </tbody>\n",
       "</table>\n",
       "</div>"
      ],
      "text/plain": [
       "                                          sentence    tense\n",
       "0   I am eating breakfast                           present\n",
       "1   She will go to the park                          future\n",
       "2  They played soccer yesterday                        past\n",
       "3   I will be going to the concert                   future\n",
       "4   She is eating lunch now                         present"
      ]
     },
     "execution_count": 9,
     "metadata": {},
     "output_type": "execute_result"
    }
   ],
   "source": [
    "import pandas as pd\n",
    "root = os.path.join(env_utils.DEFAULT_DATA_DIR, \"tense\")\n",
    "df = pd.read_csv(os.path.join(root, \"tense.csv\"), encoding='ISO-8859-1')\n",
    "df.head()"
   ]
  },
  {
   "cell_type": "code",
   "execution_count": 10,
   "metadata": {},
   "outputs": [
    {
     "data": {
      "text/plain": [
       "[('I am eating breakfast', 'present'),\n",
       " ('She will go to the park', 'future'),\n",
       " ('They played soccer yesterday', 'past'),\n",
       " ('I will be going to the concert', 'future'),\n",
       " ('She is eating lunch now', 'present')]"
      ]
     },
     "execution_count": 10,
     "metadata": {},
     "output_type": "execute_result"
    }
   ],
   "source": [
    "classes = [\"present\", \"past\", \"future\"]\n",
    "def trim_label_to_class(label):\n",
    "    for cls in classes:\n",
    "        if cls in label.strip().lower():\n",
    "            return cls\n",
    "    assert False, f\"Could not find class in label: {label}\"\n",
    "\n",
    "ds = []\n",
    "for idx, row in df.iterrows():\n",
    "    ds.append((row[\"sentence\"].strip(), trim_label_to_class(row[\"tense\"])))\n",
    "ds[:5]"
   ]
  },
  {
   "cell_type": "code",
   "execution_count": 11,
   "metadata": {},
   "outputs": [
    {
     "data": {
      "text/plain": [
       "[('We have gone on a road trip to a national park.', 'present'),\n",
       " ('I have been waiting for the train.', 'present'),\n",
       " ('The rain brought much-needed relief to the drought.', 'past'),\n",
       " ('We explored a cave on our adventure.', 'past'),\n",
       " ('She performed an impressive dance routine at the competition.', 'past')]"
      ]
     },
     "execution_count": 11,
     "metadata": {},
     "output_type": "execute_result"
    }
   ],
   "source": [
    "import random\n",
    "\n",
    "pos_root = os.path.join(env_utils.DEFAULT_DATA_DIR, \"tense/tense_wise_sentence\")\n",
    "pos_ds = []\n",
    "\n",
    "for label_csv in os.listdir(pos_root):\n",
    "    label = trim_label_to_class(label_csv)\n",
    "    with open(os.path.join(pos_root, label_csv), \"r\") as f:\n",
    "        for line in f:\n",
    "            pos_ds.append((line.strip(), label))\n",
    "\n",
    "random.shuffle(pos_ds)\n",
    "pos_ds[:5]"
   ]
  },
  {
   "cell_type": "code",
   "execution_count": 12,
   "metadata": {},
   "outputs": [
    {
     "name": "stdout",
     "output_type": "stream",
     "text": [
      "6748\n"
     ]
    }
   ],
   "source": [
    "full_ds = list(set(ds + pos_ds))\n",
    "print(len(full_ds))\n",
    "\n",
    "ds_processed = []\n",
    "for sentence, label in full_ds:\n",
    "    ds_processed.append({\n",
    "        \"sentence\": sentence.replace(\"\\\"\", \"\"),\n",
    "        \"label\": label\n",
    "    })\n",
    "\n",
    "random.shuffle(ds_processed)\n",
    "\n",
    "with open(os.path.join(root, \"tense_processed.json\"), \"w\") as f:\n",
    "    json.dump(ds_processed, f)"
   ]
  },
  {
   "cell_type": "code",
   "execution_count": 30,
   "metadata": {},
   "outputs": [],
   "source": [
    "from src.dataset_manager import DatasetLoader, ContextQASample, NUM_QA_PER_SAMPLE, YES_TOKEN, NO_TOKEN\n",
    "import os\n",
    "from src.utils import env_utils\n",
    "import json\n",
    "import random\n",
    "from src.dataset_manager import TenseDatasetLoader\n",
    "    \n",
    "tense_loader = TenseDatasetLoader()\n",
    "tense_ds = tense_loader.load()"
   ]
  },
  {
   "cell_type": "code",
   "execution_count": 31,
   "metadata": {},
   "outputs": [
    {
     "data": {
      "text/plain": [
       "{'context': 'By the end of the decade, renewable energy will be accessible to everyone.',\n",
       " 'questions': ['# Is the action described here in the past tense?',\n",
       "  '# Is the narrative presented in the future tense?',\n",
       "  '# Is the narrative presented in the future tense?',\n",
       "  '# Does this sentence use the future tense?',\n",
       "  '# Would you identify this as an example of the future tense?',\n",
       "  '# Am I correct in saying this is in the past tense?',\n",
       "  '# Am I correct in saying this is in the present tense?',\n",
       "  '# Would you say this is written in the present tense?',\n",
       "  '# Is the action described here in the future tense?',\n",
       "  '# Would you say this is written in the past tense?'],\n",
       " 'answers': ['No', 'Yes', 'Yes', 'Yes', 'Yes', 'No', 'No', 'No', 'Yes', 'No']}"
      ]
     },
     "execution_count": 31,
     "metadata": {},
     "output_type": "execute_result"
    }
   ],
   "source": [
    "tense_ds[2].__dict__"
   ]
  },
  {
   "cell_type": "code",
   "execution_count": null,
   "metadata": {},
   "outputs": [],
   "source": []
  }
 ],
 "metadata": {
  "kernelspec": {
   "display_name": "retrieval",
   "language": "python",
   "name": "python3"
  },
  "language_info": {
   "codemirror_mode": {
    "name": "ipython",
    "version": 3
   },
   "file_extension": ".py",
   "mimetype": "text/x-python",
   "name": "python",
   "nbconvert_exporter": "python",
   "pygments_lexer": "ipython3",
   "version": "3.11.9"
  }
 },
 "nbformat": 4,
 "nbformat_minor": 2
}
