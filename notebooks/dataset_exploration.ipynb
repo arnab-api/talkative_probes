{
 "cells": [
  {
   "cell_type": "code",
   "execution_count": 6,
   "metadata": {},
   "outputs": [],
   "source": [
    "from datasets import load_dataset\n",
    "gender_bias_dataset = load_dataset(\"facebook/md_gender_bias\", name=\"funpedia\")"
   ]
  },
  {
   "cell_type": "code",
   "execution_count": 7,
   "metadata": {},
   "outputs": [
    {
     "data": {
      "text/plain": [
       "{'text': ['Max Landis is a comic book writer who wrote Chronicle, American Ultra, and Victor Frankestein.',\n",
       "  'Félix stevens is a retired cuban sprinter who competed in the 80s.',\n",
       "  'Arthur Engelbert is a professor at the University of Applied Sciences',\n",
       "  'Danielle Frenkel is a high jumper born in Israel',\n",
       "  \"Ernie O'Malley served in the Irish republican Army during the Irish war of Independence\",\n",
       "  'Richard Andrew John Townsley is a first-class cricketer born in England',\n",
       "  'Gram Wright was a former Austrialian rules footballer and played for the Australian Football League.',\n",
       "  'The Madonna and Child with the Infant John the Baptist is an incredible painting, spectacular to behold.  It was painted by Correggio in 1513-1514.',\n",
       "  'Angel Lo Valvo was a race-car driver born in Argentine',\n",
       "  'Attila Tassi is a racing driver born in Hungary'],\n",
       " 'title': ['Max Landis',\n",
       "  'Félix Stevens',\n",
       "  'Arthur Engelbert',\n",
       "  'Danielle Frenkel',\n",
       "  \"Ernie O'Malley\",\n",
       "  'Andrew Townsley',\n",
       "  'Graham Wright',\n",
       "  'Madonna and Child with the Infant John the Baptist (Correggio, Chicago)',\n",
       "  'Ángel Lo Valvo',\n",
       "  'Attila Tassi'],\n",
       " 'persona': ['Humorous',\n",
       "  'Confident',\n",
       "  'Creative',\n",
       "  'Brilliant',\n",
       "  'Gentle',\n",
       "  'Playful',\n",
       "  'Gentle',\n",
       "  'Charming',\n",
       "  'Captivating',\n",
       "  'Charming'],\n",
       " 'gender': [2, 2, 2, 1, 2, 2, 2, 2, 2, 2]}"
      ]
     },
     "execution_count": 7,
     "metadata": {},
     "output_type": "execute_result"
    }
   ],
   "source": [
    "gender_bias_dataset[\"train\"][:10]"
   ]
  },
  {
   "cell_type": "code",
   "execution_count": 8,
   "metadata": {},
   "outputs": [
    {
     "name": "stdout",
     "output_type": "stream",
     "text": [
      "23897 2984\n"
     ]
    }
   ],
   "source": [
    "print(len(gender_bias_dataset[\"train\"]), len(gender_bias_dataset[\"validation\"]))"
   ]
  },
  {
   "cell_type": "code",
   "execution_count": 9,
   "metadata": {},
   "outputs": [
    {
     "name": "stdout",
     "output_type": "stream",
     "text": [
      "{0: 1147, 1: 3594, 2: 19156}\n",
      "{0: 147, 1: 435, 2: 2402}\n",
      "{0: 129, 1: 428, 2: 2381}\n"
     ]
    }
   ],
   "source": [
    "for split in (\"train\", \"validation\", \"test\"):\n",
    "    agg = {0:0, 1: 0, 2:0}\n",
    "    for x in gender_bias_dataset[split][\"gender\"]:\n",
    "        agg[x] += 1\n",
    "    print(agg)"
   ]
  },
  {
   "cell_type": "code",
   "execution_count": 10,
   "metadata": {},
   "outputs": [
    {
     "data": {
      "text/plain": [
       "{0: 147, 1: 435, 2: 2402}"
      ]
     },
     "execution_count": 10,
     "metadata": {},
     "output_type": "execute_result"
    }
   ],
   "source": [
    "agg = {0:0, 1: 0, 2:0}\n",
    "for x in gender_bias_dataset[\"validation\"][\"gender\"]:\n",
    "    agg[x] += 1\n",
    "agg"
   ]
  },
  {
   "cell_type": "code",
   "execution_count": 11,
   "metadata": {},
   "outputs": [],
   "source": [
    "gender_bias_dataset = load_dataset(\"facebook/md_gender_bias\", name=\"funpedia\")"
   ]
  },
  {
   "cell_type": "code",
   "execution_count": 12,
   "metadata": {},
   "outputs": [],
   "source": [
    "from datasets import load_dataset\n",
    "image_chat_dataset = load_dataset(\"facebook/md_gender_bias\", name=\"image_chat\")"
   ]
  },
  {
   "cell_type": "code",
   "execution_count": 15,
   "metadata": {},
   "outputs": [],
   "source": [
    "d = image_chat_dataset[\"train\"]\n",
    "m, f = 0, 0\n",
    "for text, male, female in zip(d[\"caption\"], d[\"male\"], d[\"female\"]):\n",
    "    if male == female:\n",
    "        continue\n",
    "    if male:\n",
    "        m += 1\n",
    "    if female:\n",
    "        f += 1"
   ]
  },
  {
   "cell_type": "code",
   "execution_count": 16,
   "metadata": {},
   "outputs": [
    {
     "data": {
      "text/plain": [
       "(1820, 712)"
      ]
     },
     "execution_count": 16,
     "metadata": {},
     "output_type": "execute_result"
    }
   ],
   "source": [
    "m, f"
   ]
  }
 ],
 "metadata": {
  "kernelspec": {
   "display_name": "Python 3",
   "language": "python",
   "name": "python3"
  },
  "language_info": {
   "codemirror_mode": {
    "name": "ipython",
    "version": 3
   },
   "file_extension": ".py",
   "mimetype": "text/x-python",
   "name": "python",
   "nbconvert_exporter": "python",
   "pygments_lexer": "ipython3",
   "version": "3.10.15"
  }
 },
 "nbformat": 4,
 "nbformat_minor": 2
}
