{
 "cells": [
  {
   "cell_type": "code",
   "execution_count": 1,
   "metadata": {},
   "outputs": [],
   "source": [
    "%load_ext autoreload\n",
    "%autoreload 2"
   ]
  },
  {
   "cell_type": "code",
   "execution_count": 2,
   "metadata": {},
   "outputs": [
    {
     "name": "stderr",
     "output_type": "stream",
     "text": [
      "/home/local_arnab/miniconda3/envs/retrieval/lib/python3.11/site-packages/tqdm/auto.py:21: TqdmWarning: IProgress not found. Please update jupyter and ipywidgets. See https://ipywidgets.readthedocs.io/en/stable/user_install.html\n",
      "  from .autonotebook import tqdm as notebook_tqdm\n"
     ]
    }
   ],
   "source": [
    "import sys\n",
    "sys.path.append(\"../\")\n",
    "\n",
    "import src.dataset_manager as dataset_manager"
   ]
  },
  {
   "cell_type": "code",
   "execution_count": 3,
   "metadata": {},
   "outputs": [
    {
     "data": {
      "text/plain": [
       "['relations', 'sst2', 'geometry_of_truth']"
      ]
     },
     "execution_count": 3,
     "metadata": {},
     "output_type": "execute_result"
    }
   ],
   "source": [
    "dataset_manager.DatasetManager.list_dataset_groups()"
   ]
  },
  {
   "cell_type": "code",
   "execution_count": 4,
   "metadata": {},
   "outputs": [
    {
     "data": {
      "text/plain": [
       "{'geometry_of_truth': ['sp_en_trans',\n",
       "  'neg_sp_en_trans',\n",
       "  'cities',\n",
       "  'neg_cities',\n",
       "  'smaller_than',\n",
       "  'larger_than',\n",
       "  'common_claim_true_false',\n",
       "  'companies_true_false',\n",
       "  'counterfact_true_false'],\n",
       " 'sst2': ['sst2'],\n",
       " 'relations': ['commonsense/word_sentiment',\n",
       "  'commonsense/fruit_outside_color',\n",
       "  'commonsense/task_done_by_person',\n",
       "  'commonsense/work_location',\n",
       "  'commonsense/task_done_by_tool',\n",
       "  'commonsense/substance_phase',\n",
       "  'commonsense/object_superclass',\n",
       "  'commonsense/fruit_inside_color',\n",
       "  'factual/pokemon_evolutions',\n",
       "  'factual/country_capital_city',\n",
       "  'factual/person_plays_pro_sport',\n",
       "  'factual/star_constellation',\n",
       "  'factual/country_language',\n",
       "  'factual/presidents_birth_year',\n",
       "  'factual/landmark_on_continent',\n",
       "  'factual/country_largest_city',\n",
       "  'factual/company_hq',\n",
       "  'factual/food_from_country',\n",
       "  'factual/landmark_in_country',\n",
       "  'factual/company_ceo',\n",
       "  'factual/superhero_archnemesis',\n",
       "  'factual/city_in_country',\n",
       "  'factual/person_band_lead_singer',\n",
       "  'factual/person_father',\n",
       "  'factual/person_mother',\n",
       "  'factual/superhero_person',\n",
       "  'factual/person_occupation',\n",
       "  'factual/presidents_election_year',\n",
       "  'factual/person_plays_instrument',\n",
       "  'factual/country_currency',\n",
       "  'factual/product_by_company',\n",
       "  'factual/person_university',\n",
       "  'factual/person_plays_position_in_sport',\n",
       "  'factual/person_native_language',\n",
       "  'linguistic/word_last_letter',\n",
       "  'linguistic/verb_past_tense',\n",
       "  'linguistic/word_first_letter',\n",
       "  'linguistic/adj_superlative',\n",
       "  'linguistic/adj_comparative',\n",
       "  'linguistic/adj_antonym']}"
      ]
     },
     "execution_count": 4,
     "metadata": {},
     "output_type": "execute_result"
    }
   ],
   "source": [
    "dataset_manager.DatasetManager.list_datasets_by_group()"
   ]
  },
  {
   "cell_type": "code",
   "execution_count": 5,
   "metadata": {},
   "outputs": [],
   "source": [
    "custom_dataset = dataset_manager.DatasetManager.from_dataset_group(\"geometry_of_truth\", batch_size=2)"
   ]
  },
  {
   "cell_type": "code",
   "execution_count": 6,
   "metadata": {},
   "outputs": [
    {
     "data": {
      "text/plain": [
       "22637"
      ]
     },
     "execution_count": 6,
     "metadata": {},
     "output_type": "execute_result"
    }
   ],
   "source": [
    "len(custom_dataset)"
   ]
  },
  {
   "cell_type": "code",
   "execution_count": 7,
   "metadata": {},
   "outputs": [
    {
     "name": "stdout",
     "output_type": "stream",
     "text": [
      "[TransformedExample(feature='Anthony Plog plays the trumpet. Is this true?', label='Yes', context='Anthony Plog plays the trumpet.', query='Is this {}?', answer_prompt='', raw=RawExample(feature='Anthony Plog plays the trumpet.', label='1')), TransformedExample(feature='Kiev Peninsula belongs to the continent of Antarctica. This statement is true. Do you agree?', label='Yes', context='Kiev Peninsula belongs to the continent of Antarctica.', query='This statement is {}. Do you agree?', answer_prompt='', raw=RawExample(feature='Kiev Peninsula belongs to the continent of Antarctica.', label='1'))]\n"
     ]
    }
   ],
   "source": [
    "for batch in custom_dataset:\n",
    "    print(batch)\n",
    "    break"
   ]
  },
  {
   "cell_type": "code",
   "execution_count": 8,
   "metadata": {},
   "outputs": [],
   "source": [
    "train, test = custom_dataset.split([0.7, 0.3])"
   ]
  },
  {
   "cell_type": "code",
   "execution_count": 9,
   "metadata": {},
   "outputs": [
    {
     "name": "stdout",
     "output_type": "stream",
     "text": [
      "15846 6791\n"
     ]
    }
   ],
   "source": [
    "print(len(train), len(test))"
   ]
  },
  {
   "cell_type": "code",
   "execution_count": 10,
   "metadata": {},
   "outputs": [],
   "source": [
    "custom_dataset = dataset_manager.DatasetManager.from_named_datasets([\"cities\", \"neg_cities\"], batch_size=2)"
   ]
  },
  {
   "cell_type": "code",
   "execution_count": 11,
   "metadata": {},
   "outputs": [
    {
     "name": "stdout",
     "output_type": "stream",
     "text": [
      "[TransformedExample(feature='The city of Ipoh is in Malaysia. Is this statement true?', label='Yes', context='The city of Ipoh is in Malaysia.', query='Is this statement {}?', answer_prompt='', raw=RawExample(feature='The city of Ipoh is in Malaysia.', label='1')), TransformedExample(feature='The city of Juiz de Fora is not in Brazil. Is this statement true?', label='No', context='The city of Juiz de Fora is not in Brazil.', query='Is this statement {}?', answer_prompt='', raw=RawExample(feature='The city of Juiz de Fora is not in Brazil.', label='0'))]\n"
     ]
    }
   ],
   "source": [
    "for batch in custom_dataset:\n",
    "    print(batch)\n",
    "    break"
   ]
  },
  {
   "cell_type": "code",
   "execution_count": 12,
   "metadata": {},
   "outputs": [],
   "source": [
    "relation_dataset = dataset_manager.DatasetManager.from_dataset_group(\n",
    "    \"relations\",\n",
    "    batch_size=4\n",
    ")"
   ]
  },
  {
   "cell_type": "code",
   "execution_count": 13,
   "metadata": {},
   "outputs": [],
   "source": [
    "sst2_dataset = dataset_manager.DatasetManager.from_dataset_group(\"sst2\")"
   ]
  },
  {
   "cell_type": "code",
   "execution_count": 14,
   "metadata": {},
   "outputs": [
    {
     "data": {
      "text/plain": [
       "70042"
      ]
     },
     "execution_count": 14,
     "metadata": {},
     "output_type": "execute_result"
    }
   ],
   "source": [
    "len(sst2_dataset)"
   ]
  },
  {
   "cell_type": "code",
   "execution_count": null,
   "metadata": {},
   "outputs": [],
   "source": []
  },
  {
   "cell_type": "code",
   "execution_count": 16,
   "metadata": {},
   "outputs": [
    {
     "ename": "TypeError",
     "evalue": "GeometryOfTruthDatasetLoader.__init__() missing 1 required positional argument: 'paraphrases'",
     "output_type": "error",
     "traceback": [
      "\u001b[0;31m---------------------------------------------------------------------------\u001b[0m",
      "\u001b[0;31mTypeError\u001b[0m                                 Traceback (most recent call last)",
      "Cell \u001b[0;32mIn[16], line 2\u001b[0m\n\u001b[1;32m      1\u001b[0m \u001b[38;5;28;01mfrom\u001b[39;00m \u001b[38;5;21;01msrc\u001b[39;00m\u001b[38;5;21;01m.\u001b[39;00m\u001b[38;5;21;01mdataset_manager\u001b[39;00m \u001b[38;5;28;01mimport\u001b[39;00m GeometryOfTruthDatasetLoader\n\u001b[0;32m----> 2\u001b[0m cities \u001b[38;5;241m=\u001b[39m \u001b[43mGeometryOfTruthDatasetLoader\u001b[49m\u001b[43m(\u001b[49m\n\u001b[1;32m      3\u001b[0m \u001b[43m    \u001b[49m\u001b[43mgroup\u001b[49m\u001b[38;5;241;43m=\u001b[39;49m\u001b[38;5;124;43m\"\u001b[39;49m\u001b[38;5;124;43mgeometry_of_truth\u001b[39;49m\u001b[38;5;124;43m\"\u001b[39;49m\u001b[43m,\u001b[49m\n\u001b[1;32m      4\u001b[0m \u001b[43m    \u001b[49m\u001b[43mname\u001b[49m\u001b[38;5;241;43m=\u001b[39;49m\u001b[38;5;124;43m\"\u001b[39;49m\u001b[38;5;124;43mcities\u001b[39;49m\u001b[38;5;124;43m\"\u001b[39;49m\n\u001b[1;32m      5\u001b[0m \u001b[43m)\u001b[49m\n",
      "\u001b[0;31mTypeError\u001b[0m: GeometryOfTruthDatasetLoader.__init__() missing 1 required positional argument: 'paraphrases'"
     ]
    }
   ],
   "source": [
    "from src.dataset_manager import GeometryOfTruthDatasetLoader\n",
    "cities = GeometryOfTruthDatasetLoader(\n",
    "    group=\"geometry_of_truth\",\n",
    "    name=\"cities\"\n",
    ")"
   ]
  },
  {
   "cell_type": "code",
   "execution_count": null,
   "metadata": {},
   "outputs": [],
   "source": []
  },
  {
   "cell_type": "code",
   "execution_count": null,
   "metadata": {},
   "outputs": [],
   "source": []
  }
 ],
 "metadata": {
  "kernelspec": {
   "display_name": "Python 3",
   "language": "python",
   "name": "python3"
  },
  "language_info": {
   "codemirror_mode": {
    "name": "ipython",
    "version": 3
   },
   "file_extension": ".py",
   "mimetype": "text/x-python",
   "name": "python",
   "nbconvert_exporter": "python",
   "pygments_lexer": "ipython3",
   "version": "3.11.9"
  }
 },
 "nbformat": 4,
 "nbformat_minor": 2
}
