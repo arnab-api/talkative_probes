{
 "cells": [
  {
   "cell_type": "code",
   "execution_count": 21,
   "metadata": {},
   "outputs": [
    {
     "name": "stdout",
     "output_type": "stream",
     "text": [
      "The autoreload extension is already loaded. To reload it, use:\n",
      "  %reload_ext autoreload\n"
     ]
    }
   ],
   "source": [
    "%load_ext autoreload\n",
    "%autoreload 2"
   ]
  },
  {
   "cell_type": "code",
   "execution_count": 22,
   "metadata": {},
   "outputs": [],
   "source": [
    "import sys\n",
    "sys.path.append(\"../\")\n",
    "\n",
    "import src.dataset_manager as dataset_manager"
   ]
  },
  {
   "cell_type": "code",
   "execution_count": 23,
   "metadata": {},
   "outputs": [
    {
     "data": {
      "text/plain": [
       "['relations', 'sst2', 'geometry_of_truth']"
      ]
     },
     "execution_count": 23,
     "metadata": {},
     "output_type": "execute_result"
    }
   ],
   "source": [
    "dataset_manager.DatasetManager.list_dataset_groups()"
   ]
  },
  {
   "cell_type": "code",
   "execution_count": 24,
   "metadata": {},
   "outputs": [
    {
     "data": {
      "text/plain": [
       "{'geometry_of_truth': ['sp_en_trans',\n",
       "  'neg_sp_en_trans',\n",
       "  'cities',\n",
       "  'neg_cities',\n",
       "  'smaller_than',\n",
       "  'larger_than',\n",
       "  'common_claim_true_false',\n",
       "  'companies_true_false',\n",
       "  'counterfact_true_false'],\n",
       " 'sst2': ['sst2'],\n",
       " 'relations': ['factual/person_plays_instrument',\n",
       "  'factual/person_plays_pro_sport',\n",
       "  'factual/presidents_birth_year',\n",
       "  'factual/star_constellation',\n",
       "  'factual/person_native_language',\n",
       "  'factual/person_father',\n",
       "  'factual/superhero_person',\n",
       "  'factual/presidents_election_year',\n",
       "  'factual/person_university',\n",
       "  'factual/person_band_lead_singer',\n",
       "  'factual/product_by_company',\n",
       "  'factual/country_largest_city',\n",
       "  'factual/pokemon_evolutions',\n",
       "  'factual/food_from_country',\n",
       "  'factual/company_ceo',\n",
       "  'factual/landmark_on_continent',\n",
       "  'factual/person_plays_position_in_sport',\n",
       "  'factual/country_capital_city',\n",
       "  'factual/landmark_in_country',\n",
       "  'factual/person_mother',\n",
       "  'factual/person_occupation',\n",
       "  'factual/country_language',\n",
       "  'factual/country_currency',\n",
       "  'factual/superhero_archnemesis',\n",
       "  'factual/company_hq',\n",
       "  'factual/city_in_country',\n",
       "  'commonsense/task_done_by_tool',\n",
       "  'commonsense/object_superclass',\n",
       "  'commonsense/fruit_outside_color',\n",
       "  'commonsense/work_location',\n",
       "  'commonsense/substance_phase',\n",
       "  'commonsense/task_done_by_person',\n",
       "  'commonsense/word_sentiment',\n",
       "  'commonsense/fruit_inside_color',\n",
       "  'linguistic/adj_antonym',\n",
       "  'linguistic/word_first_letter',\n",
       "  'linguistic/word_last_letter',\n",
       "  'linguistic/adj_comparative',\n",
       "  'linguistic/adj_superlative',\n",
       "  'linguistic/verb_past_tense']}"
      ]
     },
     "execution_count": 24,
     "metadata": {},
     "output_type": "execute_result"
    }
   ],
   "source": [
    "dataset_manager.DatasetManager.list_datasets_by_group()"
   ]
  },
  {
   "cell_type": "code",
   "execution_count": 25,
   "metadata": {},
   "outputs": [],
   "source": [
    "custom_dataset = dataset_manager.DatasetManager.from_dataset_group(\"geometry_of_truth\", batch_size=2)"
   ]
  },
  {
   "cell_type": "code",
   "execution_count": 26,
   "metadata": {},
   "outputs": [
    {
     "data": {
      "text/plain": [
       "22637"
      ]
     },
     "execution_count": 26,
     "metadata": {},
     "output_type": "execute_result"
    }
   ],
   "source": [
    "len(custom_dataset)"
   ]
  },
  {
   "cell_type": "code",
   "execution_count": 27,
   "metadata": {},
   "outputs": [
    {
     "name": "stdout",
     "output_type": "stream",
     "text": [
      "[TransformedExample(feature='Juhayman al-Otaybi passed away at Mecca. Is this statement true?', label='Yes', context='Juhayman al-Otaybi passed away at Mecca.', query='Is this statement {}?', answer_prompt='', raw=RawExample(feature='Juhayman al-Otaybi passed away at Mecca.', label='1')), TransformedExample(feature='KAT-TUN was founded in Calgary. Is this true?', label='No', context='KAT-TUN was founded in Calgary.', query='Is this {}?', answer_prompt='', raw=RawExample(feature='KAT-TUN was founded in Calgary.', label='0'))]\n"
     ]
    }
   ],
   "source": [
    "for batch in custom_dataset:\n",
    "    print(batch)\n",
    "    break"
   ]
  },
  {
   "cell_type": "code",
   "execution_count": 28,
   "metadata": {},
   "outputs": [],
   "source": [
    "train, test = custom_dataset.split([0.7, 0.3])"
   ]
  },
  {
   "cell_type": "code",
   "execution_count": 29,
   "metadata": {},
   "outputs": [
    {
     "name": "stdout",
     "output_type": "stream",
     "text": [
      "15846 6791\n"
     ]
    }
   ],
   "source": [
    "print(len(train), len(test))"
   ]
  },
  {
   "cell_type": "code",
   "execution_count": 30,
   "metadata": {},
   "outputs": [],
   "source": [
    "custom_dataset = dataset_manager.DatasetManager.from_named_datasets([\"cities\", \"neg_cities\"], batch_size=2)"
   ]
  },
  {
   "cell_type": "code",
   "execution_count": 31,
   "metadata": {},
   "outputs": [
    {
     "name": "stdout",
     "output_type": "stream",
     "text": [
      "[TransformedExample(feature='The city of Guiyang is in China. This statement is true. Do you agree?', label='Yes', context='The city of Guiyang is in China.', query='This statement is {}. Do you agree?', answer_prompt='', raw=RawExample(feature='The city of Guiyang is in China.', label='1')), TransformedExample(feature='The city of Mudanjiang is not in China. This statement is true. Do you agree?', label='No', context='The city of Mudanjiang is not in China.', query='This statement is {}. Do you agree?', answer_prompt='', raw=RawExample(feature='The city of Mudanjiang is not in China.', label='0'))]\n"
     ]
    }
   ],
   "source": [
    "for batch in custom_dataset:\n",
    "    print(batch)\n",
    "    break"
   ]
  },
  {
   "cell_type": "code",
   "execution_count": 32,
   "metadata": {},
   "outputs": [],
   "source": [
    "relation_dataset = dataset_manager.DatasetManager.from_dataset_group(\n",
    "    \"relations\",\n",
    "    batch_size=4\n",
    ")"
   ]
  },
  {
   "cell_type": "code",
   "execution_count": 34,
   "metadata": {},
   "outputs": [],
   "source": [
    "sst2_dataset = dataset_manager.DatasetManager.from_dataset_group(\"sst2\")"
   ]
  },
  {
   "cell_type": "code",
   "execution_count": 35,
   "metadata": {},
   "outputs": [
    {
     "data": {
      "text/plain": [
       "70042"
      ]
     },
     "execution_count": 35,
     "metadata": {},
     "output_type": "execute_result"
    }
   ],
   "source": [
    "len(sst2_dataset)"
   ]
  }
 ],
 "metadata": {
  "kernelspec": {
   "display_name": "Python 3",
   "language": "python",
   "name": "python3"
  },
  "language_info": {
   "codemirror_mode": {
    "name": "ipython",
    "version": 3
   },
   "file_extension": ".py",
   "mimetype": "text/x-python",
   "name": "python",
   "nbconvert_exporter": "python",
   "pygments_lexer": "ipython3",
   "version": "3.10.15"
  }
 },
 "nbformat": 4,
 "nbformat_minor": 2
}
