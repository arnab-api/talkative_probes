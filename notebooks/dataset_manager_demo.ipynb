{
 "cells": [
  {
   "cell_type": "code",
   "execution_count": 1,
   "metadata": {},
   "outputs": [],
   "source": [
    "%load_ext autoreload\n",
    "%autoreload 2"
   ]
  },
  {
   "cell_type": "code",
   "execution_count": 2,
   "metadata": {},
   "outputs": [
    {
     "name": "stdout",
     "output_type": "stream",
     "text": [
      "The autoreload extension is already loaded. To reload it, use:\n",
      "  %reload_ext autoreload\n"
     ]
    }
   ],
   "source": [
    "%load_ext autoreload\n",
    "%autoreload 2"
   ]
  },
  {
   "cell_type": "code",
   "execution_count": 32,
   "metadata": {},
   "outputs": [
    {
     "name": "stdout",
     "output_type": "stream",
     "text": [
      "2024-10-27 19:56:42 __main__ INFO     torch.__version__='2.5.0+cu124', torch.version.cuda='12.4'\n"
     ]
    }
   ],
   "source": [
    "import sys\n",
    "sys.path.append(\"../\")\n",
    "import os\n",
    "import torch\n",
    "import numpy as np\n",
    "from tqdm import tqdm\n",
    "\n",
    "import logging\n",
    "from src.utils import logging_utils\n",
    "from src.utils import env_utils, experiment_utils\n",
    "from src import functional\n",
    "import wandb\n",
    "\n",
    "logger = logging.getLogger(__name__)\n",
    "\n",
    "logging.basicConfig(\n",
    "    level=logging.DEBUG,\n",
    "    format=logging_utils.DEFAULT_FORMAT,\n",
    "    datefmt=logging_utils.DEFAULT_DATEFMT,\n",
    "    stream=sys.stdout,\n",
    ")\n",
    "\n",
    "logger.info(f\"{torch.__version__=}, {torch.version.cuda=}\")\n",
    "\n",
    "import src.dataset_manager as dataset_manager"
   ]
  },
  {
   "cell_type": "code",
   "execution_count": 56,
   "metadata": {},
   "outputs": [
    {
     "data": {
      "text/plain": [
       "['relations', 'sst2', 'geometry_of_truth']"
      ]
     },
     "execution_count": 56,
     "metadata": {},
     "output_type": "execute_result"
    }
   ],
   "source": [
    "dataset_manager.DatasetManager.list_dataset_groups()"
   ]
  },
  {
   "cell_type": "code",
   "execution_count": 57,
   "metadata": {},
   "outputs": [
    {
     "data": {
      "text/plain": [
       "{'geometry_of_truth': ['sp_en_trans',\n",
       "  'neg_sp_en_trans',\n",
       "  'cities',\n",
       "  'neg_cities',\n",
       "  'smaller_than',\n",
       "  'larger_than',\n",
       "  'common_claim_true_false',\n",
       "  'companies_true_false',\n",
       "  'counterfact_true_false'],\n",
       " 'sst2': ['sst2'],\n",
       " 'relations': ['commonsense/word_sentiment',\n",
       "  'commonsense/fruit_outside_color',\n",
       "  'commonsense/task_done_by_person',\n",
       "  'commonsense/work_location',\n",
       "  'commonsense/task_done_by_tool',\n",
       "  'commonsense/substance_phase',\n",
       "  'commonsense/object_superclass',\n",
       "  'commonsense/fruit_inside_color',\n",
       "  'factual/pokemon_evolutions',\n",
       "  'factual/country_capital_city',\n",
       "  'factual/person_plays_pro_sport',\n",
       "  'factual/star_constellation',\n",
       "  'factual/country_language',\n",
       "  'factual/presidents_birth_year',\n",
       "  'factual/landmark_on_continent',\n",
       "  'factual/country_largest_city',\n",
       "  'factual/company_hq',\n",
       "  'factual/food_from_country',\n",
       "  'factual/landmark_in_country',\n",
       "  'factual/company_ceo',\n",
       "  'factual/superhero_archnemesis',\n",
       "  'factual/city_in_country',\n",
       "  'factual/person_band_lead_singer',\n",
       "  'factual/person_father',\n",
       "  'factual/person_mother',\n",
       "  'factual/superhero_person',\n",
       "  'factual/person_occupation',\n",
       "  'factual/presidents_election_year',\n",
       "  'factual/person_plays_instrument',\n",
       "  'factual/country_currency',\n",
       "  'factual/product_by_company',\n",
       "  'factual/person_university',\n",
       "  'factual/person_plays_position_in_sport',\n",
       "  'factual/person_native_language',\n",
       "  'linguistic/word_last_letter',\n",
       "  'linguistic/verb_past_tense',\n",
       "  'linguistic/word_first_letter',\n",
       "  'linguistic/adj_superlative',\n",
       "  'linguistic/adj_comparative',\n",
       "  'linguistic/adj_antonym']}"
      ]
     },
     "execution_count": 57,
     "metadata": {},
     "output_type": "execute_result"
    }
   ],
   "source": [
    "dataset_manager.DatasetManager.list_datasets_by_group()"
   ]
  },
  {
   "cell_type": "code",
   "execution_count": 58,
   "metadata": {},
   "outputs": [],
   "source": [
    "custom_dataset = dataset_manager.DatasetManager.from_dataset_group(\n",
    "    \"geometry_of_truth\",\n",
    "    # \"sst2\",\n",
    "    batch_size=4\n",
    ")"
   ]
  },
  {
   "cell_type": "code",
   "execution_count": 59,
   "metadata": {},
   "outputs": [
    {
     "data": {
      "text/plain": [
       "11319"
      ]
     },
     "execution_count": 59,
     "metadata": {},
     "output_type": "execute_result"
    }
   ],
   "source": [
    "len(custom_dataset)"
   ]
  },
  {
   "cell_type": "code",
   "execution_count": 60,
   "metadata": {},
   "outputs": [
    {
     "data": {
      "text/plain": [
       "[RawExample(feature='Eighty-eight is smaller than eighty-three.', label='0'),\n",
       " RawExample(feature='The headquarters of Bloc populaire is in Vancouver.', label='0'),\n",
       " RawExample(feature='The city of Mbuji-Mayi is in the Democratic Republic of the Congo.', label='1'),\n",
       " RawExample(feature='Craig Erickson plays as quarterback.', label='1')]"
      ]
     },
     "execution_count": 60,
     "metadata": {},
     "output_type": "execute_result"
    }
   ],
   "source": [
    "batch = next(iter(custom_dataset))\n",
    "batch"
   ]
  },
  {
   "cell_type": "code",
   "execution_count": 61,
   "metadata": {},
   "outputs": [],
   "source": [
    "train, test = custom_dataset.split([0.7, 0.3])"
   ]
  },
  {
   "cell_type": "code",
   "execution_count": 62,
   "metadata": {},
   "outputs": [
    {
     "name": "stdout",
     "output_type": "stream",
     "text": [
      "7923 3396\n"
     ]
    }
   ],
   "source": [
    "print(len(train), len(test))"
   ]
  },
  {
   "cell_type": "code",
   "execution_count": 63,
   "metadata": {},
   "outputs": [
    {
     "data": {
      "text/plain": [
       "[RawExample(feature='Eighty-eight is smaller than eighty-three.', label='0'),\n",
       " RawExample(feature='The headquarters of Bloc populaire is in Vancouver.', label='0'),\n",
       " RawExample(feature='The city of Mbuji-Mayi is in the Democratic Republic of the Congo.', label='1'),\n",
       " RawExample(feature='Craig Erickson plays as quarterback.', label='1'),\n",
       " RawExample(feature='Lamplugh Island belongs to the continent of Antarctica.', label='1'),\n",
       " RawExample(feature='100 Questions was originally aired on CBS.', label='0'),\n",
       " RawExample(feature='Cats do not only like litter boxes, but also like getting in cardboard boxes or utility tubs.', label='1'),\n",
       " RawExample(feature='Joel Palmer lost their life at Dayton.', label='1'),\n",
       " RawExample(feature='In Haryana, they understand Hindi.', label='1'),\n",
       " RawExample(feature='The original language of Die Tageszeitung is German.', label='1')]"
      ]
     },
     "execution_count": 63,
     "metadata": {},
     "output_type": "execute_result"
    }
   ],
   "source": [
    "custom_dataset.examples[:10]"
   ]
  },
  {
   "cell_type": "code",
   "execution_count": 77,
   "metadata": {},
   "outputs": [],
   "source": [
    "from src.dataset_manager import DatasetLoader, RawExample, RelationDatasetLoader\n",
    "from src.utils.env_utils import DEFAULT_DATA_DIR\n",
    "import os, json\n",
    "from pathlib import Path\n",
    "import random\n",
    "    \n",
    "loader = RelationDatasetLoader(group=\"relations\", name=\"factual/country_capital_city\")\n",
    "# loader.load()"
   ]
  },
  {
   "cell_type": "code",
   "execution_count": 78,
   "metadata": {},
   "outputs": [],
   "source": [
    "from src.dataset_manager import GeometryOfTruthDatasetLoader\n",
    "\n",
    "cities = GeometryOfTruthDatasetLoader(group=\"GoT\", name=\"cities\").load()"
   ]
  },
  {
   "cell_type": "code",
   "execution_count": 79,
   "metadata": {},
   "outputs": [],
   "source": [
    "# cities"
   ]
  },
  {
   "cell_type": "code",
   "execution_count": 83,
   "metadata": {},
   "outputs": [
    {
     "name": "stdout",
     "output_type": "stream",
     "text": [
      "2024-10-27 20:29:29 src.dataset_manager INFO     Loaded 120 examples from commonsense/word_sentiment.\n",
      "2024-10-27 20:29:29 src.dataset_manager INFO     Loaded 60 examples from commonsense/fruit_outside_color.\n",
      "2024-10-27 20:29:29 src.dataset_manager INFO     Loaded 64 examples from commonsense/task_done_by_person.\n",
      "2024-10-27 20:29:29 src.dataset_manager INFO     Loaded 76 examples from commonsense/work_location.\n",
      "2024-10-27 20:29:29 src.dataset_manager INFO     Loaded 104 examples from commonsense/task_done_by_tool.\n",
      "2024-10-27 20:29:29 src.dataset_manager INFO     Loaded 100 examples from commonsense/substance_phase.\n",
      "2024-10-27 20:29:29 src.dataset_manager INFO     Loaded 152 examples from commonsense/object_superclass.\n",
      "2024-10-27 20:29:29 src.dataset_manager INFO     Loaded 72 examples from commonsense/fruit_inside_color.\n",
      "2024-10-27 20:29:29 src.dataset_manager INFO     Loaded 88 examples from factual/pokemon_evolutions.\n",
      "2024-10-27 20:29:29 src.dataset_manager INFO     Loaded 48 examples from factual/country_capital_city.\n",
      "2024-10-27 20:29:29 src.dataset_manager INFO     Loaded 636 examples from factual/person_plays_pro_sport.\n",
      "2024-10-27 20:29:29 src.dataset_manager INFO     Loaded 724 examples from factual/star_constellation.\n",
      "2024-10-27 20:29:29 src.dataset_manager INFO     Loaded 48 examples from factual/country_language.\n",
      "2024-10-27 20:29:29 src.dataset_manager INFO     Loaded 38 examples from factual/presidents_birth_year.\n",
      "2024-10-27 20:29:29 src.dataset_manager INFO     Loaded 1894 examples from factual/landmark_on_continent.\n",
      "2024-10-27 20:29:29 src.dataset_manager INFO     Loaded 48 examples from factual/country_largest_city.\n",
      "2024-10-27 20:29:29 src.dataset_manager INFO     Loaded 1348 examples from factual/company_hq.\n",
      "2024-10-27 20:29:29 src.dataset_manager INFO     Loaded 60 examples from factual/food_from_country.\n",
      "2024-10-27 20:29:29 src.dataset_manager INFO     Loaded 1672 examples from factual/landmark_in_country.\n",
      "2024-10-27 20:29:29 src.dataset_manager INFO     Loaded 596 examples from factual/company_ceo.\n",
      "2024-10-27 20:29:29 src.dataset_manager INFO     Loaded 192 examples from factual/superhero_archnemesis.\n",
      "2024-10-27 20:29:29 src.dataset_manager INFO     Loaded 54 examples from factual/city_in_country.\n",
      "2024-10-27 20:29:29 src.dataset_manager INFO     Loaded 42 examples from factual/person_band_lead_singer.\n",
      "2024-10-27 20:29:29 src.dataset_manager INFO     Loaded 1982 examples from factual/person_father.\n",
      "2024-10-27 20:29:29 src.dataset_manager INFO     Loaded 1988 examples from factual/person_mother.\n",
      "2024-10-27 20:29:29 src.dataset_manager INFO     Loaded 200 examples from factual/superhero_person.\n",
      "2024-10-27 20:29:29 src.dataset_manager INFO     Loaded 1642 examples from factual/person_occupation.\n",
      "2024-10-27 20:29:29 src.dataset_manager INFO     Loaded 38 examples from factual/presidents_election_year.\n",
      "2024-10-27 20:29:29 src.dataset_manager INFO     Loaded 1026 examples from factual/person_plays_instrument.\n",
      "2024-10-27 20:29:29 src.dataset_manager INFO     Loaded 60 examples from factual/country_currency.\n",
      "2024-10-27 20:29:29 src.dataset_manager INFO     Loaded 1044 examples from factual/product_by_company.\n",
      "2024-10-27 20:29:29 src.dataset_manager INFO     Loaded 182 examples from factual/person_university.\n",
      "2024-10-27 20:29:29 src.dataset_manager INFO     Loaded 1904 examples from factual/person_plays_position_in_sport.\n",
      "2024-10-27 20:29:29 src.dataset_manager INFO     Loaded 1838 examples from factual/person_native_language.\n",
      "2024-10-27 20:29:29 src.dataset_manager INFO     Loaded 482 examples from linguistic/word_last_letter.\n",
      "2024-10-27 20:29:29 src.dataset_manager INFO     Loaded 152 examples from linguistic/verb_past_tense.\n",
      "2024-10-27 20:29:29 src.dataset_manager INFO     Loaded 482 examples from linguistic/word_first_letter.\n",
      "2024-10-27 20:29:29 src.dataset_manager INFO     Loaded 160 examples from linguistic/adj_superlative.\n",
      "2024-10-27 20:29:29 src.dataset_manager INFO     Loaded 136 examples from linguistic/adj_comparative.\n",
      "2024-10-27 20:29:29 src.dataset_manager INFO     Loaded 200 examples from linguistic/adj_antonym.\n"
     ]
    }
   ],
   "source": [
    "relation_dataset = dataset_manager.DatasetManager.from_dataset_group(\n",
    "    \"relations\",\n",
    "    batch_size=4\n",
    ")"
   ]
  },
  {
   "cell_type": "code",
   "execution_count": 84,
   "metadata": {},
   "outputs": [
    {
     "data": {
      "text/plain": [
       "5438"
      ]
     },
     "execution_count": 84,
     "metadata": {},
     "output_type": "execute_result"
    }
   ],
   "source": [
    "len(relation_dataset)"
   ]
  },
  {
   "cell_type": "code",
   "execution_count": 85,
   "metadata": {},
   "outputs": [
    {
     "data": {
      "text/plain": [
       "[RawExample(feature='Ichiro Suzuki plays the sport of hockey.', label='0'),\n",
       " RawExample(feature=\"Richard Dawkins's father is named Clinton John Dawkins.\", label='1'),\n",
       " RawExample(feature=\"Superman's father is named Jonathan Kent.\", label='1'),\n",
       " RawExample(feature=\"John Cale's mother is named Marie-Jeanne-Amélie de Vigny.\", label='0')]"
      ]
     },
     "execution_count": 85,
     "metadata": {},
     "output_type": "execute_result"
    }
   ],
   "source": [
    "batch = next(iter(relation_dataset))\n",
    "batch"
   ]
  },
  {
   "cell_type": "code",
   "execution_count": null,
   "metadata": {},
   "outputs": [],
   "source": []
  }
 ],
 "metadata": {
  "kernelspec": {
   "display_name": "Python 3",
   "language": "python",
   "name": "python3"
  },
  "language_info": {
   "codemirror_mode": {
    "name": "ipython",
    "version": 3
   },
   "file_extension": ".py",
   "mimetype": "text/x-python",
   "name": "python",
   "nbconvert_exporter": "python",
   "pygments_lexer": "ipython3",
   "version": "3.11.9"
  }
 },
 "nbformat": 4,
 "nbformat_minor": 2
}
