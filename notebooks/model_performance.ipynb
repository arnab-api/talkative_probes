{
 "cells": [
  {
   "cell_type": "code",
   "execution_count": 1,
   "metadata": {},
   "outputs": [],
   "source": [
    "%load_ext autoreload\n",
    "%autoreload 2"
   ]
  },
  {
   "cell_type": "code",
   "execution_count": 2,
   "metadata": {},
   "outputs": [
    {
     "name": "stderr",
     "output_type": "stream",
     "text": [
      "/home/local_arnab/miniconda3/envs/retrieval/lib/python3.11/site-packages/tqdm/auto.py:21: TqdmWarning: IProgress not found. Please update jupyter and ipywidgets. See https://ipywidgets.readthedocs.io/en/stable/user_install.html\n",
      "  from .autonotebook import tqdm as notebook_tqdm\n"
     ]
    },
    {
     "name": "stdout",
     "output_type": "stream",
     "text": [
      "2024-11-01 16:26:25 __main__ INFO     torch.__version__='2.5.0+cu124', torch.version.cuda='12.4'\n"
     ]
    }
   ],
   "source": [
    "import time, json\n",
    "import sys\n",
    "sys.path.append(\"../\")\n",
    "# sys.path.append(\"../chess_llm_interpretability\")\n",
    "import os\n",
    "import torch\n",
    "import numpy as np\n",
    "\n",
    "import logging\n",
    "from src.utils import logging_utils\n",
    "from src.utils import env_utils\n",
    "from src import functional\n",
    "\n",
    "logger = logging.getLogger(__name__)\n",
    "\n",
    "logging.basicConfig(\n",
    "    level=logging.DEBUG,\n",
    "    format=logging_utils.DEFAULT_FORMAT,\n",
    "    datefmt=logging_utils.DEFAULT_DATEFMT,\n",
    "    stream=sys.stdout,\n",
    ")\n",
    "\n",
    "logger.info(f\"{torch.__version__=}, {torch.version.cuda=}\")"
   ]
  },
  {
   "cell_type": "code",
   "execution_count": 3,
   "metadata": {},
   "outputs": [
    {
     "name": "stdout",
     "output_type": "stream",
     "text": [
      "2024-11-01 16:26:26 accelerate.utils.modeling INFO     We will use 90% of the memory on device 0 for storing the model, and 10% for the buffer to avoid OOM. You can set `max_memory` in to a higher value to use more memory (at your own risk).\n"
     ]
    },
    {
     "name": "stderr",
     "output_type": "stream",
     "text": [
      "Loading checkpoint shards: 100%|██████████| 2/2 [00:03<00:00,  1.77s/it]"
     ]
    },
    {
     "name": "stdout",
     "output_type": "stream",
     "text": [
      "2024-11-01 16:26:30 src.models INFO     loaded model </home/local_arnab/Codes/00_MODEL/meta-llama/Llama-3.2-3B> | size: 12255.675 MB | dtype: torch.float32 | device: cuda:0\n"
     ]
    },
    {
     "name": "stderr",
     "output_type": "stream",
     "text": [
      "\n"
     ]
    }
   ],
   "source": [
    "from src.models import ModelandTokenizer\n",
    "\n",
    "# MODEL_KEY = \"meta-llama/Llama-3.2-3B-Instruct\"\n",
    "# MODEL_KEY = \"meta-llama/Llama-3.1-8B-Instruct\"\n",
    "\n",
    "# MODEL_KEY = \"meta-llama/Llama-3.2-3B\"\n",
    "# MODEL_KEY = \"google/gemma-2-2b\"\n",
    "# MODEL_KEY = \"meta-llama/Llama-3.1-8B\"\n",
    "MODEL_KEY = \"meta-llama/Llama-3.2-3B\"\n",
    "\n",
    "mt = ModelandTokenizer(\n",
    "    model_key=MODEL_KEY,\n",
    "    torch_dtype=torch.float32,\n",
    ")"
   ]
  },
  {
   "cell_type": "markdown",
   "metadata": {},
   "source": [
    "### Loading Data"
   ]
  },
  {
   "cell_type": "code",
   "execution_count": 4,
   "metadata": {},
   "outputs": [
    {
     "name": "stdout",
     "output_type": "stream",
     "text": [
      "2024-11-01 16:27:11 numexpr.utils INFO     Note: NumExpr detected 24 cores but \"NUMEXPR_MAX_THREADS\" not set, so enforcing safe limit of 8.\n",
      "2024-11-01 16:27:11 numexpr.utils INFO     NumExpr defaulting to 8 threads.\n",
      "2024-11-01 16:27:11 datasets INFO     PyTorch version 2.5.0 available.\n"
     ]
    },
    {
     "data": {
      "text/plain": [
       "['geometry_of_truth',\n",
       " 'relations',\n",
       " 'sst2',\n",
       " 'md_gender',\n",
       " 'snli',\n",
       " 'ag_news',\n",
       " 'ner',\n",
       " 'tense',\n",
       " 'language_identification',\n",
       " 'singular_plural']"
      ]
     },
     "execution_count": 4,
     "metadata": {},
     "output_type": "execute_result"
    }
   ],
   "source": [
    "from src.dataset_manager import DatasetManager\n",
    "\n",
    "list(DatasetManager.list_datasets_by_group().keys())"
   ]
  },
  {
   "cell_type": "code",
   "execution_count": 11,
   "metadata": {},
   "outputs": [],
   "source": [
    "from src.dataset_manager import DatasetManager\n",
    "from src.functional import get_batch_concept_activations\n",
    "\n",
    "# group_name, ds_name = \"singular_plural\", \"singular_plural\"\n",
    "# group_name = \"geometry_of_truth\"\n",
    "# group_name = \"relations\"\n",
    "# group_name = \"sst2\"\n",
    "# group_name = \"md_gender\"\n",
    "# group_name = \"singular_plural\"\n",
    "# group_name = \"tense\"\n",
    "# group_name=\"ag_news\"\n",
    "# group_name = \"language_identification\"\n",
    "# group_name = \"tense\"\n",
    "# group_name = \"ner\"\n",
    "group_name = \"tense\"\n",
    "\n",
    "\n",
    "if group_name in [\"language_identification\", \"ag_news\"]:\n",
    "    tokenization_kwargs = {\n",
    "        \"padding\": \"max_length\",\n",
    "        \"max_length\": 200,\n",
    "        \"truncation\": True,\n",
    "    }\n",
    "else:\n",
    "    tokenization_kwargs = {\n",
    "        \"padding\": \"longest\",\n",
    "    }\n",
    "\n",
    "dataloader = DatasetManager.from_dataset_group(\n",
    "    group=group_name,\n",
    "    batch_size=32\n",
    ")\n",
    "\n",
    "# dataloader = DatasetManager.from_named_datasets(\n",
    "#     [(group_name, \"sp_en_trans\")],\n",
    "#     batch_size=32\n",
    "# )\n",
    "\n",
    "# batch = next(iter(dataloader))\n",
    "# batch"
   ]
  },
  {
   "cell_type": "code",
   "execution_count": 12,
   "metadata": {},
   "outputs": [
    {
     "data": {
      "text/plain": [
       "[ContextQASample(context='The scientists will be conducting experiments to find a cure for a rare disease.', questions=['# Would you say this is written in the future tense?', '# This statement is in the past tense. Do you agree?', '# Can we classify this sentence as being in the future tense?', '# Am I correct in saying this is in the future tense?', '# Is the action taking place in the future tense?', '# Is the narrative presented in the future tense?', '# Is the action described here in the future tense?', '# Can we classify this sentence as being in the past tense?', '# Is the narrative presented in the future tense?', '# Is the verb form in this sentence present?'], answers=['Yes', 'No', 'Yes', 'Yes', 'Yes', 'Yes', 'Yes', 'No', 'Yes', 'No'], ds_label='future'),\n",
       " ContextQASample(context='She is eating lunch now.', questions=['# Is the action described here in the past tense?', '# Is the narrative presented in the past tense?', '# Does this text reflect the past tense?', '# Is the action described here in the present tense?', '# Would you agree that this is in the present tense?', '# Does this text reflect the present tense?', '# Can we determine that this is in the present tense?', '# Is this statement in the present tense?', '# Does this sentence use the past tense?', '# Does this sentence convey the present tense?'], answers=['No', 'No', 'No', 'Yes', 'Yes', 'Yes', 'Yes', 'Yes', 'No', 'Yes'], ds_label='present'),\n",
       " ContextQASample(context='I have been waiting for this moment for a long time.', questions=['# Would you agree that this is in the future tense?', '# Does this text reflect the present tense?', '# This statement is in the future tense. Do you agree?', '# Is the verb form in this sentence present?', '# Does this text reflect the present tense?', '# Does this text reflect the future tense?', '# Can we determine that this is in the present tense?', '# Is the time frame of this statement present?', '# Is the time frame of this statement present?', '# Does this sentence convey the past tense?'], answers=['No', 'Yes', 'No', 'Yes', 'Yes', 'No', 'Yes', 'Yes', 'Yes', 'No'], ds_label='present'),\n",
       " ContextQASample(context='I am volunteering at a local animal shelter.', questions=['# Would you identify this as an example of the present tense?', '# Would you agree that this is in the future tense?', '# Would you identify this as an example of the present tense?', '# Is the time frame of this statement present?', '# Is the action taking place in the future tense?', '# Can we classify this sentence as being in the future tense?', '# Is the structure of this sentence indicative of the past tense?', '# Does this sentence convey the future tense?', '# Is the verb form in this sentence present?', '# Can we determine that this is in the future tense?'], answers=['Yes', 'No', 'Yes', 'Yes', 'No', 'No', 'No', 'No', 'Yes', 'No'], ds_label='present'),\n",
       " ContextQASample(context='We used to live in a small town.', questions=['# Does this sentence convey the past tense?', '# Does this sentence align with the past tense?', '# Does this sentence convey the future tense?', '# Is the verb form in this sentence past?', '# Is the structure of this sentence indicative of the present tense?', '# This statement is in the present tense. Do you agree?', '# Does this sentence align with the past tense?', '# Is the verb form in this sentence present?', '# Would you identify this as an example of the future tense?', '# This statement is in the past tense. Do you agree?'], answers=['Yes', 'Yes', 'No', 'Yes', 'No', 'No', 'Yes', 'No', 'No', 'Yes'], ds_label='past'),\n",
       " ContextQASample(context='She was solving the puzzle quickly.', questions=['# Is the time frame of this statement present?', '# Is the action taking place in the present tense?', '# Is the structure of this sentence indicative of the present tense?', '# Would you agree that this is in the present tense?', '# Is the narrative presented in the present tense?', '# Is the time frame of this statement present?', '# Is the time frame of this statement future?', '# This statement is in the present tense. Do you agree?', '# Does this sentence convey the past tense?', '# Would you agree that this is in the present tense?'], answers=['No', 'No', 'No', 'No', 'No', 'No', 'No', 'No', 'Yes', 'No'], ds_label='past'),\n",
       " ContextQASample(context='They were playing chess when I arrived.', questions=['# Is the time frame of this statement past?', '# Is the action taking place in the past tense?', '# Would you identify this as an example of the future tense?', '# Does this sentence align with the future tense?', '# Am I correct in saying this is in the past tense?', '# Would you identify this as an example of the present tense?', '# This statement is in the future tense. Do you agree?', '# This statement is in the past tense. Do you agree?', '# Does this text reflect the present tense?', '# This statement is in the past tense. Do you agree?'], answers=['Yes', 'Yes', 'No', 'No', 'Yes', 'No', 'No', 'Yes', 'No', 'Yes'], ds_label='past'),\n",
       " ContextQASample(context='The baby babbles when happy.', questions=['# Does this text reflect the past tense?', '# Does this text reflect the past tense?', '# Is the time frame of this statement future?', '# Is the narrative presented in the past tense?', '# Would you agree that this is in the future tense?', '# Is the time frame of this statement future?', '# Can we determine that this is in the future tense?', '# Am I correct in saying this is in the future tense?', '# Can we classify this sentence as being in the present tense?', '# Is the action taking place in the future tense?'], answers=['No', 'No', 'No', 'No', 'No', 'No', 'No', 'No', 'Yes', 'No'], ds_label='present'),\n",
       " ContextQASample(context='He will have graduated from college by the end of the year.', questions=['# Am I correct in saying this is in the past tense?', '# Does this sentence convey the present tense?', '# Is the verb form in this sentence past?', '# Is the time frame of this statement present?', '# Is the action described here in the present tense?', '# Is the action taking place in the future tense?', '# Would you say this is written in the past tense?', '# Is the structure of this sentence indicative of the future tense?', '# Is the time frame of this statement future?', '# Would you identify this as an example of the future tense?'], answers=['No', 'No', 'No', 'No', 'No', 'Yes', 'No', 'Yes', 'Yes', 'Yes'], ds_label='future'),\n",
       " ContextQASample(context='The company has been implementing eco-friendly initiatives to reduce its carbon footprint.', questions=['# Would you say this is written in the future tense?', '# Is this statement in the past tense?', '# Does this text reflect the past tense?', '# Does this text reflect the present tense?', '# Would you say this is written in the future tense?', '# Is the structure of this sentence indicative of the present tense?', '# Does this sentence convey the past tense?', '# Can we classify this sentence as being in the past tense?', '# Is the action taking place in the present tense?', '# Does this sentence convey the present tense?'], answers=['No', 'No', 'No', 'Yes', 'No', 'Yes', 'No', 'No', 'Yes', 'Yes'], ds_label='present'),\n",
       " ContextQASample(context='The baby is babbling and trying to stand up.', questions=['# Is the action taking place in the present tense?', '# Is the narrative presented in the present tense?', '# Can we determine that this is in the present tense?', '# Is the action taking place in the present tense?', '# Does this sentence align with the present tense?', '# Is this statement in the past tense?', '# Is this statement in the present tense?', '# Is the time frame of this statement present?', '# Is the action described here in the future tense?', '# Can we determine that this is in the present tense?'], answers=['Yes', 'Yes', 'Yes', 'Yes', 'Yes', 'No', 'Yes', 'Yes', 'No', 'Yes'], ds_label='present'),\n",
       " ContextQASample(context='They had visited their grandparents in the countryside before returning home.', questions=['# Would you identify this as an example of the past tense?', '# Does this text reflect the future tense?', '# Does this sentence align with the future tense?', '# Is the action taking place in the past tense?', '# Does this sentence use the past tense?', '# Am I correct in saying this is in the future tense?', '# Is the narrative presented in the future tense?', '# Is the verb form in this sentence future?', '# Am I correct in saying this is in the future tense?', '# Is the action described here in the past tense?'], answers=['No', 'Yes', 'Yes', 'No', 'No', 'Yes', 'Yes', 'Yes', 'Yes', 'No'], ds_label='future'),\n",
       " ContextQASample(context='She was learning to play the guitar, strumming the strings with dedication.', questions=['# This statement is in the past tense. Do you agree?', '# Does this text reflect the past tense?', '# Is the time frame of this statement present?', '# Is this statement in the future tense?', '# Does this sentence align with the past tense?', '# Is the narrative presented in the future tense?', '# Would you say this is written in the past tense?', '# Am I correct in saying this is in the past tense?', '# Does this sentence convey the past tense?', '# Is this statement in the future tense?'], answers=['Yes', 'Yes', 'No', 'No', 'Yes', 'No', 'Yes', 'Yes', 'Yes', 'No'], ds_label='past'),\n",
       " ContextQASample(context='Before she got the promotion, she had been working hard to prove her capabilities.', questions=['# Would you identify this as an example of the present tense?', '# Does this sentence convey the past tense?', '# Can we determine that this is in the present tense?', '# Would you identify this as an example of the past tense?', '# Does this text reflect the past tense?', '# Is the action taking place in the past tense?', '# Does this sentence align with the future tense?', '# Is the action described here in the present tense?', '# Is the narrative presented in the present tense?', '# Would you identify this as an example of the past tense?'], answers=['No', 'Yes', 'No', 'Yes', 'Yes', 'Yes', 'No', 'No', 'No', 'Yes'], ds_label='past'),\n",
       " ContextQASample(context='By this time next month, she will have published her first book.', questions=['# Is this statement in the past tense?', '# Can we classify this sentence as being in the past tense?', '# Would you agree that this is in the past tense?', '# Is the action taking place in the past tense?', '# Is the action taking place in the future tense?', '# Would you say this is written in the past tense?', '# Would you identify this as an example of the future tense?', '# Is the verb form in this sentence future?', '# Does this text reflect the present tense?', '# Is the structure of this sentence indicative of the future tense?'], answers=['No', 'No', 'No', 'No', 'Yes', 'No', 'Yes', 'Yes', 'No', 'Yes'], ds_label='future'),\n",
       " ContextQASample(context='By this time tomorrow, he will have found a new job.', questions=['# Is the structure of this sentence indicative of the future tense?', '# Am I correct in saying this is in the present tense?', '# Does this sentence align with the present tense?', '# This statement is in the future tense. Do you agree?', '# Can we classify this sentence as being in the future tense?', '# Am I correct in saying this is in the past tense?', '# Is the action taking place in the past tense?', '# Does this sentence use the present tense?', '# Am I correct in saying this is in the future tense?', '# Does this sentence align with the future tense?'], answers=['Yes', 'No', 'No', 'Yes', 'Yes', 'No', 'No', 'No', 'Yes', 'Yes'], ds_label='future'),\n",
       " ContextQASample(context='Will you be participating in the environmental conservation summit next week', questions=['# Am I correct in saying this is in the future tense?', '# Does this text reflect the future tense?', '# Is the time frame of this statement future?', '# This statement is in the future tense. Do you agree?', '# Does this sentence use the present tense?', '# Is the action taking place in the past tense?', '# Is the action taking place in the past tense?', '# Would you say this is written in the past tense?', '# Is the action described here in the past tense?', '# Is the action described here in the present tense?'], answers=['Yes', 'Yes', 'Yes', 'Yes', 'No', 'No', 'No', 'No', 'No', 'No'], ds_label='future'),\n",
       " ContextQASample(context='She had solved the puzzle before anyone else.', questions=['# Can we classify this sentence as being in the present tense?', '# Can we classify this sentence as being in the past tense?', '# Am I correct in saying this is in the future tense?', '# Is this statement in the past tense?', '# Is the narrative presented in the past tense?', '# Does this text reflect the future tense?', '# Is the narrative presented in the present tense?', '# Am I correct in saying this is in the future tense?', '# Is the action described here in the past tense?', '# Is the action taking place in the past tense?'], answers=['No', 'Yes', 'No', 'Yes', 'Yes', 'No', 'No', 'No', 'Yes', 'Yes'], ds_label='past'),\n",
       " ContextQASample(context='They will build a bridge to connect continents.', questions=['# Is the structure of this sentence indicative of the future tense?', '# Is the time frame of this statement present?', '# Is this statement in the future tense?', '# This statement is in the present tense. Do you agree?', '# Does this sentence align with the future tense?', '# Is the structure of this sentence indicative of the future tense?', '# Would you say this is written in the present tense?', '# Can we classify this sentence as being in the present tense?', '# Is the time frame of this statement future?', '# Is the action described here in the future tense?'], answers=['Yes', 'No', 'Yes', 'No', 'Yes', 'Yes', 'No', 'No', 'Yes', 'Yes'], ds_label='future'),\n",
       " ContextQASample(context='We hike in the mountains.', questions=['# Is the action taking place in the past tense?', '# Does this text reflect the future tense?', '# Would you say this is written in the future tense?', '# Would you say this is written in the future tense?', '# Does this sentence align with the future tense?', '# This statement is in the present tense. Do you agree?', '# Is this statement in the present tense?', '# Does this sentence align with the present tense?', '# Does this sentence use the present tense?', '# Is the action described here in the present tense?'], answers=['No', 'No', 'No', 'No', 'No', 'Yes', 'Yes', 'Yes', 'Yes', 'Yes'], ds_label='present'),\n",
       " ContextQASample(context='He will have learned to play the guitar within five years.', questions=['# Is the structure of this sentence indicative of the past tense?', '# This statement is in the present tense. Do you agree?', '# Is the verb form in this sentence past?', '# Is this statement in the future tense?', '# Does this sentence use the future tense?', '# Is the action taking place in the future tense?', '# Is this statement in the future tense?', '# Would you agree that this is in the future tense?', '# Does this sentence use the past tense?', '# Can we classify this sentence as being in the future tense?'], answers=['No', 'No', 'No', 'Yes', 'Yes', 'Yes', 'Yes', 'Yes', 'No', 'Yes'], ds_label='future'),\n",
       " ContextQASample(context='The repairman had fixed the refrigerator before it broke down again.', questions=['# Does this sentence convey the future tense?', '# Is the action taking place in the past tense?', '# Is the structure of this sentence indicative of the present tense?', '# Does this sentence convey the past tense?', '# Would you agree that this is in the present tense?', '# Is the narrative presented in the past tense?', '# Can we determine that this is in the present tense?', '# Is the narrative presented in the past tense?', '# Would you identify this as an example of the past tense?', '# Can we determine that this is in the future tense?'], answers=['No', 'Yes', 'No', 'Yes', 'No', 'Yes', 'No', 'Yes', 'Yes', 'No'], ds_label='past'),\n",
       " ContextQASample(context='By next week, he will have been recovering from the injury for a month.', questions=['# Is the action described here in the past tense?', '# Can we classify this sentence as being in the present tense?', '# Is the action described here in the present tense?', '# Would you identify this as an example of the future tense?', '# Is this statement in the present tense?', '# Is the verb form in this sentence past?', '# Is the narrative presented in the future tense?', '# Does this sentence align with the present tense?', '# Am I correct in saying this is in the past tense?', '# Is the structure of this sentence indicative of the past tense?'], answers=['No', 'No', 'No', 'Yes', 'No', 'No', 'Yes', 'No', 'No', 'No'], ds_label='future'),\n",
       " ContextQASample(context='We had been searching for the missing keys everywhere.', questions=['# Can we determine that this is in the future tense?', '# Does this sentence use the present tense?', '# Is the narrative presented in the past tense?', '# Is the narrative presented in the past tense?', '# Does this sentence use the past tense?', '# Is the structure of this sentence indicative of the past tense?', '# Can we determine that this is in the past tense?', '# Is the narrative presented in the present tense?', '# Would you say this is written in the past tense?', '# Is the action taking place in the past tense?'], answers=['No', 'No', 'Yes', 'Yes', 'Yes', 'Yes', 'Yes', 'No', 'Yes', 'Yes'], ds_label='past'),\n",
       " ContextQASample(context='She had been studying all night before the exam.', questions=['# Am I correct in saying this is in the present tense?', '# Is the action described here in the present tense?', '# Is the action described here in the present tense?', '# Does this sentence align with the past tense?', '# Would you identify this as an example of the present tense?', '# Does this sentence use the past tense?', '# Is the narrative presented in the past tense?', '# Is the narrative presented in the future tense?', '# Is the verb form in this sentence past?', '# Does this sentence use the future tense?'], answers=['No', 'No', 'No', 'Yes', 'No', 'Yes', 'Yes', 'No', 'Yes', 'No'], ds_label='past'),\n",
       " ContextQASample(context='He was helping his neighbor with gardening.', questions=['# Would you identify this as an example of the future tense?', '# Is the narrative presented in the past tense?', '# Is the action described here in the future tense?', '# Is the verb form in this sentence present?', '# Does this sentence use the future tense?', '# Am I correct in saying this is in the future tense?', '# Is this statement in the future tense?', '# Is the action described here in the future tense?', '# Is the narrative presented in the past tense?', '# Would you say this is written in the future tense?'], answers=['No', 'Yes', 'No', 'No', 'No', 'No', 'No', 'No', 'Yes', 'No'], ds_label='past'),\n",
       " ContextQASample(context='The birds were chirping outside when I woke up.', questions=['# Can we classify this sentence as being in the present tense?', '# Is the verb form in this sentence future?', '# Does this text reflect the past tense?', '# Would you agree that this is in the past tense?', '# Does this sentence use the present tense?', '# Does this text reflect the past tense?', '# Would you say this is written in the past tense?', '# Would you agree that this is in the present tense?', '# Would you say this is written in the present tense?', '# Does this text reflect the past tense?'], answers=['No', 'No', 'Yes', 'Yes', 'No', 'Yes', 'Yes', 'No', 'No', 'Yes'], ds_label='past'),\n",
       " ContextQASample(context='Virtual reality classrooms will become the norm in education.', questions=['# Is the action taking place in the future tense?', '# This statement is in the present tense. Do you agree?', '# Can we determine that this is in the future tense?', '# Am I correct in saying this is in the past tense?', '# Would you say this is written in the present tense?', '# Is this statement in the present tense?', '# Would you identify this as an example of the present tense?', '# Can we classify this sentence as being in the future tense?', '# Does this sentence align with the future tense?', '# Would you identify this as an example of the present tense?'], answers=['Yes', 'No', 'Yes', 'No', 'No', 'No', 'No', 'Yes', 'Yes', 'No'], ds_label='future'),\n",
       " ContextQASample(context='The students had performed in the school play before the audience applauded.', questions=['# Does this sentence convey the present tense?', '# Can we determine that this is in the future tense?', '# Is the time frame of this statement present?', '# Is the verb form in this sentence future?', '# Is the time frame of this statement past?', '# Does this sentence convey the past tense?', '# Is the structure of this sentence indicative of the present tense?', '# Am I correct in saying this is in the past tense?', '# Does this sentence use the future tense?', '# This statement is in the present tense. Do you agree?'], answers=['No', 'Yes', 'No', 'Yes', 'No', 'No', 'No', 'No', 'Yes', 'No'], ds_label='future'),\n",
       " ContextQASample(context='They explored ancient ruins in Greece last summer.', questions=['# Does this sentence align with the past tense?', '# This statement is in the future tense. Do you agree?', '# Would you say this is written in the future tense?', '# Is this statement in the past tense?', '# Am I correct in saying this is in the past tense?', '# Can we determine that this is in the present tense?', '# Is the verb form in this sentence past?', '# Am I correct in saying this is in the future tense?', '# Does this text reflect the present tense?', '# Would you identify this as an example of the present tense?'], answers=['Yes', 'No', 'No', 'Yes', 'Yes', 'No', 'Yes', 'No', 'No', 'No'], ds_label='past'),\n",
       " ContextQASample(context='The company has expanded its product range.', questions=['# Is the narrative presented in the present tense?', '# Does this text reflect the present tense?', '# Would you say this is written in the present tense?', '# Is the structure of this sentence indicative of the present tense?', '# Would you identify this as an example of the past tense?', '# Is the time frame of this statement present?', '# Does this text reflect the future tense?', '# Does this sentence align with the present tense?', '# Can we classify this sentence as being in the past tense?', '# Does this sentence use the past tense?'], answers=['Yes', 'Yes', 'Yes', 'Yes', 'No', 'Yes', 'No', 'Yes', 'No', 'No'], ds_label='present'),\n",
       " ContextQASample(context='Mary has been volunteering with organizations that work towards environmental conservation.', questions=['# Can we classify this sentence as being in the present tense?', '# Is the action described here in the present tense?', '# Is the narrative presented in the future tense?', '# Can we classify this sentence as being in the future tense?', '# Is the action taking place in the future tense?', '# Does this sentence convey the future tense?', '# Is the time frame of this statement future?', '# Does this sentence use the past tense?', '# Would you say this is written in the present tense?', '# Would you say this is written in the present tense?'], answers=['Yes', 'Yes', 'No', 'No', 'No', 'No', 'No', 'No', 'Yes', 'Yes'], ds_label='present')]"
      ]
     },
     "execution_count": 12,
     "metadata": {},
     "output_type": "execute_result"
    }
   ],
   "source": [
    "batch = next(iter(dataloader))\n",
    "batch"
   ]
  },
  {
   "cell_type": "code",
   "execution_count": 13,
   "metadata": {},
   "outputs": [
    {
     "name": "stdout",
     "output_type": "stream",
     "text": [
      "\"Before she got the promotion, she had been working hard to prove her capabilities.\" - Is the action taking place in the past tense?, Answer: Yes\n",
      "\"She had been studying all night before the exam.\" - Would you identify this as an example of the present tense?, Answer: No\n",
      "\"He will have learned to play the guitar within five years.\" - Is the action taking place in the future tense?, Answer: Yes\n",
      "\"We hike in the mountains.\" - Is this statement in the present tense?, Answer:\n",
      "Yes\n"
     ]
    }
   ],
   "source": [
    "from src.dataset_manager import ContextQASample\n",
    "import random\n",
    "\n",
    "def get_query_and_ans_from_contextQA(context_qa: ContextQASample):\n",
    "    context = context_qa.context\n",
    "    q, a = random.choice(list(zip(context_qa.questions, context_qa.answers)))\n",
    "    q = q.replace(\"#\", \"\").strip()\n",
    "\n",
    "    return f\"\\\"{context}\\\" - {q}, Answer:\", a\n",
    "\n",
    "\n",
    "def get_query_ans_labels_from_batch(batch: list[ContextQASample]):\n",
    "    batch_qa = [get_query_and_ans_from_contextQA(cqa) for cqa in batch]\n",
    "    random.shuffle(batch_qa)\n",
    "    n_icl = 3\n",
    "    icl_examples = batch_qa[:n_icl]\n",
    "    batch_qa = batch_qa[n_icl:]\n",
    "\n",
    "    icl_prompt = \"\\n\".join([f\"{q} {a}\" for i, (q, a) in enumerate(icl_examples)])\n",
    "    \n",
    "    return [\n",
    "        (f\"{icl_prompt}\\n{q}\", a) for q, a in batch_qa\n",
    "    ]\n",
    "\n",
    "batch_qa = get_query_ans_labels_from_batch(batch)\n",
    "query, ans = batch_qa[0]   \n",
    "print(query) \n",
    "print(ans)"
   ]
  },
  {
   "cell_type": "code",
   "execution_count": 8,
   "metadata": {},
   "outputs": [
    {
     "name": "stderr",
     "output_type": "stream",
     "text": [
      "  0% 0/11457 [00:00<?, ?it/s]You're using a PreTrainedTokenizerFast tokenizer. Please note that with a fast tokenizer, using the `__call__` method is faster than using a method to encode the text followed by a call to the `pad` method to get a padded encoding.\n"
     ]
    },
    {
     "name": "stderr",
     "output_type": "stream",
     "text": [
      "Accuracy: 0.72 (3592/5017):   2% 172/11457 [06:34<7:11:01,  2.29s/it]\n"
     ]
    },
    {
     "data": {
      "text/plain": [
       "0.7159657165636835"
      ]
     },
     "execution_count": 8,
     "metadata": {},
     "output_type": "execute_result"
    }
   ],
   "source": [
    "from src.functional import predict_next_token\n",
    "from tqdm import tqdm\n",
    "\n",
    "def check_model_performance(mt, dataloader, limit = 1000):\n",
    "    correct_predictions = 0\n",
    "    total_predictions = 0\n",
    "\n",
    "    pbar = tqdm(dataloader, ncols=0)\n",
    "    for batch in pbar:\n",
    "        batch_qa = get_query_ans_labels_from_batch(batch)\n",
    "        queries = [q for q, a in batch_qa]\n",
    "        answers = [a for q, a in batch_qa]\n",
    "        predections = predict_next_token(\n",
    "            mt = mt,\n",
    "            inputs = queries,\n",
    "            batch_size = 32,\n",
    "            k=1\n",
    "        )\n",
    "\n",
    "        for pred, ans in zip(predections, answers):\n",
    "            if pred[0].token.strip() == ans.strip():\n",
    "                correct_predictions += 1\n",
    "            total_predictions += 1\n",
    "\n",
    "        pbar.set_description(f\"Accuracy: {correct_predictions / total_predictions:.2f} ({correct_predictions}/{total_predictions})\")\n",
    "        if total_predictions >= limit:\n",
    "            break\n",
    "    \n",
    "    return correct_predictions / total_predictions\n",
    "\n",
    "check_model_performance(mt, dataloader, limit = 5000)"
   ]
  },
  {
   "cell_type": "code",
   "execution_count": null,
   "metadata": {},
   "outputs": [],
   "source": []
  }
 ],
 "metadata": {
  "kernelspec": {
   "display_name": "retrieval",
   "language": "python",
   "name": "python3"
  },
  "language_info": {
   "codemirror_mode": {
    "name": "ipython",
    "version": 3
   },
   "file_extension": ".py",
   "mimetype": "text/x-python",
   "name": "python",
   "nbconvert_exporter": "python",
   "pygments_lexer": "ipython3",
   "version": "3.11.9"
  }
 },
 "nbformat": 4,
 "nbformat_minor": 2
}
