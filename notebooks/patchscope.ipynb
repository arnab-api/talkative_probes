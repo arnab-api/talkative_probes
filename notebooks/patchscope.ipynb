{
 "cells": [
  {
   "cell_type": "code",
   "execution_count": 1,
   "metadata": {},
   "outputs": [],
   "source": [
    "%load_ext autoreload\n",
    "%autoreload 2"
   ]
  },
  {
   "cell_type": "code",
   "execution_count": 2,
   "metadata": {},
   "outputs": [
    {
     "name": "stdout",
     "output_type": "stream",
     "text": [
      "2024-10-24 21:23:33 __main__ INFO     torch.__version__='2.5.0+cu124', torch.version.cuda='12.4'\n"
     ]
    }
   ],
   "source": [
    "import sys\n",
    "import torch\n",
    "import logging\n",
    "\n",
    "sys.path.append(\"../\")\n",
    "import src.utils.logging_utils as logging_utils\n",
    "import src.functional as functional\n",
    "import src.models as models\n",
    "import src.tokens as tokens\n",
    "import src.dataset as dataset\n",
    "import src.patchscope_utils as patchscope_utils\n",
    "\n",
    "logger = logging.getLogger(__name__)\n",
    "\n",
    "logging.basicConfig(\n",
    "    level=logging.INFO,\n",
    "    format=logging_utils.DEFAULT_FORMAT,\n",
    "    datefmt=logging_utils.DEFAULT_DATEFMT,\n",
    "    stream=sys.stdout,\n",
    ")\n",
    "\n",
    "logger.info(f\"{torch.__version__=}, {torch.version.cuda=}\")"
   ]
  },
  {
   "cell_type": "code",
   "execution_count": 3,
   "metadata": {},
   "outputs": [
    {
     "name": "stdout",
     "output_type": "stream",
     "text": [
      "2024-10-24 21:23:34 src.models WARNING  meta-llama/Llama-3.1-8B-Instruct not found in models\n",
      "If not found in cache, model will be downloaded from HuggingFace to cache directory\n"
     ]
    },
    {
     "name": "stdout",
     "output_type": "stream",
     "text": [
      "2024-10-24 21:23:35 accelerate.utils.modeling INFO     We will use 90% of the memory on device 0 for storing the model, and 10% for the buffer to avoid OOM. You can set `max_memory` in to a higher value to use more memory (at your own risk).\n"
     ]
    },
    {
     "data": {
      "application/vnd.jupyter.widget-view+json": {
       "model_id": "49fc1387aae242698d450aa307aa8e6d",
       "version_major": 2,
       "version_minor": 0
      },
      "text/plain": [
       "Loading checkpoint shards:   0%|          | 0/4 [00:00<?, ?it/s]"
      ]
     },
     "metadata": {},
     "output_type": "display_data"
    },
    {
     "name": "stdout",
     "output_type": "stream",
     "text": [
      "2024-10-24 21:23:40 src.models INFO     loaded model <meta-llama/Llama-3.1-8B-Instruct> | size: 15316.516 MB | dtype: torch.bfloat16 | device: cuda:0\n"
     ]
    }
   ],
   "source": [
    "# MODEL_KEY = \"meta-llama/Llama-3.2-3B-Instruct\"\n",
    "MODEL_KEY = \"meta-llama/Llama-3.1-8B-Instruct\"\n",
    "# MODEL_KEY = \"google/gemma-2-9b-it\"\n",
    "\n",
    "# MODEL_KEY = \"google/gemma-2-2b\"\n",
    "# MODEL_KEY = \"meta-llama/Llama-3.2-3B\"\n",
    "# MODEL_KEY = \"meta-llama/Llama-3.1-8B\"\n",
    "\n",
    "mt = models.ModelandTokenizer(\n",
    "    model_key=MODEL_KEY,\n",
    "    torch_dtype=torch.bfloat16,\n",
    ")"
   ]
  },
  {
   "cell_type": "code",
   "execution_count": 5,
   "metadata": {},
   "outputs": [],
   "source": [
    "true_prompt = \"The city of Paris is in the country of France.\"\n",
    "false_prompt = \"The city of Paris is in the country of Italy.\"\n",
    "true_input, false_input = [tokens.prepare_input(p, mt) for p in (true_prompt, false_prompt)]"
   ]
  },
  {
   "cell_type": "code",
   "execution_count": null,
   "metadata": {},
   "outputs": [
    {
     "data": {
      "text/plain": [
       "32"
      ]
     },
     "execution_count": 5,
     "metadata": {},
     "output_type": "execute_result"
    }
   ],
   "source": [
    "mt.n_layer"
   ]
  },
  {
   "cell_type": "code",
   "execution_count": 18,
   "metadata": {},
   "outputs": [],
   "source": [
    "# layers = [24]\n",
    "layers = list(range(3, 30))\n",
    "\n",
    "true_h, false_h = [\n",
    "    patchscope_utils.get_h_layers(mt, input_, layers) for input_ in (true_input, false_input)\n",
    "]"
   ]
  },
  {
   "cell_type": "code",
   "execution_count": 12,
   "metadata": {},
   "outputs": [
    {
     "data": {
      "text/plain": [
       "['True', 'False']"
      ]
     },
     "execution_count": 12,
     "metadata": {},
     "output_type": "execute_result"
    }
   ],
   "source": [
    "true_token, false_token = [mt.tokenizer.encode(t)[-1] for t in (\"True\", \"False\")]\n",
    "[mt.tokenizer.decode(t) for t in (true_token, false_token)]"
   ]
  },
  {
   "cell_type": "code",
   "execution_count": 4,
   "metadata": {},
   "outputs": [],
   "source": [
    "base_prompt = '''The city of Tokyo is in Japan. This statement is: True\n",
    "The city of Hanoi is in Poland. This statement is: False\n",
    "placeholder placeholder placeholder placeholder placeholder This statement is: '''\n",
    "\n",
    "instruct_prompt = '''<|start_header_id|>user<|end_header_id|>\n",
    "\n",
    "True or false: placeholder placeholder placeholder placeholder placeholder<|eot_id|>\n",
    "<|start_header_id|>assistant<|end_header_id|>\n",
    "\n",
    "'''\n",
    "\n",
    "target_prompt = {\n",
    "    \"meta-llama/Llama-3.2-3B-Instruct\" : instruct_prompt,\n",
    "    \"meta-llama/Llama-3.1-8B-Instruct\" : instruct_prompt,\n",
    "    \"meta-llama/Llama-3.2-3B\" : base_prompt,\n",
    "    \"meta-llama/Llama-3.1-8B\" : base_prompt,\n",
    "}[MODEL_KEY]"
   ]
  },
  {
   "cell_type": "code",
   "execution_count": 21,
   "metadata": {},
   "outputs": [
    {
     "name": "stdout",
     "output_type": "stream",
     "text": [
      "The city of Paris is in the country of France.\n",
      "    (393, PredictedToken(token='True', prob=8.232022810261697e-05, logit=8.4375, token_id=2575))\n",
      "    (413, PredictedToken(token='False', prob=7.733269012533128e-05, logit=8.375, token_id=4139))\n",
      "The city of Paris is in the country of Italy.\n",
      "    (295, PredictedToken(token='True', prob=0.00011337664182065055, logit=8.4375, token_id=2575))\n",
      "    (268, PredictedToken(token='False', prob=0.00012847254402004182, logit=8.5625, token_id=4139))\n"
     ]
    }
   ],
   "source": [
    "for prompt, h in zip((true_prompt, false_prompt), (true_h, false_h)):\n",
    "    print(prompt)\n",
    "    _, result_dict = functional.patchscope(\n",
    "        mt = mt, \n",
    "        hs = patchscope_utils.get_h_with_target_layer(h, 3) if len(h) == 1 else h,\n",
    "        target_prompt = target_prompt,\n",
    "        interested_tokens = (true_token, false_token),\n",
    "        k = 5)\n",
    "    for t in (true_token, false_token):\n",
    "        print(\"   \", result_dict[t])\n"
   ]
  },
  {
   "cell_type": "code",
   "execution_count": 15,
   "metadata": {},
   "outputs": [],
   "source": [
    "gmt_dataset = dataset.GMTDataset.from_csv(\"cities.csv\", few_shot=False).examples\n",
    "len(gmt_dataset)"
   ]
  },
  {
   "cell_type": "code",
   "execution_count": null,
   "metadata": {},
   "outputs": [
    {
     "name": "stderr",
     "output_type": "stream",
     "text": [
      "  0%|                                                                                          | 0/100 [00:00<?, ?it/s]"
     ]
    },
    {
     "name": "stderr",
     "output_type": "stream",
     "text": [
      "  1%|▊                                                                                 | 1/100 [00:02<03:53,  2.36s/it]"
     ]
    }
   ],
   "source": [
    "evaluation_results = []\n",
    "\n",
    "for dataset_name in dataset.GMT_DATA_FILES:\n",
    "    examples = dataset.GMTDataset.from_csv(dataset_name, few_shot=False).examples[:100]\n",
    "    evaluation_config = patchscope_utils.EvaluationConfig(\n",
    "        model_key=MODEL_KEY,\n",
    "        dataset=dataset_name,\n",
    "        target_prompt=target_prompt,\n",
    "        label_to_token={ True: \"True\", False: \"False\" },\n",
    "        patchscope_config=patchscope_utils.PatchscopeConfig(\n",
    "            source_layers=list(range(3, 30)),\n",
    "            target_layer=None\n",
    "        )\n",
    "    )\n",
    "    evaluation_runner = patchscope_utils.EvaluationRunner(mt, evaluation_config)\n",
    "    evaluation_result = evaluation_runner.evaluate(examples)\n",
    "    # evaluation_result = evaluation_runner.evaluate([(true_prompt, True), (false_prompt, False)])\n",
    "    evaluation_results.append(evaluation_result)\n",
    "    print(evaluation_result)"
   ]
  }
 ],
 "metadata": {
  "kernelspec": {
   "display_name": "Python 3",
   "language": "python",
   "name": "python3"
  },
  "language_info": {
   "codemirror_mode": {
    "name": "ipython",
    "version": 3
   },
   "file_extension": ".py",
   "mimetype": "text/x-python",
   "name": "python",
   "nbconvert_exporter": "python",
   "pygments_lexer": "ipython3",
   "version": "3.10.15"
  }
 },
 "nbformat": 4,
 "nbformat_minor": 2
}
