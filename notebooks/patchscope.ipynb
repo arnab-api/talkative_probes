{
 "cells": [
  {
   "cell_type": "code",
   "execution_count": 1,
   "metadata": {},
   "outputs": [],
   "source": [
    "%load_ext autoreload\n",
    "%autoreload 2"
   ]
  },
  {
   "cell_type": "code",
   "execution_count": 2,
   "metadata": {},
   "outputs": [
    {
     "name": "stderr",
     "output_type": "stream",
     "text": [
      "/home/local_arnab/miniconda3/envs/retrieval/lib/python3.11/site-packages/tqdm/auto.py:21: TqdmWarning: IProgress not found. Please update jupyter and ipywidgets. See https://ipywidgets.readthedocs.io/en/stable/user_install.html\n",
      "  from .autonotebook import tqdm as notebook_tqdm\n"
     ]
    },
    {
     "name": "stdout",
     "output_type": "stream",
     "text": [
      "2024-10-22 19:32:49 __main__ INFO     torch.__version__='2.4.1+cu121', torch.version.cuda='12.1'\n"
     ]
    }
   ],
   "source": [
    "import time, json\n",
    "import sys\n",
    "sys.path.append(\"../\")\n",
    "sys.path.append(\"../chess_llm_interpretability\")\n",
    "import os\n",
    "import torch\n",
    "import numpy as np\n",
    "\n",
    "import logging\n",
    "from src.utils import logging_utils\n",
    "from src.utils import env_utils\n",
    "from src import functional\n",
    "\n",
    "logger = logging.getLogger(__name__)\n",
    "\n",
    "logging.basicConfig(\n",
    "    level=logging.INFO,\n",
    "    format=logging_utils.DEFAULT_FORMAT,\n",
    "    datefmt=logging_utils.DEFAULT_DATEFMT,\n",
    "    stream=sys.stdout,\n",
    ")\n",
    "\n",
    "logger.info(f\"{torch.__version__=}, {torch.version.cuda=}\")"
   ]
  },
  {
   "cell_type": "code",
   "execution_count": 9,
   "metadata": {},
   "outputs": [
    {
     "name": "stdout",
     "output_type": "stream",
     "text": [
      "2024-10-22 19:35:29 accelerate.utils.modeling INFO     We will use 90% of the memory on device 0 for storing the model, and 10% for the buffer to avoid OOM. You can set `max_memory` in to a higher value to use more memory (at your own risk).\n"
     ]
    },
    {
     "name": "stderr",
     "output_type": "stream",
     "text": [
      "Loading checkpoint shards: 100%|██████████| 2/2 [00:02<00:00,  1.01s/it]"
     ]
    },
    {
     "name": "stdout",
     "output_type": "stream",
     "text": [
      "2024-10-22 19:35:31 src.models INFO     loaded model </home/local_arnab/Codes/00_MODEL/meta-llama/Llama-3.2-3B> | size: 6127.841 MB | dtype: torch.float16 | device: cuda:0\n"
     ]
    },
    {
     "name": "stderr",
     "output_type": "stream",
     "text": [
      "\n"
     ]
    }
   ],
   "source": [
    "from src.models import ModelandTokenizer\n",
    "\n",
    "# MODEL_KEY = \"meta-llama/Llama-3.2-3B-Instruct\"\n",
    "# MODEL_KEY = \"meta-llama/Llama-3.1-8B-Instruct\"\n",
    "\n",
    "# MODEL_KEY = \"meta-llama/Llama-3.2-3B\"\n",
    "# MODEL_KEY = \"google/gemma-2-2b\"\n",
    "# MODEL_KEY = \"meta-llama/Llama-3.1-8B\"\n",
    "MODEL_KEY = \"meta-llama/Llama-3.2-3B\"\n",
    "\n",
    "mt = ModelandTokenizer(\n",
    "    model_key=MODEL_KEY,\n",
    "    # torch_dtype=torch.float32,\n",
    ")"
   ]
  },
  {
   "cell_type": "code",
   "execution_count": 21,
   "metadata": {},
   "outputs": [],
   "source": [
    "from src.functional import patchscope, get_hs, logit_lens\n",
    "from src.tokens import prepare_input\n",
    "\n",
    "prompt = \"The city of Paris is in the country of Italy.\"\n",
    "inputs = prepare_input(prompt, mt)"
   ]
  },
  {
   "cell_type": "code",
   "execution_count": 22,
   "metadata": {},
   "outputs": [
    {
     "data": {
      "text/plain": [
       "28"
      ]
     },
     "execution_count": 22,
     "metadata": {},
     "output_type": "execute_result"
    }
   ],
   "source": [
    "mt.n_layer"
   ]
  },
  {
   "cell_type": "code",
   "execution_count": 23,
   "metadata": {},
   "outputs": [
    {
     "data": {
      "text/plain": [
       "torch.Size([3072])"
      ]
     },
     "execution_count": 23,
     "metadata": {},
     "output_type": "execute_result"
    }
   ],
   "source": [
    "h = get_hs(\n",
    "    mt = mt,\n",
    "    input = inputs,\n",
    "    locations = [(mt.layer_name_format.format(24), inputs.input_ids.shape[1] - 1)]\n",
    ")\n",
    "\n",
    "h.shape"
   ]
  },
  {
   "cell_type": "code",
   "execution_count": 24,
   "metadata": {},
   "outputs": [
    {
     "data": {
      "text/plain": [
       "{'input_ids': [[128000, 2575], [128000, 4139], [128000, 1904], [128000, 3934], [128000, 9891], [128000, 2201]], 'attention_mask': [[1, 1], [1, 1], [1, 1], [1, 1], [1, 1], [1, 1]]}"
      ]
     },
     "execution_count": 24,
     "metadata": {},
     "output_type": "execute_result"
    }
   ],
   "source": [
    "interested_tokens = [\"True\", \"False\", \"true\", \"false\", \"yes\", \"no\"]\n",
    "mt.tokenizer(interested_tokens)"
   ]
  },
  {
   "cell_type": "code",
   "execution_count": 25,
   "metadata": {},
   "outputs": [
    {
     "data": {
      "text/plain": [
       "([PredictedToken(token=' cat', prob=0.22968816757202148, logit=15.21875, token_id=8415),\n",
       "  PredictedToken(token=' copy', prob=0.07456883043050766, logit=14.09375, token_id=3048),\n",
       "  PredictedToken(token=' ->', prob=0.03868579864501953, logit=13.4375, token_id=1492),\n",
       "  PredictedToken(token=' ', prob=0.012559440918266773, logit=12.3125, token_id=220),\n",
       "  PredictedToken(token='.', prob=0.010911830700933933, logit=12.171875, token_id=662)],\n",
       " {2575: (26359,\n",
       "   PredictedToken(token='True', prob=6.081589845052804e-07, logit=2.376953125, token_id=2575)),\n",
       "  4139: (57773,\n",
       "   PredictedToken(token='False', prob=7.946209734654985e-08, logit=0.341796875, token_id=4139))})"
      ]
     },
     "execution_count": 25,
     "metadata": {},
     "output_type": "execute_result"
    }
   ],
   "source": [
    "patchscope(\n",
    "    mt = mt, \n",
    "    h = h,\n",
    "    layer_idx = 4,\n",
    "    interested_tokens = [2575, 4139],\n",
    "    k = 5\n",
    ")"
   ]
  },
  {
   "cell_type": "code",
   "execution_count": 26,
   "metadata": {},
   "outputs": [
    {
     "data": {
      "text/plain": [
       "[[PredictedToken(token=' cup', prob=0.8846616744995117, logit=23.859375, token_id=10747),\n",
       "  PredictedToken(token=' cupcakes', prob=0.041376180946826935, logit=20.796875, token_id=88993),\n",
       "  PredictedToken(token=' cake', prob=0.023209931328892708, logit=20.21875, token_id=19692),\n",
       "  PredictedToken(token=' Cup', prob=0.017519773915410042, logit=19.9375, token_id=11098),\n",
       "  PredictedToken(token=' cat', prob=0.0012494523543864489, logit=17.296875, token_id=8415)]]"
      ]
     },
     "execution_count": 26,
     "metadata": {},
     "output_type": "execute_result"
    }
   ],
   "source": [
    "from src.functional import predict_next_token\n",
    "\n",
    "placeholder = \"cupcake\"\n",
    "target_prompt = f\"cat -> cat; hello -> hello; Microsoft -> Microsoft; copy -> copy; Python -> Python; {placeholder} ->\"\n",
    "\n",
    "predict_next_token(\n",
    "    mt = mt, \n",
    "    inputs = target_prompt\n",
    ")\n"
   ]
  },
  {
   "cell_type": "code",
   "execution_count": null,
   "metadata": {},
   "outputs": [],
   "source": []
  }
 ],
 "metadata": {
  "kernelspec": {
   "display_name": "retrieval",
   "language": "python",
   "name": "python3"
  },
  "language_info": {
   "codemirror_mode": {
    "name": "ipython",
    "version": 3
   },
   "file_extension": ".py",
   "mimetype": "text/x-python",
   "name": "python",
   "nbconvert_exporter": "python",
   "pygments_lexer": "ipython3",
   "version": "3.11.9"
  }
 },
 "nbformat": 4,
 "nbformat_minor": 2
}
