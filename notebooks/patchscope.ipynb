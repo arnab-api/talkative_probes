{
 "cells": [
  {
   "cell_type": "code",
   "execution_count": 1,
   "metadata": {},
   "outputs": [],
   "source": [
    "%load_ext autoreload\n",
    "%autoreload 2"
   ]
  },
  {
   "cell_type": "code",
   "execution_count": 2,
   "metadata": {},
   "outputs": [
    {
     "name": "stderr",
     "output_type": "stream",
     "text": [
      "/home/local_arnab/miniconda3/envs/retrieval/lib/python3.11/site-packages/tqdm/auto.py:21: TqdmWarning: IProgress not found. Please update jupyter and ipywidgets. See https://ipywidgets.readthedocs.io/en/stable/user_install.html\n",
      "  from .autonotebook import tqdm as notebook_tqdm\n"
     ]
    },
    {
     "name": "stdout",
     "output_type": "stream",
     "text": [
      "2024-10-22 19:32:49 __main__ INFO     torch.__version__='2.4.1+cu121', torch.version.cuda='12.1'\n"
     ]
    }
   ],
   "source": [
    "import time, json\n",
    "import sys\n",
    "sys.path.append(\"../\")\n",
    "sys.path.append(\"../chess_llm_interpretability\")\n",
    "import os\n",
    "import torch\n",
    "import numpy as np\n",
    "\n",
    "import logging\n",
    "from src.utils import logging_utils\n",
    "from src.utils import env_utils\n",
    "from src import functional\n",
    "\n",
    "logger = logging.getLogger(__name__)\n",
    "\n",
    "logging.basicConfig(\n",
    "    level=logging.INFO,\n",
    "    format=logging_utils.DEFAULT_FORMAT,\n",
    "    datefmt=logging_utils.DEFAULT_DATEFMT,\n",
    "    stream=sys.stdout,\n",
    ")\n",
    "\n",
    "logger.info(f\"{torch.__version__=}, {torch.version.cuda=}\")"
   ]
  },
  {
   "cell_type": "code",
   "execution_count": 9,
   "metadata": {},
   "outputs": [
    {
     "name": "stdout",
     "output_type": "stream",
     "text": [
      "2024-10-22 19:35:29 accelerate.utils.modeling INFO     We will use 90% of the memory on device 0 for storing the model, and 10% for the buffer to avoid OOM. You can set `max_memory` in to a higher value to use more memory (at your own risk).\n"
     ]
    },
    {
     "name": "stderr",
     "output_type": "stream",
     "text": [
      "Loading checkpoint shards: 100%|██████████| 2/2 [00:02<00:00,  1.01s/it]"
     ]
    },
    {
     "name": "stdout",
     "output_type": "stream",
     "text": [
      "2024-10-22 19:35:31 src.models INFO     loaded model </home/local_arnab/Codes/00_MODEL/meta-llama/Llama-3.2-3B> | size: 6127.841 MB | dtype: torch.float16 | device: cuda:0\n"
     ]
    },
    {
     "name": "stderr",
     "output_type": "stream",
     "text": [
      "\n"
     ]
    }
   ],
   "source": [
    "from src.models import ModelandTokenizer\n",
    "\n",
    "# MODEL_KEY = \"meta-llama/Llama-3.2-3B-Instruct\"\n",
    "# MODEL_KEY = \"meta-llama/Llama-3.1-8B-Instruct\"\n",
    "\n",
    "# MODEL_KEY = \"meta-llama/Llama-3.2-3B\"\n",
    "# MODEL_KEY = \"google/gemma-2-2b\"\n",
    "# MODEL_KEY = \"meta-llama/Llama-3.1-8B\"\n",
    "MODEL_KEY = \"meta-llama/Llama-3.2-3B\"\n",
    "\n",
    "mt = ModelandTokenizer(\n",
    "    model_key=MODEL_KEY,\n",
    "    # torch_dtype=torch.float32,\n",
    ")"
   ]
  },
  {
   "cell_type": "code",
   "execution_count": 34,
   "metadata": {},
   "outputs": [
    {
     "data": {
      "text/plain": [
       "' CEO'"
      ]
     },
     "execution_count": 34,
     "metadata": {},
     "output_type": "execute_result"
    }
   ],
   "source": [
    "from src.functional import patchscope, get_hs, logit_lens\n",
    "from src.tokens import prepare_input, find_token_range\n",
    "\n",
    "# prompt = \"The city of Paris is in the country of Italy.\"\n",
    "prompt = \"Amazon's former CEO attended the Oscars.\"\n",
    "inputs = prepare_input(prompt, mt, return_offset_mapping=True)\n",
    "\n",
    "token_range = find_token_range(\n",
    "    string = prompt,\n",
    "    substring = \"CEO\",\n",
    "    tokenizer=mt,\n",
    "    offset_mapping=inputs[\"offset_mapping\"][0],\n",
    ")\n",
    "\n",
    "mt.tokenizer.decode(inputs[\"input_ids\"][0][token_range[0]:token_range[1]])  # CEO"
   ]
  },
  {
   "cell_type": "code",
   "execution_count": 35,
   "metadata": {},
   "outputs": [
    {
     "data": {
      "text/plain": [
       "torch.Size([3072])"
      ]
     },
     "execution_count": 35,
     "metadata": {},
     "output_type": "execute_result"
    }
   ],
   "source": [
    "h = get_hs(\n",
    "    mt = mt,\n",
    "    input = inputs,\n",
    "    locations = [(mt.layer_name_format.format(14), token_range[1] - 1)]\n",
    ")\n",
    "\n",
    "h.shape"
   ]
  },
  {
   "cell_type": "code",
   "execution_count": 36,
   "metadata": {},
   "outputs": [
    {
     "data": {
      "text/plain": [
       "{'input_ids': [[128000, 2575], [128000, 4139], [128000, 1904], [128000, 3934], [128000, 9891], [128000, 2201]], 'attention_mask': [[1, 1], [1, 1], [1, 1], [1, 1], [1, 1], [1, 1]]}"
      ]
     },
     "execution_count": 36,
     "metadata": {},
     "output_type": "execute_result"
    }
   ],
   "source": [
    "interested_tokens = [\"True\", \"False\", \"true\", \"false\", \"yes\", \"no\"]\n",
    "mt.tokenizer(interested_tokens)"
   ]
  },
  {
   "cell_type": "code",
   "execution_count": 37,
   "metadata": {},
   "outputs": [
    {
     "data": {
      "text/plain": [
       "([PredictedToken(token=' CEO', prob=0.6893256306648254, logit=17.03125, token_id=12432),\n",
       "  PredictedToken(token=' ce', prob=0.0507209338247776, logit=14.421875, token_id=3846),\n",
       "  PredictedToken(token=' copy', prob=0.010065877810120583, logit=12.8046875, token_id=3048),\n",
       "  PredictedToken(token=' C', prob=0.00551564572378993, logit=12.203125, token_id=356),\n",
       "  PredictedToken(token=' CE', prob=0.004829660523682833, logit=12.0703125, token_id=27809)],\n",
       " {2575: (76484,\n",
       "   PredictedToken(token='True', prob=1.2528200699080116e-08, logit=-0.7919921875, token_id=2575)),\n",
       "  4139: (93611,\n",
       "   PredictedToken(token='False', prob=6.3613958545261085e-09, logit=-1.4697265625, token_id=4139))})"
      ]
     },
     "execution_count": 37,
     "metadata": {},
     "output_type": "execute_result"
    }
   ],
   "source": [
    "patchscope(\n",
    "    mt = mt, \n",
    "    h = h,\n",
    "    layer_idx = 4,\n",
    "    interested_tokens = [2575, 4139],\n",
    "    k = 5\n",
    ")"
   ]
  },
  {
   "cell_type": "code",
   "execution_count": 38,
   "metadata": {},
   "outputs": [
    {
     "data": {
      "text/plain": [
       "[PredictedToken(token='former', prob=0.03071483224630356, logit=9.3984375, token_id=35627),\n",
       " PredictedToken(token=' former', prob=0.025864483788609505, logit=9.2265625, token_id=4846),\n",
       " PredictedToken(token=' Former', prob=0.02506871707737446, logit=9.1953125, token_id=33600),\n",
       " PredictedToken(token='/exec', prob=0.020945696160197258, logit=9.015625, token_id=92005),\n",
       " PredictedToken(token='Former', prob=0.005954341497272253, logit=7.7578125, token_id=31945)]"
      ]
     },
     "execution_count": 38,
     "metadata": {},
     "output_type": "execute_result"
    }
   ],
   "source": [
    "logit_lens(\n",
    "    mt = mt, \n",
    "    h = h\n",
    ")"
   ]
  },
  {
   "cell_type": "code",
   "execution_count": 26,
   "metadata": {},
   "outputs": [
    {
     "data": {
      "text/plain": [
       "[[PredictedToken(token=' cup', prob=0.8846616744995117, logit=23.859375, token_id=10747),\n",
       "  PredictedToken(token=' cupcakes', prob=0.041376180946826935, logit=20.796875, token_id=88993),\n",
       "  PredictedToken(token=' cake', prob=0.023209931328892708, logit=20.21875, token_id=19692),\n",
       "  PredictedToken(token=' Cup', prob=0.017519773915410042, logit=19.9375, token_id=11098),\n",
       "  PredictedToken(token=' cat', prob=0.0012494523543864489, logit=17.296875, token_id=8415)]]"
      ]
     },
     "execution_count": 26,
     "metadata": {},
     "output_type": "execute_result"
    }
   ],
   "source": [
    "from src.functional import predict_next_token\n",
    "\n",
    "placeholder = \"cupcake\"\n",
    "target_prompt = f\"cat -> cat; hello -> hello; Microsoft -> Microsoft; copy -> copy; Python -> Python; {placeholder} ->\"\n",
    "\n",
    "predict_next_token(\n",
    "    mt = mt, \n",
    "    inputs = target_prompt\n",
    ")\n"
   ]
  },
  {
   "cell_type": "code",
   "execution_count": null,
   "metadata": {},
   "outputs": [],
   "source": []
  }
 ],
 "metadata": {
  "kernelspec": {
   "display_name": "retrieval",
   "language": "python",
   "name": "python3"
  },
  "language_info": {
   "codemirror_mode": {
    "name": "ipython",
    "version": 3
   },
   "file_extension": ".py",
   "mimetype": "text/x-python",
   "name": "python",
   "nbconvert_exporter": "python",
   "pygments_lexer": "ipython3",
   "version": "3.11.9"
  }
 },
 "nbformat": 4,
 "nbformat_minor": 2
}
