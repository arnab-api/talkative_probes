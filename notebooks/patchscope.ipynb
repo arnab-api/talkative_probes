{
 "cells": [
  {
   "cell_type": "markdown",
   "metadata": {},
   "source": [
    "# Setup"
   ]
  },
  {
   "cell_type": "code",
   "execution_count": 1,
   "metadata": {},
   "outputs": [],
   "source": [
    "%load_ext autoreload\n",
    "%autoreload 2"
   ]
  },
  {
   "cell_type": "code",
   "execution_count": 2,
   "metadata": {},
   "outputs": [
    {
     "name": "stdout",
     "output_type": "stream",
     "text": [
      "2024-10-25 20:28:35 __main__ INFO     torch.__version__='2.5.0+cu124', torch.version.cuda='12.4'\n"
     ]
    }
   ],
   "source": [
    "import sys\n",
    "import torch\n",
    "import logging\n",
    "\n",
    "sys.path.append(\"../\")\n",
    "import src.utils.logging_utils as logging_utils\n",
    "import src.functional as functional\n",
    "import src.models as models\n",
    "import src.tokens as tokens\n",
    "import src.dataset as dataset\n",
    "import src.patchscope_utils as patchscope_utils\n",
    "import proto.patchscope_pb2 as patchscope_pb2\n",
    "\n",
    "logger = logging.getLogger(__name__)\n",
    "\n",
    "logging.basicConfig(\n",
    "    level=logging.INFO,\n",
    "    format=logging_utils.DEFAULT_FORMAT,\n",
    "    datefmt=logging_utils.DEFAULT_DATEFMT,\n",
    "    stream=sys.stdout,\n",
    ")\n",
    "\n",
    "logger.info(f\"{torch.__version__=}, {torch.version.cuda=}\")"
   ]
  },
  {
   "cell_type": "code",
   "execution_count": 3,
   "metadata": {},
   "outputs": [
    {
     "name": "stdout",
     "output_type": "stream",
     "text": [
      "2024-10-25 20:28:35 src.models WARNING  meta-llama/Llama-3.1-8B not found in models\n",
      "If not found in cache, model will be downloaded from HuggingFace to cache directory\n"
     ]
    },
    {
     "name": "stdout",
     "output_type": "stream",
     "text": [
      "2024-10-25 20:28:37 accelerate.utils.modeling INFO     We will use 90% of the memory on device 0 for storing the model, and 10% for the buffer to avoid OOM. You can set `max_memory` in to a higher value to use more memory (at your own risk).\n"
     ]
    },
    {
     "data": {
      "application/vnd.jupyter.widget-view+json": {
       "model_id": "1023f18dc4e44c4a95f0848a0ed23820",
       "version_major": 2,
       "version_minor": 0
      },
      "text/plain": [
       "Loading checkpoint shards:   0%|          | 0/4 [00:00<?, ?it/s]"
      ]
     },
     "metadata": {},
     "output_type": "display_data"
    },
    {
     "name": "stdout",
     "output_type": "stream",
     "text": [
      "2024-10-25 20:30:02 src.models INFO     loaded model <meta-llama/Llama-3.1-8B> | size: 15316.516 MB | dtype: torch.bfloat16 | device: cuda:0\n"
     ]
    },
    {
     "data": {
      "text/plain": [
       "32"
      ]
     },
     "execution_count": 3,
     "metadata": {},
     "output_type": "execute_result"
    }
   ],
   "source": [
    "# MODEL_KEY = \"meta-llama/Llama-3.2-3B-Instruct\"\n",
    "# MODEL_KEY = \"meta-llama/Llama-3.1-8B-Instruct\"\n",
    "# MODEL_KEY = \"meta-llama/Llama-3.2-3B\"\n",
    "MODEL_KEY = \"meta-llama/Llama-3.1-8B\"\n",
    "\n",
    "# MODEL_KEY = \"google/gemma-2-9b-it\"\n",
    "# MODEL_KEY = \"google/gemma-2-2b\"\n",
    "\n",
    "mt = models.ModelandTokenizer(\n",
    "    model_key=MODEL_KEY,\n",
    "    torch_dtype=torch.bfloat16,\n",
    ")\n",
    "\n",
    "mt.n_layer"
   ]
  },
  {
   "cell_type": "markdown",
   "metadata": {},
   "source": [
    "# Demo"
   ]
  },
  {
   "cell_type": "code",
   "execution_count": 4,
   "metadata": {},
   "outputs": [],
   "source": [
    "# true_prompt = \"The city of Paris is in the country of France.\"\n",
    "# false_prompt = \"The city of Paris is in the country of Italy.\"\n",
    "# true_input, false_input = [tokens.prepare_input(p, mt) for p in (true_prompt, false_prompt)]"
   ]
  },
  {
   "cell_type": "code",
   "execution_count": 5,
   "metadata": {},
   "outputs": [],
   "source": [
    "# # layers = [24]\n",
    "# layers = list(range(3, 30))\n",
    "\n",
    "# true_h, false_h = [\n",
    "#     patchscope_utils.get_h_layers(mt, input_, layers) for input_ in (true_input, false_input)\n",
    "# ]"
   ]
  },
  {
   "cell_type": "code",
   "execution_count": 6,
   "metadata": {},
   "outputs": [],
   "source": [
    "# true_token, false_token = [mt.tokenizer.encode(t)[-1] for t in (\"True\", \"False\")]\n",
    "# [mt.tokenizer.decode(t) for t in (true_token, false_token)]"
   ]
  },
  {
   "cell_type": "code",
   "execution_count": 7,
   "metadata": {},
   "outputs": [],
   "source": [
    "# for prompt, h in zip((true_prompt, false_prompt), (true_h, false_h)):\n",
    "#     print(prompt)\n",
    "#     _, result_dict = functional.patchscope(\n",
    "#         mt = mt, \n",
    "#         hs = patchscope_utils.get_h_with_target_layer(h, 3) if len(h) == 1 else h,\n",
    "#         target_prompt = target_prompt,\n",
    "#         interested_tokens = (true_token, false_token),\n",
    "#         k = 5)\n",
    "#     for t in (true_token, false_token):\n",
    "#         print(\"   \", result_dict[t])\n"
   ]
  },
  {
   "cell_type": "code",
   "execution_count": 8,
   "metadata": {},
   "outputs": [],
   "source": [
    "# gmt_dataset = dataset.GMTDataset.from_csv(\"cities.csv\", few_shot=False).examples\n",
    "# len(gmt_dataset)"
   ]
  },
  {
   "cell_type": "markdown",
   "metadata": {},
   "source": [
    "# Evaluation"
   ]
  },
  {
   "cell_type": "code",
   "execution_count": 9,
   "metadata": {},
   "outputs": [],
   "source": [
    "base_prompt = '''The city of Tokyo is in Japan. This statement is: True\n",
    "The city of Hanoi is in Poland. This statement is: False\n",
    "placeholder placeholder placeholder placeholder placeholder This statement is: '''\n",
    "\n",
    "instruct_prompt = '''<|start_header_id|>user<|end_header_id|>\n",
    "\n",
    "True or false: placeholder placeholder placeholder placeholder placeholder<|eot_id|>\n",
    "<|start_header_id|>assistant<|end_header_id|>\n",
    "\n",
    "'''\n",
    "\n",
    "target_prompt = {\n",
    "    \"meta-llama/Llama-3.2-3B-Instruct\" : instruct_prompt,\n",
    "    \"meta-llama/Llama-3.1-8B-Instruct\" : instruct_prompt,\n",
    "    \"meta-llama/Llama-3.2-3B\" : base_prompt,\n",
    "    \"meta-llama/Llama-3.1-8B\" : base_prompt,\n",
    "}[MODEL_KEY]\n",
    "\n",
    "model_short_name = {\n",
    "    \"meta-llama/Llama-3.2-3B-Instruct\" : \"llama_3b_instruct\",\n",
    "    \"meta-llama/Llama-3.1-8B-Instruct\" : \"llama_8b_instruct\",\n",
    "    \"meta-llama/Llama-3.2-3B\" : \"llama_3b\",\n",
    "    \"meta-llama/Llama-3.1-8B\" : \"llama_8b\",\n",
    "}[MODEL_KEY]"
   ]
  },
  {
   "cell_type": "code",
   "execution_count": null,
   "metadata": {},
   "outputs": [
    {
     "name": "stdout",
     "output_type": "stream",
     "text": [
      "meta-llama/Llama-3.1-8B llama_8b\n"
     ]
    }
   ],
   "source": [
    "print(MODEL_KEY, model_short_name)"
   ]
  },
  {
   "cell_type": "code",
   "execution_count": 11,
   "metadata": {},
   "outputs": [
    {
     "name": "stderr",
     "output_type": "stream",
     "text": [
      "  0%|                                                                                          | 0/100 [00:00<?, ?it/s]You're using a PreTrainedTokenizerFast tokenizer. Please note that with a fast tokenizer, using the `__call__` method is faster than using a method to encode the text followed by a call to the `pad` method to get a padded encoding.\n"
     ]
    },
    {
     "name": "stderr",
     "output_type": "stream",
     "text": [
      "Starting from v4.46, the `logits` model output will have the same type as the model (except at train time, where it will always be FP32)\n",
      "100%|████████████████████████████████████████████████████████████████████████████████| 100/100 [02:37<00:00,  1.57s/it]\n"
     ]
    },
    {
     "name": "stdout",
     "output_type": "stream",
     "text": [
      "sp_en_trans.csv 0.41\n"
     ]
    },
    {
     "name": "stderr",
     "output_type": "stream",
     "text": [
      "100%|████████████████████████████████████████████████████████████████████████████████| 100/100 [02:36<00:00,  1.57s/it]\n"
     ]
    },
    {
     "name": "stdout",
     "output_type": "stream",
     "text": [
      "neg_sp_en_trans.csv 0.42\n"
     ]
    },
    {
     "name": "stderr",
     "output_type": "stream",
     "text": [
      "100%|████████████████████████████████████████████████████████████████████████████████| 100/100 [02:36<00:00,  1.56s/it]\n"
     ]
    },
    {
     "name": "stdout",
     "output_type": "stream",
     "text": [
      "cities.csv 0.68\n"
     ]
    },
    {
     "name": "stderr",
     "output_type": "stream",
     "text": [
      "100%|████████████████████████████████████████████████████████████████████████████████| 100/100 [02:36<00:00,  1.56s/it]\n"
     ]
    },
    {
     "name": "stdout",
     "output_type": "stream",
     "text": [
      "neg_cities.csv 0.62\n"
     ]
    },
    {
     "name": "stderr",
     "output_type": "stream",
     "text": [
      "100%|████████████████████████████████████████████████████████████████████████████████| 100/100 [02:36<00:00,  1.57s/it]\n"
     ]
    },
    {
     "name": "stdout",
     "output_type": "stream",
     "text": [
      "smaller_than.csv 0.69\n"
     ]
    },
    {
     "name": "stderr",
     "output_type": "stream",
     "text": [
      "100%|████████████████████████████████████████████████████████████████████████████████| 100/100 [02:34<00:00,  1.55s/it]\n"
     ]
    },
    {
     "name": "stdout",
     "output_type": "stream",
     "text": [
      "larger_than.csv 0.65\n"
     ]
    },
    {
     "name": "stderr",
     "output_type": "stream",
     "text": [
      "100%|████████████████████████████████████████████████████████████████████████████████| 100/100 [02:32<00:00,  1.53s/it]\n"
     ]
    },
    {
     "name": "stdout",
     "output_type": "stream",
     "text": [
      "common_claim_true_false.csv 0.54\n"
     ]
    },
    {
     "name": "stderr",
     "output_type": "stream",
     "text": [
      "100%|████████████████████████████████████████████████████████████████████████████████| 100/100 [02:32<00:00,  1.53s/it]\n"
     ]
    },
    {
     "name": "stdout",
     "output_type": "stream",
     "text": [
      "companies_true_false.csv 0.63\n"
     ]
    },
    {
     "name": "stderr",
     "output_type": "stream",
     "text": [
      "100%|████████████████████████████████████████████████████████████████████████████████| 100/100 [02:32<00:00,  1.52s/it]"
     ]
    },
    {
     "name": "stdout",
     "output_type": "stream",
     "text": [
      "counterfact_true_false.csv 0.57\n"
     ]
    },
    {
     "name": "stderr",
     "output_type": "stream",
     "text": [
      "\n"
     ]
    }
   ],
   "source": [
    "result_set_name = model_short_name + \"__all_layers\"\n",
    "evaluation_results = patchscope_pb2.EvaluationResults()\n",
    "\n",
    "for filename in dataset.GMT_DATA_FILES:\n",
    "    examples = dataset.GMTDataset.simple_get_examples(filename)[:100]\n",
    "    evaluation_config = patchscope_pb2.EvaluationConfig(\n",
    "        model_key=MODEL_KEY,\n",
    "        dataset=filename,\n",
    "        target_prompt=target_prompt,\n",
    "        label_to_token={ \"1\": \"True\", \"0\": \"False\" },\n",
    "        patchscope_config=patchscope_pb2.PatchscopeConfig(\n",
    "            source_layers=list(range(mt.n_layer)),\n",
    "            target_layers=[]\n",
    "        )\n",
    "    )\n",
    "    evaluation_runner = patchscope_utils.EvaluationRunner(evaluation_config, mt)\n",
    "    evaluation_result = evaluation_runner.evaluate(examples)\n",
    "    evaluation_result.result_set_name = result_set_name\n",
    "    # evaluation_result = evaluation_runner.evaluate([(true_prompt, True), (false_prompt, False)])\n",
    "    evaluation_results.results.append(evaluation_result)\n",
    "    print(filename, evaluation_result.accuracy)"
   ]
  },
  {
   "cell_type": "code",
   "execution_count": 12,
   "metadata": {},
   "outputs": [],
   "source": [
    "with open(f\"results/{result_set_name}.binpb\", \"wb\") as f:\n",
    "    f.write(evaluation_results.SerializeToString())"
   ]
  }
 ],
 "metadata": {
  "kernelspec": {
   "display_name": "Python 3",
   "language": "python",
   "name": "python3"
  }
 },
 "nbformat": 4,
 "nbformat_minor": 2
}
