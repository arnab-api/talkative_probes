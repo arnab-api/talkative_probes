{
 "cells": [
  {
   "cell_type": "code",
   "execution_count": 1,
   "metadata": {},
   "outputs": [],
   "source": [
    "%load_ext autoreload\n",
    "%autoreload 2"
   ]
  },
  {
   "cell_type": "code",
   "execution_count": 2,
   "metadata": {},
   "outputs": [
    {
     "name": "stderr",
     "output_type": "stream",
     "text": [
      "/home/local_arnab/miniconda3/envs/retrieval/lib/python3.11/site-packages/tqdm/auto.py:21: TqdmWarning: IProgress not found. Please update jupyter and ipywidgets. See https://ipywidgets.readthedocs.io/en/stable/user_install.html\n",
      "  from .autonotebook import tqdm as notebook_tqdm\n"
     ]
    },
    {
     "name": "stdout",
     "output_type": "stream",
     "text": [
      "2024-10-28 20:29:48 __main__ INFO     torch.__version__='2.5.0+cu124', torch.version.cuda='12.4'\n"
     ]
    }
   ],
   "source": [
    "import time, json\n",
    "import sys\n",
    "sys.path.append(\"../\")\n",
    "import os\n",
    "import torch\n",
    "import numpy as np\n",
    "from tqdm import tqdm\n",
    "\n",
    "import logging\n",
    "from src.utils import logging_utils\n",
    "from src.utils import env_utils, experiment_utils\n",
    "from src import functional\n",
    "import wandb\n",
    "\n",
    "logger = logging.getLogger(__name__)\n",
    "\n",
    "logging.basicConfig(\n",
    "    level=logging.DEBUG,\n",
    "    format=logging_utils.DEFAULT_FORMAT,\n",
    "    datefmt=logging_utils.DEFAULT_DATEFMT,\n",
    "    stream=sys.stdout,\n",
    ")\n",
    "\n",
    "logger.info(f\"{torch.__version__=}, {torch.version.cuda=}\")"
   ]
  },
  {
   "cell_type": "code",
   "execution_count": 3,
   "metadata": {},
   "outputs": [
    {
     "name": "stdout",
     "output_type": "stream",
     "text": [
      "2024-10-28 20:29:49 accelerate.utils.modeling INFO     We will use 90% of the memory on device 0 for storing the model, and 10% for the buffer to avoid OOM. You can set `max_memory` in to a higher value to use more memory (at your own risk).\n"
     ]
    },
    {
     "name": "stderr",
     "output_type": "stream",
     "text": [
      "Loading checkpoint shards: 100%|██████████| 2/2 [00:03<00:00,  1.65s/it]"
     ]
    },
    {
     "name": "stdout",
     "output_type": "stream",
     "text": [
      "2024-10-28 20:29:52 src.models INFO     loaded model </home/local_arnab/Codes/00_MODEL/meta-llama/Llama-3.2-3B> | size: 12255.675 MB | dtype: torch.float32 | device: cuda:0\n"
     ]
    },
    {
     "name": "stderr",
     "output_type": "stream",
     "text": [
      "\n"
     ]
    }
   ],
   "source": [
    "from src.models import ModelandTokenizer\n",
    "\n",
    "# MODEL_KEY = \"meta-llama/Llama-3.2-3B-Instruct\"\n",
    "# MODEL_KEY = \"meta-llama/Llama-3.1-8B-Instruct\"\n",
    "\n",
    "MODEL_KEY = \"meta-llama/Llama-3.2-3B\"\n",
    "# MODEL_KEY = \"google/gemma-2-2b\"\n",
    "# MODEL_KEY = \"meta-llama/Llama-3.1-8B\"\n",
    "\n",
    "#! torch.adaptive precision\n",
    "mt = ModelandTokenizer(\n",
    "    model_key=MODEL_KEY,\n",
    "    torch_dtype=torch.float32,\n",
    ")"
   ]
  },
  {
   "cell_type": "markdown",
   "metadata": {},
   "source": [
    "### Utils"
   ]
  },
  {
   "cell_type": "code",
   "execution_count": 4,
   "metadata": {},
   "outputs": [],
   "source": [
    "from src.tokens import prepare_input, find_token_range\n",
    "from src.functional import interpret_logits, get_module_nnsight\n",
    "from src.activation_manager import ActivationLoader, ActivationSample\n",
    "\n",
    "def prepare_batch_input(batch: list[ActivationSample], mt: ModelandTokenizer):\n",
    "    batch_prompts = [b.query for b in batch]\n",
    "    batch_tokenized = prepare_input(\n",
    "        prompts=batch_prompts,\n",
    "        tokenizer=mt,\n",
    "        return_offsets_mapping=True\n",
    "    )\n",
    "\n",
    "    int_tok_idx = []\n",
    "    for idx in range(len(batch)):\n",
    "        try:\n",
    "            offset_mapping = batch_tokenized[\"offset_mapping\"][idx]\n",
    "            act_range = find_token_range(\n",
    "                string=batch[idx].query,\n",
    "                substring=\"#\",\n",
    "                occurrence=0,\n",
    "                tokenizer=mt,\n",
    "                offset_mapping=offset_mapping\n",
    "            )\n",
    "            int_tok_idx.append(act_range[1] - 1)\n",
    "        except:\n",
    "            logger.error(f\"can't find '#' in \\\"{batch[idx].query}\\\" ==> bad training data\")\n",
    "            first_attn_token = batch_tokenized[\"attention_mask\"].index(1) + 1\n",
    "            int_tok_idx.append(first_attn_token) \n",
    "\n",
    "    batch_tokenized.pop(\"offset_mapping\")\n",
    "\n",
    "    return batch_tokenized, int_tok_idx"
   ]
  },
  {
   "cell_type": "code",
   "execution_count": 5,
   "metadata": {},
   "outputs": [],
   "source": [
    "from src.functional import free_gpu_cache\n",
    "\n",
    "@torch.inference_mode()\n",
    "def evaluate_batch(batch: list[ActivationSample], mt: ModelandTokenizer):\n",
    "    batch_tokenized, int_tok_idx = prepare_batch_input(batch, mt)\n",
    "    # logger.debug(f\"{batch_tokenized.input_ids.shape=}\")\n",
    "    activations = [b.activation for b in batch]\n",
    "\n",
    "    with mt.trace(batch_tokenized):\n",
    "        # patch activation at every layer\n",
    "        module_names = mt.layer_names\n",
    "        for idx, act, int_tok in zip(range(len(batch)), activations, int_tok_idx):\n",
    "            for module_name in module_names:\n",
    "                module = get_module_nnsight(mt, module_name)\n",
    "                module.output[0][idx, int_tok, :] = torch.tensor(act, device=mt.device)\n",
    "        last_logits = [\n",
    "            mt.output.logits[idx, -1, :].save()\n",
    "            for idx in range(len(batch))\n",
    "        ]\n",
    "        # output = mt.output.save() # do not save output, save some memory\n",
    "\n",
    "    last_logits = torch.stack(last_logits)\n",
    "\n",
    "    predicted_labels = [\n",
    "        interpret_logits(\n",
    "            tokenizer=mt,\n",
    "            logits=last_logits[idx],\n",
    "            # logits = output.logits[idx, -1, :],\n",
    "            k = 2,\n",
    "        )[0]\n",
    "        for idx in range(len(batch))\n",
    "    ]\n",
    "\n",
    "    correct_labels = [b.label for b in batch]\n",
    "    correct_count = 0\n",
    "\n",
    "    for pred, correct in zip(predicted_labels, correct_labels):\n",
    "        # print(f\"{str(pred)=} | {correct=}\")\n",
    "        if pred.token.strip().lower() == correct.strip().lower():\n",
    "            correct_count += 1\n",
    "\n",
    "    free_gpu_cache()\n",
    "    return correct_count"
   ]
  },
  {
   "cell_type": "markdown",
   "metadata": {},
   "source": [
    "### Check Performance"
   ]
  },
  {
   "cell_type": "code",
   "execution_count": 6,
   "metadata": {},
   "outputs": [
    {
     "ename": "FileNotFoundError",
     "evalue": "[Errno 2] No such file or directory: '/home/local_arnab/Codes/Projects/talkative_probes/results/Llama-3.2-3B/patchscope_finetuned'",
     "output_type": "error",
     "traceback": [
      "\u001b[0;31m---------------------------------------------------------------------------\u001b[0m",
      "\u001b[0;31mFileNotFoundError\u001b[0m                         Traceback (most recent call last)",
      "Cell \u001b[0;32mIn[6], line 9\u001b[0m\n\u001b[1;32m      4\u001b[0m \u001b[38;5;28;01mfrom\u001b[39;00m \u001b[38;5;21;01mnnsight\u001b[39;00m \u001b[38;5;28;01mimport\u001b[39;00m LanguageModel\n\u001b[1;32m      6\u001b[0m finetuned_path \u001b[38;5;241m=\u001b[39m os\u001b[38;5;241m.\u001b[39mpath\u001b[38;5;241m.\u001b[39mjoin(\n\u001b[1;32m      7\u001b[0m     env_utils\u001b[38;5;241m.\u001b[39mDEFAULT_RESULTS_DIR, MODEL_KEY\u001b[38;5;241m.\u001b[39msplit(\u001b[38;5;124m\"\u001b[39m\u001b[38;5;124m/\u001b[39m\u001b[38;5;124m\"\u001b[39m)[\u001b[38;5;241m-\u001b[39m\u001b[38;5;241m1\u001b[39m], \u001b[38;5;124m\"\u001b[39m\u001b[38;5;124mpatchscope_finetuned\u001b[39m\u001b[38;5;124m\"\u001b[39m\n\u001b[1;32m      8\u001b[0m )\n\u001b[0;32m----> 9\u001b[0m finetuned_path \u001b[38;5;241m=\u001b[39m os\u001b[38;5;241m.\u001b[39mpath\u001b[38;5;241m.\u001b[39mjoin(finetuned_path, \u001b[43mos\u001b[49m\u001b[38;5;241;43m.\u001b[39;49m\u001b[43mlistdir\u001b[49m\u001b[43m(\u001b[49m\u001b[43mfinetuned_path\u001b[49m\u001b[43m)\u001b[49m[\u001b[38;5;241m-\u001b[39m\u001b[38;5;241m1\u001b[39m])\n\u001b[1;32m     10\u001b[0m tuned_model \u001b[38;5;241m=\u001b[39m AutoModelForCausalLM\u001b[38;5;241m.\u001b[39mfrom_pretrained(\n\u001b[1;32m     11\u001b[0m     finetuned_path, torch_dtype\u001b[38;5;241m=\u001b[39mtorch\u001b[38;5;241m.\u001b[39mfloat32\n\u001b[1;32m     12\u001b[0m )\u001b[38;5;241m.\u001b[39mto(\u001b[38;5;124m\"\u001b[39m\u001b[38;5;124mcuda\u001b[39m\u001b[38;5;124m\"\u001b[39m)\n\u001b[1;32m     14\u001b[0m tuned_lm \u001b[38;5;241m=\u001b[39m LanguageModel(tuned_model)\n",
      "\u001b[0;31mFileNotFoundError\u001b[0m: [Errno 2] No such file or directory: '/home/local_arnab/Codes/Projects/talkative_probes/results/Llama-3.2-3B/patchscope_finetuned'"
     ]
    }
   ],
   "source": [
    "# Loading PatchScope\n",
    "\n",
    "from transformers import AutoModelForCausalLM\n",
    "from nnsight import LanguageModel\n",
    "\n",
    "finetuned_path = os.path.join(\n",
    "    env_utils.DEFAULT_RESULTS_DIR, MODEL_KEY.split(\"/\")[-1], \"patchscope_finetuned\"\n",
    ")\n",
    "finetuned_path = os.path.join(finetuned_path, os.listdir(finetuned_path)[-1])\n",
    "tuned_model = AutoModelForCausalLM.from_pretrained(\n",
    "    finetuned_path, torch_dtype=torch.float32\n",
    ").to(\"cuda\")\n",
    "\n",
    "tuned_lm = LanguageModel(tuned_model)\n",
    "patchscope = ModelandTokenizer(\n",
    "    base_lm = tuned_lm,\n",
    "    tokenizer = mt.tokenizer\n",
    ")"
   ]
  },
  {
   "cell_type": "code",
   "execution_count": 22,
   "metadata": {},
   "outputs": [
    {
     "name": "stderr",
     "output_type": "stream",
     "text": [
      "  0%|          | 0/6 [00:00<?, ?it/s]You're using a PreTrainedTokenizerFast tokenizer. Please note that with a fast tokenizer, using the `__call__` method is faster than using a method to encode the text followed by a call to the `pad` method to get a padded encoding.\n",
      "100%|██████████| 6/6 [00:03<00:00,  1.89it/s]"
     ]
    },
    {
     "name": "stdout",
     "output_type": "stream",
     "text": [
      "2024-10-28 13:11:14 src.functional DEBUG    Collected 6 latents, out of 6\n"
     ]
    },
    {
     "name": "stderr",
     "output_type": "stream",
     "text": [
      "\n"
     ]
    }
   ],
   "source": [
    "from src.functional import get_concept_latents\n",
    "from src.tokens import prepare_input\n",
    "\n",
    "test = [\n",
    "    (\"The sky is blue.\",  \" yes\"),\n",
    "    (\"The sky is green.\", \" no\"),\n",
    "    (\"The sun rises in the north.\", \" no\"),\n",
    "    (\"Michael Jordan used to play Cricket.\", \" no\"),\n",
    "    (\"The capital of France is Paris.\", \" yes\"),\n",
    "    (\"The capital of France is Berlin.\", \" no\"),\n",
    "]\n",
    "\n",
    "activations = get_concept_latents(\n",
    "    mt=mt, \n",
    "    queries=test, \n",
    "    interested_layers=[mt.layer_name_format.format(l) for l in range(10, 15)],\n",
    "    check_answer=False,\n",
    ")\n",
    "\n",
    "lcc = LatentCacheCollection(latents=activations)\n",
    "\n",
    "latent_arr = populate_latent_arr(lcc)"
   ]
  },
  {
   "cell_type": "code",
   "execution_count": 24,
   "metadata": {},
   "outputs": [
    {
     "data": {
      "text/plain": [
       "30"
      ]
     },
     "execution_count": 24,
     "metadata": {},
     "output_type": "execute_result"
    }
   ],
   "source": [
    "buffer = LatentSampleBuffer(latent_arr, batch_size=32)\n",
    "len(buffer)"
   ]
  },
  {
   "cell_type": "code",
   "execution_count": 25,
   "metadata": {},
   "outputs": [
    {
     "data": {
      "text/plain": [
       "30"
      ]
     },
     "execution_count": 25,
     "metadata": {},
     "output_type": "execute_result"
    }
   ],
   "source": [
    "batch = next(iter(buffer))\n",
    "len(batch)"
   ]
  },
  {
   "cell_type": "code",
   "execution_count": 26,
   "metadata": {},
   "outputs": [
    {
     "name": "stdout",
     "output_type": "stream",
     "text": [
      "2024-10-28 13:11:34 __main__ DEBUG    batch_tokenized.input_ids.shape=torch.Size([30, 21])\n"
     ]
    },
    {
     "name": "stderr",
     "output_type": "stream",
     "text": [
      "/home/local_arnab/miniconda3/envs/retrieval/lib/python3.11/site-packages/nnsight/tracing/Node.py:380: UserWarning: To copy construct from a tensor, it is recommended to use sourceTensor.clone().detach() or sourceTensor.clone().detach().requires_grad_(True), rather than torch.tensor(sourceTensor).\n",
      "  output = self.target(*args, **kwargs)\n"
     ]
    },
    {
     "name": "stdout",
     "output_type": "stream",
     "text": [
      "str(pred)='\" No\" (p=0.214)' | correct=' no'\n",
      "str(pred)='\" Yes\" (p=0.163)' | correct=' yes'\n",
      "str(pred)='\" Yes\" (p=0.310)' | correct=' no'\n",
      "str(pred)='\" yes\" (p=0.171)' | correct=' yes'\n",
      "str(pred)='\" no\" (p=0.226)' | correct=' yes'\n",
      "str(pred)='\" No\" (p=0.220)' | correct=' no'\n",
      "str(pred)='\" Yes\" (p=0.247)' | correct=' no'\n",
      "str(pred)='\" No\" (p=0.182)' | correct=' yes'\n",
      "str(pred)='\" yes\" (p=0.219)' | correct=' no'\n",
      "str(pred)='\" Yes\" (p=0.152)' | correct=' yes'\n",
      "str(pred)='\" no\" (p=0.212)' | correct=' yes'\n",
      "str(pred)='\" Yes\" (p=0.176)' | correct=' yes'\n",
      "str(pred)='\" Yes\" (p=0.236)' | correct=' no'\n",
      "str(pred)='\" yes\" (p=0.251)' | correct=' no'\n",
      "str(pred)='\" Yes\" (p=0.150)' | correct=' yes'\n",
      "str(pred)='\" Yes\" (p=0.232)' | correct=' yes'\n",
      "str(pred)='\" yes\" (p=0.240)' | correct=' no'\n",
      "str(pred)='\" no\" (p=0.218)' | correct=' yes'\n",
      "str(pred)='\" No\" (p=0.188)' | correct=' no'\n",
      "str(pred)='\" Yes\" (p=0.172)' | correct=' yes'\n",
      "str(pred)='\" Yes\" (p=0.268)' | correct=' no'\n",
      "str(pred)='\" No\" (p=0.162)' | correct=' yes'\n",
      "str(pred)='\" Yes\" (p=0.173)' | correct=' yes'\n",
      "str(pred)='\" Yes\" (p=0.293)' | correct=' no'\n",
      "str(pred)='\" False\" (p=0.147)' | correct=' yes'\n",
      "str(pred)='\" This\" (p=0.369)' | correct=' yes'\n",
      "str(pred)='\" yes\" (p=0.210)' | correct=' no'\n",
      "str(pred)='\" yes\" (p=0.138)' | correct=' yes'\n",
      "str(pred)='\" yes\" (p=0.190)' | correct=' no'\n",
      "str(pred)='\" False\" (p=0.144)' | correct=' yes'\n"
     ]
    },
    {
     "data": {
      "text/plain": [
       "0.4"
      ]
     },
     "execution_count": 26,
     "metadata": {},
     "output_type": "execute_result"
    }
   ],
   "source": [
    "evaluate_batch(batch, mt)  # Evaluate the batch"
   ]
  },
  {
   "cell_type": "code",
   "execution_count": 27,
   "metadata": {},
   "outputs": [
    {
     "data": {
      "text/plain": [
       "'Patchscope_Llama-3.2-3B'"
      ]
     },
     "execution_count": 27,
     "metadata": {},
     "output_type": "execute_result"
    }
   ],
   "source": [
    "patchscope.name = f\"Patchscope_{MODEL_KEY.split('/')[-1]}\"\n",
    "patchscope.name"
   ]
  },
  {
   "cell_type": "code",
   "execution_count": 28,
   "metadata": {},
   "outputs": [
    {
     "name": "stdout",
     "output_type": "stream",
     "text": [
      "2024-10-28 13:11:39 __main__ DEBUG    batch_tokenized.input_ids.shape=torch.Size([30, 21])\n",
      "str(pred)='\" yes\" (p=0.958)' | correct=' no'\n",
      "str(pred)='\" yes\" (p=0.974)' | correct=' yes'\n",
      "str(pred)='\" no\" (p=0.749)' | correct=' no'\n",
      "str(pred)='\" yes\" (p=0.649)' | correct=' yes'\n",
      "str(pred)='\" no\" (p=0.970)' | correct=' yes'\n",
      "str(pred)='\" no\" (p=1.000)' | correct=' no'\n",
      "str(pred)='\" no\" (p=1.000)' | correct=' no'\n",
      "str(pred)='\" yes\" (p=1.000)' | correct=' yes'\n",
      "str(pred)='\" no\" (p=1.000)' | correct=' no'\n",
      "str(pred)='\" yes\" (p=1.000)' | correct=' yes'\n",
      "str(pred)='\" yes\" (p=1.000)' | correct=' yes'\n",
      "str(pred)='\" yes\" (p=1.000)' | correct=' yes'\n",
      "str(pred)='\" no\" (p=0.996)' | correct=' no'\n",
      "str(pred)='\" no\" (p=0.999)' | correct=' no'\n",
      "str(pred)='\" yes\" (p=1.000)' | correct=' yes'\n",
      "str(pred)='\" yes\" (p=1.000)' | correct=' yes'\n",
      "str(pred)='\" no\" (p=0.991)' | correct=' no'\n",
      "str(pred)='\" yes\" (p=1.000)' | correct=' yes'\n",
      "str(pred)='\" no\" (p=0.994)' | correct=' no'\n",
      "str(pred)='\" yes\" (p=1.000)' | correct=' yes'\n",
      "str(pred)='\" no\" (p=0.999)' | correct=' no'\n",
      "str(pred)='\" yes\" (p=0.993)' | correct=' yes'\n",
      "str(pred)='\" yes\" (p=0.976)' | correct=' yes'\n",
      "str(pred)='\" no\" (p=0.716)' | correct=' no'\n",
      "str(pred)='\" no\" (p=0.961)' | correct=' yes'\n",
      "str(pred)='\" yes\" (p=1.000)' | correct=' yes'\n",
      "str(pred)='\" no\" (p=0.782)' | correct=' no'\n",
      "str(pred)='\" yes\" (p=0.624)' | correct=' yes'\n",
      "str(pred)='\" no\" (p=0.902)' | correct=' no'\n",
      "str(pred)='\" yes\" (p=1.000)' | correct=' yes'\n"
     ]
    },
    {
     "data": {
      "text/plain": [
       "0.9"
      ]
     },
     "execution_count": 28,
     "metadata": {},
     "output_type": "execute_result"
    }
   ],
   "source": [
    "evaluate_batch(batch, patchscope)  # Evaluate the batch again"
   ]
  },
  {
   "cell_type": "code",
   "execution_count": 29,
   "metadata": {},
   "outputs": [
    {
     "name": "stderr",
     "output_type": "stream",
     "text": [
      "/home/local_arnab/miniconda3/envs/retrieval/lib/python3.11/site-packages/transformers/generation/configuration_utils.py:590: UserWarning: `do_sample` is set to `False`. However, `temperature` is set to `0.6` -- this flag is only used in sample-based generation modes. You should set `do_sample=True` or unset `temperature`.\n",
      "  warnings.warn(\n",
      "/home/local_arnab/miniconda3/envs/retrieval/lib/python3.11/site-packages/transformers/generation/configuration_utils.py:595: UserWarning: `do_sample` is set to `False`. However, `top_p` is set to `0.9` -- this flag is only used in sample-based generation modes. You should set `do_sample=True` or unset `top_p`.\n",
      "  warnings.warn(\n",
      "Setting `pad_token_id` to `eos_token_id`:None for open-end generation.\n"
     ]
    },
    {
     "name": "stdout",
     "output_type": "stream",
     "text": [
      "The Space Needle is located in Seattle, Washington. It is a 605\n"
     ]
    }
   ],
   "source": [
    "prompt = \"The Space Needle is located\"\n",
    "inputs = prepare_input(prompt, mt)\n",
    "\n",
    "with torch.inference_mode():\n",
    "    output = mt._model.generate(**inputs, max_new_tokens=10, do_sample=False)\n",
    "\n",
    "print(mt.tokenizer.decode(output[0], skip_special_tokens=True))"
   ]
  },
  {
   "cell_type": "code",
   "execution_count": 30,
   "metadata": {},
   "outputs": [
    {
     "name": "stderr",
     "output_type": "stream",
     "text": [
      "Setting `pad_token_id` to `eos_token_id`:None for open-end generation.\n"
     ]
    },
    {
     "name": "stdout",
     "output_type": "stream",
     "text": [
      "The Space Needle is located yes yes yes no no no no no no no\n"
     ]
    }
   ],
   "source": [
    "with torch.inference_mode():\n",
    "    output = patchscope._model.generate(**inputs, max_new_tokens=10, do_sample=False)\n",
    "\n",
    "print(patchscope.tokenizer.decode(output[0], skip_special_tokens=True))"
   ]
  },
  {
   "cell_type": "code",
   "execution_count": 1,
   "metadata": {},
   "outputs": [
    {
     "data": {
      "text/plain": [
       "['neg_sp_en_trans.json',\n",
       " 'companies_true_false.json',\n",
       " 'neg_cities.json',\n",
       " 'sp_en_trans.json',\n",
       " 'common_claim_true_false.json',\n",
       " 'larger_than.json',\n",
       " 'smaller_than.json',\n",
       " 'cities.json']"
      ]
     },
     "execution_count": 1,
     "metadata": {},
     "output_type": "execute_result"
    }
   ],
   "source": [
    "# asking whether it discusses something\n",
    "# whether some concept is present -> does it mention a man or a woman\n",
    "# is it a math problem\n",
    "# is \"token\" is Noun\n",
    "# is this past tense\n",
    "\n",
    "lst = ['companies_true_false.json', 'sp_en_trans.json', 'larger_than.json', 'smaller_than.json', 'cities.json']\n",
    "lst"
   ]
  },
  {
   "cell_type": "markdown",
   "metadata": {},
   "source": [
    "### LoRA (check later)"
   ]
  },
  {
   "cell_type": "code",
   "execution_count": 4,
   "metadata": {},
   "outputs": [],
   "source": [
    "# from peft import LoraConfig, get_peft_model\n",
    "\n",
    "# lora_config = LoraConfig(\n",
    "#     r=16,\n",
    "#     lora_alpha=32,\n",
    "#     target_modules=[\"q_proj\", \"v_proj\"],\n",
    "#     lora_dropout=0.1,\n",
    "#     bias=\"none\",\n",
    "#     task_type=\"CAUSAL_LM\",\n",
    "# )\n",
    "\n",
    "# model = get_peft_model(mt._model, lora_config)"
   ]
  },
  {
   "cell_type": "code",
   "execution_count": 5,
   "metadata": {},
   "outputs": [],
   "source": [
    "# type(model), type(model.model)"
   ]
  },
  {
   "cell_type": "code",
   "execution_count": 6,
   "metadata": {},
   "outputs": [],
   "source": [
    "# for p in model.model.named_parameters():\n",
    "#     print(p[0])"
   ]
  },
  {
   "cell_type": "markdown",
   "metadata": {},
   "source": [
    "### Dataset Preparation (outdated)"
   ]
  },
  {
   "cell_type": "code",
   "execution_count": 9,
   "metadata": {},
   "outputs": [
    {
     "name": "stdout",
     "output_type": "stream",
     "text": [
      "2024-10-27 13:20:38 src.dataset INFO     initialized cities with 1493 examples.\n",
      "The city of Moradabad is in India.\n",
      "True\n"
     ]
    }
   ],
   "source": [
    "from src.dataset import GMTDataset\n",
    "\n",
    "ds = GMTDataset.from_csv(\n",
    "    [\n",
    "        # \"sp_en_trans.csv\", \n",
    "        \"cities.csv\"\n",
    "    ], \n",
    "    # \"sp_en_trans\"\n",
    "    \"cities\"\n",
    ")\n",
    "\n",
    "ds.select_few_shot(0)\n",
    "\n",
    "queries = [ds.examples[i] for i in range(len(ds))]\n",
    "interested_layers = mt.layer_names\n",
    "q, a = queries[0]\n",
    "print(q)\n",
    "print(a)"
   ]
  },
  {
   "cell_type": "code",
   "execution_count": null,
   "metadata": {},
   "outputs": [],
   "source": [
    "from src.functional import get_concept_latents\n",
    "\n",
    "# don't need to run this if you already have cached the results\n",
    "\n",
    "latents = get_concept_latents(\n",
    "    mt=mt, \n",
    "    queries=queries, \n",
    "    interested_layers=interested_layers,\n",
    "    check_answer=False,\n",
    ")"
   ]
  },
  {
   "cell_type": "code",
   "execution_count": 10,
   "metadata": {},
   "outputs": [],
   "source": [
    "latent_dir = os.path.join(\n",
    "    env_utils.DEFAULT_RESULTS_DIR, \n",
    "    \"cached_latents\",\n",
    "    MODEL_KEY.split(\"/\")[-1],\n",
    ")\n",
    "os.makedirs(latent_dir, exist_ok=True)"
   ]
  },
  {
   "cell_type": "code",
   "execution_count": 8,
   "metadata": {},
   "outputs": [],
   "source": [
    "# caching the latents\n",
    "\n",
    "from src.utils.typing import LatentCacheCollection\n",
    "from src.utils import env_utils\n",
    "\n",
    "lcc = LatentCacheCollection(latents=latents)\n",
    "lcc.detensorize()\n",
    "with open(os.path.join(latent_dir, f\"{ds.name}.json\"), \"w\") as f:\n",
    "    f.write(lcc.to_json())"
   ]
  },
  {
   "cell_type": "code",
   "execution_count": 11,
   "metadata": {},
   "outputs": [],
   "source": [
    "# loading the latents\n",
    "\n",
    "from src.utils.typing import LatentCacheCollection\n",
    "from src.utils import env_utils\n",
    "\n",
    "with open(os.path.join(latent_dir, f\"{ds.name}.json\"), \"r\") as f:\n",
    "    dct = json.load(f)\n",
    "lcc = LatentCacheCollection.from_dict(dct)\n",
    "lcc.retensorize(device=mt.device)"
   ]
  },
  {
   "cell_type": "code",
   "execution_count": 5,
   "metadata": {},
   "outputs": [],
   "source": [
    "# q, a = queries[10]\n",
    "# print(q, a)\n",
    "# yes_ans = \"true\" if str(a).lower().strip() == \"true\" else \"false\"\n",
    "# no_ans = \"false\" if yes_ans == \"true\" else \"true\"\n",
    "# latent_q = get_latent_qa(yes_ans, no_ans)\n",
    "# print(latent_q)"
   ]
  },
  {
   "cell_type": "markdown",
   "metadata": {},
   "source": [
    "### Patchscope Finetuning"
   ]
  },
  {
   "cell_type": "code",
   "execution_count": 7,
   "metadata": {},
   "outputs": [
    {
     "data": {
      "text/plain": [
       "(541, 136)"
      ]
     },
     "execution_count": 7,
     "metadata": {},
     "output_type": "execute_result"
    }
   ],
   "source": [
    "from src.activation_manager import get_batch_paths\n",
    "import random\n",
    "\n",
    "activation_batch_paths = list(get_batch_paths())\n",
    "random.shuffle(activation_batch_paths)\n",
    "\n",
    "train_split = int(len(activation_batch_paths) * 0.8)\n",
    "train_act_batch_paths = activation_batch_paths[:train_split]\n",
    "test_act_batch_paths = activation_batch_paths[train_split:]\n",
    "\n",
    "train_act_loader = ActivationLoader(\n",
    "    latent_cache_files=train_act_batch_paths,\n",
    "    batch_size=32, shuffle=True\n",
    ")\n",
    "\n",
    "validate_act_loader = ActivationLoader(\n",
    "    latent_cache_files=test_act_batch_paths,\n",
    "    batch_size=32, shuffle=True\n",
    ")\n",
    "\n",
    "len(train_act_loader.latent_cache_files), len(validate_act_loader.latent_cache_files)"
   ]
  },
  {
   "cell_type": "code",
   "execution_count": 8,
   "metadata": {},
   "outputs": [],
   "source": [
    "batch = train_act_loader.next_batch()"
   ]
  },
  {
   "cell_type": "code",
   "execution_count": 12,
   "metadata": {},
   "outputs": [],
   "source": [
    "batch_tokenized, int_tok_idx = prepare_batch_input(batch, mt)"
   ]
  },
  {
   "cell_type": "code",
   "execution_count": null,
   "metadata": {},
   "outputs": [],
   "source": []
  },
  {
   "cell_type": "code",
   "execution_count": 10,
   "metadata": {},
   "outputs": [
    {
     "data": {
      "text/plain": [
       "torch.Size([32, 21])"
      ]
     },
     "execution_count": 10,
     "metadata": {},
     "output_type": "execute_result"
    }
   ],
   "source": [
    "batch_tokenized.input_ids.shape"
   ]
  },
  {
   "cell_type": "code",
   "execution_count": 13,
   "metadata": {},
   "outputs": [],
   "source": [
    "@torch.inference_mode()\n",
    "def evaluate(\n",
    "    mt: ModelandTokenizer, \n",
    "    eval_set: list[ActivationSample], \n",
    "    batch_size=32\n",
    "):\n",
    "    correct_count = 0\n",
    "    total_count = 0\n",
    "    for i in tqdm(range(0, len(eval_set), batch_size)):\n",
    "        batch = eval_set[i:i+batch_size]\n",
    "        with torch.no_grad():\n",
    "            correct_count += evaluate_batch(batch, mt)\n",
    "            total_count += len(batch)\n",
    "    return correct_count / total_count"
   ]
  },
  {
   "cell_type": "code",
   "execution_count": 14,
   "metadata": {},
   "outputs": [
    {
     "name": "stderr",
     "output_type": "stream",
     "text": [
      "  0%|          | 0/16 [00:00<?, ?it/s]/home/local_arnab/miniconda3/envs/retrieval/lib/python3.11/site-packages/nnsight/tracing/Node.py:380: UserWarning: To copy construct from a tensor, it is recommended to use sourceTensor.clone().detach() or sourceTensor.clone().detach().requires_grad_(True), rather than torch.tensor(sourceTensor).\n",
      "  output = self.target(*args, **kwargs)\n",
      "You're using a PreTrainedTokenizerFast tokenizer. Please note that with a fast tokenizer, using the `__call__` method is faster than using a method to encode the text followed by a call to the `pad` method to get a padded encoding.\n",
      "100%|██████████| 16/16 [00:07<00:00,  2.04it/s]\n"
     ]
    },
    {
     "data": {
      "text/plain": [
       "0.416"
      ]
     },
     "execution_count": 14,
     "metadata": {},
     "output_type": "execute_result"
    }
   ],
   "source": [
    "def get_validation_set(num=200):\n",
    "    cur_eval_batch = []\n",
    "    cur_eval_loader = ActivationLoader(\n",
    "        latent_cache_files = random.choices(\n",
    "            validate_act_loader.latent_cache_files,\n",
    "            k=25\n",
    "        ),\n",
    "        batch_size=train_act_loader.batch_size,\n",
    "    )\n",
    "    while(True):\n",
    "        try:\n",
    "            cur_eval_batch.extend(cur_eval_loader.next_batch())\n",
    "        except StopIteration:\n",
    "            break\n",
    "    random.shuffle(cur_eval_batch)\n",
    "    cur_eval_batch = cur_eval_batch[:num]\n",
    "\n",
    "    return cur_eval_batch\n",
    "\n",
    "cur_eval_batch = get_validation_set(500)\n",
    "evaluate(mt, cur_eval_batch)"
   ]
  },
  {
   "cell_type": "code",
   "execution_count": 80,
   "metadata": {},
   "outputs": [
    {
     "name": "stdout",
     "output_type": "stream",
     "text": [
      "2024-10-28 18:55:07 src.utils.experiment_utils INFO     setting all seeds to 123456\n"
     ]
    }
   ],
   "source": [
    "experiment_utils.set_seed(123456)\n",
    "\n",
    "model = mt._model\n",
    "model.train()\n",
    "############################## Hyperparameters ##############################\n",
    "learning_rate = 5e-5\n",
    "log_steps = 50\n",
    "checkpoint_interval = 1000\n",
    "num_warmup_steps = 1000\n",
    "limit_training_steps = 10000\n",
    "batch_size = train_act_loader.batch_size\n",
    "num_final_layers_to_tune = 10\n",
    "############################################################################"
   ]
  },
  {
   "cell_type": "code",
   "execution_count": 81,
   "metadata": {},
   "outputs": [],
   "source": [
    "import shutil\n",
    "def remove_dir(path):\n",
    "    if os.path.exists(path):\n",
    "        shutil.rmtree(path)\n",
    "\n",
    "# remove_dir(model_save_dir)\n",
    "remove_dir(\".wandb\")"
   ]
  },
  {
   "cell_type": "code",
   "execution_count": 82,
   "metadata": {},
   "outputs": [],
   "source": [
    "wandb_logging = False\n",
    "\n",
    "if wandb_logging:\n",
    "    wandb.init(\n",
    "        entity=\"dl-homeworks\",\n",
    "        project=\"talkative_probes\",\n",
    "        name=f\"{MODEL_KEY.split('/')[-1]}_patchscope_tune\",\n",
    "        config={\n",
    "            \"model_key\": MODEL_KEY.split(\"/\")[-1],\n",
    "            \"learning_rate\": learning_rate,\n",
    "            \"wandb_log_interval\": log_steps,\n",
    "            \"checkpoint_interval\": checkpoint_interval,\n",
    "            \"num_warmup_steps\": num_warmup_steps,\n",
    "            \"batch_size\": batch_size,\n",
    "        },\n",
    "    )"
   ]
  },
  {
   "cell_type": "code",
   "execution_count": 83,
   "metadata": {},
   "outputs": [],
   "source": [
    "from transformers import get_linear_schedule_with_warmup\n",
    "import baukit\n",
    "\n",
    "tunable_params = []\n",
    "for layer_name in mt.layer_names[-num_final_layers_to_tune:]:\n",
    "    module = baukit.get_module(model, layer_name)\n",
    "    for param in module.parameters():\n",
    "        param.requires_grad = True\n",
    "        tunable_params.append(param)\n",
    "    # tunable_params.extend(list(module.parameters()))\n",
    "\n",
    "optimizer = torch.optim.AdamW(tunable_params, lr=learning_rate)\n",
    "scheduler = get_linear_schedule_with_warmup(\n",
    "    optimizer,\n",
    "    num_warmup_steps=num_warmup_steps,\n",
    "    num_training_steps=limit_training_steps,\n",
    ")\n",
    "loss_func = torch.nn.CrossEntropyLoss()"
   ]
  },
  {
   "cell_type": "code",
   "execution_count": 85,
   "metadata": {},
   "outputs": [
    {
     "data": {
      "text/plain": [
       "'/home/local_arnab/Codes/Projects/talkative_probes/results/patchscope_test/Llama-3.2-3B'"
      ]
     },
     "execution_count": 85,
     "metadata": {},
     "output_type": "execute_result"
    }
   ],
   "source": [
    "checkpoint_save_dir = os.path.join(\n",
    "    env_utils.DEFAULT_RESULTS_DIR,\n",
    "    \"patchscope_test\",\n",
    "    MODEL_KEY.split(\"/\")[-1], \n",
    ")\n",
    "checkpoint_save_dir"
   ]
  },
  {
   "cell_type": "code",
   "execution_count": 86,
   "metadata": {},
   "outputs": [
    {
     "name": "stderr",
     "output_type": "stream",
     "text": [
      "Training:   0%|          | 0/10000 [00:00<?, ?it/s]"
     ]
    },
    {
     "name": "stdout",
     "output_type": "stream",
     "text": [
      "2024-10-28 18:59:23 __main__ INFO     torch.Size([32, 21])\n"
     ]
    },
    {
     "name": "stderr",
     "output_type": "stream",
     "text": [
      "/home/local_arnab/miniconda3/envs/retrieval/lib/python3.11/site-packages/nnsight/tracing/Node.py:380: UserWarning: To copy construct from a tensor, it is recommended to use sourceTensor.clone().detach() or sourceTensor.clone().detach().requires_grad_(True), rather than torch.tensor(sourceTensor).\n",
      "  output = self.target(*args, **kwargs)\n",
      "Training:   0%|          | 1/10000 [00:01<4:07:06,  1.48s/it]"
     ]
    },
    {
     "name": "stdout",
     "output_type": "stream",
     "text": [
      "2024-10-28 18:59:25 __main__ INFO     torch.Size([32, 21])\n"
     ]
    },
    {
     "name": "stderr",
     "output_type": "stream",
     "text": [
      "Training:   0%|          | 2/10000 [00:02<3:45:37,  1.35s/it]"
     ]
    },
    {
     "name": "stdout",
     "output_type": "stream",
     "text": [
      "2024-10-28 18:59:26 __main__ INFO     torch.Size([32, 20])\n"
     ]
    },
    {
     "name": "stderr",
     "output_type": "stream",
     "text": [
      "Training:   0%|          | 3/10000 [00:03<3:27:28,  1.25s/it]"
     ]
    },
    {
     "name": "stdout",
     "output_type": "stream",
     "text": [
      "2024-10-28 18:59:27 __main__ INFO     torch.Size([32, 21])\n"
     ]
    },
    {
     "name": "stderr",
     "output_type": "stream",
     "text": [
      "Training:   0%|          | 4/10000 [00:05<3:26:40,  1.24s/it]"
     ]
    },
    {
     "name": "stdout",
     "output_type": "stream",
     "text": [
      "2024-10-28 18:59:28 __main__ INFO     torch.Size([32, 21])\n"
     ]
    },
    {
     "name": "stderr",
     "output_type": "stream",
     "text": [
      "Training:   0%|          | 5/10000 [00:06<3:22:02,  1.21s/it]"
     ]
    },
    {
     "name": "stdout",
     "output_type": "stream",
     "text": [
      "2024-10-28 18:59:30 __main__ INFO     torch.Size([32, 21])\n"
     ]
    },
    {
     "name": "stderr",
     "output_type": "stream",
     "text": [
      "Training:   0%|          | 6/10000 [00:07<3:23:40,  1.22s/it]"
     ]
    },
    {
     "name": "stdout",
     "output_type": "stream",
     "text": [
      "2024-10-28 18:59:31 __main__ INFO     torch.Size([32, 21])\n"
     ]
    },
    {
     "name": "stderr",
     "output_type": "stream",
     "text": [
      "Training:   0%|          | 7/10000 [00:08<3:28:01,  1.25s/it]"
     ]
    },
    {
     "name": "stdout",
     "output_type": "stream",
     "text": [
      "2024-10-28 18:59:32 __main__ INFO     torch.Size([4, 17])\n"
     ]
    },
    {
     "name": "stderr",
     "output_type": "stream",
     "text": [
      "Training:   0%|          | 8/10000 [00:09<2:50:09,  1.02s/it]"
     ]
    },
    {
     "name": "stdout",
     "output_type": "stream",
     "text": [
      "2024-10-28 18:59:33 __main__ INFO     torch.Size([32, 21])\n"
     ]
    },
    {
     "name": "stderr",
     "output_type": "stream",
     "text": [
      "Training:   0%|          | 9/10000 [00:10<3:08:45,  1.13s/it]"
     ]
    },
    {
     "name": "stdout",
     "output_type": "stream",
     "text": [
      "2024-10-28 18:59:34 __main__ INFO     torch.Size([32, 21])\n"
     ]
    },
    {
     "name": "stderr",
     "output_type": "stream",
     "text": [
      "Training:   0%|          | 10/10000 [00:11<3:11:41,  1.15s/it]"
     ]
    },
    {
     "name": "stdout",
     "output_type": "stream",
     "text": [
      "2024-10-28 18:59:35 __main__ INFO     torch.Size([32, 21])\n"
     ]
    },
    {
     "name": "stderr",
     "output_type": "stream",
     "text": [
      "Training:   0%|          | 11/10000 [00:13<3:18:57,  1.20s/it]"
     ]
    },
    {
     "name": "stdout",
     "output_type": "stream",
     "text": [
      "2024-10-28 18:59:36 __main__ INFO     torch.Size([32, 21])\n"
     ]
    },
    {
     "name": "stderr",
     "output_type": "stream",
     "text": [
      "Training:   0%|          | 12/10000 [00:14<3:19:15,  1.20s/it]"
     ]
    },
    {
     "name": "stdout",
     "output_type": "stream",
     "text": [
      "2024-10-28 18:59:38 __main__ INFO     torch.Size([32, 21])\n"
     ]
    },
    {
     "name": "stderr",
     "output_type": "stream",
     "text": [
      "Training:   0%|          | 13/10000 [00:15<3:27:49,  1.25s/it]"
     ]
    },
    {
     "name": "stdout",
     "output_type": "stream",
     "text": [
      "2024-10-28 18:59:39 __main__ INFO     torch.Size([32, 21])\n"
     ]
    },
    {
     "name": "stderr",
     "output_type": "stream",
     "text": [
      "Training:   0%|          | 14/10000 [00:16<3:24:51,  1.23s/it]"
     ]
    },
    {
     "name": "stdout",
     "output_type": "stream",
     "text": [
      "2024-10-28 18:59:40 __main__ INFO     torch.Size([32, 21])\n"
     ]
    },
    {
     "name": "stderr",
     "output_type": "stream",
     "text": [
      "Training:   0%|          | 15/10000 [00:18<3:31:20,  1.27s/it]"
     ]
    },
    {
     "name": "stdout",
     "output_type": "stream",
     "text": [
      "2024-10-28 18:59:42 __main__ INFO     torch.Size([32, 21])\n"
     ]
    },
    {
     "name": "stderr",
     "output_type": "stream",
     "text": [
      "Training:   0%|          | 16/10000 [00:19<3:27:33,  1.25s/it]"
     ]
    },
    {
     "name": "stdout",
     "output_type": "stream",
     "text": [
      "2024-10-28 18:59:43 __main__ INFO     torch.Size([32, 21])\n"
     ]
    },
    {
     "name": "stderr",
     "output_type": "stream",
     "text": [
      "Training:   0%|          | 17/10000 [00:20<3:32:32,  1.28s/it]"
     ]
    },
    {
     "name": "stdout",
     "output_type": "stream",
     "text": [
      "2024-10-28 18:59:44 __main__ INFO     torch.Size([32, 21])\n"
     ]
    },
    {
     "name": "stderr",
     "output_type": "stream",
     "text": [
      "Training:   0%|          | 18/10000 [00:22<3:33:35,  1.28s/it]"
     ]
    },
    {
     "name": "stdout",
     "output_type": "stream",
     "text": [
      "2024-10-28 18:59:45 __main__ INFO     torch.Size([32, 21])\n"
     ]
    },
    {
     "name": "stderr",
     "output_type": "stream",
     "text": [
      "Training:   0%|          | 19/10000 [00:23<3:32:21,  1.28s/it]"
     ]
    },
    {
     "name": "stdout",
     "output_type": "stream",
     "text": [
      "2024-10-28 18:59:47 __main__ INFO     torch.Size([32, 21])\n"
     ]
    },
    {
     "name": "stderr",
     "output_type": "stream",
     "text": [
      "Training:   0%|          | 20/10000 [00:24<3:29:25,  1.26s/it]"
     ]
    },
    {
     "name": "stdout",
     "output_type": "stream",
     "text": [
      "2024-10-28 18:59:48 __main__ INFO     torch.Size([32, 21])\n"
     ]
    },
    {
     "name": "stderr",
     "output_type": "stream",
     "text": [
      "Training:   0%|          | 21/10000 [00:25<3:29:03,  1.26s/it]"
     ]
    },
    {
     "name": "stdout",
     "output_type": "stream",
     "text": [
      "2024-10-28 18:59:49 __main__ INFO     torch.Size([32, 21])\n"
     ]
    },
    {
     "name": "stderr",
     "output_type": "stream",
     "text": [
      "Training:   0%|          | 22/10000 [00:27<3:25:28,  1.24s/it]"
     ]
    },
    {
     "name": "stdout",
     "output_type": "stream",
     "text": [
      "2024-10-28 18:59:50 __main__ INFO     torch.Size([32, 21])\n"
     ]
    },
    {
     "name": "stderr",
     "output_type": "stream",
     "text": [
      "Training:   0%|          | 23/10000 [00:28<3:27:12,  1.25s/it]"
     ]
    },
    {
     "name": "stdout",
     "output_type": "stream",
     "text": [
      "2024-10-28 18:59:52 __main__ INFO     torch.Size([32, 21])\n"
     ]
    },
    {
     "name": "stderr",
     "output_type": "stream",
     "text": [
      "Training:   0%|          | 24/10000 [00:29<3:31:08,  1.27s/it]"
     ]
    },
    {
     "name": "stdout",
     "output_type": "stream",
     "text": [
      "2024-10-28 18:59:53 __main__ INFO     torch.Size([32, 21])\n"
     ]
    },
    {
     "name": "stderr",
     "output_type": "stream",
     "text": [
      "Training:   0%|          | 25/10000 [00:30<3:31:27,  1.27s/it]"
     ]
    },
    {
     "name": "stdout",
     "output_type": "stream",
     "text": [
      "2024-10-28 18:59:54 __main__ INFO     torch.Size([32, 21])\n"
     ]
    },
    {
     "name": "stderr",
     "output_type": "stream",
     "text": [
      "Training:   0%|          | 26/10000 [00:32<3:30:32,  1.27s/it]"
     ]
    },
    {
     "name": "stdout",
     "output_type": "stream",
     "text": [
      "2024-10-28 18:59:56 __main__ INFO     torch.Size([32, 21])\n"
     ]
    },
    {
     "name": "stderr",
     "output_type": "stream",
     "text": [
      "Training:   0%|          | 27/10000 [00:33<3:40:03,  1.32s/it]"
     ]
    },
    {
     "name": "stdout",
     "output_type": "stream",
     "text": [
      "2024-10-28 18:59:57 __main__ INFO     torch.Size([32, 21])\n"
     ]
    },
    {
     "name": "stderr",
     "output_type": "stream",
     "text": [
      "Training:   0%|          | 28/10000 [00:34<3:34:18,  1.29s/it]"
     ]
    },
    {
     "name": "stdout",
     "output_type": "stream",
     "text": [
      "2024-10-28 18:59:58 __main__ INFO     torch.Size([32, 21])\n"
     ]
    },
    {
     "name": "stderr",
     "output_type": "stream",
     "text": [
      "Training:   0%|          | 29/10000 [00:36<3:34:07,  1.29s/it]"
     ]
    },
    {
     "name": "stdout",
     "output_type": "stream",
     "text": [
      "2024-10-28 18:59:59 __main__ INFO     torch.Size([32, 21])\n"
     ]
    },
    {
     "name": "stderr",
     "output_type": "stream",
     "text": [
      "Training:   0%|          | 30/10000 [00:37<3:30:08,  1.26s/it]"
     ]
    },
    {
     "name": "stdout",
     "output_type": "stream",
     "text": [
      "2024-10-28 19:00:01 __main__ INFO     torch.Size([32, 21])\n"
     ]
    },
    {
     "name": "stderr",
     "output_type": "stream",
     "text": [
      "Training:   0%|          | 31/10000 [00:38<3:29:14,  1.26s/it]"
     ]
    },
    {
     "name": "stdout",
     "output_type": "stream",
     "text": [
      "2024-10-28 19:00:02 __main__ INFO     torch.Size([32, 21])\n"
     ]
    },
    {
     "name": "stderr",
     "output_type": "stream",
     "text": [
      "Training:   0%|          | 32/10000 [00:39<3:26:38,  1.24s/it]"
     ]
    },
    {
     "name": "stdout",
     "output_type": "stream",
     "text": [
      "2024-10-28 19:00:03 __main__ INFO     torch.Size([32, 21])\n"
     ]
    },
    {
     "name": "stderr",
     "output_type": "stream",
     "text": [
      "Training:   0%|          | 33/10000 [00:41<3:33:00,  1.28s/it]"
     ]
    },
    {
     "name": "stdout",
     "output_type": "stream",
     "text": [
      "2024-10-28 19:00:04 __main__ INFO     torch.Size([32, 21])\n"
     ]
    },
    {
     "name": "stderr",
     "output_type": "stream",
     "text": [
      "Training:   0%|          | 34/10000 [00:42<3:29:15,  1.26s/it]"
     ]
    },
    {
     "name": "stdout",
     "output_type": "stream",
     "text": [
      "2024-10-28 19:00:06 __main__ INFO     torch.Size([32, 21])\n"
     ]
    },
    {
     "name": "stderr",
     "output_type": "stream",
     "text": [
      "Training:   0%|          | 35/10000 [00:43<3:31:52,  1.28s/it]"
     ]
    },
    {
     "name": "stdout",
     "output_type": "stream",
     "text": [
      "2024-10-28 19:00:07 __main__ INFO     torch.Size([32, 21])\n"
     ]
    },
    {
     "name": "stderr",
     "output_type": "stream",
     "text": [
      "Training:   0%|          | 36/10000 [00:44<3:28:25,  1.26s/it]"
     ]
    },
    {
     "name": "stdout",
     "output_type": "stream",
     "text": [
      "2024-10-28 19:00:08 __main__ INFO     torch.Size([32, 21])\n"
     ]
    },
    {
     "name": "stderr",
     "output_type": "stream",
     "text": [
      "Training:   0%|          | 37/10000 [00:46<3:32:04,  1.28s/it]"
     ]
    },
    {
     "name": "stdout",
     "output_type": "stream",
     "text": [
      "2024-10-28 19:00:10 __main__ INFO     torch.Size([32, 20])\n"
     ]
    },
    {
     "name": "stderr",
     "output_type": "stream",
     "text": [
      "Training:   0%|          | 38/10000 [00:47<3:32:42,  1.28s/it]"
     ]
    },
    {
     "name": "stdout",
     "output_type": "stream",
     "text": [
      "2024-10-28 19:00:11 __main__ INFO     torch.Size([32, 21])\n"
     ]
    },
    {
     "name": "stderr",
     "output_type": "stream",
     "text": [
      "Training:   0%|          | 39/10000 [00:48<3:31:43,  1.28s/it]"
     ]
    },
    {
     "name": "stdout",
     "output_type": "stream",
     "text": [
      "2024-10-28 19:00:12 __main__ INFO     torch.Size([32, 21])\n"
     ]
    },
    {
     "name": "stderr",
     "output_type": "stream",
     "text": [
      "Training:   0%|          | 40/10000 [00:50<3:29:19,  1.26s/it]"
     ]
    },
    {
     "name": "stdout",
     "output_type": "stream",
     "text": [
      "2024-10-28 19:00:13 __main__ INFO     torch.Size([32, 21])\n"
     ]
    },
    {
     "name": "stderr",
     "output_type": "stream",
     "text": [
      "Training:   0%|          | 41/10000 [00:51<3:29:46,  1.26s/it]"
     ]
    },
    {
     "name": "stdout",
     "output_type": "stream",
     "text": [
      "2024-10-28 19:00:15 __main__ INFO     torch.Size([32, 21])\n"
     ]
    },
    {
     "name": "stderr",
     "output_type": "stream",
     "text": [
      "Training:   0%|          | 42/10000 [00:52<3:33:06,  1.28s/it]"
     ]
    },
    {
     "name": "stdout",
     "output_type": "stream",
     "text": [
      "2024-10-28 19:00:16 __main__ INFO     torch.Size([32, 21])\n"
     ]
    },
    {
     "name": "stderr",
     "output_type": "stream",
     "text": [
      "Training:   0%|          | 43/10000 [00:53<3:32:12,  1.28s/it]"
     ]
    },
    {
     "name": "stdout",
     "output_type": "stream",
     "text": [
      "2024-10-28 19:00:17 __main__ INFO     torch.Size([32, 21])\n"
     ]
    },
    {
     "name": "stderr",
     "output_type": "stream",
     "text": [
      "Training:   0%|          | 44/10000 [00:55<3:33:43,  1.29s/it]"
     ]
    },
    {
     "name": "stdout",
     "output_type": "stream",
     "text": [
      "2024-10-28 19:00:19 __main__ INFO     torch.Size([32, 21])\n"
     ]
    },
    {
     "name": "stderr",
     "output_type": "stream",
     "text": [
      "Training:   0%|          | 45/10000 [00:56<3:42:33,  1.34s/it]"
     ]
    },
    {
     "name": "stdout",
     "output_type": "stream",
     "text": [
      "2024-10-28 19:00:20 __main__ INFO     torch.Size([32, 21])\n"
     ]
    },
    {
     "name": "stderr",
     "output_type": "stream",
     "text": [
      "Training:   0%|          | 46/10000 [00:57<3:35:55,  1.30s/it]"
     ]
    },
    {
     "name": "stdout",
     "output_type": "stream",
     "text": [
      "2024-10-28 19:00:21 __main__ INFO     torch.Size([32, 21])\n"
     ]
    },
    {
     "name": "stderr",
     "output_type": "stream",
     "text": [
      "Training:   0%|          | 47/10000 [00:59<3:35:22,  1.30s/it]"
     ]
    },
    {
     "name": "stdout",
     "output_type": "stream",
     "text": [
      "2024-10-28 19:00:22 __main__ INFO     torch.Size([32, 21])\n"
     ]
    },
    {
     "name": "stderr",
     "output_type": "stream",
     "text": [
      "Training:   0%|          | 48/10000 [01:00<3:31:36,  1.28s/it]"
     ]
    },
    {
     "name": "stdout",
     "output_type": "stream",
     "text": [
      "2024-10-28 19:00:24 __main__ INFO     torch.Size([32, 21])\n"
     ]
    },
    {
     "name": "stderr",
     "output_type": "stream",
     "text": [
      "Training:   0%|          | 49/10000 [01:01<3:37:50,  1.31s/it]"
     ]
    },
    {
     "name": "stdout",
     "output_type": "stream",
     "text": [
      "2024-10-28 19:00:25 __main__ INFO     torch.Size([32, 21])\n"
     ]
    },
    {
     "name": "stderr",
     "output_type": "stream",
     "text": [
      "100%|██████████| 16/16 [00:08<00:00,  1.87it/s]"
     ]
    },
    {
     "name": "stdout",
     "output_type": "stream",
     "text": [
      "2024-10-28 19:00:36 __main__ INFO     Step 50: {'loss': 0.6848629713058472, 'learning_rate': 2.5e-06, 'eval_accuracy': 0.52}\n"
     ]
    },
    {
     "name": "stderr",
     "output_type": "stream",
     "text": [
      "\n",
      "Training:   0%|          | 50/10000 [01:12<11:48:35,  4.27s/it]"
     ]
    },
    {
     "name": "stdout",
     "output_type": "stream",
     "text": [
      "2024-10-28 19:00:36 __main__ INFO     torch.Size([32, 21])\n"
     ]
    },
    {
     "name": "stderr",
     "output_type": "stream",
     "text": [
      "Training:   1%|          | 51/10000 [01:14<9:19:14,  3.37s/it] "
     ]
    },
    {
     "name": "stdout",
     "output_type": "stream",
     "text": [
      "2024-10-28 19:00:38 __main__ INFO     torch.Size([32, 21])\n"
     ]
    },
    {
     "name": "stderr",
     "output_type": "stream",
     "text": [
      "Training:   1%|          | 52/10000 [01:15<7:40:24,  2.78s/it]"
     ]
    },
    {
     "name": "stdout",
     "output_type": "stream",
     "text": [
      "2024-10-28 19:00:39 __main__ INFO     torch.Size([32, 21])\n"
     ]
    },
    {
     "name": "stderr",
     "output_type": "stream",
     "text": [
      "Training:   1%|          | 53/10000 [01:16<6:25:18,  2.32s/it]"
     ]
    },
    {
     "name": "stdout",
     "output_type": "stream",
     "text": [
      "2024-10-28 19:00:40 __main__ INFO     torch.Size([32, 21])\n"
     ]
    },
    {
     "name": "stderr",
     "output_type": "stream",
     "text": [
      "Training:   1%|          | 54/10000 [01:18<5:29:22,  1.99s/it]"
     ]
    },
    {
     "name": "stdout",
     "output_type": "stream",
     "text": [
      "2024-10-28 19:00:41 __main__ INFO     torch.Size([32, 21])\n"
     ]
    },
    {
     "name": "stderr",
     "output_type": "stream",
     "text": [
      "Training:   1%|          | 54/10000 [01:19<4:02:53,  1.47s/it]\n"
     ]
    },
    {
     "ename": "KeyboardInterrupt",
     "evalue": "",
     "output_type": "error",
     "traceback": [
      "\u001b[0;31m---------------------------------------------------------------------------\u001b[0m",
      "\u001b[0;31mKeyboardInterrupt\u001b[0m                         Traceback (most recent call last)",
      "Cell \u001b[0;32mIn[86], line 43\u001b[0m\n\u001b[1;32m     40\u001b[0m \u001b[38;5;66;03m# TODO: include natural text and generation loss\u001b[39;00m\n\u001b[1;32m     41\u001b[0m loss \u001b[38;5;241m=\u001b[39m patchscope_loss\n\u001b[0;32m---> 43\u001b[0m \u001b[43mloss\u001b[49m\u001b[38;5;241;43m.\u001b[39;49m\u001b[43mbackward\u001b[49m\u001b[43m(\u001b[49m\u001b[43m)\u001b[49m\n\u001b[1;32m     44\u001b[0m optimizer\u001b[38;5;241m.\u001b[39mstep()\n\u001b[1;32m     45\u001b[0m scheduler\u001b[38;5;241m.\u001b[39mstep()\n",
      "File \u001b[0;32m~/miniconda3/envs/retrieval/lib/python3.11/site-packages/torch/_tensor.py:581\u001b[0m, in \u001b[0;36mTensor.backward\u001b[0;34m(self, gradient, retain_graph, create_graph, inputs)\u001b[0m\n\u001b[1;32m    571\u001b[0m \u001b[38;5;28;01mif\u001b[39;00m has_torch_function_unary(\u001b[38;5;28mself\u001b[39m):\n\u001b[1;32m    572\u001b[0m     \u001b[38;5;28;01mreturn\u001b[39;00m handle_torch_function(\n\u001b[1;32m    573\u001b[0m         Tensor\u001b[38;5;241m.\u001b[39mbackward,\n\u001b[1;32m    574\u001b[0m         (\u001b[38;5;28mself\u001b[39m,),\n\u001b[0;32m   (...)\u001b[0m\n\u001b[1;32m    579\u001b[0m         inputs\u001b[38;5;241m=\u001b[39minputs,\n\u001b[1;32m    580\u001b[0m     )\n\u001b[0;32m--> 581\u001b[0m \u001b[43mtorch\u001b[49m\u001b[38;5;241;43m.\u001b[39;49m\u001b[43mautograd\u001b[49m\u001b[38;5;241;43m.\u001b[39;49m\u001b[43mbackward\u001b[49m\u001b[43m(\u001b[49m\n\u001b[1;32m    582\u001b[0m \u001b[43m    \u001b[49m\u001b[38;5;28;43mself\u001b[39;49m\u001b[43m,\u001b[49m\u001b[43m \u001b[49m\u001b[43mgradient\u001b[49m\u001b[43m,\u001b[49m\u001b[43m \u001b[49m\u001b[43mretain_graph\u001b[49m\u001b[43m,\u001b[49m\u001b[43m \u001b[49m\u001b[43mcreate_graph\u001b[49m\u001b[43m,\u001b[49m\u001b[43m \u001b[49m\u001b[43minputs\u001b[49m\u001b[38;5;241;43m=\u001b[39;49m\u001b[43minputs\u001b[49m\n\u001b[1;32m    583\u001b[0m \u001b[43m\u001b[49m\u001b[43m)\u001b[49m\n",
      "File \u001b[0;32m~/miniconda3/envs/retrieval/lib/python3.11/site-packages/torch/autograd/__init__.py:347\u001b[0m, in \u001b[0;36mbackward\u001b[0;34m(tensors, grad_tensors, retain_graph, create_graph, grad_variables, inputs)\u001b[0m\n\u001b[1;32m    342\u001b[0m     retain_graph \u001b[38;5;241m=\u001b[39m create_graph\n\u001b[1;32m    344\u001b[0m \u001b[38;5;66;03m# The reason we repeat the same comment below is that\u001b[39;00m\n\u001b[1;32m    345\u001b[0m \u001b[38;5;66;03m# some Python versions print out the first line of a multi-line function\u001b[39;00m\n\u001b[1;32m    346\u001b[0m \u001b[38;5;66;03m# calls in the traceback and some print out the last line\u001b[39;00m\n\u001b[0;32m--> 347\u001b[0m \u001b[43m_engine_run_backward\u001b[49m\u001b[43m(\u001b[49m\n\u001b[1;32m    348\u001b[0m \u001b[43m    \u001b[49m\u001b[43mtensors\u001b[49m\u001b[43m,\u001b[49m\n\u001b[1;32m    349\u001b[0m \u001b[43m    \u001b[49m\u001b[43mgrad_tensors_\u001b[49m\u001b[43m,\u001b[49m\n\u001b[1;32m    350\u001b[0m \u001b[43m    \u001b[49m\u001b[43mretain_graph\u001b[49m\u001b[43m,\u001b[49m\n\u001b[1;32m    351\u001b[0m \u001b[43m    \u001b[49m\u001b[43mcreate_graph\u001b[49m\u001b[43m,\u001b[49m\n\u001b[1;32m    352\u001b[0m \u001b[43m    \u001b[49m\u001b[43minputs\u001b[49m\u001b[43m,\u001b[49m\n\u001b[1;32m    353\u001b[0m \u001b[43m    \u001b[49m\u001b[43mallow_unreachable\u001b[49m\u001b[38;5;241;43m=\u001b[39;49m\u001b[38;5;28;43;01mTrue\u001b[39;49;00m\u001b[43m,\u001b[49m\n\u001b[1;32m    354\u001b[0m \u001b[43m    \u001b[49m\u001b[43maccumulate_grad\u001b[49m\u001b[38;5;241;43m=\u001b[39;49m\u001b[38;5;28;43;01mTrue\u001b[39;49;00m\u001b[43m,\u001b[49m\n\u001b[1;32m    355\u001b[0m \u001b[43m\u001b[49m\u001b[43m)\u001b[49m\n",
      "File \u001b[0;32m~/miniconda3/envs/retrieval/lib/python3.11/site-packages/torch/autograd/graph.py:825\u001b[0m, in \u001b[0;36m_engine_run_backward\u001b[0;34m(t_outputs, *args, **kwargs)\u001b[0m\n\u001b[1;32m    823\u001b[0m     unregister_hooks \u001b[38;5;241m=\u001b[39m _register_logging_hooks_on_whole_graph(t_outputs)\n\u001b[1;32m    824\u001b[0m \u001b[38;5;28;01mtry\u001b[39;00m:\n\u001b[0;32m--> 825\u001b[0m     \u001b[38;5;28;01mreturn\u001b[39;00m \u001b[43mVariable\u001b[49m\u001b[38;5;241;43m.\u001b[39;49m\u001b[43m_execution_engine\u001b[49m\u001b[38;5;241;43m.\u001b[39;49m\u001b[43mrun_backward\u001b[49m\u001b[43m(\u001b[49m\u001b[43m  \u001b[49m\u001b[38;5;66;43;03m# Calls into the C++ engine to run the backward pass\u001b[39;49;00m\n\u001b[1;32m    826\u001b[0m \u001b[43m        \u001b[49m\u001b[43mt_outputs\u001b[49m\u001b[43m,\u001b[49m\u001b[43m \u001b[49m\u001b[38;5;241;43m*\u001b[39;49m\u001b[43margs\u001b[49m\u001b[43m,\u001b[49m\u001b[43m \u001b[49m\u001b[38;5;241;43m*\u001b[39;49m\u001b[38;5;241;43m*\u001b[39;49m\u001b[43mkwargs\u001b[49m\n\u001b[1;32m    827\u001b[0m \u001b[43m    \u001b[49m\u001b[43m)\u001b[49m  \u001b[38;5;66;03m# Calls into the C++ engine to run the backward pass\u001b[39;00m\n\u001b[1;32m    828\u001b[0m \u001b[38;5;28;01mfinally\u001b[39;00m:\n\u001b[1;32m    829\u001b[0m     \u001b[38;5;28;01mif\u001b[39;00m attach_logging_hooks:\n",
      "\u001b[0;31mKeyboardInterrupt\u001b[0m: "
     ]
    }
   ],
   "source": [
    "from src.functional import free_gpu_cache\n",
    "\n",
    "for step in tqdm(range(limit_training_steps), desc=\"Training\"):\n",
    "    optimizer.zero_grad()\n",
    "\n",
    "    try:\n",
    "        batch = train_act_loader.next_batch()\n",
    "    except StopIteration:\n",
    "        logger.info(f\"End of training data at step {step + 1}\")\n",
    "        break\n",
    "    \n",
    "    batch_tokenized, int_tok_idx = prepare_batch_input(batch, mt)\n",
    "\n",
    "    activations = [b.activation for b in batch]\n",
    "\n",
    "    with mt.trace(batch_tokenized):\n",
    "        # replace the latent on all the residual layers\n",
    "        module_names = mt.layer_names \n",
    "        for idx, act, int_tok in zip(range(len(batch)), activations, int_tok_idx):\n",
    "            for module_name in module_names:\n",
    "                module = get_module_nnsight(mt, module_name)\n",
    "                module.output[0][idx, int_tok, :] = torch.tensor(act, device=mt.device).to(mt.dtype)\n",
    "        \n",
    "        # output = mt.output.save()\n",
    "        last_logits = [\n",
    "            mt.output.logits[idx, -1, :].save()\n",
    "            for idx in range(len(batch))\n",
    "        ]\n",
    "\n",
    "    last_logits = torch.stack(last_logits)\n",
    "    batch_labels = [\n",
    "        mt.tokenizer(b.label).input_ids[-1] for b in batch\n",
    "    ]\n",
    "    batch_labels = torch.tensor(batch_labels, device=mt.device)\n",
    "\n",
    "    # Cross-entropy loss\n",
    "    patchscope_loss = loss_func(last_logits, batch_labels)\n",
    "    \n",
    "    # TODO: include natural text and generation loss\n",
    "    loss = patchscope_loss\n",
    "    \n",
    "    loss.backward()\n",
    "    optimizer.step()\n",
    "    scheduler.step()\n",
    "\n",
    "    free_gpu_cache()\n",
    "\n",
    "    if (step + 1) % log_steps == 0:\n",
    "        cur_eval_batch = get_validation_set(500)\n",
    "        eval_accuracy = evaluate(mt, cur_eval_batch)\n",
    "        log_data = {\n",
    "            \"loss\": loss.item(),\n",
    "            \"learning_rate\": scheduler.get_last_lr()[0],\n",
    "            \"eval_accuracy\": eval_accuracy\n",
    "        }\n",
    "        logger.info(f\"Step {step + 1}: {log_data}\")\n",
    "        if wandb_logging:\n",
    "            wandb.log(log_data)\n",
    "\n",
    "    if ((step + 1) % checkpoint_interval == 0) or (step + 1) == limit_training_steps:\n",
    "        if len(os.listdir(checkpoint_save_dir)) > 0:\n",
    "            last_checkpoint_path = os.path.join(checkpoint_save_dir, os.listdir(checkpoint_save_dir)[-1])\n",
    "            remove_dir(last_checkpoint_path)\n",
    "        \n",
    "        new_checkpoint_path = os.path.join(checkpoint_save_dir, f\"checkpoint-{step + 1}\")\n",
    "        model.save_pretrained(new_checkpoint_path)\n",
    "\n",
    "\n",
    "print(\"Training completed!\")"
   ]
  },
  {
   "cell_type": "code",
   "execution_count": null,
   "metadata": {},
   "outputs": [],
   "source": []
  }
 ],
 "metadata": {
  "kernelspec": {
   "display_name": "retrieval",
   "language": "python",
   "name": "python3"
  },
  "language_info": {
   "codemirror_mode": {
    "name": "ipython",
    "version": 3
   },
   "file_extension": ".py",
   "mimetype": "text/x-python",
   "name": "python",
   "nbconvert_exporter": "python",
   "pygments_lexer": "ipython3",
   "version": "3.11.9"
  }
 },
 "nbformat": 4,
 "nbformat_minor": 2
}
