{
 "cells": [
  {
   "cell_type": "code",
   "execution_count": 1,
   "metadata": {},
   "outputs": [],
   "source": [
    "%load_ext autoreload\n",
    "%autoreload 2"
   ]
  },
  {
   "cell_type": "code",
   "execution_count": 2,
   "metadata": {},
   "outputs": [
    {
     "name": "stderr",
     "output_type": "stream",
     "text": [
      "/home/local_arnab/miniconda3/envs/retrieval/lib/python3.11/site-packages/tqdm/auto.py:21: TqdmWarning: IProgress not found. Please update jupyter and ipywidgets. See https://ipywidgets.readthedocs.io/en/stable/user_install.html\n",
      "  from .autonotebook import tqdm as notebook_tqdm\n"
     ]
    },
    {
     "name": "stdout",
     "output_type": "stream",
     "text": [
      "2024-10-27 19:38:02 __main__ INFO     torch.__version__='2.5.0+cu124', torch.version.cuda='12.4'\n"
     ]
    }
   ],
   "source": [
    "import time, json\n",
    "import sys\n",
    "sys.path.append(\"../\")\n",
    "sys.path.append(\"../chess_llm_interpretability\")\n",
    "import os\n",
    "import torch\n",
    "import numpy as np\n",
    "from tqdm import tqdm\n",
    "\n",
    "import logging\n",
    "from src.utils import logging_utils\n",
    "from src.utils import env_utils, experiment_utils\n",
    "from src import functional\n",
    "import wandb\n",
    "\n",
    "logger = logging.getLogger(__name__)\n",
    "\n",
    "logging.basicConfig(\n",
    "    level=logging.DEBUG,\n",
    "    format=logging_utils.DEFAULT_FORMAT,\n",
    "    datefmt=logging_utils.DEFAULT_DATEFMT,\n",
    "    stream=sys.stdout,\n",
    ")\n",
    "\n",
    "logger.info(f\"{torch.__version__=}, {torch.version.cuda=}\")"
   ]
  },
  {
   "cell_type": "code",
   "execution_count": 3,
   "metadata": {},
   "outputs": [
    {
     "name": "stdout",
     "output_type": "stream",
     "text": [
      "2024-10-27 19:38:03 accelerate.utils.modeling INFO     We will use 90% of the memory on device 0 for storing the model, and 10% for the buffer to avoid OOM. You can set `max_memory` in to a higher value to use more memory (at your own risk).\n"
     ]
    },
    {
     "name": "stderr",
     "output_type": "stream",
     "text": [
      "Loading checkpoint shards: 100%|██████████| 2/2 [00:03<00:00,  1.73s/it]"
     ]
    },
    {
     "name": "stdout",
     "output_type": "stream",
     "text": [
      "2024-10-27 19:38:07 src.models INFO     loaded model </home/local_arnab/Codes/00_MODEL/meta-llama/Llama-3.2-3B> | size: 12255.675 MB | dtype: torch.float32 | device: cuda:0\n"
     ]
    },
    {
     "name": "stderr",
     "output_type": "stream",
     "text": [
      "\n"
     ]
    }
   ],
   "source": [
    "from src.models import ModelandTokenizer\n",
    "\n",
    "# MODEL_KEY = \"meta-llama/Llama-3.2-3B-Instruct\"\n",
    "# MODEL_KEY = \"meta-llama/Llama-3.1-8B-Instruct\"\n",
    "\n",
    "MODEL_KEY = \"meta-llama/Llama-3.2-3B\"\n",
    "# MODEL_KEY = \"google/gemma-2-2b\"\n",
    "# MODEL_KEY = \"meta-llama/Llama-3.1-8B\"\n",
    "\n",
    "#! torch.adaptive precision\n",
    "mt = ModelandTokenizer(\n",
    "    model_key=MODEL_KEY,\n",
    "    torch_dtype=torch.float32,\n",
    ")"
   ]
  },
  {
   "cell_type": "code",
   "execution_count": 4,
   "metadata": {},
   "outputs": [
    {
     "name": "stderr",
     "output_type": "stream",
     "text": [
      "Loading checkpoint shards: 100%|██████████| 3/3 [00:00<00:00,  9.63it/s]\n"
     ]
    },
    {
     "name": "stdout",
     "output_type": "stream",
     "text": [
      "2024-10-27 19:38:10 src.models INFO     loaded model <EleutherAI/gpt-j-6B> | size: 12255.675 MB | dtype: torch.float32 | device: cuda:0\n"
     ]
    }
   ],
   "source": [
    "from transformers import AutoModelForCausalLM\n",
    "from nnsight import LanguageModel\n",
    "\n",
    "finetuned_path = os.path.join(\n",
    "    env_utils.DEFAULT_RESULTS_DIR, MODEL_KEY.split(\"/\")[-1], \"patchscope_tuning\"\n",
    ")\n",
    "finetuned_path = os.path.join(finetuned_path, os.listdir(finetuned_path)[-1])\n",
    "tuned_model = AutoModelForCausalLM.from_pretrained(\n",
    "    finetuned_path, torch_dtype=torch.float32\n",
    ").to(\"cuda\")\n",
    "\n",
    "tuned_lm = LanguageModel(tuned_model)\n",
    "patchscope = ModelandTokenizer(\n",
    "    base_lm = tuned_lm,\n",
    "    tokenizer = mt.tokenizer\n",
    ")"
   ]
  },
  {
   "cell_type": "markdown",
   "metadata": {},
   "source": [
    "### Utils"
   ]
  },
  {
   "cell_type": "code",
   "execution_count": 5,
   "metadata": {},
   "outputs": [],
   "source": [
    "import random\n",
    "from typing import Literal\n",
    "\n",
    "with open(os.path.join(env_utils.DEFAULT_DATA_DIR, \"paraphrases/yes_no.json\"), \"r\") as f:\n",
    "    yes_no_paraphrases = json.load(f)\n",
    "\n",
    "with open(os.path.join(env_utils.DEFAULT_DATA_DIR, \"paraphrases/question.json\"), \"r\") as f:\n",
    "    question_paraphrases = json.load(f)[\"GMT\"]\n",
    "\n",
    "def get_latent_qa(yes_ans, no_ans) -> tuple[str, Literal[\" yes\", \" no\"]]:\n",
    "    label = random.choice([\" yes\", \" no\"])\n",
    "    ret = \"# \"\n",
    "    yes_no = random.choice(yes_no_paraphrases)\n",
    "    question = random.choice(question_paraphrases)\n",
    "    question = question.format(yes_ans) if label == \" yes\" else question.format(no_ans)\n",
    "    ret += question + f\" {yes_no}\"\n",
    "    return ret, label"
   ]
  },
  {
   "cell_type": "code",
   "execution_count": 6,
   "metadata": {},
   "outputs": [
    {
     "name": "stdout",
     "output_type": "stream",
     "text": [
      "2024-10-27 19:38:10 numexpr.utils INFO     Note: NumExpr detected 24 cores but \"NUMEXPR_MAX_THREADS\" not set, so enforcing safe limit of 8.\n",
      "2024-10-27 19:38:10 numexpr.utils INFO     NumExpr defaulting to 8 threads.\n",
      "2024-10-27 19:38:10 datasets INFO     PyTorch version 2.5.0 available.\n",
      "2024-10-27 19:38:10 scripts.patchscope_tuning INFO     torch.__version__='2.5.0+cu124', torch.version.cuda='12.4'\n",
      "2024-10-27 19:38:10 scripts.patchscope_tuning INFO     torch.cuda.is_available()=True, torch.cuda.device_count()=1, torch.cuda.get_device_name()='NVIDIA RTX A6000'\n",
      "2024-10-27 19:38:10 scripts.patchscope_tuning INFO     transformers.__version__='4.46.0'\n"
     ]
    }
   ],
   "source": [
    "from dataclasses import dataclass, field, fields\n",
    "from src.utils.typing import ArrayLike\n",
    "from typing import Literal\n",
    "from scripts.patchscope_tuning import LatentSample, LatentSampleBuffer\n",
    "from src.utils.typing import LatentCache, LatentCacheCollection\n",
    "\n",
    "def populate_latent_arr(\n",
    "    lcc: LatentCacheCollection,\n",
    "    layers_of_interest: list[int] = list(range(10, 15)),\n",
    "):\n",
    "    latent_arr = []\n",
    "\n",
    "    for idx in range(len(lcc.latents)):\n",
    "        latent_cache = lcc.latents[idx]\n",
    "        prompt = latent_cache.context\n",
    "        label = latent_cache.answer\n",
    "        yes_ans = \"true\" if str(label).lower().strip() == \"true\" else \"false\"\n",
    "        no_ans = \"false\" if yes_ans == \"true\" else \"true\"\n",
    "        for layer_idx in layers_of_interest:\n",
    "            layer_name = mt.layer_name_format.format(layer_idx)\n",
    "            activation = latent_cache.latents[layer_name]\n",
    "            prompt, label = get_latent_qa(yes_ans, no_ans)\n",
    "            latent_arr.append(LatentSample(\n",
    "                activation=activation,\n",
    "                prompt=prompt,\n",
    "                label=label,\n",
    "            ))\n",
    "    return latent_arr"
   ]
  },
  {
   "cell_type": "code",
   "execution_count": 7,
   "metadata": {},
   "outputs": [],
   "source": [
    "from src.tokens import prepare_input, find_token_range\n",
    "from src.functional import interpret_logits, get_module_nnsight\n",
    "\n",
    "def prepare_batch_input(batch: list[LatentSample], mt: ModelandTokenizer):\n",
    "    batch_prompts = [b.prompt for b in batch]\n",
    "    batch_tokenized = prepare_input(\n",
    "        prompts=batch_prompts,\n",
    "        tokenizer=mt,\n",
    "        return_offset_mapping=True\n",
    "    )\n",
    "\n",
    "    int_tok_idx = []\n",
    "    for idx in range(len(batch)):\n",
    "        offset_mapping = batch_tokenized[\"offset_mapping\"][idx]\n",
    "        act_range = find_token_range(\n",
    "            string=batch[idx].prompt,\n",
    "            substring=\"#\",\n",
    "            occurrence=0,\n",
    "            tokenizer=mt,\n",
    "            offset_mapping=offset_mapping\n",
    "        )\n",
    "        int_tok_idx.append(act_range[1] - 1)\n",
    "\n",
    "    batch_tokenized.pop(\"offset_mapping\")\n",
    "\n",
    "    return batch_tokenized, int_tok_idx"
   ]
  },
  {
   "cell_type": "code",
   "execution_count": 8,
   "metadata": {},
   "outputs": [],
   "source": [
    "@torch.inference_mode()\n",
    "def evaluate(batch: list[LatentSample], mt: ModelandTokenizer):\n",
    "\n",
    "    batch_tokenized, int_tok_idx = prepare_batch_input(batch, mt)\n",
    "    logger.debug(f\"{batch_tokenized.input_ids.shape=}\")\n",
    "    activations = [b.activation for b in batch]\n",
    "\n",
    "    with mt.trace(batch_tokenized):\n",
    "        module_names = mt.layer_names\n",
    "        for idx, act, int_tok in zip(range(len(batch)), activations, int_tok_idx):\n",
    "            for module_name in module_names:\n",
    "                module = get_module_nnsight(mt, module_name)\n",
    "                module.output[0][idx, int_tok, :] = torch.tensor(act, device=mt.device)\n",
    "        last_logits = [\n",
    "            mt.output.logits[idx, -1, :].save()\n",
    "            for idx in range(len(batch))\n",
    "        ]\n",
    "        output = mt.output.save()\n",
    "\n",
    "    last_logits = torch.stack(last_logits)\n",
    "\n",
    "    predicted_labels = [\n",
    "        interpret_logits(\n",
    "            tokenizer=mt,\n",
    "            logits=last_logits[idx],\n",
    "            # logits = output.logits[idx, -1, :],\n",
    "            k = 2,\n",
    "        )[0]\n",
    "        for idx in range(len(batch))\n",
    "    ]\n",
    "\n",
    "    correct_labels = [b.label for b in batch]\n",
    "    correct_count = 0\n",
    "\n",
    "    for pred, correct in zip(predicted_labels, correct_labels):\n",
    "        print(f\"{str(pred)=} | {correct=}\")\n",
    "        if pred.token.strip().lower() == correct.strip().lower():\n",
    "            correct_count += 1\n",
    "\n",
    "    return correct_count / len(batch)"
   ]
  },
  {
   "cell_type": "markdown",
   "metadata": {},
   "source": [
    "### Check Performance"
   ]
  },
  {
   "cell_type": "code",
   "execution_count": 9,
   "metadata": {},
   "outputs": [
    {
     "name": "stderr",
     "output_type": "stream",
     "text": [
      "  0%|          | 0/6 [00:00<?, ?it/s]You're using a PreTrainedTokenizerFast tokenizer. Please note that with a fast tokenizer, using the `__call__` method is faster than using a method to encode the text followed by a call to the `pad` method to get a padded encoding.\n"
     ]
    },
    {
     "name": "stderr",
     "output_type": "stream",
     "text": [
      "100%|██████████| 6/6 [00:02<00:00,  2.18it/s]"
     ]
    },
    {
     "name": "stdout",
     "output_type": "stream",
     "text": [
      "2024-10-27 19:38:16 src.functional DEBUG    Collected 6 latents, out of 6\n"
     ]
    },
    {
     "name": "stderr",
     "output_type": "stream",
     "text": [
      "\n"
     ]
    }
   ],
   "source": [
    "from src.functional import get_concept_latents\n",
    "\n",
    "test = [\n",
    "    (\"The sky is blue.\",  \" yes\"),\n",
    "    (\"The sky is green.\", \" no\"),\n",
    "    (\"The sun rises in the north.\", \" no\"),\n",
    "    (\"Michael Jordan used to play Cricket.\", \" no\"),\n",
    "    (\"The capital of France is Paris.\", \" yes\"),\n",
    "    (\"The capital of France is Berlin.\", \" no\"),\n",
    "]\n",
    "\n",
    "activations = get_concept_latents(\n",
    "    mt=mt, \n",
    "    queries=test, \n",
    "    interested_layers=[mt.layer_name_format.format(l) for l in range(10, 15)],\n",
    "    check_answer=False,\n",
    ")\n",
    "\n",
    "lcc = LatentCacheCollection(latents=activations)\n",
    "\n",
    "latent_arr = populate_latent_arr(lcc)"
   ]
  },
  {
   "cell_type": "code",
   "execution_count": 10,
   "metadata": {},
   "outputs": [
    {
     "data": {
      "text/plain": [
       "LatentSample(activation=tensor([-0.1089, -0.2079,  0.2880,  ..., -0.2096,  0.1462, -0.1288],\n",
       "       device='cuda:0'), prompt='# Is this statement true? Answer yes or no.\\nAnswer:', label=' no')"
      ]
     },
     "execution_count": 10,
     "metadata": {},
     "output_type": "execute_result"
    }
   ],
   "source": [
    "latent_arr[5]"
   ]
  },
  {
   "cell_type": "code",
   "execution_count": 11,
   "metadata": {},
   "outputs": [
    {
     "data": {
      "text/plain": [
       "30"
      ]
     },
     "execution_count": 11,
     "metadata": {},
     "output_type": "execute_result"
    }
   ],
   "source": [
    "buffer = LatentSampleBuffer(latent_arr, batch_size=32)\n",
    "len(buffer)"
   ]
  },
  {
   "cell_type": "code",
   "execution_count": 12,
   "metadata": {},
   "outputs": [
    {
     "data": {
      "text/plain": [
       "30"
      ]
     },
     "execution_count": 12,
     "metadata": {},
     "output_type": "execute_result"
    }
   ],
   "source": [
    "batch = next(iter(buffer))\n",
    "len(batch)"
   ]
  },
  {
   "cell_type": "code",
   "execution_count": 13,
   "metadata": {},
   "outputs": [
    {
     "name": "stdout",
     "output_type": "stream",
     "text": [
      "2024-10-27 19:38:26 __main__ DEBUG    batch_tokenized.input_ids.shape=torch.Size([30, 21])\n"
     ]
    },
    {
     "name": "stderr",
     "output_type": "stream",
     "text": [
      "/home/local_arnab/miniconda3/envs/retrieval/lib/python3.11/site-packages/nnsight/tracing/Node.py:380: UserWarning: To copy construct from a tensor, it is recommended to use sourceTensor.clone().detach() or sourceTensor.clone().detach().requires_grad_(True), rather than torch.tensor(sourceTensor).\n",
      "  output = self.target(*args, **kwargs)\n"
     ]
    },
    {
     "name": "stdout",
     "output_type": "stream",
     "text": [
      "str(pred)='\" yes\" (p=0.186)' | correct=' no'\n",
      "str(pred)='\" No\" (p=0.139)' | correct=' yes'\n",
      "str(pred)='\" Yes\" (p=0.310)' | correct=' no'\n",
      "str(pred)='\" Yes\" (p=0.243)' | correct=' no'\n",
      "str(pred)='\" no\" (p=0.186)' | correct=' yes'\n",
      "str(pred)='\" No\" (p=0.220)' | correct=' no'\n",
      "str(pred)='\" Yes\" (p=0.131)' | correct=' yes'\n",
      "str(pred)='\" yes\" (p=0.268)' | correct=' no'\n",
      "str(pred)='\" yes\" (p=0.208)' | correct=' yes'\n",
      "str(pred)='\" Yes\" (p=0.237)' | correct=' no'\n",
      "str(pred)='\" Yes\" (p=0.216)' | correct=' no'\n",
      "str(pred)='\" yes\" (p=0.204)' | correct=' yes'\n",
      "str(pred)='\" yes\" (p=0.318)' | correct=' no'\n",
      "str(pred)='\" no\" (p=0.169)' | correct=' yes'\n",
      "str(pred)='\" This\" (p=0.187)' | correct=' yes'\n",
      "str(pred)='\" Yes\" (p=0.232)' | correct=' yes'\n",
      "str(pred)='\" Yes\" (p=0.323)' | correct=' no'\n",
      "str(pred)='\" Yes\" (p=0.211)' | correct=' no'\n",
      "str(pred)='\" This\" (p=0.353)' | correct=' yes'\n",
      "str(pred)='\" Yes\" (p=0.321)' | correct=' no'\n",
      "str(pred)='\" Yes\" (p=0.167)' | correct=' yes'\n",
      "str(pred)='\" Yes\" (p=0.159)' | correct=' yes'\n",
      "str(pred)='\" Yes\" (p=0.205)' | correct=' no'\n",
      "str(pred)='\" Yes\" (p=0.218)' | correct=' no'\n",
      "str(pred)='\" False\" (p=0.147)' | correct=' yes'\n",
      "str(pred)='\" This\" (p=0.397)' | correct=' yes'\n",
      "str(pred)='\" No\" (p=0.213)' | correct=' no'\n",
      "str(pred)='\" No\" (p=0.145)' | correct=' yes'\n",
      "str(pred)='\" yes\" (p=0.159)' | correct=' no'\n",
      "str(pred)='\" yes\" (p=0.124)' | correct=' no'\n"
     ]
    },
    {
     "data": {
      "text/plain": [
       "0.26666666666666666"
      ]
     },
     "execution_count": 13,
     "metadata": {},
     "output_type": "execute_result"
    }
   ],
   "source": [
    "evaluate(batch, mt)  # Evaluate the batch"
   ]
  },
  {
   "cell_type": "code",
   "execution_count": 14,
   "metadata": {},
   "outputs": [
    {
     "data": {
      "text/plain": [
       "'Patchscope_Llama-3.2-3B'"
      ]
     },
     "execution_count": 14,
     "metadata": {},
     "output_type": "execute_result"
    }
   ],
   "source": [
    "patchscope.name = f\"Patchscope_{MODEL_KEY.split('/')[-1]}\"\n",
    "patchscope.name"
   ]
  },
  {
   "cell_type": "code",
   "execution_count": 15,
   "metadata": {},
   "outputs": [
    {
     "name": "stdout",
     "output_type": "stream",
     "text": [
      "2024-10-27 19:38:30 __main__ DEBUG    batch_tokenized.input_ids.shape=torch.Size([30, 21])\n"
     ]
    },
    {
     "name": "stdout",
     "output_type": "stream",
     "text": [
      "str(pred)='\" yes\" (p=0.963)' | correct=' no'\n",
      "str(pred)='\" yes\" (p=0.973)' | correct=' yes'\n",
      "str(pred)='\" no\" (p=0.749)' | correct=' no'\n",
      "str(pred)='\" no\" (p=0.832)' | correct=' no'\n",
      "str(pred)='\" no\" (p=0.987)' | correct=' yes'\n",
      "str(pred)='\" no\" (p=1.000)' | correct=' no'\n",
      "str(pred)='\" yes\" (p=1.000)' | correct=' yes'\n",
      "str(pred)='\" no\" (p=1.000)' | correct=' no'\n",
      "str(pred)='\" yes\" (p=1.000)' | correct=' yes'\n",
      "str(pred)='\" no\" (p=1.000)' | correct=' no'\n",
      "str(pred)='\" no\" (p=0.998)' | correct=' no'\n",
      "str(pred)='\" yes\" (p=1.000)' | correct=' yes'\n",
      "str(pred)='\" no\" (p=0.992)' | correct=' no'\n",
      "str(pred)='\" yes\" (p=1.000)' | correct=' yes'\n",
      "str(pred)='\" yes\" (p=1.000)' | correct=' yes'\n",
      "str(pred)='\" yes\" (p=1.000)' | correct=' yes'\n",
      "str(pred)='\" no\" (p=0.996)' | correct=' no'\n",
      "str(pred)='\" no\" (p=0.998)' | correct=' no'\n",
      "str(pred)='\" yes\" (p=0.999)' | correct=' yes'\n",
      "str(pred)='\" no\" (p=1.000)' | correct=' no'\n",
      "str(pred)='\" yes\" (p=1.000)' | correct=' yes'\n",
      "str(pred)='\" yes\" (p=0.995)' | correct=' yes'\n",
      "str(pred)='\" no\" (p=0.979)' | correct=' no'\n",
      "str(pred)='\" no\" (p=0.691)' | correct=' no'\n",
      "str(pred)='\" no\" (p=0.961)' | correct=' yes'\n",
      "str(pred)='\" yes\" (p=1.000)' | correct=' yes'\n",
      "str(pred)='\" no\" (p=0.753)' | correct=' no'\n",
      "str(pred)='\" yes\" (p=0.748)' | correct=' yes'\n",
      "str(pred)='\" no\" (p=0.861)' | correct=' no'\n",
      "str(pred)='\" no\" (p=1.000)' | correct=' no'\n"
     ]
    },
    {
     "data": {
      "text/plain": [
       "0.9"
      ]
     },
     "execution_count": 15,
     "metadata": {},
     "output_type": "execute_result"
    }
   ],
   "source": [
    "evaluate(batch, patchscope)  # Evaluate the batch again"
   ]
  },
  {
   "cell_type": "code",
   "execution_count": 25,
   "metadata": {},
   "outputs": [
    {
     "name": "stderr",
     "output_type": "stream",
     "text": [
      "Setting `pad_token_id` to `eos_token_id`:None for open-end generation.\n"
     ]
    },
    {
     "name": "stdout",
     "output_type": "stream",
     "text": [
      "The Space Needle is located in Seattle, Washington. It is a 605\n"
     ]
    }
   ],
   "source": [
    "prompt = \"The Space Needle is located\"\n",
    "inputs = prepare_input(prompt, mt)\n",
    "\n",
    "with torch.inference_mode():\n",
    "    output = mt._model.generate(**inputs, max_new_tokens=10, do_sample=False)\n",
    "\n",
    "print(mt.tokenizer.decode(output[0], skip_special_tokens=True))"
   ]
  },
  {
   "cell_type": "code",
   "execution_count": 27,
   "metadata": {},
   "outputs": [
    {
     "name": "stderr",
     "output_type": "stream",
     "text": [
      "Setting `pad_token_id` to `eos_token_id`:None for open-end generation.\n"
     ]
    },
    {
     "name": "stdout",
     "output_type": "stream",
     "text": [
      "The Space Needle is located yes yes yes no no no no no no no\n"
     ]
    }
   ],
   "source": [
    "with torch.inference_mode():\n",
    "    output = patchscope._model.generate(**inputs, max_new_tokens=10, do_sample=False)\n",
    "\n",
    "print(patchscope.tokenizer.decode(output[0], skip_special_tokens=True))"
   ]
  },
  {
   "cell_type": "markdown",
   "metadata": {},
   "source": [
    "### LoRA (check later)"
   ]
  },
  {
   "cell_type": "code",
   "execution_count": 4,
   "metadata": {},
   "outputs": [],
   "source": [
    "# from peft import LoraConfig, get_peft_model\n",
    "\n",
    "# lora_config = LoraConfig(\n",
    "#     r=16,\n",
    "#     lora_alpha=32,\n",
    "#     target_modules=[\"q_proj\", \"v_proj\"],\n",
    "#     lora_dropout=0.1,\n",
    "#     bias=\"none\",\n",
    "#     task_type=\"CAUSAL_LM\",\n",
    "# )\n",
    "\n",
    "# model = get_peft_model(mt._model, lora_config)"
   ]
  },
  {
   "cell_type": "code",
   "execution_count": 5,
   "metadata": {},
   "outputs": [],
   "source": [
    "# type(model), type(model.model)"
   ]
  },
  {
   "cell_type": "code",
   "execution_count": 6,
   "metadata": {},
   "outputs": [],
   "source": [
    "# for p in model.model.named_parameters():\n",
    "#     print(p[0])"
   ]
  },
  {
   "cell_type": "markdown",
   "metadata": {},
   "source": [
    "### Dataset Preparation"
   ]
  },
  {
   "cell_type": "code",
   "execution_count": 9,
   "metadata": {},
   "outputs": [
    {
     "name": "stdout",
     "output_type": "stream",
     "text": [
      "2024-10-27 13:20:38 src.dataset INFO     initialized cities with 1493 examples.\n",
      "The city of Moradabad is in India.\n",
      "True\n"
     ]
    }
   ],
   "source": [
    "from src.dataset import GMTDataset\n",
    "\n",
    "ds = GMTDataset.from_csv(\n",
    "    [\n",
    "        # \"sp_en_trans.csv\", \n",
    "        \"cities.csv\"\n",
    "    ], \n",
    "    # \"sp_en_trans\"\n",
    "    \"cities\"\n",
    ")\n",
    "\n",
    "ds.select_few_shot(0)\n",
    "\n",
    "queries = [ds.examples[i] for i in range(len(ds))]\n",
    "interested_layers = mt.layer_names\n",
    "q, a = queries[0]\n",
    "print(q)\n",
    "print(a)"
   ]
  },
  {
   "cell_type": "code",
   "execution_count": null,
   "metadata": {},
   "outputs": [],
   "source": [
    "from src.functional import get_concept_latents\n",
    "\n",
    "# don't need to run this if you already have cached the results\n",
    "\n",
    "latents = get_concept_latents(\n",
    "    mt=mt, \n",
    "    queries=queries, \n",
    "    interested_layers=interested_layers,\n",
    "    check_answer=False,\n",
    ")"
   ]
  },
  {
   "cell_type": "code",
   "execution_count": 10,
   "metadata": {},
   "outputs": [],
   "source": [
    "latent_dir = os.path.join(\n",
    "    env_utils.DEFAULT_RESULTS_DIR, \n",
    "    \"cached_latents\",\n",
    "    MODEL_KEY.split(\"/\")[-1],\n",
    ")\n",
    "os.makedirs(latent_dir, exist_ok=True)"
   ]
  },
  {
   "cell_type": "code",
   "execution_count": 8,
   "metadata": {},
   "outputs": [],
   "source": [
    "# caching the latents\n",
    "\n",
    "from src.utils.typing import LatentCacheCollection\n",
    "from src.utils import env_utils\n",
    "\n",
    "lcc = LatentCacheCollection(latents=latents)\n",
    "lcc.detensorize()\n",
    "with open(os.path.join(latent_dir, f\"{ds.name}.json\"), \"w\") as f:\n",
    "    f.write(lcc.to_json())"
   ]
  },
  {
   "cell_type": "code",
   "execution_count": 11,
   "metadata": {},
   "outputs": [],
   "source": [
    "# loading the latents\n",
    "\n",
    "from src.utils.typing import LatentCacheCollection\n",
    "from src.utils import env_utils\n",
    "\n",
    "with open(os.path.join(latent_dir, f\"{ds.name}.json\"), \"r\") as f:\n",
    "    dct = json.load(f)\n",
    "lcc = LatentCacheCollection.from_dict(dct)\n",
    "lcc.retensorize(device=mt.device)"
   ]
  },
  {
   "cell_type": "code",
   "execution_count": 5,
   "metadata": {},
   "outputs": [],
   "source": [
    "# q, a = queries[10]\n",
    "# print(q, a)\n",
    "# yes_ans = \"true\" if str(a).lower().strip() == \"true\" else \"false\"\n",
    "# no_ans = \"false\" if yes_ans == \"true\" else \"true\"\n",
    "# latent_q = get_latent_qa(yes_ans, no_ans)\n",
    "# print(latent_q)"
   ]
  },
  {
   "cell_type": "markdown",
   "metadata": {},
   "source": [
    "### Patchscope Finetuning"
   ]
  },
  {
   "cell_type": "code",
   "execution_count": null,
   "metadata": {},
   "outputs": [],
   "source": [
    "experiment_utils.set_seed(42)\n",
    "model = mt._model\n",
    "model.train()\n",
    "device = mt.device\n",
    "\n",
    "# Training parameters\n",
    "learning_rate = 5e-5\n",
    "\n",
    "model_save_dir = os.path.join(env_utils.DEFAULT_RESULTS_DIR, \"patchscope_tuning\")\n",
    "os.makedirs(model_save_dir, exist_ok=True)\n",
    "log_steps = 1\n",
    "checkpoint_interval = 100\n",
    "num_warmup_steps = 30\n",
    "limit_training_steps = 1000\n",
    "##############################################################################"
   ]
  },
  {
   "cell_type": "code",
   "execution_count": 20,
   "metadata": {},
   "outputs": [],
   "source": [
    "import shutil\n",
    "def remove_dir(path):\n",
    "    if os.path.exists(path):\n",
    "        shutil.rmtree(path)\n",
    "\n",
    "# remove_dir(model_save_dir)\n",
    "remove_dir(\".wandb\")"
   ]
  },
  {
   "cell_type": "code",
   "execution_count": null,
   "metadata": {},
   "outputs": [],
   "source": [
    "from transformers import get_linear_schedule_with_warmup\n",
    "\n",
    "buffer_steps = len(buffer) // buffer.batch_size\n",
    "limit_training_steps = min(\n",
    "    limit_training_steps,\n",
    "    buffer_steps\n",
    ")\n",
    "logger.info(f\"{limit_training_steps=}\")\n",
    "\n",
    "# Optimizer\n",
    "# TODO: finetune only last 10 layers\n",
    "import baukit\n",
    "tunable_params = []\n",
    "\n",
    "for layer_name in mt.layer_names[-10:]:\n",
    "    module = baukit.get_module(model, layer_name)\n",
    "    tunable_params.extend(list(module.parameters()))\n",
    "\n",
    "optimizer = torch.optim.AdamW(tunable_params, lr=learning_rate)\n",
    "\n",
    "scheduler = get_linear_schedule_with_warmup(\n",
    "    optimizer,\n",
    "    num_warmup_steps=min(num_warmup_steps, limit_training_steps // 10),\n",
    "    num_training_steps=limit_training_steps,\n",
    ")\n",
    "\n",
    "loss_func = torch.nn.CrossEntropyLoss()"
   ]
  },
  {
   "cell_type": "code",
   "execution_count": null,
   "metadata": {},
   "outputs": [],
   "source": [
    "from src.functional import free_gpu_cache\n",
    "\n",
    "# wandb\n",
    "wandb_logging = False\n",
    "\n",
    "if wandb_logging:\n",
    "    wandb.init(\n",
    "        entity=\"dl-homeworks\",\n",
    "        project=\"talkative_probes\",\n",
    "        name=f\"{MODEL_KEY}_finetune\",\n",
    "        config={\n",
    "            \"model_key\": MODEL_KEY,\n",
    "            \"learning_rate\": learning_rate,\n",
    "            \"wandb_log_interval\": log_steps,\n",
    "            \"checkpoint_interval\": checkpoint_interval,\n",
    "            \"num_warmup_steps\": num_warmup_steps,\n",
    "            \"batch_size\": buffer.batch_size,\n",
    "        }\n",
    "    )\n",
    "\n",
    "\n",
    "mt._model.train()\n",
    "for step in tqdm(range(limit_training_steps), desc=\"Training\"):\n",
    "    optimizer.zero_grad()\n",
    "\n",
    "    try:\n",
    "        batch = buffer.next_batch()\n",
    "    except StopIteration:\n",
    "        buffer.idx = 0\n",
    "        batch = buffer.next_batch()\n",
    "    \n",
    "    batch_tokenized, int_tok_idx = prepare_batch_input(batch, mt)\n",
    "    logger.info(batch_tokenized.input_ids.shape)\n",
    "    activations = [b.activation for b in batch]\n",
    "\n",
    "    with mt.trace(batch_tokenized):\n",
    "        module_names = mt.layer_names # replace the latent on all the residual layers\n",
    "        for idx, act, int_tok in zip(range(len(batch)), activations, int_tok_idx):\n",
    "            for module_name in module_names:\n",
    "                module = get_module_nnsight(mt, module_name)\n",
    "                module.output[0][idx, int_tok, :] = torch.tensor(act, device=mt.device).to(mt.dtype)\n",
    "        \n",
    "        # output = mt.output.save()\n",
    "        last_logits = [\n",
    "            mt.output.logits[idx, -1, :].save()\n",
    "            for idx in range(len(batch))\n",
    "        ]\n",
    "\n",
    "    last_logits = torch.stack(last_logits)\n",
    "    batch_labels = [\n",
    "        mt.tokenizer(b.label).input_ids[-1] for b in batch\n",
    "    ]\n",
    "    batch_labels = torch.tensor(batch_labels, device=mt.device)\n",
    "\n",
    "    # Cross-entropy loss\n",
    "    patchscope_loss = loss_func(last_logits, batch_labels)\n",
    "    \n",
    "    # TODO: include natural text and generation loss\n",
    "    loss = patchscope_loss\n",
    "    \n",
    "    loss.backward()\n",
    "    # break\n",
    "    optimizer.step()\n",
    "    scheduler.step()\n",
    "\n",
    "    free_gpu_cache()\n",
    "\n",
    "    if (step + 1) % log_steps == 0:\n",
    "        log_data = {\n",
    "            \"loss\": loss.item(),\n",
    "            \"learning_rate\": scheduler.get_last_lr()[0],\n",
    "        }\n",
    "        logger.info(f\"Step {step + 1}: {log_data}\")\n",
    "        if wandb_logging:\n",
    "            wandb.log(log_data)\n",
    "\n",
    "    if ((step + 1) % checkpoint_interval == 0) or (step + 1) == limit_training_steps:\n",
    "        if len(os.listdir(model_save_dir)) > 0:\n",
    "            last_checkpoint_path = os.path.join(model_save_dir, os.listdir(model_save_dir)[-1])\n",
    "            remove_dir(last_checkpoint_path)\n",
    "        \n",
    "        new_checkpoint_path = os.path.join(model_save_dir, f\"checkpoint-{step + 1}\")\n",
    "        model.save_pretrained(new_checkpoint_path)\n",
    "\n",
    "\n",
    "print(\"Training completed!\")"
   ]
  },
  {
   "cell_type": "code",
   "execution_count": null,
   "metadata": {},
   "outputs": [],
   "source": []
  }
 ],
 "metadata": {
  "kernelspec": {
   "display_name": "retrieval",
   "language": "python",
   "name": "python3"
  },
  "language_info": {
   "codemirror_mode": {
    "name": "ipython",
    "version": 3
   },
   "file_extension": ".py",
   "mimetype": "text/x-python",
   "name": "python",
   "nbconvert_exporter": "python",
   "pygments_lexer": "ipython3",
   "version": "3.11.9"
  }
 },
 "nbformat": 4,
 "nbformat_minor": 2
}
