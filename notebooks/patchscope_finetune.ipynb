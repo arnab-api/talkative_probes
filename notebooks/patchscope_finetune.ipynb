{
 "cells": [
  {
   "cell_type": "code",
   "execution_count": 1,
   "metadata": {},
   "outputs": [],
   "source": [
    "%load_ext autoreload\n",
    "%autoreload 2"
   ]
  },
  {
   "cell_type": "code",
   "execution_count": 2,
   "metadata": {},
   "outputs": [
    {
     "name": "stderr",
     "output_type": "stream",
     "text": [
      "/home/local_arnab/miniconda3/envs/retrieval/lib/python3.11/site-packages/tqdm/auto.py:21: TqdmWarning: IProgress not found. Please update jupyter and ipywidgets. See https://ipywidgets.readthedocs.io/en/stable/user_install.html\n",
      "  from .autonotebook import tqdm as notebook_tqdm\n"
     ]
    },
    {
     "name": "stdout",
     "output_type": "stream",
     "text": [
      "2024-10-25 17:30:30 __main__ INFO     torch.__version__='2.5.0+cu124', torch.version.cuda='12.4'\n"
     ]
    }
   ],
   "source": [
    "import time, json\n",
    "import sys\n",
    "sys.path.append(\"../\")\n",
    "sys.path.append(\"../chess_llm_interpretability\")\n",
    "import os\n",
    "import torch\n",
    "import numpy as np\n",
    "from tqdm import tqdm\n",
    "\n",
    "import logging\n",
    "from src.utils import logging_utils\n",
    "from src.utils import env_utils, experiment_utils\n",
    "from src import functional\n",
    "import wandb\n",
    "\n",
    "logger = logging.getLogger(__name__)\n",
    "\n",
    "logging.basicConfig(\n",
    "    level=logging.DEBUG,\n",
    "    format=logging_utils.DEFAULT_FORMAT,\n",
    "    datefmt=logging_utils.DEFAULT_DATEFMT,\n",
    "    stream=sys.stdout,\n",
    ")\n",
    "\n",
    "logger.info(f\"{torch.__version__=}, {torch.version.cuda=}\")"
   ]
  },
  {
   "cell_type": "code",
   "execution_count": 3,
   "metadata": {},
   "outputs": [
    {
     "name": "stdout",
     "output_type": "stream",
     "text": [
      "2024-10-25 17:30:32 accelerate.utils.modeling INFO     We will use 90% of the memory on device 0 for storing the model, and 10% for the buffer to avoid OOM. You can set `max_memory` in to a higher value to use more memory (at your own risk).\n"
     ]
    },
    {
     "name": "stderr",
     "output_type": "stream",
     "text": [
      "Loading checkpoint shards: 100%|██████████| 2/2 [00:03<00:00,  1.73s/it]"
     ]
    },
    {
     "name": "stdout",
     "output_type": "stream",
     "text": [
      "2024-10-25 17:30:35 src.models INFO     loaded model </home/local_arnab/Codes/00_MODEL/meta-llama/Llama-3.2-3B> | size: 12255.675 MB | dtype: torch.float32 | device: cuda:0\n"
     ]
    },
    {
     "name": "stderr",
     "output_type": "stream",
     "text": [
      "\n"
     ]
    }
   ],
   "source": [
    "from src.models import ModelandTokenizer\n",
    "\n",
    "# MODEL_KEY = \"meta-llama/Llama-3.2-3B-Instruct\"\n",
    "# MODEL_KEY = \"meta-llama/Llama-3.1-8B-Instruct\"\n",
    "\n",
    "MODEL_KEY = \"meta-llama/Llama-3.2-3B\"\n",
    "# MODEL_KEY = \"google/gemma-2-2b\"\n",
    "# MODEL_KEY = \"meta-llama/Llama-3.1-8B\"\n",
    "\n",
    "mt = ModelandTokenizer(\n",
    "    model_key=MODEL_KEY,\n",
    "    torch_dtype=torch.float32,\n",
    ")"
   ]
  },
  {
   "cell_type": "markdown",
   "metadata": {},
   "source": [
    "### LoRA (check later)"
   ]
  },
  {
   "cell_type": "code",
   "execution_count": 4,
   "metadata": {},
   "outputs": [],
   "source": [
    "# from peft import LoraConfig, get_peft_model\n",
    "\n",
    "# lora_config = LoraConfig(\n",
    "#     r=16,\n",
    "#     lora_alpha=32,\n",
    "#     target_modules=[\"q_proj\", \"v_proj\"],\n",
    "#     lora_dropout=0.1,\n",
    "#     bias=\"none\",\n",
    "#     task_type=\"CAUSAL_LM\",\n",
    "# )\n",
    "\n",
    "# model = get_peft_model(mt._model, lora_config)"
   ]
  },
  {
   "cell_type": "code",
   "execution_count": 5,
   "metadata": {},
   "outputs": [],
   "source": [
    "# type(model), type(model.model)"
   ]
  },
  {
   "cell_type": "code",
   "execution_count": 6,
   "metadata": {},
   "outputs": [],
   "source": [
    "# for p in model.model.named_parameters():\n",
    "#     print(p[0])"
   ]
  },
  {
   "cell_type": "markdown",
   "metadata": {},
   "source": [
    "### Dataset Preparation"
   ]
  },
  {
   "cell_type": "code",
   "execution_count": 5,
   "metadata": {},
   "outputs": [
    {
     "name": "stdout",
     "output_type": "stream",
     "text": [
      "2024-10-25 17:30:42 src.dataset INFO     initialized sp_en_trans with 348 examples.\n",
      "The Spanish word 'verano' means 'to push'.\n",
      "False\n"
     ]
    }
   ],
   "source": [
    "from src.dataset import GMTDataset\n",
    "\n",
    "ds = GMTDataset.from_csv(\n",
    "    [\n",
    "        \"sp_en_trans.csv\", \n",
    "        # \"cities.csv\"\n",
    "    ], \n",
    "    \"sp_en_trans\"\n",
    ")\n",
    "\n",
    "ds.select_few_shot(0)\n",
    "\n",
    "queries = [ds.examples[i] for i in range(len(ds))]\n",
    "interested_layers = mt.layer_names\n",
    "q, a = queries[0]\n",
    "print(q)\n",
    "print(a)"
   ]
  },
  {
   "cell_type": "code",
   "execution_count": 6,
   "metadata": {},
   "outputs": [
    {
     "data": {
      "text/plain": [
       "(\"The Spanish word 'lobo' means 'leg'.\", False)"
      ]
     },
     "execution_count": 6,
     "metadata": {},
     "output_type": "execute_result"
    }
   ],
   "source": [
    "ds.examples[4]"
   ]
  },
  {
   "cell_type": "code",
   "execution_count": 7,
   "metadata": {},
   "outputs": [
    {
     "name": "stderr",
     "output_type": "stream",
     "text": [
      "  0%|          | 0/351 [00:00<?, ?it/s]You're using a PreTrainedTokenizerFast tokenizer. Please note that with a fast tokenizer, using the `__call__` method is faster than using a method to encode the text followed by a call to the `pad` method to get a padded encoding.\n",
      "100%|██████████| 351/351 [04:14<00:00,  1.38it/s]"
     ]
    },
    {
     "name": "stdout",
     "output_type": "stream",
     "text": [
      "2024-10-25 17:35:12 src.functional DEBUG    Collected 351 latents, out of 351\n"
     ]
    },
    {
     "name": "stderr",
     "output_type": "stream",
     "text": [
      "\n"
     ]
    }
   ],
   "source": [
    "from src.functional import get_concept_latents\n",
    "\n",
    "latents = get_concept_latents(\n",
    "    mt=mt, \n",
    "    queries=queries, \n",
    "    interested_layers=interested_layers,\n",
    "    check_answer=False,\n",
    ")"
   ]
  },
  {
   "cell_type": "code",
   "execution_count": 8,
   "metadata": {},
   "outputs": [],
   "source": [
    "from src.utils.typing import LatentCacheCollection\n",
    "from src.utils import env_utils\n",
    "\n",
    "latent_dir = os.path.join(\n",
    "    env_utils.DEFAULT_RESULTS_DIR, \n",
    "    \"cached_latents\",\n",
    "    MODEL_KEY.split(\"/\")[-1],\n",
    ")\n",
    "os.makedirs(latent_dir, exist_ok=True)\n",
    "\n",
    "\n",
    "lcc = LatentCacheCollection(latents=latents)\n",
    "lcc.detensorize()\n",
    "with open(os.path.join(latent_dir, f\"{ds.name}.json\"), \"w\") as f:\n",
    "    f.write(lcc.to_json())"
   ]
  },
  {
   "cell_type": "code",
   "execution_count": 9,
   "metadata": {},
   "outputs": [],
   "source": [
    "with open(os.path.join(latent_dir, f\"{ds.name}.json\"), \"r\") as f:\n",
    "    dct = json.load(f)\n",
    "lcc = LatentCacheCollection.from_dict(dct)\n",
    "lcc.retensorize(device=mt.device)"
   ]
  },
  {
   "cell_type": "code",
   "execution_count": 104,
   "metadata": {},
   "outputs": [
    {
     "name": "stdout",
     "output_type": "stream",
     "text": [
      "The Spanish word 'continuar' means 'coat'. False\n",
      "('# Is this false? (yes/no) Answer:', ' yes')\n"
     ]
    }
   ],
   "source": [
    "import random\n",
    "from typing import Literal\n",
    "\n",
    "with open(os.path.join(env_utils.DEFAULT_DATA_DIR, \"paraphrases/yes_no.json\"), \"r\") as f:\n",
    "    yes_no_paraphrases = json.load(f)\n",
    "\n",
    "with open(os.path.join(env_utils.DEFAULT_DATA_DIR, \"paraphrases/question.json\"), \"r\") as f:\n",
    "    question_paraphrases = json.load(f)[\"GMT\"]\n",
    "\n",
    "def get_latent_qa(yes_ans, no_ans) -> tuple[str, Literal[\" yes\", \" no\"]]:\n",
    "    label = random.choice([\" yes\", \" no\"])\n",
    "    ret = \"# \"\n",
    "    yes_no = random.choice(yes_no_paraphrases)\n",
    "    question = random.choice(question_paraphrases)\n",
    "    question = question.format(yes_ans) if label == \" yes\" else question.format(no_ans)\n",
    "    ret += question + f\" {yes_no}\"\n",
    "    return ret, label\n",
    "\n",
    "\n",
    "\n",
    "q, a = queries[10]\n",
    "print(q, a)\n",
    "yes_ans = \"true\" if str(a).lower().strip() == \"true\" else \"false\"\n",
    "no_ans = \"false\" if yes_ans == \"true\" else \"true\"\n",
    "latent_q = get_latent_qa(yes_ans, no_ans)\n",
    "print(latent_q)"
   ]
  },
  {
   "cell_type": "code",
   "execution_count": 105,
   "metadata": {},
   "outputs": [],
   "source": [
    "from dataclasses import dataclass, field, fields\n",
    "from src.utils.typing import ArrayLike\n",
    "from typing import Literal\n",
    "\n",
    "@dataclass(frozen=True)\n",
    "class LatentSample:\n",
    "    activation: ArrayLike\n",
    "    prompt: str\n",
    "    label: Literal[\" yes\", \" no\"]\n",
    "\n",
    "    def __post_init__(self):\n",
    "        assert self.label in [\" yes\", \" no\"]\n",
    "        assert \"#\" in self.prompt\n",
    "\n",
    "class LatentSampleBuffer:\n",
    "    idx: int = 0\n",
    "    def __init__(\n",
    "        self, \n",
    "        activations: list[LatentSample],\n",
    "        batch_size: int = 32, \n",
    "    ):\n",
    "        self.activations = activations\n",
    "        self.batch_size = batch_size\n",
    "    \n",
    "    def __len__(self):\n",
    "        return len(self.activations)\n",
    "    \n",
    "    def __getitem__(self, idx):\n",
    "        return self.activations[idx]\n",
    "\n",
    "    def __iter__(self):\n",
    "        return self\n",
    "\n",
    "    def __next__(self):\n",
    "        return self.activations[self.idx : self.idx + self.batch_size]"
   ]
  },
  {
   "cell_type": "code",
   "execution_count": 106,
   "metadata": {},
   "outputs": [
    {
     "data": {
      "text/plain": [
       "4212"
      ]
     },
     "execution_count": 106,
     "metadata": {},
     "output_type": "execute_result"
    }
   ],
   "source": [
    "latent_arr = []\n",
    "layers_of_interest = list(range(8, 20))\n",
    "\n",
    "for idx in range(len(lcc.latents)):\n",
    "    latent_cache = lcc.latents[idx]\n",
    "    prompt = latent_cache.question\n",
    "    label = latent_cache.answer\n",
    "    yes_ans = \"true\" if str(label).lower().strip() == \"true\" else \"false\"\n",
    "    no_ans = \"false\" if yes_ans == \"true\" else \"true\"\n",
    "    for layer_idx in layers_of_interest:\n",
    "        layer_name = mt.layer_name_format.format(layer_idx)\n",
    "        activation = latent_cache.latents[layer_name]\n",
    "        prompt, label = get_latent_qa(yes_ans, no_ans)\n",
    "        latent_arr.append(LatentSample(\n",
    "            activation=activation,\n",
    "            prompt=prompt,\n",
    "            label=label,\n",
    "        ))\n",
    "    # break\n",
    "\n",
    "len(latent_arr)"
   ]
  },
  {
   "cell_type": "code",
   "execution_count": 109,
   "metadata": {},
   "outputs": [],
   "source": [
    "buffer = LatentSampleBuffer(latent_arr, batch_size=32)"
   ]
  },
  {
   "cell_type": "code",
   "execution_count": 110,
   "metadata": {},
   "outputs": [],
   "source": [
    "batch = next(buffer)"
   ]
  },
  {
   "cell_type": "code",
   "execution_count": 123,
   "metadata": {},
   "outputs": [
    {
     "data": {
      "text/plain": [
       "' no'"
      ]
     },
     "execution_count": 123,
     "metadata": {},
     "output_type": "execute_result"
    }
   ],
   "source": [
    "batch[5].label"
   ]
  },
  {
   "cell_type": "code",
   "execution_count": 141,
   "metadata": {},
   "outputs": [
    {
     "name": "stderr",
     "output_type": "stream",
     "text": [
      "/home/local_arnab/miniconda3/envs/retrieval/lib/python3.11/site-packages/nnsight/tracing/Node.py:380: UserWarning: To copy construct from a tensor, it is recommended to use sourceTensor.clone().detach() or sourceTensor.clone().detach().requires_grad_(True), rather than torch.tensor(sourceTensor).\n",
      "  output = self.target(*args, **kwargs)\n"
     ]
    },
    {
     "data": {
      "text/plain": [
       "torch.Size([32, 20, 128256])"
      ]
     },
     "execution_count": 141,
     "metadata": {},
     "output_type": "execute_result"
    }
   ],
   "source": [
    "from src.tokens import prepare_input, find_token_range\n",
    "from src.functional import interpret_logits, get_module_nnsight\n",
    "\n",
    "def prepare_batch_input(batch: list[LatentSample], mt: ModelandTokenizer):\n",
    "    batch_prompts = [b.prompt for b in batch]\n",
    "    batch_tokenized = prepare_input(\n",
    "        prompts=batch_prompts,\n",
    "        tokenizer=mt,\n",
    "        return_offset_mapping=True\n",
    "    )\n",
    "\n",
    "    int_tok_idx = []\n",
    "    for idx in range(len(batch)):\n",
    "        offset_mapping = batch_tokenized[\"offset_mapping\"][idx]\n",
    "        act_range = find_token_range(\n",
    "            string=batch[idx].prompt,\n",
    "            substring=\"#\",\n",
    "            occurrence=0,\n",
    "            tokenizer=mt,\n",
    "            offset_mapping=offset_mapping\n",
    "        )\n",
    "        int_tok_idx.append(act_range[1] - 1)\n",
    "\n",
    "    batch_tokenized.pop(\"offset_mapping\")\n",
    "\n",
    "    return batch_tokenized, int_tok_idx\n",
    "\n",
    "batch_tokenized, int_tok_idx = prepare_batch_input(batch, mt)\n",
    "activations = [b.activation for b in batch]\n",
    "with mt.trace(batch_tokenized):\n",
    "    module_names = mt.layer_names\n",
    "    for idx, act, int_tok in zip(range(len(batch)), activations, int_tok_idx):\n",
    "        for module_name in module_names:\n",
    "            module = get_module_nnsight(mt, module_name)\n",
    "            module.output[0][idx, int_tok, :] = torch.tensor(act, device=mt.device)\n",
    "    output = mt.output.save()\n",
    "\n",
    "output.logits.shape"
   ]
  },
  {
   "cell_type": "code",
   "execution_count": 142,
   "metadata": {},
   "outputs": [
    {
     "data": {
      "text/plain": [
       "0.53125"
      ]
     },
     "execution_count": 142,
     "metadata": {},
     "output_type": "execute_result"
    }
   ],
   "source": [
    "predicted_labels = [\n",
    "    interpret_logits(\n",
    "        tokenizer=mt,\n",
    "        logits=output.logits[idx][-1],\n",
    "        k = 2,\n",
    "    )[0]\n",
    "    for idx in range(len(batch))\n",
    "]\n",
    "\n",
    "correct_labels = [b.label for b in batch]\n",
    "correct_count = 0\n",
    "\n",
    "for pred, correct in zip(predicted_labels, correct_labels):\n",
    "    if pred.token.strip().lower() == correct.strip().lower():\n",
    "        correct_count += 1\n",
    "\n",
    "correct_count / len(batch)"
   ]
  },
  {
   "cell_type": "code",
   "execution_count": null,
   "metadata": {},
   "outputs": [],
   "source": []
  },
  {
   "cell_type": "code",
   "execution_count": null,
   "metadata": {},
   "outputs": [],
   "source": []
  },
  {
   "cell_type": "code",
   "execution_count": null,
   "metadata": {},
   "outputs": [],
   "source": []
  },
  {
   "cell_type": "markdown",
   "metadata": {},
   "source": [
    "### Patchscope Finetuning"
   ]
  },
  {
   "cell_type": "code",
   "execution_count": 22,
   "metadata": {},
   "outputs": [
    {
     "name": "stdout",
     "output_type": "stream",
     "text": [
      "2024-10-25 13:57:57 src.utils.experiment_utils INFO     setting all seeds to 42\n"
     ]
    }
   ],
   "source": [
    "experiment_utils.set_seed(42)\n",
    "model = mt._model\n",
    "model.train()\n",
    "device = mt.device\n",
    "\n",
    "# Training parameters\n",
    "learning_rate = 5e-5\n",
    "batch_size = 6\n",
    "\n",
    "model_save_dir = os.path.join(env_utils.DEFAULT_RESULTS_DIR, \"patchscope_tuning\")\n",
    "os.makedirs(model_save_dir, exist_ok=True)\n",
    "wandb_log_interval = 10\n",
    "checkpoint_interval = 100\n",
    "num_warmup_steps = 30\n",
    "limit_training_steps = 1000\n",
    "##############################################################################"
   ]
  },
  {
   "cell_type": "code",
   "execution_count": 23,
   "metadata": {},
   "outputs": [],
   "source": [
    "import shutil\n",
    "def remove_dir(path):\n",
    "    if os.path.exists(path):\n",
    "        shutil.rmtree(path)\n",
    "\n",
    "# remove_dir(model_save_dir)\n",
    "remove_dir(\".wandb\")"
   ]
  },
  {
   "cell_type": "code",
   "execution_count": null,
   "metadata": {},
   "outputs": [],
   "source": [
    "from transformers import get_linear_schedule_with_warmup\n",
    "\n",
    "# dataloaders\n",
    "train_loader = DataLoader(train_dataset, batch_size=batch_size, shuffle=True)\n",
    "test_loader = DataLoader(test_dataset, batch_size=batch_size, shuffle=False)\n",
    "\n",
    "train_wiki_loader = DataLoader(train_wiki, batch_size=batch_size//2, shuffle=True)\n",
    "test_wiki_loader = DataLoader(test_wiki, batch_size=batch_size//2, shuffle=False)\n",
    "\n",
    "print(f\"{len(train_loader)=} | {len(train_wiki_loader)=}\")\n",
    "\n",
    "\n",
    "limit_training_steps = min(\n",
    "    limit_training_steps,\n",
    "    len(train_loader),\n",
    "    len(train_wiki_loader)\n",
    ")\n",
    "\n",
    "print(f\"{limit_training_steps=}\")\n",
    "\n",
    "# Optimizer\n",
    "optimizer = torch.optim.AdamW(model.parameters(), lr=learning_rate)\n",
    "\n",
    "scheduler = get_linear_schedule_with_warmup(\n",
    "    optimizer,\n",
    "    num_warmup_steps=num_warmup_steps,\n",
    "    num_training_steps=len(train_loader)\n",
    ")"
   ]
  },
  {
   "cell_type": "code",
   "execution_count": null,
   "metadata": {},
   "outputs": [],
   "source": []
  },
  {
   "cell_type": "code",
   "execution_count": null,
   "metadata": {},
   "outputs": [],
   "source": [
    "# wandb\n",
    "wandb.init(\n",
    "    entity=\"dl-homeworks\",\n",
    "    project=\"talkative_probes\",\n",
    "    name=f\"{MODEL_KEY}_finetune\",\n",
    "    config={\n",
    "        \"model_key\": MODEL_KEY,\n",
    "        \"learning_rate\": learning_rate,\n",
    "        \"wandb_log_interval\": wandb_log_interval,\n",
    "        \"checkpoint_interval\": checkpoint_interval,\n",
    "        \"num_warmup_steps\": num_warmup_steps,\n",
    "        \"batch_size\": batch_size,\n",
    "    }\n",
    ")\n",
    "\n",
    "\n",
    "for step in tqdm(range(limit_training_steps), desc=\"Training\"):\n",
    "    optimizer.zero_grad()\n",
    "    \n",
    "    chess_batch = next(iter(train_loader))\n",
    "    input_ids = chess_batch[\"input_ids\"].to(device)\n",
    "    attention_mask = chess_batch[\"attention_mask\"].to(device)\n",
    "    labels = chess_batch[\"labels\"].to(device)\n",
    "        \n",
    "    pgn_outputs = model(input_ids=input_ids, attention_mask=attention_mask, labels=labels)\n",
    "    chess_loss = pgn_outputs.loss\n",
    "\n",
    "    wiki_batch = next(iter(train_wiki_loader))\n",
    "    wiki_input_ids = wiki_batch[\"input_ids\"].to(device)\n",
    "    wiki_attention_mask = wiki_batch[\"attention_mask\"].to(device)\n",
    "    wiki_labels = wiki_batch[\"labels\"].to(device)\n",
    "\n",
    "    wiki_outputs = model(input_ids=wiki_input_ids, attention_mask=wiki_attention_mask, labels=wiki_labels)\n",
    "    wiki_loss = wiki_outputs.loss\n",
    "\n",
    "    loss = chess_loss + wiki_loss\n",
    "\n",
    "    loss.backward()\n",
    "    optimizer.step()\n",
    "    scheduler.step()\n",
    "\n",
    "    if (step + 1) % wandb_log_interval == 0:\n",
    "        wandb.log({\n",
    "            \"loss\": loss.item(),\n",
    "            \"chess_loss\": chess_loss.item(),\n",
    "            \"wiki_loss\": wiki_loss.item(),\n",
    "            \"learning_rate\": scheduler.get_last_lr()[0],\n",
    "        })\n",
    "\n",
    "    if ((step + 1) % checkpoint_interval == 0) or (step + 1) == limit_training_steps:\n",
    "        if len(os.listdir(model_save_dir)) > 0:\n",
    "            last_checkpoint_path = os.path.join(model_save_dir, os.listdir(model_save_dir)[-1])\n",
    "            remove_dir(last_checkpoint_path)\n",
    "        \n",
    "        new_checkpoint_path = os.path.join(model_save_dir, f\"checkpoint-{step + 1}\")\n",
    "        model.save_pretrained(new_checkpoint_path)\n",
    "\n",
    "print(\"Training completed!\")"
   ]
  },
  {
   "cell_type": "code",
   "execution_count": null,
   "metadata": {},
   "outputs": [],
   "source": []
  }
 ],
 "metadata": {
  "kernelspec": {
   "display_name": "retrieval",
   "language": "python",
   "name": "python3"
  },
  "language_info": {
   "codemirror_mode": {
    "name": "ipython",
    "version": 3
   },
   "file_extension": ".py",
   "mimetype": "text/x-python",
   "name": "python",
   "nbconvert_exporter": "python",
   "pygments_lexer": "ipython3",
   "version": "3.11.9"
  }
 },
 "nbformat": 4,
 "nbformat_minor": 2
}
