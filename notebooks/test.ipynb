{
 "cells": [
  {
   "cell_type": "code",
   "execution_count": 1,
   "metadata": {},
   "outputs": [],
   "source": [
    "%load_ext autoreload\n",
    "%autoreload 2"
   ]
  },
  {
   "cell_type": "code",
   "execution_count": 2,
   "metadata": {},
   "outputs": [
    {
     "name": "stderr",
     "output_type": "stream",
     "text": [
      "/home/local_arnab/miniconda3/envs/retrieval/lib/python3.11/site-packages/tqdm/auto.py:21: TqdmWarning: IProgress not found. Please update jupyter and ipywidgets. See https://ipywidgets.readthedocs.io/en/stable/user_install.html\n",
      "  from .autonotebook import tqdm as notebook_tqdm\n"
     ]
    },
    {
     "name": "stdout",
     "output_type": "stream",
     "text": [
      "2024-10-29 14:19:18 __main__ INFO     torch.__version__='2.5.0+cu124', torch.version.cuda='12.4'\n"
     ]
    }
   ],
   "source": [
    "import time, json\n",
    "import sys\n",
    "sys.path.append(\"../\")\n",
    "import os\n",
    "import torch\n",
    "import numpy as np\n",
    "from tqdm import tqdm\n",
    "\n",
    "import logging\n",
    "from src.utils import logging_utils\n",
    "from src.utils import env_utils, experiment_utils\n",
    "from src import functional\n",
    "import wandb\n",
    "\n",
    "logger = logging.getLogger(__name__)\n",
    "\n",
    "logging.basicConfig(\n",
    "    level=logging.DEBUG,\n",
    "    format=logging_utils.DEFAULT_FORMAT,\n",
    "    datefmt=logging_utils.DEFAULT_DATEFMT,\n",
    "    stream=sys.stdout,\n",
    ")\n",
    "\n",
    "logger.info(f\"{torch.__version__=}, {torch.version.cuda=}\")"
   ]
  },
  {
   "cell_type": "code",
   "execution_count": 3,
   "metadata": {},
   "outputs": [
    {
     "name": "stdout",
     "output_type": "stream",
     "text": [
      "2024-10-29 14:19:22 accelerate.utils.modeling INFO     We will use 90% of the memory on device 0 for storing the model, and 10% for the buffer to avoid OOM. You can set `max_memory` in to a higher value to use more memory (at your own risk).\n"
     ]
    },
    {
     "name": "stderr",
     "output_type": "stream",
     "text": [
      "Loading checkpoint shards: 100%|██████████| 2/2 [00:02<00:00,  1.00s/it]"
     ]
    },
    {
     "name": "stdout",
     "output_type": "stream",
     "text": [
      "2024-10-29 14:19:24 src.models INFO     loaded model </home/local_arnab/Codes/00_MODEL/meta-llama/Llama-3.2-3B> | size: 6127.841 MB | dtype: torch.float16 | device: cuda:0\n"
     ]
    },
    {
     "name": "stderr",
     "output_type": "stream",
     "text": [
      "\n"
     ]
    }
   ],
   "source": [
    "from src.models import ModelandTokenizer\n",
    "\n",
    "# MODEL_KEY = \"meta-llama/Llama-3.2-3B-Instruct\"\n",
    "# MODEL_KEY = \"meta-llama/Llama-3.1-8B-Instruct\"\n",
    "\n",
    "MODEL_KEY = \"meta-llama/Llama-3.2-3B\"\n",
    "# MODEL_KEY = \"google/gemma-2-2b\"\n",
    "# MODEL_KEY = \"meta-llama/Llama-3.1-8B\"\n",
    "\n",
    "#! torch.adaptive precision\n",
    "mt = ModelandTokenizer(\n",
    "    model_key=MODEL_KEY,\n",
    "    torch_dtype=torch.float16,\n",
    ")"
   ]
  },
  {
   "cell_type": "code",
   "execution_count": 5,
   "metadata": {},
   "outputs": [],
   "source": [
    "from src.dataset_manager import DatasetManager\n",
    "dataloader = DatasetManager.from_named_datasets(\n",
    "    [(\"geometry_of_truth\", \"cities\")],\n",
    "    batch_size=32\n",
    ")"
   ]
  },
  {
   "cell_type": "code",
   "execution_count": 6,
   "metadata": {},
   "outputs": [],
   "source": [
    "batch = next(iter(dataloader))"
   ]
  },
  {
   "cell_type": "code",
   "execution_count": 7,
   "metadata": {},
   "outputs": [
    {
     "data": {
      "text/plain": [
       "[ContextQASample(context=\"The city of Ya'an is in Morocco.\", questions=['# Would you validate this statement?', '# Do you find this to be truthful?', '# Do you find this to be truthful?', '# Have I understood this correctly?', '# Could you tell me if this is factual?', '# May I assume this is correct?', '# Would you validate this statement?', '# Are you confirming this is true?', '# Do you find this to be truthful?', '# Are you saying this is correct?'], answers=['No', 'No', 'No', 'No', 'No', 'No', 'No', 'No', 'No', 'No']),\n",
       " ContextQASample(context='The city of Xinyang is in Japan.', questions=['# Would you validate this statement?', '# Is this statement true?', '# Do you agree that this is true?', '# Can we confirm this is accurate?', '# Would you say this is accurate?', '# Can you verify if this is true?', '# Does this statement hold true?', '# Can we confirm this is accurate?', '# Does this statement hold true?', '# Does this information ring true?'], answers=['No', 'No', 'No', 'No', 'No', 'No', 'No', 'No', 'No', 'No']),\n",
       " ContextQASample(context='The city of Changwon is in Indonesia.', questions=['# Can you confirm the accuracy of this?', '# Would you say this is accurate?', '# Can you confirm the accuracy of this?', '# Am I right to believe this?', '# Is this statement true?', '# Is this true?', '# Would you validate this statement?', '# Is this true?', '# Is this true?', '# Am I right to believe this?'], answers=['No', 'No', 'No', 'No', 'No', 'No', 'No', 'No', 'No', 'No']),\n",
       " ContextQASample(context='The city of Yibin is in Brazil.', questions=['# Could you tell me if this is factual?', '# Could you tell me if this is factual?', '# Would you validate this statement?', '# Can you verify if this is true?', '# Have I understood this correctly?', '# Can you confirm the accuracy of this?', '# Are you confirming this is true?', '# Do the facts support this statement?', '# Does this statement hold true?', '# Do the facts support this statement?'], answers=['No', 'No', 'No', 'No', 'No', 'No', 'No', 'No', 'No', 'No']),\n",
       " ContextQASample(context='The city of Chelyabinsk is in Russia.', questions=['# Has this been verified as true?', '# Does this statement hold true?', '# Do you think this checks out?', '# Is this true?', '# Are these facts correct?', '# Would you say this is accurate?', '# Is this true?', '# Have I understood this correctly?', '# Have I understood this correctly?', '# Do you think this checks out?'], answers=['Yes', 'Yes', 'Yes', 'Yes', 'Yes', 'Yes', 'Yes', 'Yes', 'Yes', 'Yes']),\n",
       " ContextQASample(context='The city of Puning is in India.', questions=['# Could you tell me if this is factual?', '# Would you consider this to be true?', '# Would you validate this statement?', '# Is this true?', '# Does this statement hold true?', '# Do you think this checks out?', '# Have I understood this correctly?', '# Is this true?', '# Are you confirming this is true?', '# Have I understood this correctly?'], answers=['No', 'No', 'No', 'No', 'No', 'No', 'No', 'No', 'No', 'No']),\n",
       " ContextQASample(context='The city of Samarinda is in Indonesia.', questions=['# Are you confirming this is true?', '# Could you tell me if this is factual?', '# Have I understood this correctly?', '# Do you find this to be truthful?', '# Do you find this to be truthful?', '# Is this statement true?', '# Has this been verified as true?', '# May I assume this is correct?', '# May I assume this is correct?', '# Do the facts support this statement?'], answers=['Yes', 'Yes', 'Yes', 'Yes', 'Yes', 'Yes', 'Yes', 'Yes', 'Yes', 'Yes']),\n",
       " ContextQASample(context='The city of Xinyang is in China.', questions=['# Do the facts support this statement?', '# Does this statement hold true?', '# Do you find this to be truthful?', '# Are these facts correct?', '# Would you validate this statement?', '# Does this statement hold true?', '# Are you saying this is correct?', '# Can we confirm this is accurate?', '# Can you confirm the accuracy of this?', '# Could you tell me if this is factual?'], answers=['Yes', 'Yes', 'Yes', 'Yes', 'Yes', 'Yes', 'Yes', 'Yes', 'Yes', 'Yes']),\n",
       " ContextQASample(context='The city of Nagpur is in Denmark.', questions=['# Is this statement true?', '# Would you validate this statement?', '# Are these facts correct?', '# Am I right to believe this?', '# Can you confirm the accuracy of this?', '# Can you confirm the accuracy of this?', '# Would you validate this statement?', '# Can you confirm the accuracy of this?', '# Would you validate this statement?', '# Have I understood this correctly?'], answers=['No', 'No', 'No', 'No', 'No', 'No', 'No', 'No', 'No', 'No']),\n",
       " ContextQASample(context='The city of Xuanzhou is in China.', questions=['# Are you confirming this is true?', '# Can you verify if this is true?', '# Have I understood this correctly?', '# Is this statement true?', '# Do you find this to be truthful?', '# Can you confirm the accuracy of this?', '# Would you validate this statement?', '# Is this statement true?', '# Have I understood this correctly?', '# Could you tell me if this is factual?'], answers=['Yes', 'Yes', 'Yes', 'Yes', 'Yes', 'Yes', 'Yes', 'Yes', 'Yes', 'Yes']),\n",
       " ContextQASample(context='The city of Zibo is in China.', questions=['# Am I right to believe this?', '# Am I right to believe this?', '# Are you saying this is correct?', '# Am I right to believe this?', '# Do you agree that this is true?', '# Does this information ring true?', '# May I assume this is correct?', '# Does this statement hold true?', '# Am I right to believe this?', '# Would you consider this to be true?'], answers=['Yes', 'Yes', 'Yes', 'Yes', 'Yes', 'Yes', 'Yes', 'Yes', 'Yes', 'Yes']),\n",
       " ContextQASample(context='The city of Cixi is in Indonesia.', questions=['# Are these facts correct?', '# Do you think this checks out?', '# Would you consider this to be true?', '# Do you agree that this is true?', '# Could you tell me if this is factual?', '# Has this been verified as true?', '# Are these facts correct?', '# Does this statement hold true?', '# Do you find this to be truthful?', '# Do you find this to be truthful?'], answers=['No', 'No', 'No', 'No', 'No', 'No', 'No', 'No', 'No', 'No']),\n",
       " ContextQASample(context='The city of Najafgarh is in Brazil.', questions=['# Would you validate this statement?', '# Is this statement true?', '# Are you saying this is correct?', '# Has this been verified as true?', '# May I assume this is correct?', '# Do you agree that this is true?', '# May I assume this is correct?', '# Would you say this is accurate?', '# Is this true?', '# Does this statement hold true?'], answers=['No', 'No', 'No', 'No', 'No', 'No', 'No', 'No', 'No', 'No']),\n",
       " ContextQASample(context='The city of Santiago de Queretaro is in Ecuador.', questions=['# Am I right to believe this?', '# Do you find this to be truthful?', '# Would you validate this statement?', '# Should I believe this statement?', '# Do you agree that this is true?', '# Am I right to believe this?', '# May I assume this is correct?', '# Would you say this is accurate?', '# Is this true?', '# Would you consider this to be true?'], answers=['No', 'No', 'No', 'No', 'No', 'No', 'No', 'No', 'No', 'No']),\n",
       " ContextQASample(context='The city of Krakow is in Poland.', questions=['# Can we confirm this is accurate?', '# Are you confirming this is true?', '# Are you confirming this is true?', '# Has this been verified as true?', '# Is this statement true?', '# Do the facts support this statement?', '# Am I right to believe this?', '# Have I understood this correctly?', '# Does this statement hold true?', '# Are you confirming this is true?'], answers=['Yes', 'Yes', 'Yes', 'Yes', 'Yes', 'Yes', 'Yes', 'Yes', 'Yes', 'Yes']),\n",
       " ContextQASample(context='The city of Bloemfontein is in China.', questions=['# Would you validate this statement?', '# Do you find this to be truthful?', '# Am I right to believe this?', '# Do the facts support this statement?', '# May I assume this is correct?', '# Do you agree that this is true?', '# Can you confirm the accuracy of this?', '# Is this statement true?', '# Are these facts correct?', '# Are you saying this is correct?'], answers=['No', 'No', 'No', 'No', 'No', 'No', 'No', 'No', 'No', 'No']),\n",
       " ContextQASample(context='The city of Sevastopol is in Pakistan.', questions=['# Does this statement hold true?', '# Would you consider this to be true?', '# Could you tell me if this is factual?', '# Is this statement true?', '# Would you validate this statement?', '# May I assume this is correct?', '# Do you agree that this is true?', '# Are you confirming this is true?', '# Would you validate this statement?', '# May I assume this is correct?'], answers=['No', 'No', 'No', 'No', 'No', 'No', 'No', 'No', 'No', 'No']),\n",
       " ContextQASample(context='The city of Tucson is in the United States.', questions=['# Has this been verified as true?', '# Do you think this checks out?', '# Have I understood this correctly?', '# Can you verify if this is true?', '# Does this statement hold true?', '# Do you find this to be truthful?', '# Am I right to believe this?', '# Are these facts correct?', '# Can we confirm this is accurate?', '# Would you validate this statement?'], answers=['Yes', 'Yes', 'Yes', 'Yes', 'Yes', 'Yes', 'Yes', 'Yes', 'Yes', 'Yes']),\n",
       " ContextQASample(context='The city of Amritsar is in Moldova.', questions=['# Can we confirm this is accurate?', '# Does this information ring true?', '# Are these facts correct?', '# Does this information ring true?', '# Do you think this checks out?', '# Are these facts correct?', '# Are these facts correct?', '# Are you confirming this is true?', '# Do you think this checks out?', '# Are you confirming this is true?'], answers=['No', 'No', 'No', 'No', 'No', 'No', 'No', 'No', 'No', 'No']),\n",
       " ContextQASample(context='The city of South Tangerang is in Indonesia.', questions=['# Do you agree that this is true?', '# Can you confirm the accuracy of this?', '# Have I understood this correctly?', '# Are you confirming this is true?', '# Are you confirming this is true?', '# Do you find this to be truthful?', '# Can you confirm the accuracy of this?', '# Could you tell me if this is factual?', '# Are these facts correct?', '# Would you validate this statement?'], answers=['Yes', 'Yes', 'Yes', 'Yes', 'Yes', 'Yes', 'Yes', 'Yes', 'Yes', 'Yes']),\n",
       " ContextQASample(context='The city of Dhanbad is in India.', questions=['# Do you agree that this is true?', '# Do you think this checks out?', '# Has this been verified as true?', '# Do you find this to be truthful?', '# Would you consider this to be true?', '# Am I right to believe this?', '# Do you find this to be truthful?', '# Do you find this to be truthful?', '# Can we confirm this is accurate?', '# Have I understood this correctly?'], answers=['Yes', 'Yes', 'Yes', 'Yes', 'Yes', 'Yes', 'Yes', 'Yes', 'Yes', 'Yes']),\n",
       " ContextQASample(context='The city of Cebu City is in the Philippines.', questions=['# Can you confirm the accuracy of this?', '# Is this true?', '# May I assume this is correct?', '# Does this statement hold true?', '# Can you confirm the accuracy of this?', '# Are you saying this is correct?', '# Can you confirm the accuracy of this?', '# Can we confirm this is accurate?', '# Do you find this to be truthful?', '# Do the facts support this statement?'], answers=['Yes', 'Yes', 'Yes', 'Yes', 'Yes', 'Yes', 'Yes', 'Yes', 'Yes', 'Yes']),\n",
       " ContextQASample(context='The city of Curitiba is in Brazil.', questions=['# Can you confirm the accuracy of this?', '# May I assume this is correct?', '# Can we confirm this is accurate?', '# Can you verify if this is true?', '# Would you consider this to be true?', '# Can you confirm the accuracy of this?', '# Can you verify if this is true?', '# Do you think this checks out?', '# Do the facts support this statement?', '# Can you verify if this is true?'], answers=['Yes', 'Yes', 'Yes', 'Yes', 'Yes', 'Yes', 'Yes', 'Yes', 'Yes', 'Yes']),\n",
       " ContextQASample(context='The city of Guilin is in the Dominican Republic.', questions=['# Would you validate this statement?', '# Should I believe this statement?', '# Have I understood this correctly?', '# Can we confirm this is accurate?', '# Does this statement hold true?', '# Would you validate this statement?', '# Should I believe this statement?', '# Are you saying this is correct?', '# Are you saying this is correct?', '# Would you consider this to be true?'], answers=['No', 'No', 'No', 'No', 'No', 'No', 'No', 'No', 'No', 'No']),\n",
       " ContextQASample(context='The city of Ranchi is in Venezuela.', questions=['# Can we confirm this is accurate?', '# Would you consider this to be true?', '# Can you confirm the accuracy of this?', '# Does this information ring true?', '# Would you say this is accurate?', '# Would you consider this to be true?', '# Are these facts correct?', '# Has this been verified as true?', '# May I assume this is correct?', '# Would you consider this to be true?'], answers=['No', 'No', 'No', 'No', 'No', 'No', 'No', 'No', 'No', 'No']),\n",
       " ContextQASample(context='The city of Vilnius is in Lithuania.', questions=['# Would you say this is accurate?', '# Can you confirm the accuracy of this?', '# Am I right to believe this?', '# Do you agree that this is true?', '# Is this true?', '# Do the facts support this statement?', '# Does this statement hold true?', '# Would you validate this statement?', '# Do you think this checks out?', '# Are you saying this is correct?'], answers=['Yes', 'Yes', 'Yes', 'Yes', 'Yes', 'Yes', 'Yes', 'Yes', 'Yes', 'Yes']),\n",
       " ContextQASample(context=\"The city of Rui'an is in Indonesia.\", questions=['# Would you say this is accurate?', '# Are these facts correct?', '# Am I right to believe this?', '# Would you say this is accurate?', '# Do you think this checks out?', '# Can you verify if this is true?', '# Does this information ring true?', '# Do you find this to be truthful?', '# Do you agree that this is true?', '# Can we confirm this is accurate?'], answers=['No', 'No', 'No', 'No', 'No', 'No', 'No', 'No', 'No', 'No']),\n",
       " ContextQASample(context='The city of Lilongwe is in Turkey.', questions=['# Does this statement hold true?', '# Is this true?', '# Would you say this is accurate?', '# Has this been verified as true?', '# Would you validate this statement?', '# Do you find this to be truthful?', '# Does this statement hold true?', '# Can you confirm the accuracy of this?', '# Are you confirming this is true?', '# May I assume this is correct?'], answers=['No', 'No', 'No', 'No', 'No', 'No', 'No', 'No', 'No', 'No']),\n",
       " ContextQASample(context='The city of Frankfurt am Main is in Vietnam.', questions=['# Could you tell me if this is factual?', '# Can you verify if this is true?', '# Do you agree that this is true?', '# Are you confirming this is true?', '# Are you saying this is correct?', '# Do you think this checks out?', '# Should I believe this statement?', '# Do you think this checks out?', '# Has this been verified as true?', '# Could you tell me if this is factual?'], answers=['No', 'No', 'No', 'No', 'No', 'No', 'No', 'No', 'No', 'No']),\n",
       " ContextQASample(context='The city of Voronezh is in Romania.', questions=['# Does this statement hold true?', '# Are you confirming this is true?', '# Would you say this is accurate?', '# May I assume this is correct?', '# Is this true?', '# Am I right to believe this?', '# Has this been verified as true?', '# Does this statement hold true?', '# Does this statement hold true?', '# Has this been verified as true?'], answers=['No', 'No', 'No', 'No', 'No', 'No', 'No', 'No', 'No', 'No']),\n",
       " ContextQASample(context='The city of Uberlandia is in India.', questions=['# Are you saying this is correct?', '# Am I right to believe this?', '# Do the facts support this statement?', '# Am I right to believe this?', '# Should I believe this statement?', '# Has this been verified as true?', '# Have I understood this correctly?', '# Do you think this checks out?', '# Does this information ring true?', '# Do you agree that this is true?'], answers=['No', 'No', 'No', 'No', 'No', 'No', 'No', 'No', 'No', 'No']),\n",
       " ContextQASample(context='The city of Guwahati is in China.', questions=['# Is this statement true?', '# Do you think this checks out?', '# Can you verify if this is true?', '# Do you agree that this is true?', '# Is this statement true?', '# Do you find this to be truthful?', '# Are you confirming this is true?', '# Can you confirm the accuracy of this?', '# Are you saying this is correct?', '# Does this information ring true?'], answers=['No', 'No', 'No', 'No', 'No', 'No', 'No', 'No', 'No', 'No'])]"
      ]
     },
     "execution_count": 7,
     "metadata": {},
     "output_type": "execute_result"
    }
   ],
   "source": [
    "batch"
   ]
  },
  {
   "cell_type": "code",
   "execution_count": 4,
   "metadata": {},
   "outputs": [
    {
     "name": "stderr",
     "output_type": "stream",
     "text": [
      "You're using a PreTrainedTokenizerFast tokenizer. Please note that with a fast tokenizer, using the `__call__` method is faster than using a method to encode the text followed by a call to the `pad` method to get a padded encoding.\n"
     ]
    }
   ],
   "source": [
    "from src.utils.typing import LatentCache, LatentCacheCollection\n",
    "from src.tokens import prepare_input\n",
    "from src.functional import get_module_nnsight, interpret_logits\n",
    "from src.functional import get_batch_concept_activations\n",
    "\n",
    "# prompts = [\n",
    "#     \"Eiffel Tower is in which city? It is in\",\n",
    "#     \"A quick brown fox\",\n",
    "#     \"The sun rises in the\",\n",
    "# ]\n",
    "\n",
    "prompts = [\n",
    "    \"The land of the rising sun is\",\n",
    "    \"The capital of France is\",\n",
    "    \"The Space Needle is a tower in\"\n",
    "]\n",
    "\n",
    "latents = get_batch_concept_activations(\n",
    "    mt=mt,\n",
    "    prompts=prompts,\n",
    "    interested_layer_indices=list(range(5, 20)),\n",
    "    check_prediction=None,\n",
    "    on_token_occur=None,\n",
    ")"
   ]
  },
  {
   "cell_type": "code",
   "execution_count": 5,
   "metadata": {},
   "outputs": [],
   "source": [
    "lcc = LatentCacheCollection(latents=latents)\n",
    "lcc.detensorize()"
   ]
  },
  {
   "cell_type": "code",
   "execution_count": 7,
   "metadata": {},
   "outputs": [
    {
     "name": "stdout",
     "output_type": "stream",
     "text": [
      "2024-10-28 23:57:21 numexpr.utils INFO     Note: NumExpr detected 24 cores but \"NUMEXPR_MAX_THREADS\" not set, so enforcing safe limit of 8.\n",
      "2024-10-28 23:57:21 numexpr.utils INFO     NumExpr defaulting to 8 threads.\n",
      "2024-10-28 23:57:21 datasets INFO     PyTorch version 2.5.0 available.\n",
      "2024-10-28 23:57:21 src.dataset_manager INFO     Loaded 60 examples from commonsense/fruit_outside_color.\n"
     ]
    }
   ],
   "source": [
    "from src.dataset_manager import DatasetManager\n",
    "\n",
    "# group, name = \"relations\", \"factual/country_capital_city\"\n",
    "group, name = \"relations\", \"commonsense/fruit_outside_color\"\n",
    "\n",
    "dataloader = DatasetManager.from_named_datasets(\n",
    "    [\n",
    "        (group, name),\n",
    "    ],\n",
    "    batch_size=8\n",
    ")"
   ]
  },
  {
   "cell_type": "code",
   "execution_count": 8,
   "metadata": {},
   "outputs": [
    {
     "name": "stderr",
     "output_type": "stream",
     "text": [
      "0it [00:00, ?it/s]"
     ]
    },
    {
     "name": "stderr",
     "output_type": "stream",
     "text": [
      "0it [00:00, ?it/s]\n"
     ]
    },
    {
     "ename": "AttributeError",
     "evalue": "'ContextQASample' object has no attribute 'correct'",
     "output_type": "error",
     "traceback": [
      "\u001b[0;31m---------------------------------------------------------------------------\u001b[0m",
      "\u001b[0;31mAttributeError\u001b[0m                            Traceback (most recent call last)",
      "Cell \u001b[0;32mIn[8], line 14\u001b[0m\n\u001b[1;32m      5\u001b[0m prompts \u001b[38;5;241m=\u001b[39m [b\u001b[38;5;241m.\u001b[39mcontext \u001b[38;5;28;01mfor\u001b[39;00m b \u001b[38;5;129;01min\u001b[39;00m batch]    \n\u001b[1;32m      6\u001b[0m latents \u001b[38;5;241m=\u001b[39m get_batch_concept_activations(\n\u001b[1;32m      7\u001b[0m     mt\u001b[38;5;241m=\u001b[39mmt,\n\u001b[1;32m      8\u001b[0m     prompts\u001b[38;5;241m=\u001b[39mprompts,\n\u001b[0;32m   (...)\u001b[0m\n\u001b[1;32m     11\u001b[0m     on_token_occur\u001b[38;5;241m=\u001b[39m\u001b[38;5;28;01mNone\u001b[39;00m,\n\u001b[1;32m     12\u001b[0m )\n\u001b[0;32m---> 14\u001b[0m correct_labels \u001b[38;5;241m=\u001b[39m \u001b[43m[\u001b[49m\u001b[43mb\u001b[49m\u001b[38;5;241;43m.\u001b[39;49m\u001b[43mcorrect\u001b[49m\u001b[43m \u001b[49m\u001b[38;5;28;43;01mfor\u001b[39;49;00m\u001b[43m \u001b[49m\u001b[43mb\u001b[49m\u001b[43m \u001b[49m\u001b[38;5;129;43;01min\u001b[39;49;00m\u001b[43m \u001b[49m\u001b[43mbatch\u001b[49m\u001b[43m]\u001b[49m\n\u001b[1;32m     15\u001b[0m incorrect_labels \u001b[38;5;241m=\u001b[39m [b\u001b[38;5;241m.\u001b[39mincorrect \u001b[38;5;28;01mfor\u001b[39;00m b \u001b[38;5;129;01min\u001b[39;00m batch]\n\u001b[1;32m     17\u001b[0m \u001b[38;5;28;01mfor\u001b[39;00m latent_cache, correct, incorrect \u001b[38;5;129;01min\u001b[39;00m \u001b[38;5;28mzip\u001b[39m(latents, correct_labels, incorrect_labels):\n",
      "Cell \u001b[0;32mIn[8], line 14\u001b[0m, in \u001b[0;36m<listcomp>\u001b[0;34m(.0)\u001b[0m\n\u001b[1;32m      5\u001b[0m prompts \u001b[38;5;241m=\u001b[39m [b\u001b[38;5;241m.\u001b[39mcontext \u001b[38;5;28;01mfor\u001b[39;00m b \u001b[38;5;129;01min\u001b[39;00m batch]    \n\u001b[1;32m      6\u001b[0m latents \u001b[38;5;241m=\u001b[39m get_batch_concept_activations(\n\u001b[1;32m      7\u001b[0m     mt\u001b[38;5;241m=\u001b[39mmt,\n\u001b[1;32m      8\u001b[0m     prompts\u001b[38;5;241m=\u001b[39mprompts,\n\u001b[0;32m   (...)\u001b[0m\n\u001b[1;32m     11\u001b[0m     on_token_occur\u001b[38;5;241m=\u001b[39m\u001b[38;5;28;01mNone\u001b[39;00m,\n\u001b[1;32m     12\u001b[0m )\n\u001b[0;32m---> 14\u001b[0m correct_labels \u001b[38;5;241m=\u001b[39m [\u001b[43mb\u001b[49m\u001b[38;5;241;43m.\u001b[39;49m\u001b[43mcorrect\u001b[49m \u001b[38;5;28;01mfor\u001b[39;00m b \u001b[38;5;129;01min\u001b[39;00m batch]\n\u001b[1;32m     15\u001b[0m incorrect_labels \u001b[38;5;241m=\u001b[39m [b\u001b[38;5;241m.\u001b[39mincorrect \u001b[38;5;28;01mfor\u001b[39;00m b \u001b[38;5;129;01min\u001b[39;00m batch]\n\u001b[1;32m     17\u001b[0m \u001b[38;5;28;01mfor\u001b[39;00m latent_cache, correct, incorrect \u001b[38;5;129;01min\u001b[39;00m \u001b[38;5;28mzip\u001b[39m(latents, correct_labels, incorrect_labels):\n",
      "\u001b[0;31mAttributeError\u001b[0m: 'ContextQASample' object has no attribute 'correct'"
     ]
    }
   ],
   "source": [
    "cache_dir = os.path.join(group, name)\n",
    "os.makedirs(cache_dir, exist_ok=True)\n",
    "\n",
    "for batch_idx, batch in tqdm(enumerate(dataloader)):\n",
    "    prompts = [b.context for b in batch]    \n",
    "    latents = get_batch_concept_activations(\n",
    "        mt=mt,\n",
    "        prompts=prompts,\n",
    "        interested_layer_indices=list(range(5, 20)),\n",
    "        check_prediction=None,\n",
    "        on_token_occur=None,\n",
    "    )\n",
    "\n",
    "    correct_labels = [b.correct for b in batch]\n",
    "    incorrect_labels = [b.incorrect for b in batch]\n",
    "\n",
    "    for latent_cache, correct, incorrect in zip(latents, correct_labels, incorrect_labels):\n",
    "        latent_cache.correct_label = correct\n",
    "        latent_cache.incorrect_label = incorrect\n",
    "        latent_cache.group=\"relations\"\n",
    "    \n",
    "    lcc = LatentCacheCollection(latents=latents)\n",
    "    lcc.detensorize()\n",
    "\n",
    "    with open(os.path.join(cache_dir, f\"batch_{batch_idx}.json\"), \"w\") as f:\n",
    "        f.write(lcc.to_json())"
   ]
  },
  {
   "cell_type": "code",
   "execution_count": 48,
   "metadata": {},
   "outputs": [],
   "source": [
    "from src.activation_manager import ActivationLoader"
   ]
  },
  {
   "cell_type": "code",
   "execution_count": 13,
   "metadata": {},
   "outputs": [
    {
     "data": {
      "text/plain": [
       "['/home/local_arnab/Codes/Projects/talkative_probes/results/cached_latents/Llama-3.2-3B/geometry_of_truth/cities/batch_6.json',\n",
       " '/home/local_arnab/Codes/Projects/talkative_probes/results/cached_latents/Llama-3.2-3B/geometry_of_truth/cities/batch_41.json',\n",
       " '/home/local_arnab/Codes/Projects/talkative_probes/results/cached_latents/Llama-3.2-3B/geometry_of_truth/cities/batch_42.json',\n",
       " '/home/local_arnab/Codes/Projects/talkative_probes/results/cached_latents/Llama-3.2-3B/geometry_of_truth/cities/batch_34.json',\n",
       " '/home/local_arnab/Codes/Projects/talkative_probes/results/cached_latents/Llama-3.2-3B/geometry_of_truth/cities/batch_12.json',\n",
       " '/home/local_arnab/Codes/Projects/talkative_probes/results/cached_latents/Llama-3.2-3B/geometry_of_truth/cities/batch_17.json',\n",
       " '/home/local_arnab/Codes/Projects/talkative_probes/results/cached_latents/Llama-3.2-3B/geometry_of_truth/cities/batch_28.json',\n",
       " '/home/local_arnab/Codes/Projects/talkative_probes/results/cached_latents/Llama-3.2-3B/geometry_of_truth/cities/batch_26.json',\n",
       " '/home/local_arnab/Codes/Projects/talkative_probes/results/cached_latents/Llama-3.2-3B/geometry_of_truth/cities/batch_44.json',\n",
       " '/home/local_arnab/Codes/Projects/talkative_probes/results/cached_latents/Llama-3.2-3B/geometry_of_truth/cities/batch_0.json',\n",
       " '/home/local_arnab/Codes/Projects/talkative_probes/results/cached_latents/Llama-3.2-3B/geometry_of_truth/cities/batch_11.json',\n",
       " '/home/local_arnab/Codes/Projects/talkative_probes/results/cached_latents/Llama-3.2-3B/geometry_of_truth/cities/batch_32.json',\n",
       " '/home/local_arnab/Codes/Projects/talkative_probes/results/cached_latents/Llama-3.2-3B/geometry_of_truth/cities/batch_19.json',\n",
       " '/home/local_arnab/Codes/Projects/talkative_probes/results/cached_latents/Llama-3.2-3B/geometry_of_truth/cities/batch_21.json',\n",
       " '/home/local_arnab/Codes/Projects/talkative_probes/results/cached_latents/Llama-3.2-3B/geometry_of_truth/cities/batch_1.json',\n",
       " '/home/local_arnab/Codes/Projects/talkative_probes/results/cached_latents/Llama-3.2-3B/geometry_of_truth/cities/batch_25.json',\n",
       " '/home/local_arnab/Codes/Projects/talkative_probes/results/cached_latents/Llama-3.2-3B/geometry_of_truth/cities/batch_27.json',\n",
       " '/home/local_arnab/Codes/Projects/talkative_probes/results/cached_latents/Llama-3.2-3B/geometry_of_truth/cities/batch_39.json',\n",
       " '/home/local_arnab/Codes/Projects/talkative_probes/results/cached_latents/Llama-3.2-3B/geometry_of_truth/cities/batch_30.json',\n",
       " '/home/local_arnab/Codes/Projects/talkative_probes/results/cached_latents/Llama-3.2-3B/geometry_of_truth/cities/batch_24.json',\n",
       " '/home/local_arnab/Codes/Projects/talkative_probes/results/cached_latents/Llama-3.2-3B/geometry_of_truth/cities/batch_15.json',\n",
       " '/home/local_arnab/Codes/Projects/talkative_probes/results/cached_latents/Llama-3.2-3B/geometry_of_truth/cities/batch_37.json',\n",
       " '/home/local_arnab/Codes/Projects/talkative_probes/results/cached_latents/Llama-3.2-3B/geometry_of_truth/cities/batch_33.json',\n",
       " '/home/local_arnab/Codes/Projects/talkative_probes/results/cached_latents/Llama-3.2-3B/geometry_of_truth/cities/batch_36.json',\n",
       " '/home/local_arnab/Codes/Projects/talkative_probes/results/cached_latents/Llama-3.2-3B/geometry_of_truth/cities/batch_13.json',\n",
       " '/home/local_arnab/Codes/Projects/talkative_probes/results/cached_latents/Llama-3.2-3B/geometry_of_truth/cities/batch_40.json',\n",
       " '/home/local_arnab/Codes/Projects/talkative_probes/results/cached_latents/Llama-3.2-3B/geometry_of_truth/cities/batch_31.json',\n",
       " '/home/local_arnab/Codes/Projects/talkative_probes/results/cached_latents/Llama-3.2-3B/geometry_of_truth/cities/batch_29.json',\n",
       " '/home/local_arnab/Codes/Projects/talkative_probes/results/cached_latents/Llama-3.2-3B/geometry_of_truth/cities/batch_8.json',\n",
       " '/home/local_arnab/Codes/Projects/talkative_probes/results/cached_latents/Llama-3.2-3B/geometry_of_truth/cities/batch_10.json',\n",
       " '/home/local_arnab/Codes/Projects/talkative_probes/results/cached_latents/Llama-3.2-3B/geometry_of_truth/cities/batch_9.json',\n",
       " '/home/local_arnab/Codes/Projects/talkative_probes/results/cached_latents/Llama-3.2-3B/geometry_of_truth/cities/batch_5.json',\n",
       " '/home/local_arnab/Codes/Projects/talkative_probes/results/cached_latents/Llama-3.2-3B/geometry_of_truth/cities/batch_43.json',\n",
       " '/home/local_arnab/Codes/Projects/talkative_probes/results/cached_latents/Llama-3.2-3B/geometry_of_truth/cities/batch_38.json',\n",
       " '/home/local_arnab/Codes/Projects/talkative_probes/results/cached_latents/Llama-3.2-3B/geometry_of_truth/cities/batch_16.json',\n",
       " '/home/local_arnab/Codes/Projects/talkative_probes/results/cached_latents/Llama-3.2-3B/geometry_of_truth/cities/batch_45.json',\n",
       " '/home/local_arnab/Codes/Projects/talkative_probes/results/cached_latents/Llama-3.2-3B/geometry_of_truth/cities/batch_2.json',\n",
       " '/home/local_arnab/Codes/Projects/talkative_probes/results/cached_latents/Llama-3.2-3B/geometry_of_truth/cities/batch_23.json',\n",
       " '/home/local_arnab/Codes/Projects/talkative_probes/results/cached_latents/Llama-3.2-3B/geometry_of_truth/cities/batch_35.json',\n",
       " '/home/local_arnab/Codes/Projects/talkative_probes/results/cached_latents/Llama-3.2-3B/geometry_of_truth/cities/batch_18.json',\n",
       " '/home/local_arnab/Codes/Projects/talkative_probes/results/cached_latents/Llama-3.2-3B/geometry_of_truth/cities/batch_14.json',\n",
       " '/home/local_arnab/Codes/Projects/talkative_probes/results/cached_latents/Llama-3.2-3B/geometry_of_truth/cities/batch_20.json',\n",
       " '/home/local_arnab/Codes/Projects/talkative_probes/results/cached_latents/Llama-3.2-3B/geometry_of_truth/cities/batch_22.json',\n",
       " '/home/local_arnab/Codes/Projects/talkative_probes/results/cached_latents/Llama-3.2-3B/geometry_of_truth/cities/batch_46.json',\n",
       " '/home/local_arnab/Codes/Projects/talkative_probes/results/cached_latents/Llama-3.2-3B/geometry_of_truth/cities/batch_4.json',\n",
       " '/home/local_arnab/Codes/Projects/talkative_probes/results/cached_latents/Llama-3.2-3B/geometry_of_truth/cities/batch_7.json',\n",
       " '/home/local_arnab/Codes/Projects/talkative_probes/results/cached_latents/Llama-3.2-3B/geometry_of_truth/cities/batch_3.json',\n",
       " '/home/local_arnab/Codes/Projects/talkative_probes/results/cached_latents/Llama-3.2-3B/geometry_of_truth/neg_cities/batch_6.json',\n",
       " '/home/local_arnab/Codes/Projects/talkative_probes/results/cached_latents/Llama-3.2-3B/geometry_of_truth/neg_cities/batch_41.json',\n",
       " '/home/local_arnab/Codes/Projects/talkative_probes/results/cached_latents/Llama-3.2-3B/geometry_of_truth/neg_cities/batch_42.json',\n",
       " '/home/local_arnab/Codes/Projects/talkative_probes/results/cached_latents/Llama-3.2-3B/geometry_of_truth/neg_cities/batch_34.json',\n",
       " '/home/local_arnab/Codes/Projects/talkative_probes/results/cached_latents/Llama-3.2-3B/geometry_of_truth/neg_cities/batch_12.json',\n",
       " '/home/local_arnab/Codes/Projects/talkative_probes/results/cached_latents/Llama-3.2-3B/geometry_of_truth/neg_cities/batch_17.json',\n",
       " '/home/local_arnab/Codes/Projects/talkative_probes/results/cached_latents/Llama-3.2-3B/geometry_of_truth/neg_cities/batch_28.json',\n",
       " '/home/local_arnab/Codes/Projects/talkative_probes/results/cached_latents/Llama-3.2-3B/geometry_of_truth/neg_cities/batch_26.json',\n",
       " '/home/local_arnab/Codes/Projects/talkative_probes/results/cached_latents/Llama-3.2-3B/geometry_of_truth/neg_cities/batch_44.json',\n",
       " '/home/local_arnab/Codes/Projects/talkative_probes/results/cached_latents/Llama-3.2-3B/geometry_of_truth/neg_cities/batch_0.json',\n",
       " '/home/local_arnab/Codes/Projects/talkative_probes/results/cached_latents/Llama-3.2-3B/geometry_of_truth/neg_cities/batch_11.json',\n",
       " '/home/local_arnab/Codes/Projects/talkative_probes/results/cached_latents/Llama-3.2-3B/geometry_of_truth/neg_cities/batch_32.json',\n",
       " '/home/local_arnab/Codes/Projects/talkative_probes/results/cached_latents/Llama-3.2-3B/geometry_of_truth/neg_cities/batch_19.json',\n",
       " '/home/local_arnab/Codes/Projects/talkative_probes/results/cached_latents/Llama-3.2-3B/geometry_of_truth/neg_cities/batch_21.json',\n",
       " '/home/local_arnab/Codes/Projects/talkative_probes/results/cached_latents/Llama-3.2-3B/geometry_of_truth/neg_cities/batch_1.json',\n",
       " '/home/local_arnab/Codes/Projects/talkative_probes/results/cached_latents/Llama-3.2-3B/geometry_of_truth/neg_cities/batch_25.json',\n",
       " '/home/local_arnab/Codes/Projects/talkative_probes/results/cached_latents/Llama-3.2-3B/geometry_of_truth/neg_cities/batch_27.json',\n",
       " '/home/local_arnab/Codes/Projects/talkative_probes/results/cached_latents/Llama-3.2-3B/geometry_of_truth/neg_cities/batch_39.json',\n",
       " '/home/local_arnab/Codes/Projects/talkative_probes/results/cached_latents/Llama-3.2-3B/geometry_of_truth/neg_cities/batch_30.json',\n",
       " '/home/local_arnab/Codes/Projects/talkative_probes/results/cached_latents/Llama-3.2-3B/geometry_of_truth/neg_cities/batch_24.json',\n",
       " '/home/local_arnab/Codes/Projects/talkative_probes/results/cached_latents/Llama-3.2-3B/geometry_of_truth/neg_cities/batch_15.json',\n",
       " '/home/local_arnab/Codes/Projects/talkative_probes/results/cached_latents/Llama-3.2-3B/geometry_of_truth/neg_cities/batch_37.json',\n",
       " '/home/local_arnab/Codes/Projects/talkative_probes/results/cached_latents/Llama-3.2-3B/geometry_of_truth/neg_cities/batch_33.json',\n",
       " '/home/local_arnab/Codes/Projects/talkative_probes/results/cached_latents/Llama-3.2-3B/geometry_of_truth/neg_cities/batch_36.json',\n",
       " '/home/local_arnab/Codes/Projects/talkative_probes/results/cached_latents/Llama-3.2-3B/geometry_of_truth/neg_cities/batch_13.json',\n",
       " '/home/local_arnab/Codes/Projects/talkative_probes/results/cached_latents/Llama-3.2-3B/geometry_of_truth/neg_cities/batch_40.json',\n",
       " '/home/local_arnab/Codes/Projects/talkative_probes/results/cached_latents/Llama-3.2-3B/geometry_of_truth/neg_cities/batch_31.json',\n",
       " '/home/local_arnab/Codes/Projects/talkative_probes/results/cached_latents/Llama-3.2-3B/geometry_of_truth/neg_cities/batch_29.json',\n",
       " '/home/local_arnab/Codes/Projects/talkative_probes/results/cached_latents/Llama-3.2-3B/geometry_of_truth/neg_cities/batch_8.json',\n",
       " '/home/local_arnab/Codes/Projects/talkative_probes/results/cached_latents/Llama-3.2-3B/geometry_of_truth/neg_cities/batch_10.json',\n",
       " '/home/local_arnab/Codes/Projects/talkative_probes/results/cached_latents/Llama-3.2-3B/geometry_of_truth/neg_cities/batch_9.json',\n",
       " '/home/local_arnab/Codes/Projects/talkative_probes/results/cached_latents/Llama-3.2-3B/geometry_of_truth/neg_cities/batch_5.json',\n",
       " '/home/local_arnab/Codes/Projects/talkative_probes/results/cached_latents/Llama-3.2-3B/geometry_of_truth/neg_cities/batch_43.json',\n",
       " '/home/local_arnab/Codes/Projects/talkative_probes/results/cached_latents/Llama-3.2-3B/geometry_of_truth/neg_cities/batch_38.json',\n",
       " '/home/local_arnab/Codes/Projects/talkative_probes/results/cached_latents/Llama-3.2-3B/geometry_of_truth/neg_cities/batch_16.json',\n",
       " '/home/local_arnab/Codes/Projects/talkative_probes/results/cached_latents/Llama-3.2-3B/geometry_of_truth/neg_cities/batch_45.json',\n",
       " '/home/local_arnab/Codes/Projects/talkative_probes/results/cached_latents/Llama-3.2-3B/geometry_of_truth/neg_cities/batch_2.json',\n",
       " '/home/local_arnab/Codes/Projects/talkative_probes/results/cached_latents/Llama-3.2-3B/geometry_of_truth/neg_cities/batch_23.json',\n",
       " '/home/local_arnab/Codes/Projects/talkative_probes/results/cached_latents/Llama-3.2-3B/geometry_of_truth/neg_cities/batch_35.json',\n",
       " '/home/local_arnab/Codes/Projects/talkative_probes/results/cached_latents/Llama-3.2-3B/geometry_of_truth/neg_cities/batch_18.json',\n",
       " '/home/local_arnab/Codes/Projects/talkative_probes/results/cached_latents/Llama-3.2-3B/geometry_of_truth/neg_cities/batch_14.json',\n",
       " '/home/local_arnab/Codes/Projects/talkative_probes/results/cached_latents/Llama-3.2-3B/geometry_of_truth/neg_cities/batch_20.json',\n",
       " '/home/local_arnab/Codes/Projects/talkative_probes/results/cached_latents/Llama-3.2-3B/geometry_of_truth/neg_cities/batch_22.json',\n",
       " '/home/local_arnab/Codes/Projects/talkative_probes/results/cached_latents/Llama-3.2-3B/geometry_of_truth/neg_cities/batch_46.json',\n",
       " '/home/local_arnab/Codes/Projects/talkative_probes/results/cached_latents/Llama-3.2-3B/geometry_of_truth/neg_cities/batch_4.json',\n",
       " '/home/local_arnab/Codes/Projects/talkative_probes/results/cached_latents/Llama-3.2-3B/geometry_of_truth/neg_cities/batch_7.json',\n",
       " '/home/local_arnab/Codes/Projects/talkative_probes/results/cached_latents/Llama-3.2-3B/geometry_of_truth/neg_cities/batch_3.json',\n",
       " '/home/local_arnab/Codes/Projects/talkative_probes/results/cached_latents/Llama-3.2-3B/geometry_of_truth/smaller_than/batch_6.json',\n",
       " '/home/local_arnab/Codes/Projects/talkative_probes/results/cached_latents/Llama-3.2-3B/geometry_of_truth/smaller_than/batch_50.json',\n",
       " '/home/local_arnab/Codes/Projects/talkative_probes/results/cached_latents/Llama-3.2-3B/geometry_of_truth/smaller_than/batch_41.json',\n",
       " '/home/local_arnab/Codes/Projects/talkative_probes/results/cached_latents/Llama-3.2-3B/geometry_of_truth/smaller_than/batch_42.json',\n",
       " '/home/local_arnab/Codes/Projects/talkative_probes/results/cached_latents/Llama-3.2-3B/geometry_of_truth/smaller_than/batch_34.json',\n",
       " '/home/local_arnab/Codes/Projects/talkative_probes/results/cached_latents/Llama-3.2-3B/geometry_of_truth/smaller_than/batch_12.json',\n",
       " '/home/local_arnab/Codes/Projects/talkative_probes/results/cached_latents/Llama-3.2-3B/geometry_of_truth/smaller_than/batch_17.json',\n",
       " '/home/local_arnab/Codes/Projects/talkative_probes/results/cached_latents/Llama-3.2-3B/geometry_of_truth/smaller_than/batch_28.json',\n",
       " '/home/local_arnab/Codes/Projects/talkative_probes/results/cached_latents/Llama-3.2-3B/geometry_of_truth/smaller_than/batch_26.json',\n",
       " '/home/local_arnab/Codes/Projects/talkative_probes/results/cached_latents/Llama-3.2-3B/geometry_of_truth/smaller_than/batch_44.json',\n",
       " '/home/local_arnab/Codes/Projects/talkative_probes/results/cached_latents/Llama-3.2-3B/geometry_of_truth/smaller_than/batch_53.json',\n",
       " '/home/local_arnab/Codes/Projects/talkative_probes/results/cached_latents/Llama-3.2-3B/geometry_of_truth/smaller_than/batch_0.json',\n",
       " '/home/local_arnab/Codes/Projects/talkative_probes/results/cached_latents/Llama-3.2-3B/geometry_of_truth/smaller_than/batch_11.json',\n",
       " '/home/local_arnab/Codes/Projects/talkative_probes/results/cached_latents/Llama-3.2-3B/geometry_of_truth/smaller_than/batch_32.json',\n",
       " '/home/local_arnab/Codes/Projects/talkative_probes/results/cached_latents/Llama-3.2-3B/geometry_of_truth/smaller_than/batch_59.json',\n",
       " '/home/local_arnab/Codes/Projects/talkative_probes/results/cached_latents/Llama-3.2-3B/geometry_of_truth/smaller_than/batch_19.json',\n",
       " '/home/local_arnab/Codes/Projects/talkative_probes/results/cached_latents/Llama-3.2-3B/geometry_of_truth/smaller_than/batch_21.json',\n",
       " '/home/local_arnab/Codes/Projects/talkative_probes/results/cached_latents/Llama-3.2-3B/geometry_of_truth/smaller_than/batch_1.json',\n",
       " '/home/local_arnab/Codes/Projects/talkative_probes/results/cached_latents/Llama-3.2-3B/geometry_of_truth/smaller_than/batch_25.json',\n",
       " '/home/local_arnab/Codes/Projects/talkative_probes/results/cached_latents/Llama-3.2-3B/geometry_of_truth/smaller_than/batch_27.json',\n",
       " '/home/local_arnab/Codes/Projects/talkative_probes/results/cached_latents/Llama-3.2-3B/geometry_of_truth/smaller_than/batch_39.json',\n",
       " '/home/local_arnab/Codes/Projects/talkative_probes/results/cached_latents/Llama-3.2-3B/geometry_of_truth/smaller_than/batch_30.json',\n",
       " '/home/local_arnab/Codes/Projects/talkative_probes/results/cached_latents/Llama-3.2-3B/geometry_of_truth/smaller_than/batch_24.json',\n",
       " '/home/local_arnab/Codes/Projects/talkative_probes/results/cached_latents/Llama-3.2-3B/geometry_of_truth/smaller_than/batch_15.json',\n",
       " '/home/local_arnab/Codes/Projects/talkative_probes/results/cached_latents/Llama-3.2-3B/geometry_of_truth/smaller_than/batch_48.json',\n",
       " '/home/local_arnab/Codes/Projects/talkative_probes/results/cached_latents/Llama-3.2-3B/geometry_of_truth/smaller_than/batch_37.json',\n",
       " '/home/local_arnab/Codes/Projects/talkative_probes/results/cached_latents/Llama-3.2-3B/geometry_of_truth/smaller_than/batch_60.json',\n",
       " '/home/local_arnab/Codes/Projects/talkative_probes/results/cached_latents/Llama-3.2-3B/geometry_of_truth/smaller_than/batch_33.json',\n",
       " '/home/local_arnab/Codes/Projects/talkative_probes/results/cached_latents/Llama-3.2-3B/geometry_of_truth/smaller_than/batch_36.json',\n",
       " '/home/local_arnab/Codes/Projects/talkative_probes/results/cached_latents/Llama-3.2-3B/geometry_of_truth/smaller_than/batch_13.json',\n",
       " '/home/local_arnab/Codes/Projects/talkative_probes/results/cached_latents/Llama-3.2-3B/geometry_of_truth/smaller_than/batch_40.json',\n",
       " '/home/local_arnab/Codes/Projects/talkative_probes/results/cached_latents/Llama-3.2-3B/geometry_of_truth/smaller_than/batch_31.json',\n",
       " '/home/local_arnab/Codes/Projects/talkative_probes/results/cached_latents/Llama-3.2-3B/geometry_of_truth/smaller_than/batch_29.json',\n",
       " '/home/local_arnab/Codes/Projects/talkative_probes/results/cached_latents/Llama-3.2-3B/geometry_of_truth/smaller_than/batch_49.json',\n",
       " '/home/local_arnab/Codes/Projects/talkative_probes/results/cached_latents/Llama-3.2-3B/geometry_of_truth/smaller_than/batch_8.json',\n",
       " '/home/local_arnab/Codes/Projects/talkative_probes/results/cached_latents/Llama-3.2-3B/geometry_of_truth/smaller_than/batch_10.json',\n",
       " '/home/local_arnab/Codes/Projects/talkative_probes/results/cached_latents/Llama-3.2-3B/geometry_of_truth/smaller_than/batch_58.json',\n",
       " '/home/local_arnab/Codes/Projects/talkative_probes/results/cached_latents/Llama-3.2-3B/geometry_of_truth/smaller_than/batch_9.json',\n",
       " '/home/local_arnab/Codes/Projects/talkative_probes/results/cached_latents/Llama-3.2-3B/geometry_of_truth/smaller_than/batch_5.json',\n",
       " '/home/local_arnab/Codes/Projects/talkative_probes/results/cached_latents/Llama-3.2-3B/geometry_of_truth/smaller_than/batch_43.json',\n",
       " '/home/local_arnab/Codes/Projects/talkative_probes/results/cached_latents/Llama-3.2-3B/geometry_of_truth/smaller_than/batch_38.json',\n",
       " '/home/local_arnab/Codes/Projects/talkative_probes/results/cached_latents/Llama-3.2-3B/geometry_of_truth/smaller_than/batch_16.json',\n",
       " '/home/local_arnab/Codes/Projects/talkative_probes/results/cached_latents/Llama-3.2-3B/geometry_of_truth/smaller_than/batch_45.json',\n",
       " '/home/local_arnab/Codes/Projects/talkative_probes/results/cached_latents/Llama-3.2-3B/geometry_of_truth/smaller_than/batch_55.json',\n",
       " '/home/local_arnab/Codes/Projects/talkative_probes/results/cached_latents/Llama-3.2-3B/geometry_of_truth/smaller_than/batch_2.json',\n",
       " '/home/local_arnab/Codes/Projects/talkative_probes/results/cached_latents/Llama-3.2-3B/geometry_of_truth/smaller_than/batch_23.json',\n",
       " '/home/local_arnab/Codes/Projects/talkative_probes/results/cached_latents/Llama-3.2-3B/geometry_of_truth/smaller_than/batch_56.json',\n",
       " '/home/local_arnab/Codes/Projects/talkative_probes/results/cached_latents/Llama-3.2-3B/geometry_of_truth/smaller_than/batch_61.json',\n",
       " '/home/local_arnab/Codes/Projects/talkative_probes/results/cached_latents/Llama-3.2-3B/geometry_of_truth/smaller_than/batch_35.json',\n",
       " '/home/local_arnab/Codes/Projects/talkative_probes/results/cached_latents/Llama-3.2-3B/geometry_of_truth/smaller_than/batch_47.json',\n",
       " '/home/local_arnab/Codes/Projects/talkative_probes/results/cached_latents/Llama-3.2-3B/geometry_of_truth/smaller_than/batch_18.json',\n",
       " '/home/local_arnab/Codes/Projects/talkative_probes/results/cached_latents/Llama-3.2-3B/geometry_of_truth/smaller_than/batch_57.json',\n",
       " '/home/local_arnab/Codes/Projects/talkative_probes/results/cached_latents/Llama-3.2-3B/geometry_of_truth/smaller_than/batch_54.json',\n",
       " '/home/local_arnab/Codes/Projects/talkative_probes/results/cached_latents/Llama-3.2-3B/geometry_of_truth/smaller_than/batch_52.json',\n",
       " '/home/local_arnab/Codes/Projects/talkative_probes/results/cached_latents/Llama-3.2-3B/geometry_of_truth/smaller_than/batch_14.json',\n",
       " '/home/local_arnab/Codes/Projects/talkative_probes/results/cached_latents/Llama-3.2-3B/geometry_of_truth/smaller_than/batch_20.json',\n",
       " '/home/local_arnab/Codes/Projects/talkative_probes/results/cached_latents/Llama-3.2-3B/geometry_of_truth/smaller_than/batch_22.json',\n",
       " '/home/local_arnab/Codes/Projects/talkative_probes/results/cached_latents/Llama-3.2-3B/geometry_of_truth/smaller_than/batch_46.json',\n",
       " '/home/local_arnab/Codes/Projects/talkative_probes/results/cached_latents/Llama-3.2-3B/geometry_of_truth/smaller_than/batch_4.json',\n",
       " '/home/local_arnab/Codes/Projects/talkative_probes/results/cached_latents/Llama-3.2-3B/geometry_of_truth/smaller_than/batch_7.json',\n",
       " '/home/local_arnab/Codes/Projects/talkative_probes/results/cached_latents/Llama-3.2-3B/geometry_of_truth/smaller_than/batch_51.json',\n",
       " '/home/local_arnab/Codes/Projects/talkative_probes/results/cached_latents/Llama-3.2-3B/geometry_of_truth/smaller_than/batch_3.json',\n",
       " '/home/local_arnab/Codes/Projects/talkative_probes/results/cached_latents/Llama-3.2-3B/geometry_of_truth/larger_than/batch_6.json',\n",
       " '/home/local_arnab/Codes/Projects/talkative_probes/results/cached_latents/Llama-3.2-3B/geometry_of_truth/larger_than/batch_0.json',\n",
       " '/home/local_arnab/Codes/Projects/talkative_probes/results/cached_latents/Llama-3.2-3B/geometry_of_truth/larger_than/batch_11.json',\n",
       " '/home/local_arnab/Codes/Projects/talkative_probes/results/cached_latents/Llama-3.2-3B/geometry_of_truth/larger_than/batch_1.json',\n",
       " '/home/local_arnab/Codes/Projects/talkative_probes/results/cached_latents/Llama-3.2-3B/geometry_of_truth/larger_than/batch_8.json',\n",
       " '/home/local_arnab/Codes/Projects/talkative_probes/results/cached_latents/Llama-3.2-3B/geometry_of_truth/larger_than/batch_10.json',\n",
       " '/home/local_arnab/Codes/Projects/talkative_probes/results/cached_latents/Llama-3.2-3B/geometry_of_truth/larger_than/batch_9.json',\n",
       " '/home/local_arnab/Codes/Projects/talkative_probes/results/cached_latents/Llama-3.2-3B/geometry_of_truth/larger_than/batch_5.json',\n",
       " '/home/local_arnab/Codes/Projects/talkative_probes/results/cached_latents/Llama-3.2-3B/geometry_of_truth/larger_than/batch_2.json',\n",
       " '/home/local_arnab/Codes/Projects/talkative_probes/results/cached_latents/Llama-3.2-3B/geometry_of_truth/larger_than/batch_4.json',\n",
       " '/home/local_arnab/Codes/Projects/talkative_probes/results/cached_latents/Llama-3.2-3B/geometry_of_truth/larger_than/batch_7.json',\n",
       " '/home/local_arnab/Codes/Projects/talkative_probes/results/cached_latents/Llama-3.2-3B/geometry_of_truth/larger_than/batch_3.json',\n",
       " '/home/local_arnab/Codes/Projects/talkative_probes/results/cached_latents/Llama-3.2-3B/geometry_of_truth/sp_en_trans/batch_6.json',\n",
       " '/home/local_arnab/Codes/Projects/talkative_probes/results/cached_latents/Llama-3.2-3B/geometry_of_truth/sp_en_trans/batch_0.json',\n",
       " '/home/local_arnab/Codes/Projects/talkative_probes/results/cached_latents/Llama-3.2-3B/geometry_of_truth/sp_en_trans/batch_11.json',\n",
       " '/home/local_arnab/Codes/Projects/talkative_probes/results/cached_latents/Llama-3.2-3B/geometry_of_truth/sp_en_trans/batch_1.json',\n",
       " '/home/local_arnab/Codes/Projects/talkative_probes/results/cached_latents/Llama-3.2-3B/geometry_of_truth/sp_en_trans/batch_8.json',\n",
       " '/home/local_arnab/Codes/Projects/talkative_probes/results/cached_latents/Llama-3.2-3B/geometry_of_truth/sp_en_trans/batch_10.json',\n",
       " '/home/local_arnab/Codes/Projects/talkative_probes/results/cached_latents/Llama-3.2-3B/geometry_of_truth/sp_en_trans/batch_9.json',\n",
       " '/home/local_arnab/Codes/Projects/talkative_probes/results/cached_latents/Llama-3.2-3B/geometry_of_truth/sp_en_trans/batch_5.json',\n",
       " '/home/local_arnab/Codes/Projects/talkative_probes/results/cached_latents/Llama-3.2-3B/geometry_of_truth/sp_en_trans/batch_2.json',\n",
       " '/home/local_arnab/Codes/Projects/talkative_probes/results/cached_latents/Llama-3.2-3B/geometry_of_truth/sp_en_trans/batch_4.json',\n",
       " '/home/local_arnab/Codes/Projects/talkative_probes/results/cached_latents/Llama-3.2-3B/geometry_of_truth/sp_en_trans/batch_7.json',\n",
       " '/home/local_arnab/Codes/Projects/talkative_probes/results/cached_latents/Llama-3.2-3B/geometry_of_truth/sp_en_trans/batch_3.json']"
      ]
     },
     "execution_count": 13,
     "metadata": {},
     "output_type": "execute_result"
    }
   ],
   "source": [
    "from src.activation_manager import ActivationLoader, get_batch_paths\n",
    "\n",
    "latent_root = os.path.join(\n",
    "    env_utils.DEFAULT_RESULTS_DIR, \n",
    "    \"cached_latents\", MODEL_KEY.split(\"/\")[-1], \"geometry_of_truth\"\n",
    ")\n",
    "\n",
    "activation_batch_paths = list(get_batch_paths(latent_root))\n",
    "activation_batch_paths"
   ]
  },
  {
   "cell_type": "code",
   "execution_count": 17,
   "metadata": {},
   "outputs": [],
   "source": [
    "act_loader = ActivationLoader(\n",
    "    latent_cache_files=activation_batch_paths,\n",
    "    shuffle=True,\n",
    "    batch_size=32,\n",
    ")"
   ]
  },
  {
   "cell_type": "code",
   "execution_count": 18,
   "metadata": {},
   "outputs": [],
   "source": [
    "act_batch = act_loader.next_batch()"
   ]
  },
  {
   "cell_type": "code",
   "execution_count": 19,
   "metadata": {},
   "outputs": [
    {
     "data": {
      "text/plain": [
       "[ActivationSample(activation=tensor([ 0.0320,  0.0164,  0.0691,  ..., -0.0952,  0.4255, -0.1327]), context='Fifty-six is smaller than seventy-six.', question='# Are these facts correct?', label=' Yes', layer_name='model.layers.15'),\n",
       " ActivationSample(activation=tensor([ 0.0300,  0.2755,  0.0297,  ...,  0.0331,  0.3606, -0.1069]), context='Fifty-six is smaller than seventy-six.', question='# May I assume this is correct?', label=' Yes', layer_name='model.layers.16'),\n",
       " ActivationSample(activation=tensor([ 0.1466, -0.1212,  0.1019,  ...,  0.0743,  0.1145, -0.0166]), context='Seventy-eight is smaller than eighty-nine.', question='# Can you confirm the accuracy of this?', label=' Yes', layer_name='model.layers.11'),\n",
       " ActivationSample(activation=tensor([ 0.0613,  0.1951,  0.0546,  ..., -0.0468,  0.4112, -0.1386]), context='Seventy-nine is smaller than fifty-one.', question='# May I assume this is correct?', label=' No', layer_name='model.layers.16'),\n",
       " ActivationSample(activation=tensor([ 0.0573,  0.0847,  0.0788,  ..., -0.0318,  0.0450, -0.0450]), context='Eighty-nine is smaller than fifty-eight.', question='# Are you confirming this is true?', label=' No', layer_name='model.layers.10'),\n",
       " ActivationSample(activation=tensor([ 0.0167, -0.0255, -0.0382,  ..., -0.2055,  0.4112, -0.0940]), context='Eighty-nine is smaller than fifty-eight.', question='# Can you confirm the accuracy of this?', label=' No', layer_name='model.layers.15'),\n",
       " ActivationSample(activation=tensor([ 0.1260, -0.0197,  0.1962,  ...,  0.0873, -0.1005,  0.0093]), context='Seventy-nine is smaller than eighty-four.', question='# Would you say this is accurate?', label=' Yes', layer_name='model.layers.7'),\n",
       " ActivationSample(activation=tensor([ 0.1023,  0.0025, -0.0204,  ..., -0.0383,  0.3191,  0.1417]), context='Eighty-nine is smaller than fifty-eight.', question='# Are you saying this is correct?', label=' No', layer_name='model.layers.14'),\n",
       " ActivationSample(activation=tensor([ 0.0289,  0.1237,  0.1129,  ..., -0.0641,  0.0490, -0.0110]), context='Eighty-one is smaller than sixty-five.', question='# Do you think this checks out?', label=' No', layer_name='model.layers.10'),\n",
       " ActivationSample(activation=tensor([ 0.1403,  0.0070,  0.0568,  ..., -0.0199, -0.0389,  0.0372]), context='Eighty-nine is smaller than fifty-eight.', question='# Can you verify if this is true?', label=' No', layer_name='model.layers.9'),\n",
       " ActivationSample(activation=tensor([-0.0362,  0.0253,  0.0369,  ..., -0.0759,  0.4827, -0.1195]), context='Fifty-five is smaller than eighty-seven.', question='# Can you confirm the accuracy of this?', label=' Yes', layer_name='model.layers.15'),\n",
       " ActivationSample(activation=tensor([ 0.1945,  0.0643,  0.1758,  ...,  0.1080, -0.1187,  0.0279]), context='Ninety-one is smaller than fifty-one.', question='# Do you find this to be truthful?', label=' No', layer_name='model.layers.7'),\n",
       " ActivationSample(activation=tensor([ 0.0623,  0.0986,  0.0049,  ..., -0.0648,  0.3255,  0.0963]), context='Ninety-eight is smaller than fifty-four.', question='# Do you find this to be truthful?', label=' No', layer_name='model.layers.14'),\n",
       " ActivationSample(activation=tensor([ 0.1176, -0.0452, -0.0093,  ..., -0.0623,  0.2138,  0.0362]), context='Sixty-two is smaller than seventy-six.', question='# May I assume this is correct?', label=' Yes', layer_name='model.layers.12'),\n",
       " ActivationSample(activation=tensor([ 0.2210, -0.0390,  0.0767,  ..., -0.1278, -0.0709, -0.1262]), context='Seventy-five is smaller than fifty-two.', question='# Would you validate this statement?', label=' No', layer_name='model.layers.8'),\n",
       " ActivationSample(activation=tensor([ 0.0442,  0.0715,  0.0577,  ..., -0.0147, -0.0090,  0.0184]), context='Ninety-five is smaller than ninety-three.', question='# Are you saying this is correct?', label=' No', layer_name='model.layers.13'),\n",
       " ActivationSample(activation=tensor([ 0.1170, -0.0479,  0.0053,  ..., -0.0759,  0.1263,  0.0577]), context='Ninety-one is smaller than fifty-one.', question='# Can we confirm this is accurate?', label=' No', layer_name='model.layers.12'),\n",
       " ActivationSample(activation=tensor([ 0.0969,  0.0456,  0.2084,  ...,  0.1139, -0.1115,  0.0644]), context='Ninety-five is smaller than ninety-three.', question='# Are these facts correct?', label=' No', layer_name='model.layers.7'),\n",
       " ActivationSample(activation=tensor([ 0.0305,  0.1095, -0.0659,  ..., -0.2013,  0.3860, -0.0666]), context='Seventy-four is smaller than seventy-six.', question='# Are you saying this is correct?', label=' Yes', layer_name='model.layers.15'),\n",
       " ActivationSample(activation=tensor([-0.0346,  0.4671,  0.2040,  ..., -0.0918,  0.3922, -0.1314]), context='Fifty-six is smaller than eighty-two.', question='# May I assume this is correct?', label=' Yes', layer_name='model.layers.17'),\n",
       " ActivationSample(activation=tensor([ 0.0554,  0.0984,  0.1233,  ..., -0.0317,  0.0713,  0.0055]), context='Sixty-four is smaller than eighty-five.', question='# Would you consider this to be true?', label=' Yes', layer_name='model.layers.10'),\n",
       " ActivationSample(activation=tensor([ 0.0598,  0.0914,  0.0258,  ..., -0.0341,  0.3150,  0.0822]), context='Ninety-five is smaller than sixty-three.', question='# Do you find this to be truthful?', label=' No', layer_name='model.layers.14'),\n",
       " ActivationSample(activation=tensor([ 0.1298,  0.0794,  0.1635,  ...,  0.0618, -0.0777, -0.0042]), context='Sixty-four is smaller than eighty-five.', question='# Are you confirming this is true?', label=' Yes', layer_name='model.layers.7'),\n",
       " ActivationSample(activation=tensor([ 0.1312, -0.0351,  0.1320,  ..., -0.0956, -0.0421, -0.1089]), context='Ninety-five is smaller than ninety-three.', question='# Are these facts correct?', label=' No', layer_name='model.layers.8'),\n",
       " ActivationSample(activation=tensor([ 0.1475, -0.0687,  0.1090,  ..., -0.0291, -0.0263,  0.0270]), context='Eighty-two is smaller than eighty-three.', question='# Does this information ring true?', label=' Yes', layer_name='model.layers.9'),\n",
       " ActivationSample(activation=tensor([ 0.0958,  0.1543,  0.0029,  ..., -0.0365,  0.3569,  0.0399]), context='Sixty-two is smaller than seventy-six.', question='# Are you saying this is correct?', label=' Yes', layer_name='model.layers.14'),\n",
       " ActivationSample(activation=tensor([ 0.0449,  0.0587,  0.0324,  ..., -0.2030,  0.3833, -0.0926]), context='Seventy-five is smaller than fifty-two.', question='# Have I understood this correctly?', label=' No', layer_name='model.layers.15'),\n",
       " ActivationSample(activation=tensor([ 0.1549, -0.0545,  0.1192,  ..., -0.1135, -0.0732, -0.1373]), context='Seventy-nine is smaller than fifty-one.', question='# Is this true?', label=' No', layer_name='model.layers.8'),\n",
       " ActivationSample(activation=tensor([ 0.1030, -0.0920, -0.0203,  ..., -0.0304,  0.0550,  0.0003]), context='Seventy-eight is smaller than seventy-seven.', question='# Would you validate this statement?', label=' No', layer_name='model.layers.12'),\n",
       " ActivationSample(activation=tensor([ 0.0929, -0.0588, -0.0166,  ..., -0.0699,  0.1218,  0.0507]), context='Ninety-six is smaller than eighty-three.', question='# Does this information ring true?', label=' No', layer_name='model.layers.12'),\n",
       " ActivationSample(activation=tensor([ 0.0886,  0.2266, -0.0244,  ..., -0.0791,  0.3793, -0.1113]), context='Fifty-three is smaller than fifty-one.', question='# Are these facts correct?', label=' No', layer_name='model.layers.16'),\n",
       " ActivationSample(activation=tensor([ 0.1181,  0.0537,  0.1590,  ...,  0.0598, -0.1101, -0.0098]), context='Fifty-nine is smaller than sixty-three.', question='# Would you say this is accurate?', label=' Yes', layer_name='model.layers.7')]"
      ]
     },
     "execution_count": 19,
     "metadata": {},
     "output_type": "execute_result"
    }
   ],
   "source": [
    "act_batch"
   ]
  },
  {
   "cell_type": "code",
   "execution_count": 56,
   "metadata": {},
   "outputs": [],
   "source": [
    "prompts = [\n",
    "    \"The land of the rising sun is\",\n",
    "    \"The capital of France is\",\n",
    "    \"The Space Needle is a tower in\"\n",
    "]\n",
    "\n",
    "batch_inputs = prepare_input(\n",
    "    tokenizer=mt,\n",
    "    prompts=prompts,\n",
    ")"
   ]
  },
  {
   "cell_type": "code",
   "execution_count": 61,
   "metadata": {},
   "outputs": [
    {
     "data": {
      "text/plain": [
       "{'input_ids': tensor([[128000,    791,   4363,    315,    279,  16448,   7160,    374],\n",
       "        [128001, 128001, 128000,    791,   6864,    315,   9822,    374],\n",
       "        [128000,    791,  11746,  89900,    374,    264,  21970,    304]],\n",
       "       device='cuda:0'), 'attention_mask': tensor([[1, 1, 1, 1, 1, 1, 1, 1],\n",
       "        [0, 0, 1, 1, 1, 1, 1, 1],\n",
       "        [1, 1, 1, 1, 1, 1, 1, 1]], device='cuda:0')}"
      ]
     },
     "execution_count": 61,
     "metadata": {},
     "output_type": "execute_result"
    }
   ],
   "source": [
    "batch_inputs"
   ]
  },
  {
   "cell_type": "code",
   "execution_count": 59,
   "metadata": {},
   "outputs": [
    {
     "data": {
      "text/plain": [
       "2"
      ]
     },
     "execution_count": 59,
     "metadata": {},
     "output_type": "execute_result"
    }
   ],
   "source": [
    "batch_inputs[1].attention_mask.index(1)"
   ]
  },
  {
   "cell_type": "code",
   "execution_count": null,
   "metadata": {},
   "outputs": [],
   "source": []
  }
 ],
 "metadata": {
  "kernelspec": {
   "display_name": "retrieval",
   "language": "python",
   "name": "python3"
  },
  "language_info": {
   "codemirror_mode": {
    "name": "ipython",
    "version": 3
   },
   "file_extension": ".py",
   "mimetype": "text/x-python",
   "name": "python",
   "nbconvert_exporter": "python",
   "pygments_lexer": "ipython3",
   "version": "3.11.9"
  }
 },
 "nbformat": 4,
 "nbformat_minor": 2
}
